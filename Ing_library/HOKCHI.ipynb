{
 "cells": [
  {
   "cell_type": "code",
   "execution_count": null,
   "metadata": {},
   "outputs": [],
   "source": [
    "import dill\n",
    "dill.load_session('./Recovery/notebook_env.db')\n",
    "%matplotlib notebook"
   ]
  },
  {
   "cell_type": "markdown",
   "metadata": {},
   "source": []
  },
  {
   "cell_type": "code",
   "execution_count": 1,
   "metadata": {},
   "outputs": [],
   "source": [
    "import urllib"
   ]
  },
  {
   "cell_type": "code",
   "execution_count": null,
   "metadata": {},
   "outputs": [],
   "source": []
  },
  {
   "cell_type": "code",
   "execution_count": 2,
   "metadata": {},
   "outputs": [],
   "source": [
    "#Following libraires are necesary for the operation of the code\n",
    "%matplotlib inline\n",
    "import numpy as np\n",
    "import pandas as pd\n",
    "import matplotlib.pyplot as plt\n",
    "%matplotlib notebook\n",
    "import matplotlib as mpl\n",
    "from mpl_toolkits import mplot3d\n",
    "import lasio\n",
    "import math\n",
    "from scipy.optimize import fsolve\n",
    "from bisect import *\n",
    "from scipy.optimize import newton_krylov\n",
    "from sympy.solvers import solve\n",
    "from sympy import Symbol"
   ]
  },
  {
   "cell_type": "code",
   "execution_count": 3,
   "metadata": {},
   "outputs": [],
   "source": [
    "import matplotlib.ticker"
   ]
  },
  {
   "cell_type": "code",
   "execution_count": 4,
   "metadata": {},
   "outputs": [],
   "source": [
    "import matplotlib.dates"
   ]
  },
  {
   "cell_type": "code",
   "execution_count": 5,
   "metadata": {},
   "outputs": [],
   "source": [
    "import mplcursors"
   ]
  },
  {
   "cell_type": "code",
   "execution_count": 6,
   "metadata": {},
   "outputs": [],
   "source": [
    "import os"
   ]
  },
  {
   "cell_type": "code",
   "execution_count": 7,
   "metadata": {},
   "outputs": [],
   "source": [
    "import time"
   ]
  },
  {
   "cell_type": "code",
   "execution_count": 8,
   "metadata": {},
   "outputs": [],
   "source": [
    "import datetime"
   ]
  },
  {
   "cell_type": "code",
   "execution_count": 9,
   "metadata": {
    "scrolled": true
   },
   "outputs": [
    {
     "name": "stdout",
     "output_type": "stream",
     "text": [
      "Name: In is <class 'list'>\n",
      "Name: Out is <class 'dict'>\n",
      "Name: Symbol is <class 'sympy.core.assumptions.ManagedProperties'>\n",
      "Name: bisect is <class 'builtin_function_or_method'>\n",
      "Name: bisect_left is <class 'builtin_function_or_method'>\n",
      "Name: bisect_right is <class 'builtin_function_or_method'>\n",
      "Name: datetime is <class 'module'>\n",
      "Name: exit is <class 'IPython.core.autocall.ZMQExitAutocall'>\n",
      "Name: fsolve is <class 'function'>\n",
      "Name: get_ipython is <class 'method'>\n",
      "Name: insort is <class 'builtin_function_or_method'>\n",
      "Name: insort_left is <class 'builtin_function_or_method'>\n",
      "Name: insort_right is <class 'builtin_function_or_method'>\n",
      "Name: lasio is <class 'module'>\n",
      "Name: math is <class 'module'>\n",
      "Name: matplotlib is <class 'module'>\n",
      "Name: mpl is <class 'module'>\n",
      "Name: mplcursors is <class 'module'>\n",
      "Name: mplot3d is <class 'module'>\n",
      "Name: newton_krylov is <class 'function'>\n",
      "Name: np is <class 'module'>\n",
      "Name: os is <class 'module'>\n",
      "Name: pd is <class 'module'>\n",
      "Name: plt is <class 'module'>\n",
      "Name: quit is <class 'IPython.core.autocall.ZMQExitAutocall'>\n",
      "Name: solve is <class 'function'>\n",
      "Name: time is <class 'module'>\n",
      "Name: urllib is <class 'module'>\n"
     ]
    }
   ],
   "source": [
    "all_variables = dir()\n",
    "myvalue=[]\n",
    "for name in all_variables:\n",
    "    if not name.startswith(\"_\") and type(myvalue)!= 'function':\n",
    "        myvalue = eval(name)\n",
    "        print(f\"Name: {name} is {type(myvalue)}\")"
   ]
  },
  {
   "cell_type": "code",
   "execution_count": 10,
   "metadata": {},
   "outputs": [
    {
     "name": "stdout",
     "output_type": "stream",
     "text": [
      "ALLUSERSPROFILE: C:\\ProgramData\n",
      "APPDATA: C:\\Users\\User\\AppData\\Roaming\n",
      "ASL.LOG: Destination=file\n",
      "CLICOLOR: 1\n",
      "COMMONPROGRAMFILES: C:\\Program Files\\Common Files\n",
      "COMMONPROGRAMFILES(X86): C:\\Program Files (x86)\\Common Files\n",
      "COMMONPROGRAMW6432: C:\\Program Files\\Common Files\n",
      "COMPUTERNAME: DESKTOP-CQMB862\n",
      "COMSPEC: C:\\Windows\\system32\\cmd.exe\n",
      "CONDA_DEFAULT_ENV: base\n",
      "CONDA_EXE: C:\\Users\\User\\anaconda3\\Scripts\\conda.exe\n",
      "CONDA_PREFIX: C:\\Users\\User\\anaconda3\n",
      "CONDA_PROMPT_MODIFIER: (base) \n",
      "CONDA_PYTHON_EXE: C:\\Users\\User\\anaconda3\\python.exe\n",
      "CONDA_SHLVL: 1\n",
      "DRIVERDATA: C:\\Windows\\System32\\Drivers\\DriverData\n",
      "FPS_BROWSER_APP_PROFILE_STRING: Internet Explorer\n",
      "FPS_BROWSER_USER_PROFILE_STRING: Default\n",
      "GIT_PAGER: cat\n",
      "HOMEDRIVE: C:\n",
      "HOMEPATH: \\Users\\User\n",
      "IPY_INTERRUPT_EVENT: 3376\n",
      "JPY_INTERRUPT_EVENT: 3376\n",
      "JPY_PARENT_PID: 4052\n",
      "LOCALAPPDATA: C:\\Users\\User\\AppData\\Local\n",
      "LOGONSERVER: \\\\DESKTOP-CQMB862\n",
      "MPLBACKEND: module://matplotlib_inline.backend_inline\n",
      "NUMBER_OF_PROCESSORS: 8\n",
      "ONEDRIVE: C:\\Users\\User\\OneDrive - INGEODATA\n",
      "ONEDRIVECOMMERCIAL: C:\\Users\\User\\OneDrive - INGEODATA\n",
      "OS: Windows_NT\n",
      "PAGER: cat\n",
      "PATH: C:\\Users\\User\\anaconda3;C:\\Users\\User\\anaconda3\\Library\\mingw-w64\\bin;C:\\Users\\User\\anaconda3\\Library\\usr\\bin;C:\\Users\\User\\anaconda3\\Library\\bin;C:\\Users\\User\\anaconda3\\Scripts;C:\\Users\\User\\anaconda3\\bin;C:\\Users\\User\\anaconda3\\condabin;C:\\Windows\\system32;C:\\Windows;C:\\Windows\\System32\\Wbem;C:\\Windows\\System32\\WindowsPowerShell\\v1.0;C:\\Windows\\System32\\OpenSSH;C:\\Program Files\\dotnet;C:\\Program Files (x86)\\NVIDIA Corporation\\PhysX\\Common;C:\\Program Files\\Git\\cmd;C:\\Users\\User\\AppData\\Local\\Programs\\Python\\Python311\\Scripts;C:\\Users\\User\\AppData\\Local\\Programs\\Python\\Python311\\Scripts;C:\\Users\\User\\AppData\\Local\\Programs\\Python\\Python311;C:\\Users\\User\\AppData\\Local\\Microsoft\\WindowsApps;.;C:\\Users\\User\\AppData\\Local\\Programs\\Microsoft VS Code\\bin\n",
      "PATHEXT: .COM;.EXE;.BAT;.CMD;.VBS;.VBE;.JS;.JSE;.WSF;.WSH;.MSC;.CPL\n",
      "PROCESSOR_ARCHITECTURE: AMD64\n",
      "PROCESSOR_IDENTIFIER: Intel64 Family 6 Model 142 Stepping 12, GenuineIntel\n",
      "PROCESSOR_LEVEL: 6\n",
      "PROCESSOR_REVISION: 8e0c\n",
      "PROGRAMDATA: C:\\ProgramData\n",
      "PROGRAMFILES: C:\\Program Files\n",
      "PROGRAMFILES(X86): C:\\Program Files (x86)\n",
      "PROGRAMW6432: C:\\Program Files\n",
      "PSEXECUTIONPOLICYPREFERENCE: Bypass\n",
      "PSMODULEPATH: C:\\Users\\User\\Documents\\WindowsPowerShell\\Modules;C:\\Program Files\\WindowsPowerShell\\Modules;C:\\Windows\\system32\\WindowsPowerShell\\v1.0\\Modules\n",
      "PUBLIC: C:\\Users\\Public\n",
      "PYDEVD_USE_FRAME_EVAL: NO\n",
      "SESSIONNAME: Console\n",
      "SYSTEMDRIVE: C:\n",
      "SYSTEMROOT: C:\\Windows\n",
      "TEMP: C:\\Users\\User\\AppData\\Local\\Temp\n",
      "TERM: xterm-color\n",
      "TMP: C:\\Users\\User\\AppData\\Local\\Temp\n",
      "USERDOMAIN: DESKTOP-CQMB862\n",
      "USERDOMAIN_ROAMINGPROFILE: DESKTOP-CQMB862\n",
      "USERNAME: User\n",
      "USERPROFILE: C:\\Users\\User\n",
      "WINDIR: C:\\Windows\n",
      "ZES_ENABLE_SYSMAN: 1\n",
      "_CONDA_EXE: C:/Users/User/anaconda3\\Scripts\\conda.exe\n",
      "_CONDA_ROOT: C:/Users/User/anaconda3\n"
     ]
    }
   ],
   "source": [
    "print( '\\n'.join([f'{k}: {v}' for k, v in sorted(os.environ.items())]) )"
   ]
  },
  {
   "cell_type": "code",
   "execution_count": 11,
   "metadata": {},
   "outputs": [],
   "source": [
    "#Code above call the Well Head data, capture the units and delate de units row\n",
    "wells_coord = pd.read_csv('./WH/WH_offset_wells.csv', sep=',') \n",
    "wells_coord_units = wells_coord.iloc[[0]]\n",
    "wells_coord = wells_coord.drop([0], axis=0).reset_index(drop=True)\n",
    "wells_coord[['X', 'Y', 'Elevation', 'EGL', 'Total_depth']] = wells_coord[['X', 'Y', 'Elevation', 'EGL', 'Total_depth']].astype('float')"
   ]
  },
  {
   "cell_type": "code",
   "execution_count": 12,
   "metadata": {},
   "outputs": [
    {
     "data": {
      "text/html": [
       "<div>\n",
       "<style scoped>\n",
       "    .dataframe tbody tr th:only-of-type {\n",
       "        vertical-align: middle;\n",
       "    }\n",
       "\n",
       "    .dataframe tbody tr th {\n",
       "        vertical-align: top;\n",
       "    }\n",
       "\n",
       "    .dataframe thead th {\n",
       "        text-align: right;\n",
       "    }\n",
       "</style>\n",
       "<table border=\"1\" class=\"dataframe\">\n",
       "  <thead>\n",
       "    <tr style=\"text-align: right;\">\n",
       "      <th></th>\n",
       "      <th>Well</th>\n",
       "      <th>X</th>\n",
       "      <th>Y</th>\n",
       "      <th>Elevation</th>\n",
       "      <th>EGL</th>\n",
       "      <th>Total_depth</th>\n",
       "    </tr>\n",
       "  </thead>\n",
       "  <tbody>\n",
       "    <tr>\n",
       "      <th>0</th>\n",
       "      <td>HOKCHI_11DES</td>\n",
       "      <td>462396.03</td>\n",
       "      <td>2059998.46</td>\n",
       "      <td>52.91</td>\n",
       "      <td>-27.0</td>\n",
       "      <td>4314.00</td>\n",
       "    </tr>\n",
       "    <tr>\n",
       "      <th>1</th>\n",
       "      <td>HOKCHI_7DES_RevE0</td>\n",
       "      <td>465378.00</td>\n",
       "      <td>2059396.00</td>\n",
       "      <td>51.10</td>\n",
       "      <td>-27.0</td>\n",
       "      <td>3468.61</td>\n",
       "    </tr>\n",
       "    <tr>\n",
       "      <th>2</th>\n",
       "      <td>HOKCHI_8H</td>\n",
       "      <td>462396.00</td>\n",
       "      <td>2059988.98</td>\n",
       "      <td>52.91</td>\n",
       "      <td>-27.0</td>\n",
       "      <td>4097.32</td>\n",
       "    </tr>\n",
       "    <tr>\n",
       "      <th>3</th>\n",
       "      <td>HOKCHI_8H_PD</td>\n",
       "      <td>462396.00</td>\n",
       "      <td>2059988.98</td>\n",
       "      <td>52.91</td>\n",
       "      <td>-27.0</td>\n",
       "      <td>4010.00</td>\n",
       "    </tr>\n",
       "    <tr>\n",
       "      <th>4</th>\n",
       "      <td>HOKCHI_9H</td>\n",
       "      <td>462396.14</td>\n",
       "      <td>2059989.04</td>\n",
       "      <td>52.96</td>\n",
       "      <td>-27.0</td>\n",
       "      <td>4010.00</td>\n",
       "    </tr>\n",
       "    <tr>\n",
       "      <th>5</th>\n",
       "      <td>HOKCHI_9H_PD</td>\n",
       "      <td>462396.14</td>\n",
       "      <td>2059989.04</td>\n",
       "      <td>52.96</td>\n",
       "      <td>-27.0</td>\n",
       "      <td>2802.00</td>\n",
       "    </tr>\n",
       "    <tr>\n",
       "      <th>6</th>\n",
       "      <td>HOKCHI_9H_PD_ST1</td>\n",
       "      <td>462396.14</td>\n",
       "      <td>2059989.04</td>\n",
       "      <td>52.96</td>\n",
       "      <td>-27.0</td>\n",
       "      <td>3235.00</td>\n",
       "    </tr>\n",
       "    <tr>\n",
       "      <th>7</th>\n",
       "      <td>HOKCHI_9H_PD_ST2</td>\n",
       "      <td>462396.14</td>\n",
       "      <td>2059989.04</td>\n",
       "      <td>52.96</td>\n",
       "      <td>-27.0</td>\n",
       "      <td>3396.00</td>\n",
       "    </tr>\n",
       "  </tbody>\n",
       "</table>\n",
       "</div>"
      ],
      "text/plain": [
       "                Well          X           Y  Elevation   EGL  Total_depth\n",
       "0       HOKCHI_11DES  462396.03  2059998.46      52.91 -27.0      4314.00\n",
       "1  HOKCHI_7DES_RevE0  465378.00  2059396.00      51.10 -27.0      3468.61\n",
       "2          HOKCHI_8H  462396.00  2059988.98      52.91 -27.0      4097.32\n",
       "3       HOKCHI_8H_PD  462396.00  2059988.98      52.91 -27.0      4010.00\n",
       "4          HOKCHI_9H  462396.14  2059989.04      52.96 -27.0      4010.00\n",
       "5       HOKCHI_9H_PD  462396.14  2059989.04      52.96 -27.0      2802.00\n",
       "6   HOKCHI_9H_PD_ST1  462396.14  2059989.04      52.96 -27.0      3235.00\n",
       "7   HOKCHI_9H_PD_ST2  462396.14  2059989.04      52.96 -27.0      3396.00"
      ]
     },
     "execution_count": 12,
     "metadata": {},
     "output_type": "execute_result"
    }
   ],
   "source": [
    "wells_coord"
   ]
  },
  {
   "cell_type": "code",
   "execution_count": 13,
   "metadata": {},
   "outputs": [],
   "source": [
    "#Code below call the trajectory for wells in the folder location, get the units from the survey and delate the units row for\n",
    "# all the wells\n",
    "HOKCHI_11DES_traj = pd.read_csv('./Trajectory/HOKCHI_11DES.csv', sep=',').dropna(axis=0, how='all')\n",
    "well_traj_units = HOKCHI_11DES_traj.iloc[[0]]\n",
    "HOKCHI_11DES_traj = HOKCHI_11DES_traj.drop([0], axis=0).astype('float').reset_index(drop=True)"
   ]
  },
  {
   "cell_type": "code",
   "execution_count": 14,
   "metadata": {},
   "outputs": [],
   "source": [
    "HOKCHI_11DES_traj = pd.read_csv('./Trajectory/HOKCHI_11DES.csv', sep=',').dropna(axis=0, how='all')\n",
    "HOKCHI_11DES_traj = HOKCHI_11DES_traj.drop([0], axis=0).astype('float').reset_index(drop=True)"
   ]
  },
  {
   "cell_type": "code",
   "execution_count": 15,
   "metadata": {},
   "outputs": [
    {
     "data": {
      "text/html": [
       "<div>\n",
       "<style scoped>\n",
       "    .dataframe tbody tr th:only-of-type {\n",
       "        vertical-align: middle;\n",
       "    }\n",
       "\n",
       "    .dataframe tbody tr th {\n",
       "        vertical-align: top;\n",
       "    }\n",
       "\n",
       "    .dataframe thead th {\n",
       "        text-align: right;\n",
       "    }\n",
       "</style>\n",
       "<table border=\"1\" class=\"dataframe\">\n",
       "  <thead>\n",
       "    <tr style=\"text-align: right;\">\n",
       "      <th></th>\n",
       "      <th>MD</th>\n",
       "      <th>INC</th>\n",
       "      <th>AZ</th>\n",
       "      <th>TVD</th>\n",
       "    </tr>\n",
       "  </thead>\n",
       "  <tbody>\n",
       "    <tr>\n",
       "      <th>0</th>\n",
       "      <td>0.0</td>\n",
       "      <td>0.00</td>\n",
       "      <td>0.00</td>\n",
       "      <td>0.00</td>\n",
       "    </tr>\n",
       "    <tr>\n",
       "      <th>1</th>\n",
       "      <td>91.0</td>\n",
       "      <td>0.09</td>\n",
       "      <td>82.02</td>\n",
       "      <td>91.00</td>\n",
       "    </tr>\n",
       "    <tr>\n",
       "      <th>2</th>\n",
       "      <td>231.0</td>\n",
       "      <td>0.26</td>\n",
       "      <td>44.49</td>\n",
       "      <td>231.00</td>\n",
       "    </tr>\n",
       "    <tr>\n",
       "      <th>3</th>\n",
       "      <td>260.0</td>\n",
       "      <td>1.23</td>\n",
       "      <td>322.20</td>\n",
       "      <td>260.00</td>\n",
       "    </tr>\n",
       "    <tr>\n",
       "      <th>4</th>\n",
       "      <td>289.0</td>\n",
       "      <td>2.38</td>\n",
       "      <td>310.22</td>\n",
       "      <td>288.98</td>\n",
       "    </tr>\n",
       "    <tr>\n",
       "      <th>...</th>\n",
       "      <td>...</td>\n",
       "      <td>...</td>\n",
       "      <td>...</td>\n",
       "      <td>...</td>\n",
       "    </tr>\n",
       "    <tr>\n",
       "      <th>143</th>\n",
       "      <td>4257.0</td>\n",
       "      <td>65.40</td>\n",
       "      <td>317.48</td>\n",
       "      <td>2609.93</td>\n",
       "    </tr>\n",
       "    <tr>\n",
       "      <th>144</th>\n",
       "      <td>4285.0</td>\n",
       "      <td>65.26</td>\n",
       "      <td>317.72</td>\n",
       "      <td>2621.61</td>\n",
       "    </tr>\n",
       "    <tr>\n",
       "      <th>145</th>\n",
       "      <td>4314.0</td>\n",
       "      <td>65.20</td>\n",
       "      <td>317.08</td>\n",
       "      <td>2633.76</td>\n",
       "    </tr>\n",
       "    <tr>\n",
       "      <th>146</th>\n",
       "      <td>4326.0</td>\n",
       "      <td>65.36</td>\n",
       "      <td>317.38</td>\n",
       "      <td>2638.78</td>\n",
       "    </tr>\n",
       "    <tr>\n",
       "      <th>147</th>\n",
       "      <td>4335.0</td>\n",
       "      <td>65.36</td>\n",
       "      <td>317.38</td>\n",
       "      <td>2642.53</td>\n",
       "    </tr>\n",
       "  </tbody>\n",
       "</table>\n",
       "<p>148 rows × 4 columns</p>\n",
       "</div>"
      ],
      "text/plain": [
       "         MD    INC      AZ      TVD\n",
       "0       0.0   0.00    0.00     0.00\n",
       "1      91.0   0.09   82.02    91.00\n",
       "2     231.0   0.26   44.49   231.00\n",
       "3     260.0   1.23  322.20   260.00\n",
       "4     289.0   2.38  310.22   288.98\n",
       "..      ...    ...     ...      ...\n",
       "143  4257.0  65.40  317.48  2609.93\n",
       "144  4285.0  65.26  317.72  2621.61\n",
       "145  4314.0  65.20  317.08  2633.76\n",
       "146  4326.0  65.36  317.38  2638.78\n",
       "147  4335.0  65.36  317.38  2642.53\n",
       "\n",
       "[148 rows x 4 columns]"
      ]
     },
     "execution_count": 15,
     "metadata": {},
     "output_type": "execute_result"
    }
   ],
   "source": [
    "HOKCHI_11DES_traj"
   ]
  },
  {
   "cell_type": "code",
   "execution_count": null,
   "metadata": {},
   "outputs": [],
   "source": [
    "HOKCHI_7DES_RevE0_traj = pd.read_csv('./Trajectory/HOKCHI_7DES_RevE0.csv', sep=',').dropna(axis=0, how='all')\n",
    "HOKCHI_7DES_RevE0_traj = HOKCHI_7DES_RevE0_traj.drop([0], axis=0).astype('float').reset_index(drop=True)"
   ]
  },
  {
   "cell_type": "code",
   "execution_count": null,
   "metadata": {},
   "outputs": [],
   "source": [
    "HOKCHI_8H_RevF6_traj = pd.read_csv('./Trajectory/HOKCHI_8H_RevF6.csv', sep=',').dropna(axis=0, how='all')\n",
    "HOKCHI_8H_RevF6_traj = HOKCHI_8H_RevF6_traj.drop([0], axis=0).astype('float').reset_index(drop=True)"
   ]
  },
  {
   "cell_type": "code",
   "execution_count": null,
   "metadata": {},
   "outputs": [],
   "source": [
    "HOKCHI_8H_RT_traj = pd.read_csv('./Trajectory/HOKCHI_8H_RT.csv', sep=',').dropna(axis=0, how='all')\n",
    "HOKCHI_8H_RT_traj = HOKCHI_8H_RT_traj.drop([0], axis=0).astype('float').reset_index(drop=True)"
   ]
  },
  {
   "cell_type": "code",
   "execution_count": null,
   "metadata": {},
   "outputs": [],
   "source": [
    "HOKCHI_8H_PD_traj = pd.read_csv('./Trajectory/HOKCHI_8H_PD.csv', sep=',').dropna(axis=0, how='all')\n",
    "HOKCHI_8H_PD_traj = HOKCHI_8H_PD_traj.drop([0], axis=0).astype('float').reset_index(drop=True)"
   ]
  },
  {
   "cell_type": "code",
   "execution_count": null,
   "metadata": {},
   "outputs": [],
   "source": [
    "HOKCHI_8H_PD_traj"
   ]
  },
  {
   "cell_type": "code",
   "execution_count": null,
   "metadata": {},
   "outputs": [],
   "source": [
    "HOKCHI_9H_traj = pd.read_csv('./Trajectory/HOKCHI_9H.csv', sep=',').dropna(axis=0, how='all')\n",
    "HOKCHI_9H_traj = HOKCHI_9H_traj.drop([0], axis=0).astype('float').reset_index(drop=True)"
   ]
  },
  {
   "cell_type": "code",
   "execution_count": null,
   "metadata": {},
   "outputs": [],
   "source": [
    "HOKCHI_9H_traj"
   ]
  },
  {
   "cell_type": "code",
   "execution_count": null,
   "metadata": {},
   "outputs": [],
   "source": [
    "HOKCHI_9H_PD_traj = pd.read_csv('./Trajectory/HOKCHI_9H_PD.csv', sep=',').dropna(axis=0, how='all')\n",
    "HOKCHI_9H_PD_traj = HOKCHI_9H_PD_traj.drop([0], axis=0).astype('float').reset_index(drop=True)"
   ]
  },
  {
   "cell_type": "code",
   "execution_count": null,
   "metadata": {},
   "outputs": [],
   "source": [
    "HOKCHI_9H_PD_traj"
   ]
  },
  {
   "cell_type": "code",
   "execution_count": null,
   "metadata": {},
   "outputs": [],
   "source": [
    "HOKCHI_9H_PD_ST1_traj = pd.read_csv('./Trajectory/HOKCHI_9H_PD_ST1.csv', sep=',').dropna(axis=0, how='all')\n",
    "HOKCHI_9H_PD_ST1_traj = HOKCHI_9H_PD_ST1_traj.drop([0], axis=0).astype('float').reset_index(drop=True)"
   ]
  },
  {
   "cell_type": "code",
   "execution_count": null,
   "metadata": {},
   "outputs": [],
   "source": [
    "HOKCHI_9H_PD_ST1_traj"
   ]
  },
  {
   "cell_type": "code",
   "execution_count": null,
   "metadata": {},
   "outputs": [],
   "source": [
    "HOKCHI_9H_PD_ST2_traj = pd.read_csv('./Trajectory/HOKCHI_9H_PD_ST2.csv', sep=',').dropna(axis=0, how='all')\n",
    "HOKCHI_9H_PD_ST2_traj = HOKCHI_9H_PD_ST2_traj.drop([0], axis=0).astype('float').reset_index(drop=True)"
   ]
  },
  {
   "cell_type": "code",
   "execution_count": null,
   "metadata": {},
   "outputs": [],
   "source": [
    "HOKCHI_9H_PD_ST2_traj"
   ]
  },
  {
   "cell_type": "code",
   "execution_count": null,
   "metadata": {},
   "outputs": [],
   "source": []
  },
  {
   "cell_type": "code",
   "execution_count": 16,
   "metadata": {},
   "outputs": [],
   "source": [
    "def wh_creation():\n",
    "    w_i = str(input('Enter well number(ej: w1): '))\n",
    "    globals()[w_i+'_name'] = str(input('Enter well name (as Excel): '))\n",
    "    globals()[w_i+'_wh'] = wells_coord.loc[wells_coord['Well']==globals()[w_i+'_name']].reset_index(drop=True)\n",
    "    globals()[w_i+'_EGL'] = wells_coord.loc[wells_coord['Well']==globals()[w_i+'_name']]['EGL']\n",
    "    globals()[w_i+'_ERT'] = wells_coord.loc[wells_coord['Well']==globals()[w_i+'_name']]['Elevation']\n",
    "    globals()[w_i+'_ERT'] = globals()[w_i+'_EGL'] + globals()[w_i+'_ERT']           \n",
    "    "
   ]
  },
  {
   "cell_type": "code",
   "execution_count": 17,
   "metadata": {},
   "outputs": [],
   "source": [
    "def wh_creation():\n",
    "    w_i = str(input('Enter well number(ej: w1): '))\n",
    "    globals()[w_i+'_name'] = str(input('Enter well name (as Excel): '))\n",
    "    globals()[w_i+'_wh'] = wells_coord.loc[wells_coord['Well']==globals()[w_i+'_name']].reset_index(drop=True)\n",
    "    globals()[w_i+'_EGL'] = wells_coord.loc[wells_coord['Well']==globals()[w_i+'_name']]['EGL']\n",
    "    globals()[w_i+'_ERT'] = wells_coord.loc[wells_coord['Well']==globals()[w_i+'_name']]['Elevation']\n",
    "    globals()[w_i+'_ERT'] = globals()[w_i+'_EGL'] + globals()[w_i+'_ERT']\n",
    "    print(f'The variable {w_i}_wh was created' )"
   ]
  },
  {
   "cell_type": "code",
   "execution_count": 63,
   "metadata": {},
   "outputs": [
    {
     "name": "stdout",
     "output_type": "stream",
     "text": [
      "Enter well number(ej: w1): HOKCHI_11DES\n",
      "Enter well name (as Excel): HOKCHI_11DES\n",
      "The variable HOKCHI_11DES_wh was created\n"
     ]
    }
   ],
   "source": [
    "wh_creation()"
   ]
  },
  {
   "cell_type": "code",
   "execution_count": 64,
   "metadata": {},
   "outputs": [
    {
     "data": {
      "text/html": [
       "<div>\n",
       "<style scoped>\n",
       "    .dataframe tbody tr th:only-of-type {\n",
       "        vertical-align: middle;\n",
       "    }\n",
       "\n",
       "    .dataframe tbody tr th {\n",
       "        vertical-align: top;\n",
       "    }\n",
       "\n",
       "    .dataframe thead th {\n",
       "        text-align: right;\n",
       "    }\n",
       "</style>\n",
       "<table border=\"1\" class=\"dataframe\">\n",
       "  <thead>\n",
       "    <tr style=\"text-align: right;\">\n",
       "      <th></th>\n",
       "      <th>Well</th>\n",
       "      <th>X</th>\n",
       "      <th>Y</th>\n",
       "      <th>Elevation</th>\n",
       "      <th>EGL</th>\n",
       "      <th>Total_depth</th>\n",
       "    </tr>\n",
       "  </thead>\n",
       "  <tbody>\n",
       "    <tr>\n",
       "      <th>0</th>\n",
       "      <td>HOKCHI_11DES</td>\n",
       "      <td>462396.03</td>\n",
       "      <td>2059998.46</td>\n",
       "      <td>52.91</td>\n",
       "      <td>-27.0</td>\n",
       "      <td>4314.0</td>\n",
       "    </tr>\n",
       "  </tbody>\n",
       "</table>\n",
       "</div>"
      ],
      "text/plain": [
       "           Well          X           Y  Elevation   EGL  Total_depth\n",
       "0  HOKCHI_11DES  462396.03  2059998.46      52.91 -27.0       4314.0"
      ]
     },
     "execution_count": 64,
     "metadata": {},
     "output_type": "execute_result"
    }
   ],
   "source": [
    "HOKCHI_11DES_wh"
   ]
  },
  {
   "cell_type": "code",
   "execution_count": null,
   "metadata": {},
   "outputs": [],
   "source": [
    "wh_creation()"
   ]
  },
  {
   "cell_type": "code",
   "execution_count": null,
   "metadata": {},
   "outputs": [],
   "source": [
    "HOKCHI_7DES_wh"
   ]
  },
  {
   "cell_type": "code",
   "execution_count": null,
   "metadata": {},
   "outputs": [],
   "source": [
    "wh_creation()"
   ]
  },
  {
   "cell_type": "code",
   "execution_count": null,
   "metadata": {},
   "outputs": [],
   "source": [
    "HOKCHI_8H_wh"
   ]
  },
  {
   "cell_type": "code",
   "execution_count": null,
   "metadata": {},
   "outputs": [],
   "source": [
    "wh_creation()"
   ]
  },
  {
   "cell_type": "code",
   "execution_count": null,
   "metadata": {
    "scrolled": false
   },
   "outputs": [],
   "source": [
    "HOKCHI_8H_PD_wh"
   ]
  },
  {
   "cell_type": "code",
   "execution_count": null,
   "metadata": {},
   "outputs": [],
   "source": [
    "wh_creation()"
   ]
  },
  {
   "cell_type": "code",
   "execution_count": null,
   "metadata": {
    "scrolled": false
   },
   "outputs": [],
   "source": [
    "HOKCHI_9H_wh"
   ]
  },
  {
   "cell_type": "code",
   "execution_count": null,
   "metadata": {},
   "outputs": [],
   "source": [
    "wh_creation()"
   ]
  },
  {
   "cell_type": "code",
   "execution_count": null,
   "metadata": {},
   "outputs": [],
   "source": [
    "wh_creation()"
   ]
  },
  {
   "cell_type": "code",
   "execution_count": null,
   "metadata": {},
   "outputs": [],
   "source": [
    "wh_creation()"
   ]
  },
  {
   "cell_type": "code",
   "execution_count": 47,
   "metadata": {},
   "outputs": [],
   "source": [
    "def reference_dataset(w_n, w_traj_ds, sample_rate):\n",
    "    #sample_rate = 0.15\n",
    "    numb_idx_w1 = int(((w_traj_ds['MD'].max()) / sample_rate)+1)\n",
    "    idx=[0]\n",
    "    for x in range(numb_idx_w1):\n",
    "        if x == 0:#first value of depth have to be zero\n",
    "            continue\n",
    "        else:\n",
    "            idx.append(idx[x-1] + sample_rate)\n",
    "    globals()[w_n+'_wellpath'] = pd.DataFrame ({'Depth': idx}) \n",
    "    globals()[w_n+'_wellpath'] = globals()[w_n+'_wellpath'].set_index('Depth')\n",
    "    print('Data set was created: ', w_n+'_wellpath')\n",
    "    globals()[w_n+'_wellpath'] = pd.concat([globals()[w_n+'_wellpath'], w_traj_ds.groupby(pd.Grouper('MD')).mean()], axis=1).interpolate('linear')"
   ]
  },
  {
   "cell_type": "code",
   "execution_count": 48,
   "metadata": {},
   "outputs": [
    {
     "data": {
      "text/html": [
       "<div>\n",
       "<style scoped>\n",
       "    .dataframe tbody tr th:only-of-type {\n",
       "        vertical-align: middle;\n",
       "    }\n",
       "\n",
       "    .dataframe tbody tr th {\n",
       "        vertical-align: top;\n",
       "    }\n",
       "\n",
       "    .dataframe thead th {\n",
       "        text-align: right;\n",
       "    }\n",
       "</style>\n",
       "<table border=\"1\" class=\"dataframe\">\n",
       "  <thead>\n",
       "    <tr style=\"text-align: right;\">\n",
       "      <th></th>\n",
       "      <th>MD</th>\n",
       "      <th>INC</th>\n",
       "      <th>AZ</th>\n",
       "      <th>TVD</th>\n",
       "    </tr>\n",
       "  </thead>\n",
       "  <tbody>\n",
       "    <tr>\n",
       "      <th>0</th>\n",
       "      <td>0.0</td>\n",
       "      <td>0.00</td>\n",
       "      <td>0.00</td>\n",
       "      <td>0.00</td>\n",
       "    </tr>\n",
       "    <tr>\n",
       "      <th>1</th>\n",
       "      <td>91.0</td>\n",
       "      <td>0.09</td>\n",
       "      <td>82.02</td>\n",
       "      <td>91.00</td>\n",
       "    </tr>\n",
       "    <tr>\n",
       "      <th>2</th>\n",
       "      <td>231.0</td>\n",
       "      <td>0.26</td>\n",
       "      <td>44.49</td>\n",
       "      <td>231.00</td>\n",
       "    </tr>\n",
       "    <tr>\n",
       "      <th>3</th>\n",
       "      <td>260.0</td>\n",
       "      <td>1.23</td>\n",
       "      <td>322.20</td>\n",
       "      <td>260.00</td>\n",
       "    </tr>\n",
       "    <tr>\n",
       "      <th>4</th>\n",
       "      <td>289.0</td>\n",
       "      <td>2.38</td>\n",
       "      <td>310.22</td>\n",
       "      <td>288.98</td>\n",
       "    </tr>\n",
       "    <tr>\n",
       "      <th>...</th>\n",
       "      <td>...</td>\n",
       "      <td>...</td>\n",
       "      <td>...</td>\n",
       "      <td>...</td>\n",
       "    </tr>\n",
       "    <tr>\n",
       "      <th>143</th>\n",
       "      <td>4257.0</td>\n",
       "      <td>65.40</td>\n",
       "      <td>317.48</td>\n",
       "      <td>2609.93</td>\n",
       "    </tr>\n",
       "    <tr>\n",
       "      <th>144</th>\n",
       "      <td>4285.0</td>\n",
       "      <td>65.26</td>\n",
       "      <td>317.72</td>\n",
       "      <td>2621.61</td>\n",
       "    </tr>\n",
       "    <tr>\n",
       "      <th>145</th>\n",
       "      <td>4314.0</td>\n",
       "      <td>65.20</td>\n",
       "      <td>317.08</td>\n",
       "      <td>2633.76</td>\n",
       "    </tr>\n",
       "    <tr>\n",
       "      <th>146</th>\n",
       "      <td>4326.0</td>\n",
       "      <td>65.36</td>\n",
       "      <td>317.38</td>\n",
       "      <td>2638.78</td>\n",
       "    </tr>\n",
       "    <tr>\n",
       "      <th>147</th>\n",
       "      <td>4335.0</td>\n",
       "      <td>65.36</td>\n",
       "      <td>317.38</td>\n",
       "      <td>2642.53</td>\n",
       "    </tr>\n",
       "  </tbody>\n",
       "</table>\n",
       "<p>148 rows × 4 columns</p>\n",
       "</div>"
      ],
      "text/plain": [
       "         MD    INC      AZ      TVD\n",
       "0       0.0   0.00    0.00     0.00\n",
       "1      91.0   0.09   82.02    91.00\n",
       "2     231.0   0.26   44.49   231.00\n",
       "3     260.0   1.23  322.20   260.00\n",
       "4     289.0   2.38  310.22   288.98\n",
       "..      ...    ...     ...      ...\n",
       "143  4257.0  65.40  317.48  2609.93\n",
       "144  4285.0  65.26  317.72  2621.61\n",
       "145  4314.0  65.20  317.08  2633.76\n",
       "146  4326.0  65.36  317.38  2638.78\n",
       "147  4335.0  65.36  317.38  2642.53\n",
       "\n",
       "[148 rows x 4 columns]"
      ]
     },
     "execution_count": 48,
     "metadata": {},
     "output_type": "execute_result"
    }
   ],
   "source": [
    "HOKCHI_11DES_traj"
   ]
  },
  {
   "cell_type": "code",
   "execution_count": 49,
   "metadata": {},
   "outputs": [
    {
     "name": "stdout",
     "output_type": "stream",
     "text": [
      "Data set was created:  HOKCHI_11DES_wellpath\n"
     ]
    }
   ],
   "source": [
    "#Sample rate in m should be around 0.15\n",
    "reference_dataset('HOKCHI_11DES', HOKCHI_11DES_traj, 0.15)"
   ]
  },
  {
   "cell_type": "code",
   "execution_count": 50,
   "metadata": {},
   "outputs": [
    {
     "data": {
      "text/html": [
       "<div>\n",
       "<style scoped>\n",
       "    .dataframe tbody tr th:only-of-type {\n",
       "        vertical-align: middle;\n",
       "    }\n",
       "\n",
       "    .dataframe tbody tr th {\n",
       "        vertical-align: top;\n",
       "    }\n",
       "\n",
       "    .dataframe thead th {\n",
       "        text-align: right;\n",
       "    }\n",
       "</style>\n",
       "<table border=\"1\" class=\"dataframe\">\n",
       "  <thead>\n",
       "    <tr style=\"text-align: right;\">\n",
       "      <th></th>\n",
       "      <th>INC</th>\n",
       "      <th>AZ</th>\n",
       "      <th>TVD</th>\n",
       "    </tr>\n",
       "  </thead>\n",
       "  <tbody>\n",
       "    <tr>\n",
       "      <th>0.00</th>\n",
       "      <td>0.000000</td>\n",
       "      <td>0.000000</td>\n",
       "      <td>0.000000</td>\n",
       "    </tr>\n",
       "    <tr>\n",
       "      <th>0.15</th>\n",
       "      <td>0.000003</td>\n",
       "      <td>0.002838</td>\n",
       "      <td>0.003149</td>\n",
       "    </tr>\n",
       "    <tr>\n",
       "      <th>0.30</th>\n",
       "      <td>0.000006</td>\n",
       "      <td>0.005676</td>\n",
       "      <td>0.006297</td>\n",
       "    </tr>\n",
       "    <tr>\n",
       "      <th>0.45</th>\n",
       "      <td>0.000009</td>\n",
       "      <td>0.008514</td>\n",
       "      <td>0.009446</td>\n",
       "    </tr>\n",
       "    <tr>\n",
       "      <th>0.60</th>\n",
       "      <td>0.000012</td>\n",
       "      <td>0.011352</td>\n",
       "      <td>0.012595</td>\n",
       "    </tr>\n",
       "    <tr>\n",
       "      <th>...</th>\n",
       "      <td>...</td>\n",
       "      <td>...</td>\n",
       "      <td>...</td>\n",
       "    </tr>\n",
       "    <tr>\n",
       "      <th>4257.00</th>\n",
       "      <td>65.400000</td>\n",
       "      <td>317.480000</td>\n",
       "      <td>2609.930000</td>\n",
       "    </tr>\n",
       "    <tr>\n",
       "      <th>4285.00</th>\n",
       "      <td>65.260000</td>\n",
       "      <td>317.720000</td>\n",
       "      <td>2621.610000</td>\n",
       "    </tr>\n",
       "    <tr>\n",
       "      <th>4314.00</th>\n",
       "      <td>65.200000</td>\n",
       "      <td>317.080000</td>\n",
       "      <td>2633.760000</td>\n",
       "    </tr>\n",
       "    <tr>\n",
       "      <th>4326.00</th>\n",
       "      <td>65.360000</td>\n",
       "      <td>317.380000</td>\n",
       "      <td>2638.780000</td>\n",
       "    </tr>\n",
       "    <tr>\n",
       "      <th>4335.00</th>\n",
       "      <td>65.360000</td>\n",
       "      <td>317.380000</td>\n",
       "      <td>2642.530000</td>\n",
       "    </tr>\n",
       "  </tbody>\n",
       "</table>\n",
       "<p>29048 rows × 3 columns</p>\n",
       "</div>"
      ],
      "text/plain": [
       "               INC          AZ          TVD\n",
       "0.00      0.000000    0.000000     0.000000\n",
       "0.15      0.000003    0.002838     0.003149\n",
       "0.30      0.000006    0.005676     0.006297\n",
       "0.45      0.000009    0.008514     0.009446\n",
       "0.60      0.000012    0.011352     0.012595\n",
       "...            ...         ...          ...\n",
       "4257.00  65.400000  317.480000  2609.930000\n",
       "4285.00  65.260000  317.720000  2621.610000\n",
       "4314.00  65.200000  317.080000  2633.760000\n",
       "4326.00  65.360000  317.380000  2638.780000\n",
       "4335.00  65.360000  317.380000  2642.530000\n",
       "\n",
       "[29048 rows x 3 columns]"
      ]
     },
     "execution_count": 50,
     "metadata": {},
     "output_type": "execute_result"
    }
   ],
   "source": [
    "HOKCHI_11DES_wellpath"
   ]
  },
  {
   "cell_type": "code",
   "execution_count": null,
   "metadata": {},
   "outputs": [],
   "source": [
    "reference_dataset('HOKCHI_7DES', HOKCHI_7DES_RevE0_traj,0.15)"
   ]
  },
  {
   "cell_type": "code",
   "execution_count": null,
   "metadata": {},
   "outputs": [],
   "source": [
    "HOKCHI_7DES_wellpath"
   ]
  },
  {
   "cell_type": "code",
   "execution_count": null,
   "metadata": {},
   "outputs": [],
   "source": [
    "reference_dataset('HOKCHI_8H', HOKCHI_8H_RevF6_traj,0.15)"
   ]
  },
  {
   "cell_type": "code",
   "execution_count": null,
   "metadata": {},
   "outputs": [],
   "source": [
    "reference_dataset('HOKCHI_8H_RT', HOKCHI_8H_RT_traj,0.15)"
   ]
  },
  {
   "cell_type": "code",
   "execution_count": null,
   "metadata": {
    "scrolled": true
   },
   "outputs": [],
   "source": [
    "reference_dataset('HOKCHI_8H_PD', HOKCHI_8H_PD_traj,0.15)"
   ]
  },
  {
   "cell_type": "code",
   "execution_count": null,
   "metadata": {
    "scrolled": true
   },
   "outputs": [],
   "source": [
    "HOKCHI_8H_wellpath"
   ]
  },
  {
   "cell_type": "code",
   "execution_count": null,
   "metadata": {
    "scrolled": true
   },
   "outputs": [],
   "source": [
    "HOKCHI_8H_PD_wellpath"
   ]
  },
  {
   "cell_type": "code",
   "execution_count": null,
   "metadata": {
    "scrolled": true
   },
   "outputs": [],
   "source": [
    "reference_dataset('HOKCHI_9H', HOKCHI_9H_traj,0.15)"
   ]
  },
  {
   "cell_type": "code",
   "execution_count": null,
   "metadata": {
    "scrolled": true
   },
   "outputs": [],
   "source": [
    "HOKCHI_9H_wellpath"
   ]
  },
  {
   "cell_type": "code",
   "execution_count": null,
   "metadata": {},
   "outputs": [],
   "source": [
    "reference_dataset('HOKCHI_9H_PD', HOKCHI_9H_PD_traj,0.15)"
   ]
  },
  {
   "cell_type": "code",
   "execution_count": null,
   "metadata": {},
   "outputs": [],
   "source": [
    "reference_dataset('HOKCHI_9H_PD_ST1', HOKCHI_9H_PD_ST1_traj,0.15)"
   ]
  },
  {
   "cell_type": "code",
   "execution_count": null,
   "metadata": {},
   "outputs": [],
   "source": [
    "reference_dataset('HOKCHI_9H_PD_ST2', HOKCHI_9H_PD_ST2_traj,0.15)"
   ]
  },
  {
   "cell_type": "code",
   "execution_count": 58,
   "metadata": {},
   "outputs": [],
   "source": [
    "'''\n",
    "Function to create teh full data set of location, its donde by the lineal method and it calculates the horizontal\n",
    "the horizontal displasment [THS], the north offset [NOFFSET], the east offset [EOFFSET], TVD below ground floor [TVDBGL],\n",
    "TVD sub sea [TVDSS], and the location for each north and east.\n",
    "'''\n",
    "def well_path(master_ds,wh):\n",
    "    d_x = [0]\n",
    "    d_n = [0]\n",
    "    d_e = [0]\n",
    "    for x in range(len(master_ds)):\n",
    "        if x == 0:\n",
    "            continue\n",
    "        #elif(master_ds.iloc[x,:]['INC']-master_ds.iloc[x-1,:]['INC'])==0:# or (master_ds.iloc[x,:]['INC']-master_ds.iloc[x-1,:]['INC'])<=0:\n",
    "            d_x.append(d_x[x-1] + 0)\n",
    "            d_n.append(d_x[x-1] + 0)\n",
    "            d_e.append(d_x[x-1] + 0)\n",
    "        else:\n",
    "            #d_xi=(((master_ds.index[x]-master_ds.index[x-1])*(math.sin(master_ds.iloc[x,:]['INC']*math.pi/180)-math.sin(master_ds.iloc[x-1,:]['INC']*math.pi/180))*(180/math.pi)) / (master_ds.iloc[x,:]['INC']-master_ds.iloc[x-1,:]['INC']))\n",
    "            \n",
    "#             d_xi = math.sin(master_ds.iloc[x,:]['INC'] * math.pi/180)*(master_ds.index[x]-master_ds.index[x-1])\n",
    "#             d_ni = (master_ds.index[x]-master_ds.index[x-1])*(math.cos(master_ds.iloc[x,:]['INC'] * math.pi/180)-math.cos(master_ds.iloc[x-1,:]['INC'] * math.pi/180))*(math.sin(master_ds.iloc[x,:]['AZ'] * math.pi/180)-math.sin(master_ds.iloc[x-1,:]['AZ'] * math.pi/180))*math.sqrt(180/math.pi)/((master_ds.iloc[x,:]['INC']-master_ds.iloc[x-1,:]['INC'])*(master_ds.iloc[x,:]['AZ']-master_ds.iloc[x-1,:]['AZ']))\n",
    "#             d_ei = (master_ds.index[x]-master_ds.index[x-1])*(math.cos(master_ds.iloc[x,:]['INC'] * math.pi/180)-math.cos(master_ds.iloc[x-1,:]['INC'] * math.pi/180))*(math.cos(master_ds.iloc[x,:]['AZ'] * math.pi/180)-math.cos(master_ds.iloc[x-1,:]['AZ'] * math.pi/180))*math.sqrt(180/math.pi)/((master_ds.iloc[x,:]['INC']-master_ds.iloc[x-1,:]['INC'])*(master_ds.iloc[x,:]['AZ']-master_ds.iloc[x-1,:]['AZ']))\n",
    "            d_xi = math.sin(master_ds.iloc[x,:]['INC'] * math.pi/180)*(master_ds.index[x]-master_ds.index[x-1])\n",
    "            d_ni = (master_ds.index[x]-master_ds.index[x-1])*math.sin(master_ds.iloc[x,:]['INC'] * math.pi/180)*math.cos(master_ds.iloc[x,:]['AZ'] * math.pi/180)\n",
    "            d_ei = (master_ds.index[x]-master_ds.index[x-1])*math.sin(master_ds.iloc[x,:]['INC'] * math.pi/180)*math.sin(master_ds.iloc[x,:]['AZ'] * math.pi/180)\n",
    "            d_x.append(d_x[x-1] + d_xi)\n",
    "            d_n.append(d_n[x-1] + d_ni)\n",
    "            d_e.append(d_e[x-1] + d_ei)\n",
    "    master_ds['THD'] = d_x\n",
    "    master_ds['NOFFSET'] = d_n\n",
    "    master_ds['EOFFSET'] = d_e\n",
    "    master_ds['TVDBGL'] = master_ds[['TVD']]-(float(wh['Elevation']-wh['EGL']))\n",
    "    master_ds['TVDSS'] = master_ds[['TVD']]-float(wh['Elevation'])\n",
    "    master_ds['NLOC'] = (master_ds[['NOFFSET']]) + float(wh['Y'])\n",
    "    master_ds['ELOC'] = (master_ds[['EOFFSET']])+ float(wh['X'])\n",
    "    print('Well path was created succesfully' )"
   ]
  },
  {
   "cell_type": "code",
   "execution_count": 61,
   "metadata": {
    "scrolled": false
   },
   "outputs": [
    {
     "name": "stdout",
     "output_type": "stream",
     "text": [
      "Well path was created succesfully\n"
     ]
    }
   ],
   "source": [
    "well_path(HOKCHI_11DES_wellpath, HOKCHI_11DES_wh)"
   ]
  },
  {
   "cell_type": "code",
   "execution_count": 62,
   "metadata": {},
   "outputs": [
    {
     "data": {
      "text/html": [
       "<div>\n",
       "<style scoped>\n",
       "    .dataframe tbody tr th:only-of-type {\n",
       "        vertical-align: middle;\n",
       "    }\n",
       "\n",
       "    .dataframe tbody tr th {\n",
       "        vertical-align: top;\n",
       "    }\n",
       "\n",
       "    .dataframe thead th {\n",
       "        text-align: right;\n",
       "    }\n",
       "</style>\n",
       "<table border=\"1\" class=\"dataframe\">\n",
       "  <thead>\n",
       "    <tr style=\"text-align: right;\">\n",
       "      <th></th>\n",
       "      <th>INC</th>\n",
       "      <th>AZ</th>\n",
       "      <th>TVD</th>\n",
       "      <th>THD</th>\n",
       "      <th>NOFFSET</th>\n",
       "      <th>EOFFSET</th>\n",
       "      <th>TVDBGL</th>\n",
       "      <th>TVDSS</th>\n",
       "      <th>NLOC</th>\n",
       "      <th>ELOC</th>\n",
       "    </tr>\n",
       "  </thead>\n",
       "  <tbody>\n",
       "    <tr>\n",
       "      <th>0.00</th>\n",
       "      <td>0.000000</td>\n",
       "      <td>0.000000</td>\n",
       "      <td>0.000000</td>\n",
       "      <td>0.000000e+00</td>\n",
       "      <td>0.000000e+00</td>\n",
       "      <td>0.000000e+00</td>\n",
       "      <td>-79.910000</td>\n",
       "      <td>-52.910000</td>\n",
       "      <td>2.059998e+06</td>\n",
       "      <td>462396.030000</td>\n",
       "    </tr>\n",
       "    <tr>\n",
       "      <th>0.15</th>\n",
       "      <td>0.000003</td>\n",
       "      <td>0.002838</td>\n",
       "      <td>0.003149</td>\n",
       "      <td>8.152640e-09</td>\n",
       "      <td>8.152640e-09</td>\n",
       "      <td>4.038151e-13</td>\n",
       "      <td>-79.906851</td>\n",
       "      <td>-52.906851</td>\n",
       "      <td>2.059998e+06</td>\n",
       "      <td>462396.030000</td>\n",
       "    </tr>\n",
       "    <tr>\n",
       "      <th>0.30</th>\n",
       "      <td>0.000006</td>\n",
       "      <td>0.005676</td>\n",
       "      <td>0.006297</td>\n",
       "      <td>2.445792e-08</td>\n",
       "      <td>2.445792e-08</td>\n",
       "      <td>2.019075e-12</td>\n",
       "      <td>-79.903703</td>\n",
       "      <td>-52.903703</td>\n",
       "      <td>2.059998e+06</td>\n",
       "      <td>462396.030000</td>\n",
       "    </tr>\n",
       "    <tr>\n",
       "      <th>0.45</th>\n",
       "      <td>0.000009</td>\n",
       "      <td>0.008514</td>\n",
       "      <td>0.009446</td>\n",
       "      <td>4.891584e-08</td>\n",
       "      <td>4.891584e-08</td>\n",
       "      <td>5.653411e-12</td>\n",
       "      <td>-79.900554</td>\n",
       "      <td>-52.900554</td>\n",
       "      <td>2.059998e+06</td>\n",
       "      <td>462396.030000</td>\n",
       "    </tr>\n",
       "    <tr>\n",
       "      <th>0.60</th>\n",
       "      <td>0.000012</td>\n",
       "      <td>0.011352</td>\n",
       "      <td>0.012595</td>\n",
       "      <td>8.152640e-08</td>\n",
       "      <td>8.152640e-08</td>\n",
       "      <td>1.211445e-11</td>\n",
       "      <td>-79.897405</td>\n",
       "      <td>-52.897405</td>\n",
       "      <td>2.059998e+06</td>\n",
       "      <td>462396.030000</td>\n",
       "    </tr>\n",
       "    <tr>\n",
       "      <th>...</th>\n",
       "      <td>...</td>\n",
       "      <td>...</td>\n",
       "      <td>...</td>\n",
       "      <td>...</td>\n",
       "      <td>...</td>\n",
       "      <td>...</td>\n",
       "      <td>...</td>\n",
       "      <td>...</td>\n",
       "      <td>...</td>\n",
       "      <td>...</td>\n",
       "    </tr>\n",
       "    <tr>\n",
       "      <th>4257.00</th>\n",
       "      <td>65.400000</td>\n",
       "      <td>317.480000</td>\n",
       "      <td>2609.930000</td>\n",
       "      <td>2.737102e+03</td>\n",
       "      <td>1.969239e+03</td>\n",
       "      <td>-1.909267e+03</td>\n",
       "      <td>2530.020000</td>\n",
       "      <td>2557.020000</td>\n",
       "      <td>2.061968e+06</td>\n",
       "      <td>460486.763366</td>\n",
       "    </tr>\n",
       "    <tr>\n",
       "      <th>4285.00</th>\n",
       "      <td>65.260000</td>\n",
       "      <td>317.720000</td>\n",
       "      <td>2621.610000</td>\n",
       "      <td>2.762532e+03</td>\n",
       "      <td>1.988054e+03</td>\n",
       "      <td>-1.926375e+03</td>\n",
       "      <td>2541.700000</td>\n",
       "      <td>2568.700000</td>\n",
       "      <td>2.061987e+06</td>\n",
       "      <td>460469.655187</td>\n",
       "    </tr>\n",
       "    <tr>\n",
       "      <th>4314.00</th>\n",
       "      <td>65.200000</td>\n",
       "      <td>317.080000</td>\n",
       "      <td>2633.760000</td>\n",
       "      <td>2.788857e+03</td>\n",
       "      <td>2.007332e+03</td>\n",
       "      <td>-1.944302e+03</td>\n",
       "      <td>2553.850000</td>\n",
       "      <td>2580.850000</td>\n",
       "      <td>2.062006e+06</td>\n",
       "      <td>460451.728108</td>\n",
       "    </tr>\n",
       "    <tr>\n",
       "      <th>4326.00</th>\n",
       "      <td>65.360000</td>\n",
       "      <td>317.380000</td>\n",
       "      <td>2638.780000</td>\n",
       "      <td>2.799765e+03</td>\n",
       "      <td>2.015358e+03</td>\n",
       "      <td>-1.951688e+03</td>\n",
       "      <td>2558.870000</td>\n",
       "      <td>2585.870000</td>\n",
       "      <td>2.062014e+06</td>\n",
       "      <td>460444.342387</td>\n",
       "    </tr>\n",
       "    <tr>\n",
       "      <th>4335.00</th>\n",
       "      <td>65.360000</td>\n",
       "      <td>317.380000</td>\n",
       "      <td>2642.530000</td>\n",
       "      <td>2.807945e+03</td>\n",
       "      <td>2.021378e+03</td>\n",
       "      <td>-1.957227e+03</td>\n",
       "      <td>2562.620000</td>\n",
       "      <td>2589.620000</td>\n",
       "      <td>2.062020e+06</td>\n",
       "      <td>460438.803096</td>\n",
       "    </tr>\n",
       "  </tbody>\n",
       "</table>\n",
       "<p>29048 rows × 10 columns</p>\n",
       "</div>"
      ],
      "text/plain": [
       "               INC          AZ          TVD           THD       NOFFSET  \\\n",
       "0.00      0.000000    0.000000     0.000000  0.000000e+00  0.000000e+00   \n",
       "0.15      0.000003    0.002838     0.003149  8.152640e-09  8.152640e-09   \n",
       "0.30      0.000006    0.005676     0.006297  2.445792e-08  2.445792e-08   \n",
       "0.45      0.000009    0.008514     0.009446  4.891584e-08  4.891584e-08   \n",
       "0.60      0.000012    0.011352     0.012595  8.152640e-08  8.152640e-08   \n",
       "...            ...         ...          ...           ...           ...   \n",
       "4257.00  65.400000  317.480000  2609.930000  2.737102e+03  1.969239e+03   \n",
       "4285.00  65.260000  317.720000  2621.610000  2.762532e+03  1.988054e+03   \n",
       "4314.00  65.200000  317.080000  2633.760000  2.788857e+03  2.007332e+03   \n",
       "4326.00  65.360000  317.380000  2638.780000  2.799765e+03  2.015358e+03   \n",
       "4335.00  65.360000  317.380000  2642.530000  2.807945e+03  2.021378e+03   \n",
       "\n",
       "              EOFFSET       TVDBGL        TVDSS          NLOC           ELOC  \n",
       "0.00     0.000000e+00   -79.910000   -52.910000  2.059998e+06  462396.030000  \n",
       "0.15     4.038151e-13   -79.906851   -52.906851  2.059998e+06  462396.030000  \n",
       "0.30     2.019075e-12   -79.903703   -52.903703  2.059998e+06  462396.030000  \n",
       "0.45     5.653411e-12   -79.900554   -52.900554  2.059998e+06  462396.030000  \n",
       "0.60     1.211445e-11   -79.897405   -52.897405  2.059998e+06  462396.030000  \n",
       "...               ...          ...          ...           ...            ...  \n",
       "4257.00 -1.909267e+03  2530.020000  2557.020000  2.061968e+06  460486.763366  \n",
       "4285.00 -1.926375e+03  2541.700000  2568.700000  2.061987e+06  460469.655187  \n",
       "4314.00 -1.944302e+03  2553.850000  2580.850000  2.062006e+06  460451.728108  \n",
       "4326.00 -1.951688e+03  2558.870000  2585.870000  2.062014e+06  460444.342387  \n",
       "4335.00 -1.957227e+03  2562.620000  2589.620000  2.062020e+06  460438.803096  \n",
       "\n",
       "[29048 rows x 10 columns]"
      ]
     },
     "execution_count": 62,
     "metadata": {},
     "output_type": "execute_result"
    }
   ],
   "source": [
    "HOKCHI_11DES_wellpath"
   ]
  },
  {
   "cell_type": "code",
   "execution_count": null,
   "metadata": {},
   "outputs": [],
   "source": [
    "well_path(HOKCHI_7DES_wellpath, HOKCHI_7DES_wh)"
   ]
  },
  {
   "cell_type": "code",
   "execution_count": null,
   "metadata": {},
   "outputs": [],
   "source": [
    "HOKCHI_7DES_wellpath"
   ]
  },
  {
   "cell_type": "code",
   "execution_count": null,
   "metadata": {},
   "outputs": [],
   "source": [
    "well_path(HOKCHI_8H_wellpath, HOKCHI_8H_wh)"
   ]
  },
  {
   "cell_type": "code",
   "execution_count": null,
   "metadata": {},
   "outputs": [],
   "source": [
    "well_path(HOKCHI_8H_RT_wellpath, HOKCHI_8H_wh)"
   ]
  },
  {
   "cell_type": "code",
   "execution_count": null,
   "metadata": {},
   "outputs": [],
   "source": [
    "HOKCHI_8H_wellpath"
   ]
  },
  {
   "cell_type": "code",
   "execution_count": null,
   "metadata": {},
   "outputs": [],
   "source": [
    "well_path(HOKCHI_8H_PD_wellpath, HOKCHI_8H_PD_wh)"
   ]
  },
  {
   "cell_type": "code",
   "execution_count": null,
   "metadata": {},
   "outputs": [],
   "source": [
    "HOKCHI_8H_PD_wellpath"
   ]
  },
  {
   "cell_type": "code",
   "execution_count": null,
   "metadata": {},
   "outputs": [],
   "source": [
    "well_path(HOKCHI_9H_wellpath, HOKCHI_9H_wh)"
   ]
  },
  {
   "cell_type": "code",
   "execution_count": null,
   "metadata": {},
   "outputs": [],
   "source": [
    "HOKCHI_9H_wellpath"
   ]
  },
  {
   "cell_type": "code",
   "execution_count": null,
   "metadata": {},
   "outputs": [],
   "source": [
    "well_path(HOKCHI_9H_PD_wellpath, HOKCHI_9H_PD_wh)"
   ]
  },
  {
   "cell_type": "code",
   "execution_count": null,
   "metadata": {},
   "outputs": [],
   "source": [
    "well_path(HOKCHI_9H_PD_ST1_wellpath, HOKCHI_9H_PD_ST1_wh)"
   ]
  },
  {
   "cell_type": "code",
   "execution_count": null,
   "metadata": {},
   "outputs": [],
   "source": [
    "well_path(HOKCHI_9H_PD_ST2_wellpath, HOKCHI_9H_PD_ST2_wh)"
   ]
  },
  {
   "cell_type": "code",
   "execution_count": null,
   "metadata": {},
   "outputs": [],
   "source": [
    "'''\n",
    "The funtion plots for the selected wells in two D the location and trajectory it will save the graph as 2D_WELLS_PLOT\n",
    "'''\n",
    "def twoD_plot(*args):\n",
    "    for arg in args:        \n",
    "        plt.plot((arg[['ELOC']]/1000), (arg[['NLOC']]/1000), color='navy')\n",
    "        plt.scatter(((arg['ELOC'][0])/1000), ((arg['NLOC'][0])/1000), color='red', marker='^')\n",
    "        plt.text((arg['ELOC'].iloc[-1]/1000),(arg['NLOC'].iloc[-1]/1000), str(input('Name of wells: ')))\n",
    "    \n",
    "    plt.xlabel('X-Position [Km]')\n",
    "    plt.ylabel('Y-Position [Km]')\n",
    "    plt.title('Plot-2D')\n",
    "    plt.grid()\n",
    "    plt.savefig ('./Output pictures/2D_WELLS_PLOT.png', dpi=200, format='png')\n",
    "    plt.show"
   ]
  },
  {
   "cell_type": "code",
   "execution_count": null,
   "metadata": {
    "scrolled": false
   },
   "outputs": [],
   "source": [
    "twoD_plot(HOKCHI_8H_wellpath, HOKCHI_8H_PD_wellpath)"
   ]
  },
  {
   "cell_type": "code",
   "execution_count": null,
   "metadata": {
    "scrolled": false
   },
   "outputs": [],
   "source": [
    "twoD_plot(HOKCHI_7DES_wellpath, HOKCHI_8H_wellpath, HOKCHI_8H_PD_wellpath, HOKCHI_9H_wellpath, HOKCHI_11DES_wellpath)"
   ]
  },
  {
   "cell_type": "code",
   "execution_count": null,
   "metadata": {
    "scrolled": false
   },
   "outputs": [],
   "source": [
    "twoD_plot(HOKCHI_11DES_wellpath, HOKCHI_7DES_wellpath, HOKCHI_8H_wellpath)"
   ]
  },
  {
   "cell_type": "code",
   "execution_count": null,
   "metadata": {
    "scrolled": false
   },
   "outputs": [],
   "source": [
    "twoD_plot(HOKCHI_11DES_wellpath, HOKCHI_7DES_wellpath, HOKCHI_8H_PD_wellpath, HOKCHI_9H_wellpath)"
   ]
  },
  {
   "cell_type": "code",
   "execution_count": null,
   "metadata": {},
   "outputs": [],
   "source": [
    "twoD_plot(HOKCHI_11DES_wellpath, HOKCHI_7DES_wellpath, HOKCHI_8H_PD_wellpath, HOKCHI_9H_wellpath)"
   ]
  },
  {
   "cell_type": "code",
   "execution_count": null,
   "metadata": {},
   "outputs": [],
   "source": [
    "'''\n",
    "The funtion plots the selected wells in a 3D plot. Its necesary to asign the name for each well in the oreder added\n",
    "to the function.\n",
    "\n",
    "'''\n",
    "def threeD_plot(*args):\n",
    "    fig = plt.figure(figsize=(12, 12), dpi= 80, facecolor='w', edgecolor='k')\n",
    "    ax = plt.axes(projection='3d')\n",
    "    \n",
    "    for arg in args:\n",
    "        z = arg['TVDSS']\n",
    "        x = arg['ELOC']/1000\n",
    "        y = arg['NLOC']/1000\n",
    "        ax.plot3D(x, y, z, linewidth=4)\n",
    "        ax.text((arg['ELOC'].iloc[-1]/1000),(arg['NLOC'].iloc[-1]/1000), (arg['TVDSS'].iloc[-1]), str(input('Name of wells: ')), fontweight='bold')\n",
    "    \n",
    "#     xs = np.linspace(0, 10, 100)\n",
    "#     ys\n",
    "#     yy, xx = np.meshgrid(range(len(args)), range(len(args)))\n",
    "#     zz = yy*0\n",
    "#     ax.plot_surface(xx,yy,zz)\n",
    "    ax.invert_zaxis()    \n",
    "    ax.set_xlabel('X-Position [Km]')\n",
    "    ax.set_ylabel('Y-Position [Km]')\n",
    "    ax.set_zlabel('TVDSS [m]')\n",
    "    ax.view_init(30, 270)\n",
    "    plt.title('3D Visualization')\n",
    "    plt.savefig ('./Output pictures/3D_WELLS_PLOT.png', dpi=200, format='png')\n",
    "    plt.show"
   ]
  },
  {
   "cell_type": "code",
   "execution_count": null,
   "metadata": {
    "scrolled": false
   },
   "outputs": [],
   "source": [
    "threeD_plot(HOKCHI_11DES_wellpath, HOKCHI_7DES_wellpath, HOKCHI_8H_wellpath)"
   ]
  },
  {
   "cell_type": "code",
   "execution_count": null,
   "metadata": {
    "scrolled": false
   },
   "outputs": [],
   "source": [
    "threeD_plot(HOKCHI_11DES_wellpath, HOKCHI_7DES_wellpath, HOKCHI_8H_PD_wellpath, HOKCHI_9H_wellpath)"
   ]
  },
  {
   "cell_type": "code",
   "execution_count": null,
   "metadata": {
    "scrolled": true
   },
   "outputs": [],
   "source": [
    "threeD_plot(HOKCHI_8H_wellpath, HOKCHI_8H_RT_wellpath)"
   ]
  },
  {
   "cell_type": "code",
   "execution_count": null,
   "metadata": {
    "scrolled": false
   },
   "outputs": [],
   "source": [
    "threeD_plot(HOKCHI_8H_wellpath, HOKCHI_8H_PD_wellpath)"
   ]
  },
  {
   "cell_type": "code",
   "execution_count": null,
   "metadata": {},
   "outputs": [],
   "source": [
    "#Upload the Tops for all the offset wells, delate the units row and convert the MD to float numbers to plot afterwards\n",
    "wells_tops = pd.read_csv('./Tops/Tops.csv', sep=',')\n",
    "wells_tops = wells_tops.drop([0], axis=0).reset_index(drop=True)\n",
    "wells_tops['MD'] = wells_tops['MD'].astype('float64')"
   ]
  },
  {
   "cell_type": "code",
   "execution_count": null,
   "metadata": {},
   "outputs": [],
   "source": [
    "def tops_creation(w_n,w_number):\n",
    "    globals()[w_number+'_tops'] = wells_tops[wells_tops['Wells']==str(w_n)].reset_index(drop=True)\n",
    "    print('Tops data set was created: ', w_number+'_tops')"
   ]
  },
  {
   "cell_type": "code",
   "execution_count": null,
   "metadata": {},
   "outputs": [],
   "source": [
    "tops_creation(HOKCHI_11DES_name, \"HOKCHI_11DES\")"
   ]
  },
  {
   "cell_type": "code",
   "execution_count": null,
   "metadata": {},
   "outputs": [],
   "source": [
    "tops_creation(HOKCHI_7DES_name, \"HOKCHI_7DES\")"
   ]
  },
  {
   "cell_type": "code",
   "execution_count": null,
   "metadata": {},
   "outputs": [],
   "source": [
    "HOKCHI_7DES_tops"
   ]
  },
  {
   "cell_type": "code",
   "execution_count": null,
   "metadata": {},
   "outputs": [],
   "source": [
    "tops_creation(HOKCHI_8H_name, \"HOKCHI_8H\")"
   ]
  },
  {
   "cell_type": "code",
   "execution_count": null,
   "metadata": {},
   "outputs": [],
   "source": [
    "HOKCHI_8H_tops"
   ]
  },
  {
   "cell_type": "code",
   "execution_count": null,
   "metadata": {},
   "outputs": [],
   "source": [
    "tops_creation(HOKCHI_8H_PD_name, \"HOKCHI_8H_PD\")"
   ]
  },
  {
   "cell_type": "code",
   "execution_count": null,
   "metadata": {},
   "outputs": [],
   "source": [
    "HOKCHI_8H_PD_tops"
   ]
  },
  {
   "cell_type": "code",
   "execution_count": null,
   "metadata": {},
   "outputs": [],
   "source": [
    "tops_creation(HOKCHI_9H_name, \"HOKCHI_9H\")"
   ]
  },
  {
   "cell_type": "code",
   "execution_count": null,
   "metadata": {},
   "outputs": [],
   "source": [
    "HOKCHI_9H_tops"
   ]
  },
  {
   "cell_type": "markdown",
   "metadata": {},
   "source": [
    "## Cargue de registros"
   ]
  },
  {
   "cell_type": "code",
   "execution_count": null,
   "metadata": {},
   "outputs": [],
   "source": [
    "HOKCHI_8H_PD_LOGS = lasio.read('./Logs/HOKCHI_8H_PD/HOKCHI_8_PD.las').df()"
   ]
  },
  {
   "cell_type": "code",
   "execution_count": null,
   "metadata": {},
   "outputs": [],
   "source": [
    "HOKCHI_8H_PD_CALI = lasio.read('./Logs/HOKCHI_8H_PD/Hokchi-8DES_Seccion_8.5in_HSI_3512m_4010m_Interval_0.2m_MD_REC.las').df()"
   ]
  },
  {
   "cell_type": "code",
   "execution_count": null,
   "metadata": {},
   "outputs": [],
   "source": [
    "HOKCHI_11DES_L1 = lasio.read('./Logs/HOKCHI_11DES/Logs_H11_DES_WBS_2.las').df()"
   ]
  },
  {
   "cell_type": "code",
   "execution_count": null,
   "metadata": {},
   "outputs": [],
   "source": [
    "HOKCHI_11DES_L2_ORG = lasio.read('./Logs/HOKCHI_11DES/Hokchi-11_Seccion_8.5in_GR_RES_SON_DENS_NEU_PWD_3987m_4335m_Interval_0.2m_MD_REC.las').df()"
   ]
  },
  {
   "cell_type": "code",
   "execution_count": null,
   "metadata": {},
   "outputs": [],
   "source": [
    "HOKCHI_11DES_MRLOG_depth = lasio.read('./Logs/HOKCHI_11DES/Hokchi-11DEL-DB_DEPTH_4335 m 0.5 m.las').df()"
   ]
  },
  {
   "cell_type": "code",
   "execution_count": null,
   "metadata": {},
   "outputs": [],
   "source": [
    "HOKCHI_8H_RT= pd.read_csv('./Logs/HOKCHI_8DES/Hokchi-8HDES_GR_Resistividad_3513m.csv', sep=',').set_index('MD')"
   ]
  },
  {
   "cell_type": "code",
   "execution_count": null,
   "metadata": {},
   "outputs": [],
   "source": [
    "Xaxa_5_vent = lasio.read('./Logs/Xaxamani/Ventana PrePerforacion_Xaxamani-5DEL 10 marzo Escenario Datos de Registros.las').df()"
   ]
  },
  {
   "cell_type": "code",
   "execution_count": null,
   "metadata": {},
   "outputs": [],
   "source": [
    "HOKCHI_8H_RT"
   ]
  },
  {
   "cell_type": "code",
   "execution_count": null,
   "metadata": {},
   "outputs": [],
   "source": [
    "HOKCHI_11DES_MRLOG_depth.columns"
   ]
  },
  {
   "cell_type": "code",
   "execution_count": null,
   "metadata": {},
   "outputs": [],
   "source": [
    "HOKCHI_11DES_L1.columns"
   ]
  },
  {
   "cell_type": "code",
   "execution_count": null,
   "metadata": {},
   "outputs": [],
   "source": [
    "HOKCHI_11DES_TIME_LWD = lasio.read('./Logs/HOKCHI_11DES/Time_logs/Hokchi-11DES_Secion 12.25x14.75_pwd-LAS_Tiempo_1Sec_REC.las').df()"
   ]
  },
  {
   "cell_type": "code",
   "execution_count": null,
   "metadata": {},
   "outputs": [],
   "source": [
    "HOKCHI_11DES_TIME_LWD"
   ]
  },
  {
   "cell_type": "code",
   "execution_count": null,
   "metadata": {},
   "outputs": [],
   "source": [
    "HOKCHI_11DES_TIME_LWD['Parsed_Time'] = pd.to_datetime(HOKCHI_11DES_TIME_LWD.index, unit='s')\n",
    "HOKCHI_11DES_TIME_LWD"
   ]
  },
  {
   "cell_type": "code",
   "execution_count": null,
   "metadata": {},
   "outputs": [],
   "source": []
  },
  {
   "cell_type": "markdown",
   "metadata": {},
   "source": [
    "## Proposed wells"
   ]
  },
  {
   "cell_type": "code",
   "execution_count": null,
   "metadata": {},
   "outputs": [],
   "source": [
    "HOKCHI_9H_LOGS = lasio.read('./Logs/HOKCHI_9H/HOKCHI_9H.las').df()"
   ]
  },
  {
   "cell_type": "code",
   "execution_count": null,
   "metadata": {},
   "outputs": [],
   "source": [
    "HOKCHI_7_DES_logs= lasio.read ('./Logs/HOKCHI_7DES/Logs_propagated_H7DES_final.las').df()"
   ]
  },
  {
   "cell_type": "code",
   "execution_count": null,
   "metadata": {},
   "outputs": [],
   "source": [
    "HOKCHI_7_DES_logs_2= lasio.read ('./Logs/HOKCHI_7DES/Logs_propagated_H7DES.las').df()"
   ]
  },
  {
   "cell_type": "code",
   "execution_count": null,
   "metadata": {},
   "outputs": [],
   "source": [
    "HOKCHI_7_DES_logs_3 = lasio.read ('./Logs/HOKCHI_7DES/H7DES_FINAL_WBS.las').df()"
   ]
  },
  {
   "cell_type": "code",
   "execution_count": null,
   "metadata": {},
   "outputs": [],
   "source": [
    "HOKCHI_7_DES_logs.columns"
   ]
  },
  {
   "cell_type": "markdown",
   "metadata": {},
   "source": [
    "## Proposed second well Hockchi-8"
   ]
  },
  {
   "cell_type": "code",
   "execution_count": null,
   "metadata": {},
   "outputs": [],
   "source": [
    "HOKCHI_8_DES_LOGS = lasio.read ('./Logs/HOKCHI_8DES/DATASET HOKCHI 8.las').df()"
   ]
  },
  {
   "cell_type": "code",
   "execution_count": null,
   "metadata": {},
   "outputs": [],
   "source": [
    "#Upload the Tops calibration events for each well\n",
    "HOKCHI_8_DES_LOGS = pd.read_csv('./Logs/HOKCHI_8DES/Hokchi-8_DATASET.csv', sep=',')\n",
    "HOKCHI_8_DES_LOGS = HOKCHI_8_DES_LOGS.drop([0], axis=0).reset_index(drop=True).astype('float64').set_index('MD')\n",
    "HOKCHI_8_DES_LOGS = HOKCHI_8_DES_LOGS.replace(-9999.0000, np.nan)\n",
    "#wells_cali['MD'] = wells_cali['MD'].astype('float64')"
   ]
  },
  {
   "cell_type": "code",
   "execution_count": null,
   "metadata": {},
   "outputs": [],
   "source": [
    "HOKCHI_8_DES_LOGS"
   ]
  },
  {
   "cell_type": "code",
   "execution_count": null,
   "metadata": {},
   "outputs": [],
   "source": []
  },
  {
   "cell_type": "code",
   "execution_count": null,
   "metadata": {},
   "outputs": [],
   "source": [
    "HOKCHI_7DES_tops"
   ]
  },
  {
   "cell_type": "code",
   "execution_count": null,
   "metadata": {},
   "outputs": [],
   "source": [
    "'''\n",
    "Used to join in the same data set all the available logs, the new dataset has the prefix of the well (ej:w1) and\n",
    "fullogs\n",
    "\n",
    "'''\n",
    "def logs_join(w_n, *args):\n",
    "    globals()[w_n+'_fulllogs'] = pd.DataFrame() \n",
    "    for arg in args:           \n",
    "        globals()[w_n+'_fulllogs'] = (pd.concat([globals()[w_n+'_fulllogs'], arg], sort=False)).sort_index()\n",
    "    globals()[w_n+'_fulllogs'] = globals()[w_n+'_fulllogs']#.reset_index()\n",
    "    globals()[w_n+'_fulllogs'] = globals()[w_n+'_fulllogs'][globals()[w_n+'_fulllogs'].index>=0]\n",
    "    print('Full Logs data set was created: ', w_n+'_fulllogs')"
   ]
  },
  {
   "cell_type": "code",
   "execution_count": null,
   "metadata": {},
   "outputs": [],
   "source": [
    "def plot_visual(logs,w_tops):\n",
    "    print('Log from {} to {}: '.format(logs.index.min(), logs.index.max()))\n",
    "    top_depth = float(input('Top depth(#): '))\n",
    "    bottom_depth = float(input('Bottom depth(#): '))\n",
    "    print('Nemonics in LOG: ', logs.columns)\n",
    "    print('------MUST be more than 1 Nemonic------')\n",
    "    nw = int(input('Type NUMBER of Nemonics to plot: '))    \n",
    "    well= str(input('Name of well: '))\n",
    "    f = logs[(logs.index >= top_depth) & (logs.index <= bottom_depth)]\n",
    "    fig, ax = plt.subplots(nrows=1, ncols=nw, figsize=(3.4*nw,16), sharey=True, sharex=True)\n",
    "    fig.suptitle(\"Logs Visualization\" + well, fontsize=18)\n",
    "    fig.subplots_adjust(top=0.91,wspace=0.1)        \n",
    "    print('Nemonics in LOG: ', logs.columns)\n",
    "#General setting for all axis\n",
    "    major_yticks = np.arange(top_depth, bottom_depth, 400)\n",
    "    minor_yticks = np.arange(top_depth, bottom_depth, 200)\n",
    "    \n",
    "    for axes in ax:\n",
    "        axes.set_ylim (top_depth,bottom_depth)\n",
    "        axes.invert_yaxis()\n",
    "        axes.yaxis.grid(True)\n",
    "        axes.get_xaxis().set_visible(False)\n",
    "        axes.set_yticks(major_yticks)\n",
    "        axes.set_yticks(minor_yticks, minor=True)\n",
    "        axes.grid(which='minor', linestyle='--')\n",
    "        \n",
    "    for x in range(len(ax)):\n",
    "        vars()['ax_'+str(x)]=ax[x].twiny()     \n",
    "        var_name = str(input(f'Type {x}-variable NAME as .LAS: '))\n",
    "        if var_name = 'VSH':\n",
    "            \n",
    "        var_unit = str(input(f'Type {x}-variable UNIT as .LAS: '))\n",
    "        var_color = str(input(f'Type {x}-color (green,red,black,blue, navy, cyan, magenta): '))\n",
    "        vars()['ax_'+str(x)].set_xlim(f[var_name].min(),f[var_name].max())\n",
    "        vars()['ax_'+str(x)].plot(f[var_name], f.index, label=(var_name,'[',var_unit,']'), color=var_color)\n",
    "        vars()['ax_'+str(x)].set_xlabel((var_name+'_['+var_unit+']'), color=var_color)\n",
    "        vars()['ax_'+str(x)].spines['top'].set_position(('outward',0))\n",
    "        vars()['ax_'+str(x)].tick_params(axis='x', colors=var_color)\n",
    "        vars()['ax_'+str(x)].grid(True)\n",
    "        for k, row in w_tops[(w_tops.MD >= top_depth) & (w_tops.MD <= bottom_depth)].iterrows():\n",
    "                vars()['ax_'+str(x)].hlines(row['MD'], xmin=f[var_name].min(), xmax=f[var_name].max(), linestyles='solid', color='k')\n",
    "                vars()['ax_'+str(x)].text(f[var_name].min(), row['MD'], row['Zone Name'], color='r',fontweight='bold')\n",
    "    \n",
    "\n",
    "    pic_n = input('Name for .png picture: ')\n",
    "    plt.savefig (f'./Output pictures/{pic_n}.png', dpi=300, format='png')\n",
    "    plt.show()\n"
   ]
  },
  {
   "cell_type": "code",
   "execution_count": null,
   "metadata": {},
   "outputs": [],
   "source": [
    "def plot_visual_test(logs,tops):\n",
    "    print('Log from {} to {}: '.format(logs.index.min(), logs.index.max()))\n",
    "    top_depth = float(input('Top depth(#): '))\n",
    "    bottom_depth = float(input('Bottom depth(#): '))\n",
    "    print('Nemonics in LOG: ', logs.columns)\n",
    "    print('------MUST be more than 1 Nemonic------')\n",
    "    nw = int(input('Type NUMBER of Nemonics to plot: '))    \n",
    "    well= str(input('Name of well: '))\n",
    "    var_names=[]\n",
    "    for x in range(nw):\n",
    "        var_name = str(input(f'Type {x}-variable NAME as .LAS: '))\n",
    "        var_names.append(var_name)\n",
    "        \n",
    "    f = logs[(logs.index >= top_depth) & (logs.index <= bottom_depth)]\n",
    "    fig, ax = plt.subplots(nrows=1, ncols=nw, figsize=(3.4*nw,16), sharey=True, sharex=True)\n",
    "    fig.suptitle(\"Logs Visualization \" + well, fontsize=18)\n",
    "    fig.subplots_adjust(top=0.91,wspace=0.1)        \n",
    "    \n",
    "#General setting for all axis\n",
    "    major_yticks = np.arange(top_depth, bottom_depth, 200)\n",
    "    minor_yticks = np.arange(top_depth, bottom_depth, 50)\n",
    "    \n",
    "    for axes in ax:\n",
    "        axes.set_ylim (top_depth,bottom_depth)\n",
    "        axes.invert_yaxis()\n",
    "        axes.yaxis.grid(True)\n",
    "        axes.get_xaxis().set_visible(False)\n",
    "        axes.set_yticks(major_yticks)\n",
    "        axes.set_yticks(minor_yticks, minor=True)\n",
    "        axes.grid(which='minor', linestyle='--')\n",
    "    \n",
    "    print('Nemonics in LOG: ', logs.columns)\n",
    "    \n",
    "    for x in range(len(ax)):\n",
    "        vars()['ax_'+str(x)]=ax[x].twiny()     \n",
    "        if var_names[x] in ['VSH', 'VCL']:\n",
    "            v_min=0\n",
    "            v_max=1.01\n",
    "            gird_space=0.2\n",
    "            var_color ='black'\n",
    "            v_label='Vcl-GR[Dec]'\n",
    "            vars()['ax_'+str(x)].set_xlim(v_min,v_max)\n",
    "            vars()['ax_'+str(x)].plot(f[var_names[x]], f.index, color=var_color)\n",
    "            vars()['ax_'+str(x)].set_xlabel(v_label, color=var_color)\n",
    "            vars()['ax_'+str(x)].spines['top'].set_position(('outward',0))\n",
    "            vars()['ax_'+str(x)].fill_betweenx(f.index,f[var_names[x]],0,color='gold',label= v_label)\n",
    "            vars()['ax_'+str(x)].set_xticks(np.arange(v_min, v_max, gird_space))\n",
    "            vars()['ax_'+str(x)].tick_params(axis='x', colors=var_color)\n",
    "            vars()['ax_'+str(x)].grid(True)\n",
    "        elif var_names[x]=='PERM':\n",
    "            v_min=0.1\n",
    "            v_max=10000\n",
    "            var_color ='black'\n",
    "            v_label='Perm [md]'\n",
    "            vars()['ax_'+str(x)].set_xlim(v_min,v_max)\n",
    "            vars()['ax_'+str(x)].plot(f[var_names[x]], f.index, color=var_color)\n",
    "            vars()['ax_'+str(x)].set_xlabel(v_label, color=var_color)\n",
    "            vars()['ax_'+str(x)].set_xscale(\"log\", nonposx='clip')\n",
    "            vars()['ax_'+str(x)].spines['top'].set_position(('outward',0))\n",
    "            locmin = matplotlib.ticker.LogLocator(base=10.0, subs=np.arange(2, 10) * .1, numticks=100)\n",
    "            vars()['ax_'+str(x)].xaxis.set_minor_locator(locmin)\n",
    "            vars()['ax_'+str(x)].tick_params(axis='x', colors=var_color)\n",
    "            vars()['ax_'+str(x)].xaxis.grid(True, which='minor')\n",
    "            vars()['ax_'+str(x)].grid(True)\n",
    "        elif var_names[x] == 'MST':\n",
    "            v_min=0\n",
    "            v_max=1.01\n",
    "            gird_space=0.2\n",
    "            var_color ='black'\n",
    "            v_label='Mech Stratigraphy Sand=0 Clay=1'\n",
    "            vars()['ax_'+str(x)].set_xlim(v_min,v_max)\n",
    "#             vars()['ax_'+str(x)].plot(f[var_name], f.index, color=var_color)\n",
    "            vars()['ax_'+str(x)].set_xlabel(v_label, color=var_color)\n",
    "            vars()['ax_'+str(x)].spines['top'].set_position(('outward',0))\n",
    "            vars()['ax_'+str(x)].fill_betweenx(f.index,f[var_names[x]],0,color='g', label= 'MST')\n",
    "            vars()['ax_'+str(x)].fill_betweenx(f.index,f[var_names[x]],1,color='y', label= 'MST')\n",
    "            vars()['ax_'+str(x)].set_xticks(np.arange(v_min, v_max, gird_space))\n",
    "            vars()['ax_'+str(x)].tick_params(axis='x', colors=var_color)\n",
    "            vars()['ax_'+str(x)].grid(True)\n",
    "            \n",
    "        elif var_names[x]=='PHIT_D':\n",
    "            v_min=0\n",
    "            v_max=0.51\n",
    "            gird_space=0.1\n",
    "            var_color ='red'\n",
    "            v_label='PHIT_D [v/v]'\n",
    "            vars()['ax_'+str(x)].set_xlim(v_min,v_max)\n",
    "            vars()['ax_'+str(x)].plot(f[var_names[x]], f.index, color=var_color)\n",
    "            vars()['ax_'+str(x)].set_xlabel(v_label, color=var_color)\n",
    "            vars()['ax_'+str(x)].spines['top'].set_position(('outward',0))\n",
    "            vars()['ax_'+str(x)].set_xticks(np.arange(v_min, v_max, gird_space))\n",
    "            vars()['ax_'+str(x)].tick_params(axis='x', colors=var_color)\n",
    "            vars()['ax_'+str(x)].invert_xaxis()\n",
    "            vars()['ax_'+str(x)].grid(True)\n",
    "        elif var_names[x] in ['PHIC_D', 'PHIT_0']:\n",
    "            v_min=0\n",
    "            v_max=0.51\n",
    "            gird_space=0.1\n",
    "            var_color ='blue'\n",
    "            v_label='PHIC_D [v/v]'\n",
    "            vars()['ax_'+str(x)].set_xlim(v_min,v_max)\n",
    "            vars()['ax_'+str(x)].plot(f[var_names[x]], f.index, color=var_color)\n",
    "            vars()['ax_'+str(x)].set_xlabel(v_label, color=var_color)\n",
    "            vars()['ax_'+str(x)].spines['top'].set_position(('outward',0))\n",
    "            vars()['ax_'+str(x)].set_xticks(np.arange(v_min, v_max, gird_space))\n",
    "            vars()['ax_'+str(x)].tick_params(axis='x', colors=var_color)\n",
    "            vars()['ax_'+str(x)].invert_xaxis()\n",
    "            vars()['ax_'+str(x)].grid(True) \n",
    "        elif var_names[x] in ['G_dyn', 'G_dyn_IU', 'G_dyn_bar']:\n",
    "            if var_names[x]== 'G_dyn_IU':\n",
    "                v_min=0*6.89476*10**(3)\n",
    "                v_max=30#12.02*6.89476*10**(3)\n",
    "                gird_space=6#4*6.89476*10**(3)\n",
    "                v_label='G_dyn [Gpa]'\n",
    "            elif var_names[x]== 'G_dyn_bar':\n",
    "                v_min=0*10**(6)/14.5038\n",
    "                v_max=12.02*10**(6)/14.5038\n",
    "                gird_space=4*10**(6)/14.5038\n",
    "                v_label='G_dyn [Bar]'\n",
    "            else:                \n",
    "                v_min=0\n",
    "                v_max=12.02\n",
    "                gird_space=4            \n",
    "                v_label='G_dyn [Mpsi]'\n",
    "            var_color ='blue'\n",
    "            vars()['ax_'+str(x)].set_xlim(v_min,v_max)\n",
    "            vars()['ax_'+str(x)].plot(f[var_names[x]], f.index, color=var_color)\n",
    "            vars()['ax_'+str(x)].set_xlabel(v_label, color=var_color)\n",
    "            vars()['ax_'+str(x)].spines['top'].set_position(('outward',0))\n",
    "            vars()['ax_'+str(x)].set_xticks(np.arange(v_min, v_max, gird_space))\n",
    "            vars()['ax_'+str(x)].tick_params(axis='x', colors=var_color)\n",
    "            vars()['ax_'+str(x)].grid(True)\n",
    "        elif var_names[x]== 'YM_MMC':\n",
    "            v_min=0\n",
    "            v_max=5.01\n",
    "            gird_space=1\n",
    "            var_color ='magenta'\n",
    "            v_label='YM_MMC_stat [Mpsi]'\n",
    "            vars()['ax_'+str(x)].set_xlim(v_min,v_max)\n",
    "            vars()['ax_'+str(x)].plot(f[var_names[x]], f.index, color=var_color)\n",
    "            vars()['ax_'+str(x)].set_xlabel(v_label, color=var_color)\n",
    "            vars()['ax_'+str(x)].spines['top'].set_position(('outward',0))\n",
    "            vars()['ax_'+str(x)].set_xticks(np.arange(v_min, v_max, gird_space))\n",
    "            vars()['ax_'+str(x)].tick_params(axis='x', colors=var_color)\n",
    "            vars()['ax_'+str(x)].grid(True)\n",
    "        elif var_names[x] in ['K_dyn', 'K_dyn_IU', 'K_dyn_bar']:\n",
    "            if var_names[x]== 'K_dyn_IU':\n",
    "                v_min=0*6.89476*10**(3)\n",
    "                v_max=30#12.02*6.89476*10**(3)\n",
    "                gird_space=6#4*6.89476*10**(3)\n",
    "                v_label='K_dyn [Gpa]'\n",
    "            elif var_names[x]== 'K_dyn_bar':\n",
    "                v_min=0*10**(6)/14.5038\n",
    "                v_max=12.02*10**(6)/14.5038\n",
    "                gird_space=4*10**(6)/14.5038\n",
    "                v_label='K_dyn [Bar]'\n",
    "            else:                \n",
    "                v_min=0\n",
    "                v_max=5.01\n",
    "                gird_space=1            \n",
    "                v_label='K_dyn [Mpsi]'            \n",
    "            var_color ='black'            \n",
    "            vars()['ax_'+str(x)].set_xlim(v_min,v_max)\n",
    "            vars()['ax_'+str(x)].plot(f[var_names[x]], f.index, color=var_color)\n",
    "            vars()['ax_'+str(x)].set_xlabel(v_label, color=var_color)\n",
    "            vars()['ax_'+str(x)].spines['top'].set_position(('outward',0))\n",
    "            vars()['ax_'+str(x)].set_xticks(np.arange(v_min, v_max, gird_space))\n",
    "            vars()['ax_'+str(x)].tick_params(axis='x', colors=var_color)\n",
    "            vars()['ax_'+str(x)].grid(True)\n",
    "        elif var_names[x] in ['E_dyn', 'E_dyn_IU', 'E_dyn_bar']:\n",
    "            if var_names[x]== 'E_dyn_IU':\n",
    "                v_min=0*6.89476*10**(3)\n",
    "                v_max=30#12.02*6.89476*10**(3)\n",
    "                gird_space=6#4*6.89476*10**(3)\n",
    "                v_label='E_dyn [Gpa]'\n",
    "            elif var_names[x]== 'E_dyn_bar':\n",
    "                v_min=0*10**(6)/14.5038\n",
    "                v_max=12.02*10**(6)/14.5038\n",
    "                gird_space=4*10**(6)/14.5038\n",
    "                v_label='E_dyn [Bar]'\n",
    "            else:                \n",
    "                v_min=0\n",
    "                v_max=12.02\n",
    "                gird_space=4            \n",
    "                v_label='E_dyn [Mpsi]'           \n",
    "            \n",
    "            var_color ='red'            \n",
    "            vars()['ax_'+str(x)].set_xlim(v_min,v_max)\n",
    "            vars()['ax_'+str(x)].plot(f[var_names[x]], f.index, color=var_color)\n",
    "            vars()['ax_'+str(x)].set_xlabel(v_label, color=var_color)\n",
    "            vars()['ax_'+str(x)].spines['top'].set_position(('outward',0))\n",
    "            vars()['ax_'+str(x)].set_xticks(np.arange(v_min, v_max, gird_space))\n",
    "            vars()['ax_'+str(x)].tick_params(axis='x', colors=var_color)\n",
    "            vars()['ax_'+str(x)].grid(True)\n",
    "        elif var_names[x]=='PR_dyn':\n",
    "            v_min=0\n",
    "            v_max=0.51\n",
    "            gird_space=0.1\n",
    "            var_color ='navy'\n",
    "            v_label='PR_dyn [unitless]'\n",
    "            vars()['ax_'+str(x)].set_xlim(v_min,v_max)\n",
    "            vars()['ax_'+str(x)].plot(f[var_names[x]], f.index, color=var_color)\n",
    "            vars()['ax_'+str(x)].set_xlabel(v_label, color=var_color)\n",
    "            vars()['ax_'+str(x)].spines['top'].set_position(('outward',0))\n",
    "            vars()['ax_'+str(x)].set_xticks(np.arange(v_min, v_max, gird_space))\n",
    "            vars()['ax_'+str(x)].tick_params(axis='x', colors=var_color)\n",
    "            vars()['ax_'+str(x)].grid(True)\n",
    "        elif var_names[x]=='PR_St':\n",
    "            v_min=0\n",
    "            v_max=0.51\n",
    "            gird_space=0.1\n",
    "            var_color ='limegreen'\n",
    "            v_label='PR_Static [unitless]'\n",
    "            vars()['ax_'+str(x)].set_xlim(v_min,v_max)\n",
    "            vars()['ax_'+str(x)].plot(f[var_names[x]], f.index, color=var_color)\n",
    "            vars()['ax_'+str(x)].set_xlabel(v_label, color=var_color)\n",
    "            vars()['ax_'+str(x)].spines['top'].set_position(('outward',0))\n",
    "            vars()['ax_'+str(x)].set_xticks(np.arange(v_min, v_max, gird_space))\n",
    "            vars()['ax_'+str(x)].tick_params(axis='x', colors=var_color)\n",
    "            vars()['ax_'+str(x)].grid(True)\n",
    "        elif var_names[x]=='UCS_Horsrud':\n",
    "            v_min=0\n",
    "            v_max=12005\n",
    "            gird_space=4000\n",
    "            var_color ='orange'\n",
    "            v_label='UCS_Horsrud [psi]'\n",
    "            vars()['ax_'+str(x)].set_xlim(v_min,v_max)\n",
    "            vars()['ax_'+str(x)].plot(f[var_names[x]], f.index, color=var_color)\n",
    "            vars()['ax_'+str(x)].set_xlabel(v_label, color=var_color)\n",
    "            vars()['ax_'+str(x)].spines['top'].set_position(('outward',0))\n",
    "            vars()['ax_'+str(x)].set_xticks(np.arange(v_min, v_max, gird_space))\n",
    "            vars()['ax_'+str(x)].tick_params(axis='x', colors=var_color)\n",
    "            vars()['ax_'+str(x)].grid(True)\n",
    "        elif var_names[x] in ['UCS_McNally', 'UCS_GLOBAL', 'UCS_GMI']:\n",
    "            v_min=0\n",
    "            v_max=20005\n",
    "            gird_space=4000\n",
    "            var_color ='brown'\n",
    "            v_label=f'{var_names[x]}[psi]'\n",
    "            vars()['ax_'+str(x)].set_xlim(v_min,v_max)\n",
    "            vars()['ax_'+str(x)].plot(f[var_names[x]], f.index, color=var_color)\n",
    "            vars()['ax_'+str(x)].set_xlabel(v_label, color=var_color)\n",
    "            vars()['ax_'+str(x)].spines['top'].set_position(('outward',0))\n",
    "            vars()['ax_'+str(x)].set_xticks(np.arange(v_min, v_max, gird_space))\n",
    "            vars()['ax_'+str(x)].tick_params(axis='x', colors=var_color)\n",
    "            vars()['ax_'+str(x)].grid(True)\n",
    "        elif var_names[x]=='UCS_merge':\n",
    "            v_min=0\n",
    "            v_max=15001\n",
    "            gird_space=3000\n",
    "            var_color ='black'\n",
    "            v_label='UCS_merged [psi]'\n",
    "            vars()['ax_'+str(x)].set_xlim(v_min,v_max)\n",
    "            vars()['ax_'+str(x)].plot(f[var_names[x]], f.index, color=var_color)\n",
    "            vars()['ax_'+str(x)].set_xlabel(v_label, color=var_color)\n",
    "            vars()['ax_'+str(x)].spines['top'].set_position(('outward',0))\n",
    "            vars()['ax_'+str(x)].set_xticks(np.arange(v_min, v_max, gird_space))\n",
    "            vars()['ax_'+str(x)].tick_params(axis='x', colors=var_color)\n",
    "            vars()['ax_'+str(x)].grid(True)\n",
    "        elif var_names[x]=='FANG_PC':\n",
    "            v_min=0\n",
    "            v_max=61\n",
    "            gird_space=10\n",
    "            var_color ='blue'\n",
    "            v_label='FANG_PC [deg]'\n",
    "            vars()['ax_'+str(x)].set_xlim(v_min,v_max)\n",
    "            vars()['ax_'+str(x)].plot(f[var_names[x]], f.index, color=var_color)\n",
    "            vars()['ax_'+str(x)].set_xlabel(v_label, color=var_color)\n",
    "            vars()['ax_'+str(x)].spines['top'].set_position(('outward',0))\n",
    "            vars()['ax_'+str(x)].set_xticks(np.arange(v_min, v_max, gird_space))\n",
    "            vars()['ax_'+str(x)].tick_params(axis='x', colors=var_color)\n",
    "            vars()['ax_'+str(x)].grid(True)\n",
    "        elif var_names[x]=='TSTR':\n",
    "            v_min=0\n",
    "            v_max=4001\n",
    "            gird_space=1000\n",
    "            var_color ='blue'\n",
    "            v_label='TSTR [psi]'\n",
    "            vars()['ax_'+str(x)].set_xlim(v_min,v_max)\n",
    "            vars()['ax_'+str(x)].plot(f[var_names[x]], f.index, color=var_color)\n",
    "            vars()['ax_'+str(x)].set_xlabel(v_label, color=var_color)\n",
    "            vars()['ax_'+str(x)].spines['top'].set_position(('outward',0))\n",
    "            vars()['ax_'+str(x)].set_xticks(np.arange(v_min, v_max, gird_space))\n",
    "            vars()['ax_'+str(x)].tick_params(axis='x', colors=var_color)\n",
    "            vars()['ax_'+str(x)].grid(True)\n",
    "        elif var_names[x]=='INC':\n",
    "            v_min=0\n",
    "            v_max=80\n",
    "            gird_space=10\n",
    "            var_color ='blue'\n",
    "            v_label='INC [grad]'\n",
    "            vars()['ax_'+str(x)].set_xlim(v_min,v_max)\n",
    "            vars()['ax_'+str(x)].plot(f[var_names[x]], f.index, color=var_color)\n",
    "            vars()['ax_'+str(x)].set_xlabel(v_label, color=var_color)\n",
    "            vars()['ax_'+str(x)].spines['top'].set_position(('outward',0))\n",
    "            vars()['ax_'+str(x)].set_xticks(np.arange(v_min, v_max, gird_space))\n",
    "            vars()['ax_'+str(x)].tick_params(axis='x', colors=var_color)\n",
    "            vars()['ax_'+str(x)].grid(True)\n",
    "        elif var_names[x] in ['AZI', 'AZ']:\n",
    "            v_min=0\n",
    "            v_max=360.1\n",
    "            gird_space=45\n",
    "            var_color ='red'\n",
    "            v_label='AZI [grad]'\n",
    "            vars()['ax_'+str(x)].set_xlim(v_min,v_max)\n",
    "            vars()['ax_'+str(x)].plot(f[var_names[x]], f.index, color=var_color)\n",
    "            vars()['ax_'+str(x)].set_xlabel(v_label, color=var_color)\n",
    "            vars()['ax_'+str(x)].spines['top'].set_position(('outward',0))\n",
    "            vars()['ax_'+str(x)].set_xticks(np.arange(v_min, v_max, gird_space))\n",
    "            vars()['ax_'+str(x)].tick_params(axis='x', colors=var_color)\n",
    "            vars()['ax_'+str(x)].grid(True)\n",
    "        elif var_names[x]=='THD':\n",
    "            v_min=0\n",
    "            v_max=f[var_names[x]].max()\n",
    "            gird_space=int(f[var_names[x]].max()/5)\n",
    "            var_color ='navy'\n",
    "            v_label='H. Displacement [ft]'\n",
    "            vars()['ax_'+str(x)].set_xlim(v_min,v_max)\n",
    "            vars()['ax_'+str(x)].plot(f[var_names[x]], f.index, color=var_color)\n",
    "            vars()['ax_'+str(x)].set_xlabel(v_label, color=var_color)\n",
    "            vars()['ax_'+str(x)].spines['top'].set_position(('outward',0))\n",
    "            vars()['ax_'+str(x)].set_xticks(np.arange(v_min, v_max, gird_space))\n",
    "            vars()['ax_'+str(x)].tick_params(axis='x', colors=var_color)\n",
    "            vars()['ax_'+str(x)].grid(True)\n",
    "        elif var_names[x] in ['GR', 'GR_M', 'DGRCC', 'GR_M_S', 'SGRC' ]:\n",
    "            v_min=0\n",
    "            v_max=151\n",
    "            gird_space=30\n",
    "            var_color ='blue'\n",
    "            v_label='GR [gAPI]'\n",
    "            vars()['ax_'+str(x)].set_xlim(v_min,v_max)\n",
    "            vars()['ax_'+str(x)].plot(f[var_names[x]], f.index, color=var_color)\n",
    "            vars()['ax_'+str(x)].set_xlabel(v_label, color=var_color)\n",
    "            vars()['ax_'+str(x)].spines['top'].set_position(('outward',0))\n",
    "            vars()['ax_'+str(x)].set_xticks(np.arange(v_min, v_max, gird_space))\n",
    "            vars()['ax_'+str(x)].tick_params(axis='x', colors=var_color)\n",
    "            vars()['ax_'+str(x)].grid(True)\n",
    "        elif var_names[x] in ['DTCO', 'DTC', 'DTC_M', 'DTC_M','DTC_M_S']:\n",
    "            v_min=40\n",
    "            v_max=241\n",
    "            gird_space=40\n",
    "            var_color ='black'\n",
    "            v_label='DTC [us/ft]'\n",
    "            vars()['ax_'+str(x)].set_xlim(v_min,v_max)\n",
    "            vars()['ax_'+str(x)].plot(f[var_names[x]], f.index, color=var_color)\n",
    "            vars()['ax_'+str(x)].set_xlabel(v_label, color=var_color)\n",
    "            vars()['ax_'+str(x)].spines['top'].set_position(('outward',0))\n",
    "            vars()['ax_'+str(x)].set_xticks(np.arange(v_min, v_max, gird_space))\n",
    "            vars()['ax_'+str(x)].tick_params(axis='x', colors=var_color)\n",
    "            vars()['ax_'+str(x)].invert_xaxis()\n",
    "            vars()['ax_'+str(x)].grid(True)\n",
    "        elif var_names[x] in (['DTSM', 'DTS', 'DTS_M', 'DTS_M_S', 'DTS_M_CAST_S']):\n",
    "            v_min=120\n",
    "            v_max=681\n",
    "            gird_space=100\n",
    "            var_color ='red'\n",
    "            v_label='DTS [us/ft]'\n",
    "            vars()['ax_'+str(x)].set_xlim(v_min,v_max)\n",
    "            vars()['ax_'+str(x)].plot(f[var_names[x]], f.index, color=var_color)\n",
    "            vars()['ax_'+str(x)].set_xlabel(v_label, color=var_color)\n",
    "            vars()['ax_'+str(x)].spines['top'].set_position(('outward',0))\n",
    "            vars()['ax_'+str(x)].set_xticks(np.arange(v_min, v_max, gird_space))\n",
    "            vars()['ax_'+str(x)].tick_params(axis='x', colors=var_color)\n",
    "            vars()['ax_'+str(x)].invert_xaxis()\n",
    "            vars()['ax_'+str(x)].grid(True)\n",
    "        elif var_names[x] in (['RESD_M', 'RESM_M', 'RESS_M', 'HDRS', 'RES']):\n",
    "            v_min=0.2\n",
    "            v_max=1000\n",
    "#             gird_space=30\n",
    "            var_color ='slategray'\n",
    "            v_label='Resistivity [oh.mm]'\n",
    "            vars()['ax_'+str(x)].set_xlim(v_min,v_max)\n",
    "            vars()['ax_'+str(x)].plot(f[var_names[x]], f.index, color=var_color)\n",
    "            vars()['ax_'+str(x)].set_xscale('log', nonposx='clip')\n",
    "            vars()['ax_'+str(x)].set_xlabel(v_label, color=var_color)\n",
    "            vars()['ax_'+str(x)].spines['top'].set_position(('outward',0))\n",
    "            locmin = matplotlib.ticker.LogLocator(base=10.0, subs=np.arange(2,10)*.1, numticks=100)\n",
    "            vars()['ax_'+str(x)].xaxis.set_minor_locator(locmin)\n",
    "#             vars()['ax_'+str(x)].set_xticks(np.arange(v_min, v_max, gird_space))\n",
    "            vars()['ax_'+str(x)].tick_params(axis='x', colors=var_color, which='minor')\n",
    "            vars()['ax_'+str(x)].grid(True)\n",
    "        elif var_names[x] in ['RHOB', 'RHOB_M', 'DRHO_M', 'DEN_M', 'DEN_M_S']:\n",
    "            v_min=1.5\n",
    "            v_max=3.01\n",
    "            gird_space=0.5\n",
    "            var_color ='blue'\n",
    "            v_label='DEN [gr/cc]'\n",
    "            vars()['ax_'+str(x)].set_xlim(v_min,v_max)\n",
    "            vars()['ax_'+str(x)].plot(f[var_names[x]], f.index, color=var_color)\n",
    "            vars()['ax_'+str(x)].set_xlabel(v_label, color=var_color)\n",
    "            vars()['ax_'+str(x)].spines['top'].set_position(('outward',0))\n",
    "            vars()['ax_'+str(x)].set_xticks(np.arange(v_min, v_max, gird_space))\n",
    "            vars()['ax_'+str(x)].tick_params(axis='x', colors=var_color)\n",
    "            vars()['ax_'+str(x)].grid(True)\n",
    "        else:\n",
    "            var_min = float(input(f'Type {var_names[x]}-MIN value of variable: ') or f[var_names[x]].min())\n",
    "            var_max =float(input(f'Type {var_names[x]}-MAX value of variable: ') or f[var_names[x]].max())\n",
    "            var_unit = str(input(f'Type {var_names[x]}-variable UNIT as .LAS: '))\n",
    "            var_color = str(input(f'Type {var_names[x]}-color (green,red,black,blue, navy, cyan, magenta): '))\n",
    "            vars()['ax_'+str(x)].set_xlim(var_min,var_max)\n",
    "            vars()['ax_'+str(x)].plot(f[var_names[x]], f.index, label=(var_name,'[',var_unit,']'), color=var_color)\n",
    "            vars()['ax_'+str(x)].set_xlabel((var_names[x]+' ['+var_unit+']'), color=var_color)\n",
    "            vars()['ax_'+str(x)].spines['top'].set_position(('outward',0))\n",
    "            vars()['ax_'+str(x)].tick_params(axis='x', colors=var_color)\n",
    "            vars()['ax_'+str(x)].grid(True)\n",
    "        \n",
    "    for i in range(len(ax)):\n",
    "        for k, row in tops[(tops.MD >= top_depth) & (tops.MD <= bottom_depth)].iterrows():\n",
    "            vars()['ax_'+str(i)].hlines(row['MD'], xmin=-500, xmax=80000000, linestyles='solid', color='k')\n",
    "            vars()['ax_0'].text(f[var_names[0]].min(), row['MD'], row['Zone Name'], color='r', fontsize=10, style='italic')#,fontweight='demibold')\n",
    "    \n",
    "\n",
    "    pic_n = input('Name for .png picture: ')\n",
    "    plt.savefig (f'./Output pictures/{pic_n}.png', dpi=300, format='png')\n",
    "    plt.show()"
   ]
  },
  {
   "cell_type": "code",
   "execution_count": null,
   "metadata": {},
   "outputs": [],
   "source": [
    "plot_visual_test(Xaxa_5_vent, HOKCHI_11DES_tops)"
   ]
  },
  {
   "cell_type": "code",
   "execution_count": null,
   "metadata": {},
   "outputs": [],
   "source": [
    "Xaxa_5_vent.columns"
   ]
  },
  {
   "cell_type": "code",
   "execution_count": null,
   "metadata": {
    "scrolled": true
   },
   "outputs": [],
   "source": [
    "plot_visual_test(HOKCHI_8H_PD_LOGS, HOKCHI_8H_PD_tops)"
   ]
  },
  {
   "cell_type": "code",
   "execution_count": null,
   "metadata": {
    "scrolled": true
   },
   "outputs": [],
   "source": [
    "plot_visual_test(HOKCHI_8H_PD_LOGS, HOKCHI_8H_PD_tops)"
   ]
  },
  {
   "cell_type": "code",
   "execution_count": null,
   "metadata": {
    "scrolled": true
   },
   "outputs": [],
   "source": [
    "plot_visual_test(HOKCHI_8H_PD_LOGS, HOKCHI_8H_PD_tops)"
   ]
  },
  {
   "cell_type": "code",
   "execution_count": null,
   "metadata": {
    "scrolled": true
   },
   "outputs": [],
   "source": [
    "plot_visual_test(HOKCHI_8H_PD_CALI, HOKCHI_8H_PD_tops)"
   ]
  },
  {
   "cell_type": "code",
   "execution_count": null,
   "metadata": {
    "scrolled": true
   },
   "outputs": [],
   "source": [
    "plot_visual_test(HOKCHI_9H_LOGS, HOKCHI_9H_tops)"
   ]
  },
  {
   "cell_type": "code",
   "execution_count": null,
   "metadata": {},
   "outputs": [],
   "source": [
    "HOKCHI_11DES_L1.columns"
   ]
  },
  {
   "cell_type": "code",
   "execution_count": null,
   "metadata": {},
   "outputs": [],
   "source": [
    "HOKCHI_11DES_L1 = HOKCHI_11DES_L1.rename(columns={'GR_MERGE_WBS':'GR_M', 'DTCO_MERGE_WBS':'DTC_M',\\\n",
    "                                                  'DENSITYMERGEWBS':'DEN_M', 'DTSM_MERGEDEF_WBS':'DTS_M',\\\n",
    "                                                  'GR_MERGE_WBS_S': 'GR_M_S', 'DENSITYMERGEWBS_S': 'DEN_M_S', \\\n",
    "                                                 'DTCO_MERGE_WBS_S':'DTC_M_S', 'DTSM_MERGEFINAL_WBS_S':'DTS_M_S',\n",
    "                                                 'DTSM_DEF_MERGE_CASTAWBS_S':'DTS_M_CAST_S'})"
   ]
  },
  {
   "cell_type": "code",
   "execution_count": null,
   "metadata": {},
   "outputs": [],
   "source": [
    "HOKCHI_7_DES_logs.columns"
   ]
  },
  {
   "cell_type": "code",
   "execution_count": null,
   "metadata": {},
   "outputs": [],
   "source": [
    "HOKCHI_7_DES_logs = HOKCHI_7_DES_logs.rename(columns={'DENSITY':'DEN_M','GR_PROP_WB_S': 'GR_M_S', \\\n",
    "                                                 'DTCO_PROPAGATE_WBS_HS':'DTC_M_S', 'DTSM_DEF_MERGE_CASTAWBS_S':'DTS_M_S'})"
   ]
  },
  {
   "cell_type": "code",
   "execution_count": null,
   "metadata": {},
   "outputs": [],
   "source": [
    "HOKCHI_7_DES_logs_2.columns"
   ]
  },
  {
   "cell_type": "code",
   "execution_count": null,
   "metadata": {},
   "outputs": [],
   "source": [
    "HOKCHI_7_DES_logs_2 = HOKCHI_7_DES_logs_2.rename(columns={'GR_PROP_WB_S': 'GR_M_S','DENSITY_PROP_WBS_S': 'DEN_M_S',\\\n",
    "                                                          'DTCO_PROPAGATE_WBS_S':'DTC_M_S',\\\n",
    "                                                          'DTSM_DEF_MERGE_CASTAWBS_S':'DTS_M_S'})"
   ]
  },
  {
   "cell_type": "code",
   "execution_count": null,
   "metadata": {},
   "outputs": [],
   "source": [
    "HOKCHI_7_DES_logs_3.columns"
   ]
  },
  {
   "cell_type": "code",
   "execution_count": null,
   "metadata": {},
   "outputs": [],
   "source": [
    "HOKCHI_7_DES_logs_3 = HOKCHI_7_DES_logs_3.rename(columns={'GR_PROP_WB_S': 'GR_M_S','DENSITY_PROP_WBS_S': 'DEN_M_S',\\\n",
    "                                                          'DTCO_PROPAGATE_WBS_S':'DTC_M_S',\\\n",
    "                                                          'DTSM_PROPA_WBS_S':'DTS_M_S'})"
   ]
  },
  {
   "cell_type": "code",
   "execution_count": null,
   "metadata": {},
   "outputs": [],
   "source": [
    "HOKCHI_11DES_L1 = HOKCHI_11DES_L1[((HOKCHI_11DES_L1.index>79.000028786) & (HOKCHI_11DES_L1.index<=4335))]"
   ]
  },
  {
   "cell_type": "code",
   "execution_count": null,
   "metadata": {},
   "outputs": [],
   "source": [
    "HOKCHI_11DES_L1.describe()"
   ]
  },
  {
   "cell_type": "code",
   "execution_count": null,
   "metadata": {},
   "outputs": [],
   "source": [
    "HOKCHI_11DES_L1"
   ]
  },
  {
   "cell_type": "code",
   "execution_count": null,
   "metadata": {},
   "outputs": [],
   "source": [
    "HOKCHI_8_DES_LOGS.columns"
   ]
  },
  {
   "cell_type": "code",
   "execution_count": null,
   "metadata": {},
   "outputs": [],
   "source": [
    "HOKCHI_8H_LOGS = HOKCHI_8_DES_LOGS.rename(columns={'GAMMA_RAY_WP': 'GR_M_S','BULK_DENSITY_WP': 'DEN_M_S',\\\n",
    "                                                          'COMPRESSIONAL_SLOWNESS_WP':'DTC_M_S',\\\n",
    "                                                          'SHEAR_SLOWNESS_WP':'DTS_M_S'})"
   ]
  },
  {
   "cell_type": "code",
   "execution_count": null,
   "metadata": {
    "scrolled": true
   },
   "outputs": [],
   "source": [
    "plot_visual_test(HOKCHI_11DES_L1, HOKCHI_11DES_tops)"
   ]
  },
  {
   "cell_type": "code",
   "execution_count": null,
   "metadata": {
    "scrolled": true
   },
   "outputs": [],
   "source": [
    "plot_visual_test(HOKCHI_11DES_MRLOG_depth, HOKCHI_11DES_tops)"
   ]
  },
  {
   "cell_type": "code",
   "execution_count": null,
   "metadata": {
    "scrolled": true
   },
   "outputs": [],
   "source": [
    "plot_visual_test(HOKCHI_7_DES_logs, HOKCHI_7DES_tops)"
   ]
  },
  {
   "cell_type": "code",
   "execution_count": null,
   "metadata": {
    "scrolled": true
   },
   "outputs": [],
   "source": [
    "plot_visual_test(HOKCHI_7_DES_logs_2, HOKCHI_7DES_tops)"
   ]
  },
  {
   "cell_type": "code",
   "execution_count": null,
   "metadata": {
    "scrolled": true
   },
   "outputs": [],
   "source": [
    "plot_visual_test(HOKCHI_7_DES_logs_3, HOKCHI_7DES_tops)"
   ]
  },
  {
   "cell_type": "code",
   "execution_count": null,
   "metadata": {
    "scrolled": true
   },
   "outputs": [],
   "source": [
    "plot_visual_test(HOKCHI_8H_LOGS, HOKCHI_8H_tops)"
   ]
  },
  {
   "cell_type": "code",
   "execution_count": null,
   "metadata": {
    "scrolled": true
   },
   "outputs": [],
   "source": [
    "plot_visual_test(HOKCHI_8H_RT, HOKCHI_8H_tops)"
   ]
  },
  {
   "cell_type": "code",
   "execution_count": null,
   "metadata": {},
   "outputs": [],
   "source": [
    "def plot_visual_2(logs,tops, N1, N2, N3, N4, N5):\n",
    "    \n",
    "    print('Log from {} to {}: '.format(tops.MD.min(), tops.MD.max()))\n",
    "    top_depth = float(input('Top depth(#): '))\n",
    "    bottom_depth = float(input('Bottom depth(#): '))\n",
    "    print('Nemonics in LOG: ', logs.columns)\n",
    "    print('------MUST be more than 1 Nemonic------')\n",
    "    nw=5 \n",
    "    well= str(input('Name of well: '))\n",
    "    f = logs[(logs.index >= top_depth) & (logs.index <= bottom_depth)]\n",
    "    fig, ax = plt.subplots(nrows=1, ncols=nw, figsize=(14,14), sharey=True, sharex=True)\n",
    "    fig.suptitle(\"Logs Visualization\" + ' ' + well+' Raw data', fontsize=20)\n",
    "    fig.subplots_adjust(top=0.92,wspace=0.1)\n",
    "    \n",
    "    \n",
    "    print('Nemonics in LOG: ', logs.columns)\n",
    "\n",
    "    \n",
    "    #General setting for all axis\n",
    "    \n",
    "    major_yticks = np.arange(top_depth, bottom_depth, 400)\n",
    "    minor_yticks = np.arange(top_depth, bottom_depth, 200)\n",
    "        \n",
    "    for axes in ax:\n",
    "        axes.set_ylim (top_depth,bottom_depth)\n",
    "        axes.invert_yaxis()\n",
    "        axes.yaxis.grid(True)\n",
    "        axes.get_xaxis().set_visible(False)\n",
    "        axes.set_yticks(major_yticks)\n",
    "        axes.set_yticks(minor_yticks, minor=True)\n",
    "        axes.grid(which='minor', linestyle='--')\n",
    "        axes.set_ylabel('MD[ft]')\n",
    "    \n",
    "    ax0=ax[0].twiny()\n",
    "    GRMIN= 0\n",
    "    GRMAX= 151\n",
    "    ax0.set_xlim(GRMIN,GRMAX)\n",
    "    ax0.plot(f[N1], f.index, label='GR[gAPI]', color='green') \n",
    "    ax0.spines['top'].set_position(('outward',0))\n",
    "    ax0.set_xlabel('GR[api]',color='green')\n",
    "    ax0.set_xticks(np.arange(GRMIN, GRMAX, 30))\n",
    "    ax0.tick_params(axis='x', colors='green')\n",
    "    ax0.set_ylabel('Depth [ft]', color='black')\n",
    "    #ax0.get_yticklabels.set_visible(True)\n",
    "    #ax0.tick_params(axis='y', colors='black')\n",
    "    ax0.label_outer()\n",
    "    ax0.grid(True)\n",
    "    #ax0.grid(which='major')\n",
    "    #ax0.grid(which='minor', linestyle='--')\n",
    "    \n",
    "    ax1=ax[1].twiny()\n",
    "    ax1.set_xlim(40,240)\n",
    "    ax1.plot(f[N2], f.index, label='DTCO[us/ft]', color='black') \n",
    "    ax1.spines['top'].set_position(('outward',0))\n",
    "    ax1.set_xlabel('DTCO[us/ft]',color='black')    \n",
    "    ax1.tick_params(axis='x', colors='black')\n",
    "    ax1.invert_xaxis()\n",
    "    #ax1.set_ylabel('Depth [ft]')\n",
    "    ax1.grid(True)\n",
    "    \n",
    "    ax2=ax[2].twiny()\n",
    "    ax2.set_xlim(1.5, 3)\n",
    "    ax2.plot(f[N3], f.index, label='RHOB[gr/cc]', color='blue') \n",
    "    ax2.spines['top'].set_position(('outward',0))\n",
    "    ax2.set_xlabel('RHOB[gr/cc]',color='blue')    \n",
    "    ax2.tick_params(axis='x', colors='blue')\n",
    "    ax2.grid(True)\n",
    "    \n",
    "    ax3=ax[3].twiny()\n",
    "    ax3.set_xlim(0.2, 1000)\n",
    "    ax3.plot(f[N4], f.index, label='Resistivity[oh.mm]', color='navy')\n",
    "    #ax3.set_xscale(\"log\", nonposx='clip')\n",
    "    ax3.set_xscale(\"log\", nonposx='clip')\n",
    "    ax3.spines['top'].set_position(('outward',0))\n",
    "    ax3.set_xlabel('Resistivity[oh.mm]',color='navy')\n",
    "    locmin = matplotlib.ticker.LogLocator(base=10.0, subs=np.arange(2, 10) * .1, numticks=100)\n",
    "    ax3.xaxis.set_minor_locator(locmin)\n",
    "    #ax3.tick_params(axis='x', which='minor')\n",
    "    ax3.tick_params(axis='x', colors='navy', which='both')\n",
    "    #ax3.xaxis.set_minor_formatter(FormatStrFormatter(\"%.1f\"))\n",
    "    ax3.xaxis.grid(True, which='minor')\n",
    "    ax3.grid(True)\n",
    "    \n",
    "    ax4=ax[4].twiny()\n",
    "    CALIMIN = 6\n",
    "    CALIMAX = 18\n",
    "    ax4.set_xlim(CALIMIN, CALIMAX)\n",
    "    ax4.plot(f[N5], f.index, label='CALI[IN]', color='red')\n",
    "    ax4.spines['top'].set_position(('outward',0))\n",
    "    ax4.set_xticks(np.arange(CALIMIN, CALIMAX, 2))\n",
    "    ax4.set_xlabel('CALI[IN]',color='red')    \n",
    "    ax4.tick_params(axis='x', colors='red')\n",
    "    ax4.grid(True)\n",
    "    \n",
    "    # Print Tops\n",
    "    for i in range(len(ax)):\n",
    "        for k, row in tops[(tops.MD >= top_depth) & (tops.MD <= bottom_depth)].iterrows():\n",
    "            vars()['ax'+str(i)].hlines(row['MD'], xmin=-500, xmax=800, linestyles='solid', color='k')\n",
    "            vars()['ax'+str(0)].text(f.GR.min(), row['MD'], row['Zone Name'], color='r')\n",
    "    \n",
    " \n",
    "    pic_n = input('Name for .png picture: ')\n",
    "    plt.savefig (f'./Output pictures/{pic_n}.png', dpi=300, format='png')\n",
    "    plt.show()"
   ]
  },
  {
   "cell_type": "code",
   "execution_count": null,
   "metadata": {
    "scrolled": true
   },
   "outputs": [],
   "source": [
    "plot_visual_2(LC1_logs_1,LC1_tops,'GR_MERGED','DTCO_MERGED','ROHB_MERGED','HDRS','CALA')"
   ]
  },
  {
   "cell_type": "code",
   "execution_count": null,
   "metadata": {},
   "outputs": [],
   "source": [
    "def DOD_cali(logs, tops):\n",
    "    print(logs.columns)\n",
    "    cali_mnemonic = input('Enter Caliper Mnemonic: ')\n",
    "    sections =  int(input('Enter the number of sect: '))\n",
    "    dod = pd.DataFrame([])\n",
    "    if sections == 1:\n",
    "        x=0\n",
    "        top = float(input(f'Enter top depth of section {x}: '))\n",
    "        bottom = float(input(f'Enter bottom of section {x}: '))\n",
    "        bsize = float(input(f'Enter Bit size diameter for section {x}: '))\n",
    "        data_slice = logs[[cali_mnemonic]][(logs.index>=top) & (logs.index<bottom)]\n",
    "        dod_total = ((data_slice/bsize)-1)*100\n",
    "        dod = dod.append(dod_total)\n",
    "    else:\n",
    "        for x in range(sections):\n",
    "            top = float(input(f'Enter top depth of section {x}: '))\n",
    "            bottom = float(input(f'Enter bottom of section {x}: '))\n",
    "            bsize = float(input(f'Enter Bit size diameter for section {x}: '))\n",
    "            data_slice = logs[[cali_mnemonic]][(logs.index>=top) & (logs.index<bottom)]\n",
    "            dod_total = ((data_slice/bsize)-1)*100\n",
    "            dod = dod.append(dod_total)\n",
    "    \n",
    "#     print(dod)\n",
    "    print('Log from {} to {}: '.format(tops.MD.min(), tops.MD.max()))\n",
    "    top_depth = float(input('Top depth(#): ') or tops.MD.min())\n",
    "    bottom_depth = float(input('Bottom depth(#): ') or tops.MD.max())\n",
    "    nw=2 \n",
    "    well= str(input('Name of well: '))\n",
    "    f = logs[(logs.index >= top_depth) & (logs.index <= bottom_depth)]\n",
    "    d = dod[(dod.index >= top_depth) & (dod.index <= bottom_depth)]\n",
    "    fig, ax = plt.subplots(nrows=1, ncols=nw, figsize=(8,14), sharey=True, sharex=True)\n",
    "    fig.suptitle(\"Colapse from caliper\" + ' ' + well, fontsize=20)\n",
    "    fig.subplots_adjust(top=0.92,wspace=0.1)\n",
    "    \n",
    "    \n",
    "    \n",
    "    #General setting for all axis\n",
    "    \n",
    "    major_yticks = np.arange(top_depth, bottom_depth, 200)\n",
    "    minor_yticks = np.arange(top_depth, bottom_depth, 50)\n",
    "        \n",
    "    for axes in ax:\n",
    "        axes.set_ylim (top_depth,bottom_depth)\n",
    "        axes.invert_yaxis()\n",
    "        axes.yaxis.grid(True)\n",
    "        axes.get_xaxis().set_visible(False)\n",
    "        axes.set_yticks(major_yticks)\n",
    "        axes.set_yticks(minor_yticks, minor=True)\n",
    "        axes.grid(which='minor', linestyle='--')\n",
    "        axes.set_ylabel('MD[ft]')\n",
    "    \n",
    "       \n",
    "    ax0=ax[0].twiny()\n",
    "    CALIMIN = 6\n",
    "    CALIMAX = 16\n",
    "    ax0.set_xlim(CALIMIN, CALIMAX)\n",
    "    ax0.plot(f[cali_mnemonic], f.index, label='CALI[IN]', color='black')\n",
    "    ax0.spines['top'].set_position(('outward',0))\n",
    "    ax0.set_xticks(np.arange(CALIMIN, CALIMAX, 1))\n",
    "    ax0.set_xlabel('CALI[IN]',color='black')    \n",
    "    ax0.tick_params(axis='x', colors='black')\n",
    "    ax0.grid(True)\n",
    "    \n",
    "    ax1=ax[1].twiny()\n",
    "    COLAPMIN = -10\n",
    "    COLAPMAX = 80.1\n",
    "    ax1.set_xlim(CALIMIN, CALIMAX)\n",
    "    ax1.plot(d[cali_mnemonic], d.index, label='Colapse[%]', color='red')\n",
    "    ax1.spines['top'].set_position(('outward',0))\n",
    "    ax1.set_xticks(np.arange(COLAPMIN, COLAPMAX, 10))\n",
    "    ax1.set_xlabel('Colapse[%]',color='red')    \n",
    "    ax1.tick_params(axis='x', colors='red')\n",
    "    ax1.grid(True)\n",
    "    \n",
    "    # Print Tops\n",
    "    for i in range(len(ax)):\n",
    "        for k, row in tops[(tops.MD >= top_depth) & (tops.MD <= bottom_depth)].iterrows():\n",
    "            vars()['ax'+str(i)].hlines(row['MD'], xmin=-500, xmax=800, linestyles='solid', color='k')\n",
    "            vars()['ax'+str(0)].text(CALIMIN, row['MD'], row['Zone Name'], color='r')\n",
    "    \n",
    " \n",
    "    \n",
    "    plt.savefig (f'./Output pictures/{well}_DOD.png', dpi=300, format='png')\n",
    "    plt.show()"
   ]
  },
  {
   "cell_type": "code",
   "execution_count": null,
   "metadata": {
    "scrolled": true
   },
   "outputs": [],
   "source": [
    "DOD_cali(MA_01_MEM_Dataset, MA_01_tops)"
   ]
  },
  {
   "cell_type": "code",
   "execution_count": null,
   "metadata": {},
   "outputs": [],
   "source": [
    "def plot_LCI1XST_DTCO_COMP(logs,tops, N1, N2, N3, N4):\n",
    "    \n",
    "    print('Log from {} to {}: '.format(tops.MD.min(), tops.MD.max()))\n",
    "    top_depth = float(input('Top depth(#): '))\n",
    "    bottom_depth = float(input('Bottom depth(#): '))\n",
    "    print('Nemonics in LOG: ', logs.columns)\n",
    "    print('------MUST be more than 1 Nemonic------')\n",
    "    nw=2\n",
    "    well= str(input('Name of well: '))\n",
    "    f = logs[(logs.index >= top_depth) & (logs.index <= bottom_depth)]\n",
    "    fig, ax = plt.subplots(nrows=1, ncols=nw, figsize=(14,14), sharey=True, sharex=True)\n",
    "    fig.suptitle(\"Logs Visualization\" + ' ' + well, fontsize=20)\n",
    "    fig.subplots_adjust(top=0.78,wspace=0.1)\n",
    "    \n",
    "    \n",
    "    print('Nemonics in LOG: ', logs.columns)\n",
    "\n",
    "    \n",
    "    #General setting for all axis\n",
    "    \n",
    "    major_yticks = np.arange(top_depth, bottom_depth, 400)\n",
    "    minor_yticks = np.arange(top_depth, bottom_depth, 200)\n",
    "        \n",
    "    for axes in ax:\n",
    "        axes.set_ylim (top_depth,bottom_depth)\n",
    "        axes.invert_yaxis()\n",
    "        axes.yaxis.grid(True)\n",
    "        axes.get_xaxis().set_visible(False)\n",
    "        axes.set_yticks(major_yticks)\n",
    "        axes.set_yticks(minor_yticks, minor=True)\n",
    "        axes.grid(which='minor', linestyle='--')\n",
    "        axes.set_ylabel('MD[ft]')\n",
    "    \n",
    "        \n",
    "    ax3=ax[0].twiny()\n",
    "    DTMIN=40\n",
    "    DTMAX=241\n",
    "    ax3.set_xlim(DTMIN,DTMAX)\n",
    "    ax3.plot(f[N4], f.index, label='DTCO[us/ft]', color='navy') \n",
    "    ax3.spines['top'].set_position(('outward',40))\n",
    "    ax3.set_xlabel('DTCO[us/ft]_LCI-1X',color='navy')  \n",
    "    ax3.set_xticks(np.arange(DTMIN, DTMAX, 40))\n",
    "    ax3.tick_params(axis='x', colors='navy')\n",
    "    ax3.invert_xaxis()\n",
    "    #ax1.set_ylabel('Depth [ft]')\n",
    "    ax3.grid(True)\n",
    "    \n",
    "    ax1=ax[0].twiny()\n",
    "    DTMIN=40\n",
    "    DTMAX=241\n",
    "    ax1.set_xlim(DTMIN,DTMAX)\n",
    "    ax1.plot(f[N2], f.index, label='DTCO[us/ft]', color='green') \n",
    "    ax1.spines['top'].set_position(('outward',0))\n",
    "    ax1.set_xlabel('DTCO[us/ft]_from_LC-1',color='green')  \n",
    "    ax1.set_xticks(np.arange(DTMIN, DTMAX, 40))\n",
    "    ax1.tick_params(axis='x', colors='green')\n",
    "    ax1.invert_xaxis()\n",
    "    #ax1.set_ylabel('Depth [ft]')\n",
    "    ax1.grid(True)\n",
    "        \n",
    "    \n",
    "    ax2=ax[0].twiny()\n",
    "    DTMIN=40\n",
    "    DTMAX=241\n",
    "    ax2.set_xlim(DTMIN,DTMAX)\n",
    "    ax2.plot(f[N3], f.index, label='DTCO[us/ft]', color='magenta') \n",
    "    ax2.spines['top'].set_position(('outward',80))\n",
    "    ax2.set_xlabel('DTCO[us/ft]_from_LC-3ST',color='magenta')  \n",
    "    ax2.set_xticks(np.arange(DTMIN, DTMAX, 40))\n",
    "    ax2.tick_params(axis='x', colors='magenta')\n",
    "    ax2.invert_xaxis()\n",
    "    #ax1.set_ylabel('Depth [ft]')\n",
    "    ax2.grid(True)\n",
    "    \n",
    "    ax0=ax[0].twiny()\n",
    "    DTMIN=40\n",
    "    DTMAX=241\n",
    "    ax0.set_xlim(DTMIN,DTMAX)\n",
    "    ax0.plot(f[N1], f.index, label='DTCO[us/ft]', color='orange', lw=2.1) \n",
    "    ax0.spines['top'].set_position(('outward',120))\n",
    "    ax0.set_xlabel('DTCO[us/ft]_from_Inter_Vel_LCI-1X',color='orange')  \n",
    "    ax0.set_xticks(np.arange(DTMIN, DTMAX, 40))\n",
    "    ax0.tick_params(axis='x', colors='orange')\n",
    "    ax0.invert_xaxis()\n",
    "    #ax1.set_ylabel('Depth [ft]')\n",
    "    ax0.grid(True)\n",
    "    \n",
    "        \n",
    "    \n",
    "    # Print Tops\n",
    "#     for i in range(len(ax)):\n",
    "#         for k, row in tops[(tops.MD >= top_depth) & (tops.MD <= bottom_depth)].iterrows():\n",
    "#             vars()['ax'+str(i)].hlines(row['MD'], xmin=-500, xmax=800, linestyles='solid', color='k')\n",
    "#             vars()['ax'+str(0)].text(f.GR.min(), row['MD'], row['Zone Name'], color='r')\n",
    "    \n",
    " \n",
    "    pic_n = input('Name for .png picture: ')\n",
    "    plt.savefig (f'./Output pictures/{pic_n}.png', dpi=300, format='png')\n",
    "    plt.show()"
   ]
  },
  {
   "cell_type": "code",
   "execution_count": null,
   "metadata": {
    "scrolled": true
   },
   "outputs": [],
   "source": [
    "plot_LCI1XST_DTCO_COMP(LCI_1X_logs_ALL_DTSM, LCI_1X_tops, 'DTCO_FROM_INTERVAL_VEL_LCI_1X', 'DTCO_FROM_LC_1', 'DTCO_FROM_LC_3ST', 'DTCO_LCI_1X')"
   ]
  },
  {
   "cell_type": "code",
   "execution_count": null,
   "metadata": {},
   "outputs": [],
   "source": [
    "def plot_LC_3(logs,tops, N1, N2, N4, N5):\n",
    "    \n",
    "    print('Log from {} to {}: '.format(tops.MD.min(), tops.MD.max()))\n",
    "    top_depth = float(input('Top depth(#): '))\n",
    "    bottom_depth = float(input('Bottom depth(#): '))\n",
    "    print('Nemonics in LOG: ', logs.columns)\n",
    "    print('------MUST be more than 1 Nemonic------')\n",
    "    nw=4\n",
    "    well= str(input('Name of well: '))\n",
    "    f = logs[(logs.index >= top_depth) & (logs.index <= bottom_depth)]\n",
    "    fig, ax = plt.subplots(nrows=1, ncols=nw, figsize=(14,14), sharey=True, sharex=True)\n",
    "    fig.suptitle(\"Logs Visualization\" + ' ' + well, fontsize=20)\n",
    "    fig.subplots_adjust(top=0.92,wspace=0.1)\n",
    "    \n",
    "    \n",
    "    print('Nemonics in LOG: ', logs.columns)\n",
    "\n",
    "    \n",
    "    #General setting for all axis\n",
    "    \n",
    "    major_yticks = np.arange(top_depth, bottom_depth, 400)\n",
    "    minor_yticks = np.arange(top_depth, bottom_depth, 200)\n",
    "        \n",
    "    for axes in ax:\n",
    "        axes.set_ylim (top_depth,bottom_depth)\n",
    "        axes.invert_yaxis()\n",
    "        axes.yaxis.grid(True)\n",
    "        axes.get_xaxis().set_visible(False)\n",
    "        axes.set_yticks(major_yticks)\n",
    "        axes.set_yticks(minor_yticks, minor=True)\n",
    "        axes.grid(which='minor', linestyle='--')\n",
    "        axes.set_ylabel('MD[ft]')\n",
    "    \n",
    "    ax0=ax[0].twiny()\n",
    "    GRMIN= 0\n",
    "    GRMAX= 151\n",
    "    ax0.set_xlim(GRMIN,GRMAX)\n",
    "    ax0.plot(f[N1], f.index, label='GR[gAPI]', color='green') \n",
    "    ax0.spines['top'].set_position(('outward',0))\n",
    "    ax0.set_xlabel('GR[api]',color='green')\n",
    "    ax0.set_xticks(np.arange(GRMIN, GRMAX, 30))\n",
    "    ax0.tick_params(axis='x', colors='green')\n",
    "    ax0.set_ylabel('Depth [ft]', color='black')\n",
    "    #ax0.get_yticklabels.set_visible(True)\n",
    "    #ax0.tick_params(axis='y', colors='black')\n",
    "    ax0.label_outer()\n",
    "    ax0.grid(True)\n",
    "    #ax0.grid(which='major')\n",
    "    #ax0.grid(which='minor', linestyle='--')\n",
    "    \n",
    "    ax1=ax[1].twiny()\n",
    "    ax1.set_xlim(40,240)\n",
    "    ax1.plot(f[N2], f.index, label='DTCO[us/ft]', color='black') \n",
    "    ax1.spines['top'].set_position(('outward',0))\n",
    "    ax1.set_xlabel('DTCO[us/ft]',color='black')    \n",
    "    ax1.tick_params(axis='x', colors='black')\n",
    "    ax1.invert_xaxis()\n",
    "    #ax1.set_ylabel('Depth [ft]')\n",
    "    ax1.grid(True)\n",
    "    \n",
    "    ax2=ax[2].twiny()\n",
    "    ax2.set_xlim(0.2, 1000)\n",
    "    ax2.plot(f[N4], f.index, label='Resistivity[oh.mm]', color='navy')\n",
    "    #ax2.set_xscale(\"log\", nonposx='clip')\n",
    "    ax2.set_xscale(\"log\", nonposx='clip')\n",
    "    ax2.spines['top'].set_position(('outward',0))\n",
    "    ax2.set_xlabel('Resistivity[oh.mm]',color='navy')\n",
    "    locmin = matplotlib.ticker.LogLocator(base=10.0, subs=np.arange(2, 10) * .1, numticks=100)\n",
    "    ax2.xaxis.set_minor_locator(locmin)\n",
    "    #ax2.tick_params(axis='x', which='minor')\n",
    "    ax2.tick_params(axis='x', colors='navy', which='both')\n",
    "    #ax2.xaxis.set_minor_formatter(FormatStrFormatter(\"%.1f\"))\n",
    "    ax2.xaxis.grid(True, which='minor')\n",
    "    ax2.grid(True)\n",
    "    \n",
    "    ax3=ax[3].twiny()\n",
    "    CALIMIN = 6\n",
    "    CALIMAX = 18\n",
    "    ax3.set_xlim(CALIMIN, CALIMAX)\n",
    "    ax3.plot(f[N5], f.index, label='CALI[IN]', color='red')\n",
    "    ax3.spines['top'].set_position(('outward',0))\n",
    "    ax3.set_xticks(np.arange(CALIMIN, CALIMAX, 2))\n",
    "    ax3.set_xlabel('CALI[IN]',color='red')    \n",
    "    ax3.tick_params(axis='x', colors='red')\n",
    "    ax3.grid(True)\n",
    "    \n",
    "    # Print Tops\n",
    "    for i in range(len(ax)):\n",
    "        for k, row in tops[(tops.MD >= top_depth) & (tops.MD <= bottom_depth)].iterrows():\n",
    "            vars()['ax'+str(i)].hlines(row['MD'], xmin=-500, xmax=800, linestyles='solid', color='k')\n",
    "            vars()['ax'+str(0)].text(f[N1].min(), row['MD'], row['Zone Name'], color='r')\n",
    "    \n",
    " \n",
    "    pic_n = input('Name for .png picture: ')\n",
    "    plt.savefig (f'./Output pictures/{pic_n}.png', dpi=300, format='png')\n",
    "    plt.show()"
   ]
  },
  {
   "cell_type": "code",
   "execution_count": null,
   "metadata": {
    "scrolled": true
   },
   "outputs": [],
   "source": [
    "plot_LC_3(LC3_logs_1,LC3_tops,'GR_MERGED','DTCO_MERGED','HMRS','HCAL_MERGED')"
   ]
  },
  {
   "cell_type": "code",
   "execution_count": null,
   "metadata": {},
   "outputs": [],
   "source": [
    "def plot_LC_3ST(logs,tops, N1, N2, N6, N3, N4, N5):\n",
    "    \n",
    "    print('Log from {} to {}: '.format(tops.MD.min(), tops.MD.max()))\n",
    "    top_depth = float(input('Top depth(#): '))\n",
    "    bottom_depth = float(input('Bottom depth(#): '))\n",
    "    print('Nemonics in LOG: ', logs.columns)\n",
    "    print('------MUST be more than 1 Nemonic------')\n",
    "    nw=6\n",
    "    well= str(input('Name of well: '))\n",
    "    f = logs[(logs.index >= top_depth) & (logs.index <= bottom_depth)]\n",
    "    fig, ax = plt.subplots(nrows=1, ncols=nw, figsize=(14,14), sharey=True, sharex=True)\n",
    "    fig.suptitle(\"Logs Visualization\" + ' ' + well, fontsize=20)\n",
    "    fig.subplots_adjust(top=0.92,wspace=0.1)\n",
    "    \n",
    "    \n",
    "    print('Nemonics in LOG: ', logs.columns)\n",
    "\n",
    "    \n",
    "    #General setting for all axis\n",
    "    \n",
    "    major_yticks = np.arange(top_depth, bottom_depth, 400)\n",
    "    minor_yticks = np.arange(top_depth, bottom_depth, 200)\n",
    "        \n",
    "    for axes in ax:\n",
    "        axes.set_ylim (top_depth,bottom_depth)\n",
    "        axes.invert_yaxis()\n",
    "        axes.yaxis.grid(True)\n",
    "        axes.get_xaxis().set_visible(False)\n",
    "        axes.set_yticks(major_yticks)\n",
    "        axes.set_yticks(minor_yticks, minor=True)\n",
    "        axes.grid(which='minor', linestyle='--')\n",
    "        axes.set_ylabel('MD[ft]')\n",
    "    \n",
    "    ax0=ax[0].twiny()\n",
    "    GRMIN= 0\n",
    "    GRMAX= 151\n",
    "    ax0.set_xlim(GRMIN,GRMAX)\n",
    "    ax0.plot(f[N1], f.index, label='GR[gAPI]', color='green') \n",
    "    ax0.spines['top'].set_position(('outward',0))\n",
    "    ax0.set_xlabel('GR[api]',color='green')\n",
    "    ax0.set_xticks(np.arange(GRMIN, GRMAX, 30))\n",
    "    ax0.tick_params(axis='x', colors='green')\n",
    "    ax0.set_ylabel('Depth [ft]', color='black')\n",
    "    #ax0.get_yticklabels.set_visible(True)\n",
    "    #ax0.tick_params(axis='y', colors='black')\n",
    "    ax0.label_outer()\n",
    "    ax0.grid(True)\n",
    "    #ax0.grid(which='major')\n",
    "    #ax0.grid(which='minor', linestyle='--')\n",
    "    \n",
    "    ax1=ax[1].twiny()\n",
    "    ax1.set_xlim(40,240)\n",
    "    ax1.plot(f[N2], f.index, label='DTCO[us/ft]', color='black') \n",
    "    ax1.spines['top'].set_position(('outward',0))\n",
    "    ax1.set_xlabel('DTCO[us/ft]',color='black')    \n",
    "    ax1.tick_params(axis='x', colors='black')\n",
    "    ax1.invert_xaxis()\n",
    "    #ax1.set_ylabel('Depth [ft]')\n",
    "    ax1.grid(True)\n",
    "    \n",
    "    ax5=ax[2].twiny()\n",
    "    ax5.set_xlim(80,380)\n",
    "    ax5.plot(f[N6], f.index, label='DTSM[us/ft]', color='red') \n",
    "    ax5.spines['top'].set_position(('outward',0))\n",
    "    ax5.set_xlabel('DTSM[us/ft]',color='red')    \n",
    "    ax5.tick_params(axis='x', colors='red')\n",
    "    ax5.invert_xaxis()\n",
    "    #ax1.set_ylabel('Depth [ft]')\n",
    "    ax5.grid(True)\n",
    "    \n",
    "    ax2=ax[3].twiny()\n",
    "    ax2.set_xlim(1.5, 3)\n",
    "    ax2.plot(f[N3], f.index, label='RHOB[gr/cc]', color='blue') \n",
    "    ax2.spines['top'].set_position(('outward',0))\n",
    "    ax2.set_xlabel('RHOB[gr/cc]',color='blue')    \n",
    "    ax2.tick_params(axis='x', colors='blue')\n",
    "    ax2.grid(True)\n",
    "    \n",
    "    ax3=ax[4].twiny()\n",
    "    ax3.set_xlim(0.2, 1000)\n",
    "    ax3.plot(f[N4], f.index, label='Resistivity[oh.mm]', color='navy')\n",
    "    #ax3.set_xscale(\"log\", nonposx='clip')\n",
    "    ax3.set_xscale(\"log\", nonposx='clip')\n",
    "    ax3.spines['top'].set_position(('outward',0))\n",
    "    ax3.set_xlabel('Resistivity[oh.mm]',color='navy')\n",
    "    locmin = matplotlib.ticker.LogLocator(base=10.0, subs=np.arange(2, 10) * .1, numticks=100)\n",
    "    ax3.xaxis.set_minor_locator(locmin)\n",
    "    #ax3.tick_params(axis='x', which='minor')\n",
    "    ax3.tick_params(axis='x', colors='navy', which='both')\n",
    "    #ax3.xaxis.set_minor_formatter(FormatStrFormatter(\"%.1f\"))\n",
    "    ax3.xaxis.grid(True, which='minor')\n",
    "    ax3.grid(True)\n",
    "    \n",
    "    ax4=ax[5].twiny()\n",
    "    CALIMIN = 6\n",
    "    CALIMAX = 18\n",
    "    ax4.set_xlim(CALIMIN, CALIMAX)\n",
    "    ax4.plot(f[N5], f.index, label='CALI[IN]', color='red')\n",
    "    ax4.spines['top'].set_position(('outward',0))\n",
    "    ax4.set_xticks(np.arange(CALIMIN, CALIMAX, 2))\n",
    "    ax4.set_xlabel('CALI[IN]',color='red')    \n",
    "    ax4.tick_params(axis='x', colors='red')\n",
    "    ax4.grid(True)\n",
    "    \n",
    "    # Print Tops\n",
    "    for i in range(len(ax)):\n",
    "        for k, row in tops[(tops.MD >= top_depth) & (tops.MD <= bottom_depth)].iterrows():\n",
    "            vars()['ax'+str(i)].hlines(row['MD'], xmin=-500, xmax=800, linestyles='solid', color='k')\n",
    "            vars()['ax'+str(0)].text(f[N1].min(), row['MD'], row['Zone Name'], color='r')\n",
    "    \n",
    " \n",
    "    pic_n = input('Name for .png picture: ')\n",
    "    plt.savefig (f'./Output pictures/{pic_n}.png', dpi=300, format='png')\n",
    "    plt.show()"
   ]
  },
  {
   "cell_type": "code",
   "execution_count": null,
   "metadata": {
    "scrolled": true
   },
   "outputs": [],
   "source": [
    "plot_LC_3ST(LC3ST_logs_1,LC3ST_tops,'GR_MERGED','DTCO_MERGED','DTSM_MERGED','RHOB_MERGED','HDRS','HCAL_MERGED')"
   ]
  },
  {
   "cell_type": "code",
   "execution_count": null,
   "metadata": {},
   "outputs": [],
   "source": [
    "def plot_LCI_1XST(logs,tops, N1, N2, N3, N4, N5):\n",
    "    \n",
    "    print('Log from {} to {}: '.format(tops.MD.min(), tops.MD.max()))\n",
    "    top_depth = float(input('Top depth(#): '))\n",
    "    bottom_depth = float(input('Bottom depth(#): '))\n",
    "    print('Nemonics in LOG: ', logs.columns)\n",
    "    print('------MUST be more than 1 Nemonic------')\n",
    "    nw=5\n",
    "    well= str(input('Name of well: '))\n",
    "    f = logs[(logs.index >= top_depth) & (logs.index <= bottom_depth)]\n",
    "    fig, ax = plt.subplots(nrows=1, ncols=nw, figsize=(14,14), sharey=True, sharex=True)\n",
    "    fig.suptitle(\"Logs Visualization\" + ' ' + well, fontsize=20)\n",
    "    fig.subplots_adjust(top=0.92,wspace=0.1)\n",
    "    \n",
    "    \n",
    "    print('Nemonics in LOG: ', logs.columns)\n",
    "\n",
    "    \n",
    "    #General setting for all axis\n",
    "    \n",
    "    major_yticks = np.arange(top_depth, bottom_depth, 400)\n",
    "    minor_yticks = np.arange(top_depth, bottom_depth, 200)\n",
    "        \n",
    "    for axes in ax:\n",
    "        axes.set_ylim (top_depth,bottom_depth)\n",
    "        axes.invert_yaxis()\n",
    "        axes.yaxis.grid(True)\n",
    "        axes.get_xaxis().set_visible(False)\n",
    "        axes.set_yticks(major_yticks)\n",
    "        axes.set_yticks(minor_yticks, minor=True)\n",
    "        axes.grid(which='minor', linestyle='--')\n",
    "        axes.set_ylabel('MD[ft]')\n",
    "    \n",
    "    ax0=ax[0].twiny()\n",
    "    GRMIN= 0\n",
    "    GRMAX= 151\n",
    "    ax0.set_xlim(GRMIN,GRMAX)\n",
    "    ax0.plot(f[N1], f.index, label='GR[gAPI]', color='green') \n",
    "    ax0.spines['top'].set_position(('outward',0))\n",
    "    ax0.set_xlabel('GR[api]',color='green')\n",
    "    ax0.set_xticks(np.arange(GRMIN, GRMAX, 30))\n",
    "    ax0.tick_params(axis='x', colors='green')\n",
    "    ax0.set_ylabel('Depth [ft]', color='black')\n",
    "    #ax0.get_yticklabels.set_visible(True)\n",
    "    #ax0.tick_params(axis='y', colors='black')\n",
    "    ax0.label_outer()\n",
    "    ax0.grid(True)\n",
    "    #ax0.grid(which='major')\n",
    "    #ax0.grid(which='minor', linestyle='--')\n",
    "    \n",
    "    ax1=ax[1].twiny()\n",
    "    ax1.set_xlim(40,240)\n",
    "    ax1.plot(f[N2], f.index, label='DTCO[us/ft]', color='black') \n",
    "    ax1.spines['top'].set_position(('outward',0))\n",
    "    ax1.set_xlabel('DTCO[us/ft]',color='black')    \n",
    "    ax1.tick_params(axis='x', colors='black')\n",
    "    ax1.invert_xaxis()\n",
    "    #ax1.set_ylabel('Depth [ft]')\n",
    "    ax1.grid(True)\n",
    "    \n",
    "    ax2=ax[2].twiny()\n",
    "    ax2.set_xlim(80,380)\n",
    "    ax2.plot(f[N3], f.index, label='DTSMX[us/ft]', color='red') \n",
    "    ax2.spines['top'].set_position(('outward',0))\n",
    "    ax2.set_xlabel('DTSMX[us/ft]',color='red')    \n",
    "    ax2.tick_params(axis='x', colors='red')\n",
    "    ax2.invert_xaxis()\n",
    "    #ax1.set_ylabel('Depth [ft]')\n",
    "    ax2.grid(True)\n",
    "    \n",
    "    ax3=ax[3].twiny()\n",
    "    ax3.set_xlim(80,380)\n",
    "    ax3.plot(f[N4], f.index, label='DTSMY[us/ft]', color='navy') \n",
    "    ax3.spines['top'].set_position(('outward',0))\n",
    "    ax3.set_xlabel('DTSMY[us/ft]',color='navy')    \n",
    "    ax3.tick_params(axis='x', colors='navy')\n",
    "    ax3.invert_xaxis()\n",
    "    #ax1.set_ylabel('Depth [ft]')\n",
    "    ax3.grid(True)\n",
    "\n",
    "    ax4=ax[4].twiny()\n",
    "    CALIMIN = 6\n",
    "    CALIMAX = 18\n",
    "    ax4.set_xlim(CALIMIN, CALIMAX)\n",
    "    ax4.plot(f[N5], f.index, label='CALI[IN]', color='red')\n",
    "    ax4.spines['top'].set_position(('outward',0))\n",
    "    ax4.set_xticks(np.arange(CALIMIN, CALIMAX, 2))\n",
    "    ax4.set_xlabel('CALI[IN]-Density',color='red')    \n",
    "    ax4.tick_params(axis='x', colors='red')\n",
    "    ax4.grid(True)\n",
    "    \n",
    "    # Print Tops\n",
    "    for i in range(len(ax)):\n",
    "        for k, row in tops[(tops.MD >= top_depth) & (tops.MD <= bottom_depth)].iterrows():\n",
    "            vars()['ax'+str(i)].hlines(row['MD'], xmin=-500, xmax=800, linestyles='solid', color='k')\n",
    "            vars()['ax'+str(0)].text(f[N1].min(), row['MD'], row['Zone Name'], color='r')\n",
    "    \n",
    " \n",
    "    pic_n = input('Name for .png picture: ')\n",
    "    plt.savefig (f'./Output pictures/{pic_n}.png', dpi=300, format='png')\n",
    "    plt.show()"
   ]
  },
  {
   "cell_type": "code",
   "execution_count": null,
   "metadata": {},
   "outputs": [],
   "source": [
    "LCI_1XST_logs_1.columns"
   ]
  },
  {
   "cell_type": "code",
   "execution_count": null,
   "metadata": {
    "scrolled": true
   },
   "outputs": [],
   "source": [
    "plot_LCI_1XST(LCI_1XST_logs_1, LCI_1XST_tops, 'GR_MERGED', 'DTCO_MERGED', 'DTSMX', 'DTSMY', 'HCAL_MERGED')"
   ]
  },
  {
   "cell_type": "code",
   "execution_count": null,
   "metadata": {},
   "outputs": [],
   "source": [
    "def plot_LCI_1X(logs,tops, N1, N2, N3, N4, N5):\n",
    "    \n",
    "    print('Log from {} to {}: '.format(tops.MD.min(), tops.MD.max()))\n",
    "    top_depth = float(input('Top depth(#): '))\n",
    "    bottom_depth = float(input('Bottom depth(#): '))\n",
    "    print('Nemonics in LOG: ', logs.columns)\n",
    "    print('------MUST be more than 1 Nemonic------')\n",
    "    nw=5\n",
    "    well= str(input('Name of well: '))\n",
    "    f = logs[(logs.index >= top_depth) & (logs.index <= bottom_depth)]\n",
    "    fig, ax = plt.subplots(nrows=1, ncols=nw, figsize=(14,14), sharey=True, sharex=True)\n",
    "    fig.suptitle(\"Logs Visualization\" + ' ' + well, fontsize=20)\n",
    "    fig.subplots_adjust(top=0.92,wspace=0.1)\n",
    "    \n",
    "    \n",
    "    print('Nemonics in LOG: ', logs.columns)\n",
    "\n",
    "    \n",
    "    #General setting for all axis\n",
    "    \n",
    "    major_yticks = np.arange(top_depth, bottom_depth, 400)\n",
    "    minor_yticks = np.arange(top_depth, bottom_depth, 200)\n",
    "        \n",
    "    for axes in ax:\n",
    "        axes.set_ylim (top_depth,bottom_depth)\n",
    "        axes.invert_yaxis()\n",
    "        axes.yaxis.grid(True)\n",
    "        axes.get_xaxis().set_visible(False)\n",
    "        axes.set_yticks(major_yticks)\n",
    "        axes.set_yticks(minor_yticks, minor=True)\n",
    "        axes.grid(which='minor', linestyle='--')\n",
    "        axes.set_ylabel('MD[ft]')\n",
    "    \n",
    "    ax0=ax[0].twiny()\n",
    "    GRMIN= 0\n",
    "    GRMAX= 151\n",
    "    ax0.set_xlim(GRMIN,GRMAX)\n",
    "    ax0.plot(f[N1], f.index, label='GR[gAPI]', color='green') \n",
    "    ax0.spines['top'].set_position(('outward',0))\n",
    "    ax0.set_xlabel('GR[api]',color='green')\n",
    "    ax0.set_xticks(np.arange(GRMIN, GRMAX, 30))\n",
    "    ax0.tick_params(axis='x', colors='green')\n",
    "    ax0.set_ylabel('Depth [ft]', color='black')\n",
    "    #ax0.get_yticklabels.set_visible(True)\n",
    "    #ax0.tick_params(axis='y', colors='black')\n",
    "    ax0.label_outer()\n",
    "    ax0.grid(True)\n",
    "    #ax0.grid(which='major')\n",
    "    #ax0.grid(which='minor', linestyle='--')\n",
    "    \n",
    "    ax1=ax[1].twiny()\n",
    "    ax1.set_xlim(40,240)\n",
    "    ax1.plot(f[N2], f.index, label='DTCO[us/ft]', color='black') \n",
    "    ax1.spines['top'].set_position(('outward',0))\n",
    "    ax1.set_xlabel('DTCO[us/ft]',color='black')    \n",
    "    ax1.tick_params(axis='x', colors='black')\n",
    "    ax1.invert_xaxis()\n",
    "    #ax1.set_ylabel('Depth [ft]')\n",
    "    ax1.grid(True)\n",
    "    \n",
    "    ax2=ax[2].twiny()\n",
    "    ax2.set_xlim(80,380)\n",
    "    ax2.plot(f[N3], f.index, label='DTSMX[us/ft]', color='red') \n",
    "    ax2.spines['top'].set_position(('outward',0))\n",
    "    ax2.set_xlabel('DTSMX[us/ft]',color='red')    \n",
    "    ax2.tick_params(axis='x', colors='red')\n",
    "    ax2.invert_xaxis()\n",
    "    #ax1.set_ylabel('Depth [ft]')\n",
    "    ax2.grid(True)\n",
    "    \n",
    "    ax3=ax[3].twiny()\n",
    "    ax3.set_xlim(0.2, 1000)\n",
    "    ax3.plot(f[N4], f.index, label='Resistivity[oh.mm]', color='navy')\n",
    "    #ax3.set_xscale(\"log\", nonposx='clip')\n",
    "    ax3.set_xscale(\"log\", nonposx='clip')\n",
    "    ax3.spines['top'].set_position(('outward',0))\n",
    "    ax3.set_xlabel('Resistivity[oh.mm]',color='navy')\n",
    "    locmin = matplotlib.ticker.LogLocator(base=10.0, subs=np.arange(2, 10) * .1, numticks=100)\n",
    "    ax3.xaxis.set_minor_locator(locmin)\n",
    "    #ax3.tick_params(axis='x', which='minor')\n",
    "    ax3.tick_params(axis='x', colors='navy', which='both')\n",
    "    #ax3.xaxis.set_minor_formatter(FormatStrFormatter(\"%.1f\"))\n",
    "    ax3.xaxis.grid(True, which='minor')\n",
    "    ax3.grid(True)\n",
    "\n",
    "    ax4=ax[4].twiny()\n",
    "    CALIMIN = 6\n",
    "    CALIMAX = 19\n",
    "    ax4.set_xlim(CALIMIN, CALIMAX)\n",
    "    ax4.plot(f[N5], f.index, label='CALI[IN]', color='red')\n",
    "    ax4.spines['top'].set_position(('outward',0))\n",
    "    ax4.set_xticks(np.arange(CALIMIN, CALIMAX, 2))\n",
    "    ax4.set_xlabel('CALI[IN]-Density',color='red')    \n",
    "    ax4.tick_params(axis='x', colors='red')\n",
    "    ax4.grid(True)\n",
    "    \n",
    "    # Print Tops\n",
    "    for i in range(len(ax)):\n",
    "        for k, row in tops[(tops.MD >= top_depth) & (tops.MD <= bottom_depth)].iterrows():\n",
    "            vars()['ax'+str(i)].hlines(row['MD'], xmin=-500, xmax=800, linestyles='solid', color='k')\n",
    "            vars()['ax'+str(0)].text(f[N1].min(), row['MD'], row['Zone Name'], color='r')\n",
    "    \n",
    " \n",
    "    pic_n = input('Name for .png picture: ')\n",
    "    plt.savefig (f'./Output pictures/{pic_n}.png', dpi=300, format='png')\n",
    "    plt.show()"
   ]
  },
  {
   "cell_type": "code",
   "execution_count": null,
   "metadata": {
    "scrolled": true
   },
   "outputs": [],
   "source": [
    "plot_LCI_1X(LCI_1X_logs_1, LCI_1X_tops,'GR_MERGED','DTCO_MERGED','DTSM_MERGED','HDRS','CALIPER_MERGED')"
   ]
  },
  {
   "cell_type": "code",
   "execution_count": null,
   "metadata": {},
   "outputs": [],
   "source": [
    "def plot_LCI_1X_cali(logs,tops, N1, N2, N3, N4):\n",
    "    \n",
    "    print('Log from {} to {}: '.format(tops.MD.min(), tops.MD.max()))\n",
    "    top_depth = float(input('Top depth(#): '))\n",
    "    bottom_depth = float(input('Bottom depth(#): '))\n",
    "    print('Nemonics in LOG: ', logs.columns)\n",
    "    print('------MUST be more than 1 Nemonic------')\n",
    "    nw=4\n",
    "    well= str(input('Name of well: '))\n",
    "    f = logs[(logs.index >= top_depth) & (logs.index <= bottom_depth)]\n",
    "    fig, ax = plt.subplots(nrows=1, ncols=nw, figsize=(14,14), sharey=True, sharex=True)\n",
    "    fig.suptitle(\"Logs Visualization\" + ' ' + well, fontsize=20)\n",
    "    fig.subplots_adjust(top=0.92,wspace=0.1)\n",
    "    \n",
    "    \n",
    "    print('Nemonics in LOG: ', logs.columns)\n",
    "\n",
    "    \n",
    "    #General setting for all axis\n",
    "    \n",
    "    major_yticks = np.arange(top_depth, bottom_depth, 400)\n",
    "    minor_yticks = np.arange(top_depth, bottom_depth, 200)\n",
    "        \n",
    "    for axes in ax:\n",
    "        axes.set_ylim (top_depth,bottom_depth)\n",
    "        axes.invert_yaxis()\n",
    "        axes.yaxis.grid(True)\n",
    "        axes.get_xaxis().set_visible(False)\n",
    "        axes.set_yticks(major_yticks)\n",
    "        axes.set_yticks(minor_yticks, minor=True)\n",
    "        axes.grid(which='minor', linestyle='--')\n",
    "        axes.set_ylabel('MD[ft]')\n",
    "    \n",
    "    ax0=ax[0].twiny()\n",
    "    CALIMIN = 6\n",
    "    CALIMAX = 19\n",
    "    ax0.set_xlim(CALIMIN, CALIMAX)\n",
    "    ax0.plot(f[N1], f.index, label='CALI[IN]', color='red')\n",
    "    ax0.spines['top'].set_position(('outward',0))\n",
    "    ax0.set_xticks(np.arange(CALIMIN, CALIMAX, 2))\n",
    "    ax0.set_xlabel('CALI[IN]-DI26',color='red')    \n",
    "    ax0.tick_params(axis='x', colors='red')\n",
    "    ax0.grid(True)\n",
    "    \n",
    "    ax1=ax[1].twiny()\n",
    "    CALIMIN = 6\n",
    "    CALIMAX = 19\n",
    "    ax1.set_xlim(CALIMIN, CALIMAX)\n",
    "    ax1.plot(f[N2], f.index, label='CALI[IN]', color='blue')\n",
    "    ax1.spines['top'].set_position(('outward',0))\n",
    "    ax1.set_xticks(np.arange(CALIMIN, CALIMAX, 2))\n",
    "    ax1.set_xlabel('CALI[IN]-DI48',color='blue')    \n",
    "    ax1.tick_params(axis='x', colors='blue')\n",
    "    ax1.grid(True)\n",
    "    \n",
    "    ax2=ax[2].twiny()\n",
    "    CALIMIN = 6\n",
    "    CALIMAX = 19\n",
    "    ax2.set_xlim(CALIMIN, CALIMAX)\n",
    "    ax2.plot(f[N3], f.index, label='CALI[IN]', color='black')\n",
    "    ax2.spines['top'].set_position(('outward',0))\n",
    "    ax2.set_xticks(np.arange(CALIMIN, CALIMAX, 2))\n",
    "    ax2.set_xlabel('CALI[IN]-IECX',color='black')    \n",
    "    ax2.tick_params(axis='x', colors='black')\n",
    "    ax2.grid(True)\n",
    "    \n",
    "\n",
    "    ax3=ax[3].twiny()\n",
    "    CALIMIN = 6\n",
    "    CALIMAX = 19\n",
    "    ax3.set_xlim(CALIMIN, CALIMAX)\n",
    "    ax3.plot(f[N4], f.index, label='CALI[IN]', color='navy')\n",
    "    ax3.spines['top'].set_position(('outward',0))\n",
    "    ax3.set_xticks(np.arange(CALIMIN, CALIMAX, 2))\n",
    "    ax3.set_xlabel('CALI[IN]-IECY',color='navy')    \n",
    "    ax3.tick_params(axis='x', colors='navy')\n",
    "    ax3.grid(True)\n",
    "    \n",
    "    # Print Tops\n",
    "    for i in range(len(ax)):\n",
    "        for k, row in tops[(tops.MD >= top_depth) & (tops.MD <= bottom_depth)].iterrows():\n",
    "            vars()['ax'+str(i)].hlines(row['MD'], xmin=-500, xmax=800, linestyles='solid', color='k')\n",
    "            vars()['ax'+str(0)].text(f[N1].min(), row['MD'], row['Zone Name'], color='r')\n",
    "    \n",
    " \n",
    "    pic_n = input('Name for .png picture: ')\n",
    "    plt.savefig (f'./Output pictures/{pic_n}.png', dpi=300, format='png')\n",
    "    plt.show()"
   ]
  },
  {
   "cell_type": "code",
   "execution_count": null,
   "metadata": {
    "scrolled": true
   },
   "outputs": [],
   "source": [
    "plot_LCI_1X_cali(LCI_1X_logs_cali, LCI_1X_tops,'DI26','DI48','IECX','IECY')"
   ]
  },
  {
   "cell_type": "code",
   "execution_count": null,
   "metadata": {},
   "outputs": [],
   "source": [
    "def plot_LC_Halli(logs, tops, N1, N2, N3, N4):\n",
    "    \n",
    "    print('Log from {} to {}: '.format(tops.MD.min(), tops.MD.max()))\n",
    "    top_depth = float(input('Top depth(#): '))\n",
    "    bottom_depth = float(input('Bottom depth(#): '))\n",
    "    print('Nemonics in LOG: ', logs.columns)\n",
    "    print('------MUST be more than 1 Nemonic------')\n",
    "    nw=4\n",
    "    well= str(input('Name of well: '))\n",
    "    f = logs[(logs.index >= top_depth) & (logs.index <= bottom_depth)]\n",
    "    fig, ax = plt.subplots(nrows=1, ncols=nw, figsize=(14,14), sharey=True, sharex=True)\n",
    "    fig.suptitle(\"Logs Visualization\" + ' ' + well, fontsize=20)\n",
    "    fig.subplots_adjust(top=0.92,wspace=0.1)\n",
    "    \n",
    "    \n",
    "    print('Nemonics in LOG: ', logs.columns)\n",
    "\n",
    "    \n",
    "    #General setting for all axis\n",
    "    \n",
    "    major_yticks = np.arange(top_depth, bottom_depth, 400)\n",
    "    minor_yticks = np.arange(top_depth, bottom_depth, 200)\n",
    "        \n",
    "    for axes in ax:\n",
    "        axes.set_ylim (top_depth,bottom_depth)\n",
    "        axes.invert_yaxis()\n",
    "        axes.yaxis.grid(True)\n",
    "        axes.get_xaxis().set_visible(False)\n",
    "        axes.set_yticks(major_yticks)\n",
    "        axes.set_yticks(minor_yticks, minor=True)\n",
    "        axes.grid(which='minor', linestyle='--')\n",
    "        axes.set_ylabel('MD[ft]')\n",
    "    \n",
    "    ax0=ax[0].twiny()\n",
    "    GRMIN= 0\n",
    "    GRMAX= 151\n",
    "    ax0.set_xlim(GRMIN,GRMAX)\n",
    "    ax0.plot(f[N1], f.index, label='GR[gAPI]', color='green') \n",
    "    ax0.spines['top'].set_position(('outward',0))\n",
    "    ax0.set_xlabel('GR[api]',color='green')\n",
    "    ax0.set_xticks(np.arange(GRMIN, GRMAX, 30))\n",
    "    ax0.tick_params(axis='x', colors='green')\n",
    "    ax0.set_ylabel('Depth [ft]', color='black')\n",
    "    #ax0.get_yticklabels.set_visible(True)\n",
    "    #ax0.tick_params(axis='y', colors='black')\n",
    "    ax0.label_outer()\n",
    "    ax0.grid(True)\n",
    "    #ax0.grid(which='major')\n",
    "    #ax0.grid(which='minor', linestyle='--')\n",
    "    \n",
    "    ax1=ax[1].twiny()\n",
    "    ax1.set_xlim(40,240)\n",
    "    ax1.plot(f[N2], f.index, label='DTCO[us/ft]', color='black') \n",
    "    ax1.spines['top'].set_position(('outward',0))\n",
    "    ax1.set_xlabel('DTCO[us/ft]',color='black')    \n",
    "    ax1.tick_params(axis='x', colors='black')\n",
    "    ax1.invert_xaxis()\n",
    "    #ax1.set_ylabel('Depth [ft]')\n",
    "    ax1.grid(True)\n",
    "    \n",
    "    ax2=ax[2].twiny()\n",
    "    ax2.set_xlim(80,380)\n",
    "    ax2.plot(f[N3], f.index, label='DTSM[us/ft]', color='red') \n",
    "    ax2.spines['top'].set_position(('outward',0))\n",
    "    ax2.set_xlabel('DTSM[us/ft]',color='red')    \n",
    "    ax2.tick_params(axis='x', colors='red')\n",
    "    ax2.invert_xaxis()\n",
    "    #ax1.set_ylabel('Depth [ft]')\n",
    "    ax2.grid(True)\n",
    "    \n",
    "    ax3=ax[3].twiny()\n",
    "    ax3.set_xlim(1.5, 3)\n",
    "    ax3.plot(f[N4], f.index, label='RHOB[gr/cc]', color='blue') \n",
    "    ax3.spines['top'].set_position(('outward',0))\n",
    "    ax3.set_xlabel('RHOB[gr/cc]',color='blue')    \n",
    "    ax3.tick_params(axis='x', colors='blue')\n",
    "    ax3.grid(True)\n",
    "    \n",
    "    \n",
    "    # Print Tops\n",
    "    for i in range(len(ax)):\n",
    "        for k, row in tops[(tops.MD >= top_depth) & (tops.MD <= bottom_depth)].iterrows():\n",
    "            vars()['ax'+str(i)].hlines(row['MD'], xmin=-500, xmax=800, linestyles='solid', color='k')\n",
    "            vars()['ax'+str(0)].text(f[N1].min(), row['MD'], row['Zone Name'], color='r')\n",
    "    \n",
    " \n",
    "    pic_n = input('Name for .png picture: ')\n",
    "    plt.savefig (f'./Output pictures/{pic_n}.png', dpi=300, format='png')\n",
    "    plt.show()"
   ]
  },
  {
   "cell_type": "code",
   "execution_count": null,
   "metadata": {},
   "outputs": [],
   "source": [
    "def plot_LC5(logs,tops, N1, N2, N3, N4):\n",
    "    \n",
    "    print('Log from {} to {}: '.format(tops.MD.min(), tops.MD.max()))\n",
    "    top_depth = float(input('Top depth(#): '))\n",
    "    bottom_depth = float(input('Bottom depth(#): '))\n",
    "    print('Nemonics in LOG: ', logs.columns)\n",
    "    print('------MUST be more than 1 Nemonic------')\n",
    "    nw=4\n",
    "    well= str(input('Name of well: '))\n",
    "    f = logs[(logs.index >= top_depth) & (logs.index <= bottom_depth)]\n",
    "    fig, ax = plt.subplots(nrows=1, ncols=nw, figsize=(14,14), sharey=True, sharex=True)\n",
    "    fig.suptitle(\"Logs Visualization\" + ' ' + well, fontsize=20)\n",
    "    fig.subplots_adjust(top=0.92,wspace=0.1)\n",
    "    \n",
    "    \n",
    "    print('Nemonics in LOG: ', logs.columns)\n",
    "\n",
    "    \n",
    "    #General setting for all axis\n",
    "    \n",
    "    major_yticks = np.arange(top_depth, bottom_depth, 400)\n",
    "    minor_yticks = np.arange(top_depth, bottom_depth, 200)\n",
    "        \n",
    "    for axes in ax:\n",
    "        axes.set_ylim (top_depth,bottom_depth)\n",
    "        axes.invert_yaxis()\n",
    "        axes.yaxis.grid(True)\n",
    "        axes.get_xaxis().set_visible(False)\n",
    "        axes.set_yticks(major_yticks)\n",
    "        axes.set_yticks(minor_yticks, minor=True)\n",
    "        axes.grid(which='minor', linestyle='--')\n",
    "        axes.set_ylabel('MD[ft]')\n",
    "    \n",
    "    ax0=ax[0].twiny()\n",
    "    GRMIN= 0\n",
    "    GRMAX= 151\n",
    "    ax0.set_xlim(GRMIN,GRMAX)\n",
    "    ax0.plot(f[N1], f.index, label='GR[gAPI]', color='green') \n",
    "    ax0.spines['top'].set_position(('outward',0))\n",
    "    ax0.set_xlabel('GR[api]',color='green')\n",
    "    ax0.set_xticks(np.arange(GRMIN, GRMAX, 30))\n",
    "    ax0.tick_params(axis='x', colors='green')\n",
    "    ax0.set_ylabel('Depth [ft]', color='black')\n",
    "    #ax0.get_yticklabels.set_visible(True)\n",
    "    #ax0.tick_params(axis='y', colors='black')\n",
    "    ax0.label_outer()\n",
    "    ax0.grid(True)\n",
    "    #ax0.grid(which='major')\n",
    "    #ax0.grid(which='minor', linestyle='--')\n",
    "    \n",
    "    ax1=ax[1].twiny()\n",
    "    ax1.set_xlim(1.5, 3)\n",
    "    ax1.plot(f[N2], f.index, label='RHOB[gr/cc]', color='blue') \n",
    "    ax1.spines['top'].set_position(('outward',0))\n",
    "    ax1.set_xlabel('RHOB[gr/cc]',color='blue')    \n",
    "    ax1.tick_params(axis='x', colors='blue')\n",
    "    ax1.grid(True)\n",
    "    \n",
    "    ax2=ax[2].twiny()\n",
    "    ax2.set_xlim(0.2, 1000)\n",
    "    ax2.plot(f[N3], f.index, label='Resistivity[oh.mm]', color='navy')\n",
    "    #ax2.set_xscale(\"log\", nonposx='clip')\n",
    "    ax2.set_xscale(\"log\", nonposx='clip')\n",
    "    ax2.spines['top'].set_position(('outward',0))\n",
    "    ax2.set_xlabel('Resistivity[oh.mm]',color='navy')\n",
    "    locmin = matplotlib.ticker.LogLocator(base=10.0, subs=np.arange(2, 10) * .1, numticks=100)\n",
    "    ax2.xaxis.set_minor_locator(locmin)\n",
    "    #ax2.tick_params(axis='x', which='minor')\n",
    "    ax2.tick_params(axis='x', colors='navy', which='both')\n",
    "    #ax2.xaxis.set_minor_formatter(FormatStrFormatter(\"%.1f\"))\n",
    "    ax2.xaxis.grid(True, which='minor')\n",
    "    ax2.grid(True)\n",
    "\n",
    "\n",
    "    ax3=ax[3].twiny()\n",
    "    CALIMIN = 6\n",
    "    CALIMAX = 18\n",
    "    ax3.set_xlim(CALIMIN, CALIMAX)\n",
    "    ax3.plot(f[N4], f.index, label='CALI[IN]', color='red')\n",
    "    ax3.spines['top'].set_position(('outward',0))\n",
    "    ax3.set_xticks(np.arange(CALIMIN, CALIMAX, 2))\n",
    "    ax3.set_xlabel('CALI[IN]',color='red')    \n",
    "    ax3.tick_params(axis='x', colors='red')\n",
    "    ax3.grid(True)\n",
    "    \n",
    "    # Print Tops\n",
    "    for i in range(len(ax)):\n",
    "        for k, row in tops[(tops.MD >= top_depth) & (tops.MD <= bottom_depth)].iterrows():\n",
    "            vars()['ax'+str(i)].hlines(row['MD'], xmin=-500, xmax=800, linestyles='solid', color='k')\n",
    "            vars()['ax'+str(0)].text(f[N1].min(), row['MD'], row['Zone Name'], color='r')\n",
    "    \n",
    " \n",
    "    pic_n = input('Name for .png picture: ')\n",
    "    plt.savefig (f'./Output pictures/{pic_n}.png', dpi=300, format='png')\n",
    "    plt.show()"
   ]
  },
  {
   "cell_type": "code",
   "execution_count": null,
   "metadata": {
    "scrolled": true
   },
   "outputs": [],
   "source": [
    "plot_LC5(LC5_logs_1, LC5_tops, 'GR_MERGED', 'RHOB_MERGED', 'HDRS', 'HCAL_MERGED')"
   ]
  },
  {
   "cell_type": "code",
   "execution_count": null,
   "metadata": {},
   "outputs": [],
   "source": [
    "def plot_LC_D1(logs, tops, N1, N2, N3, N4, N5, N6):\n",
    "    \n",
    "    print('Log from {} to {}: '.format(tops.MD.min(), tops.MD.max()))\n",
    "    top_depth = float(input('Top depth(#): '))\n",
    "    bottom_depth = float(input('Bottom depth(#): '))\n",
    "    print('Nemonics in LOG: ', logs.columns)\n",
    "    print('------MUST be more than 1 Nemonic------')\n",
    "    nw=6\n",
    "    well= str(input('Name of well: '))\n",
    "    f = logs[(logs.index >= top_depth) & (logs.index <= bottom_depth)]\n",
    "    fig, ax = plt.subplots(nrows=1, ncols=nw, figsize=(14,14), sharey=True, sharex=True)\n",
    "    fig.suptitle(\"Logs Visualization\" + ' ' + well, fontsize=20)\n",
    "    fig.subplots_adjust(top=0.92,wspace=0.1)\n",
    "    \n",
    "    \n",
    "    print('Nemonics in LOG: ', logs.columns)\n",
    "\n",
    "    \n",
    "    #General setting for all axis\n",
    "    \n",
    "    major_yticks = np.arange(top_depth, bottom_depth, 400)\n",
    "    minor_yticks = np.arange(top_depth, bottom_depth, 200)\n",
    "        \n",
    "    for axes in ax:\n",
    "        axes.set_ylim (top_depth,bottom_depth)\n",
    "        axes.invert_yaxis()\n",
    "        axes.yaxis.grid(True)\n",
    "        axes.get_xaxis().set_visible(False)\n",
    "        axes.set_yticks(major_yticks)\n",
    "        axes.set_yticks(minor_yticks, minor=True)\n",
    "        axes.grid(which='minor', linestyle='--')\n",
    "        axes.set_ylabel('MD[ft]')\n",
    "    \n",
    "    ax0=ax[0].twiny()\n",
    "    GRMIN= 0\n",
    "    GRMAX= 151\n",
    "    ax0.set_xlim(GRMIN,GRMAX)\n",
    "    ax0.plot(f[N1], f.index, label='GR[gAPI]', color='green') \n",
    "    ax0.spines['top'].set_position(('outward',0))\n",
    "    ax0.set_xlabel('GR[api]',color='green')\n",
    "    ax0.set_xticks(np.arange(GRMIN, GRMAX, 30))\n",
    "    ax0.tick_params(axis='x', colors='green')\n",
    "    ax0.set_ylabel('Depth [ft]', color='black')\n",
    "    #ax0.get_yticklabels.set_visible(True)\n",
    "    #ax0.tick_params(axis='y', colors='black')\n",
    "    ax0.label_outer()\n",
    "    ax0.grid(True)\n",
    "    #ax0.grid(which='major')\n",
    "    #ax0.grid(which='minor', linestyle='--')\n",
    "    \n",
    "    ax1=ax[1].twiny()\n",
    "    ax1.set_xlim(40,240)\n",
    "    ax1.plot(f[N2], f.index, label='DTCO[us/ft]', color='black') \n",
    "    ax1.spines['top'].set_position(('outward',0))\n",
    "    ax1.set_xlabel('DTCO[us/ft]',color='black')    \n",
    "    ax1.tick_params(axis='x', colors='black')\n",
    "    ax1.invert_xaxis()\n",
    "    #ax1.set_ylabel('Depth [ft]')\n",
    "    ax1.grid(True)\n",
    "    \n",
    "    ax2=ax[2].twiny()\n",
    "    ax2.set_xlim(80,380)\n",
    "    ax2.plot(f[N3], f.index, label='DTSM[us/ft]', color='red') \n",
    "    ax2.spines['top'].set_position(('outward',0))\n",
    "    ax2.set_xlabel('DTSM[us/ft]',color='red')    \n",
    "    ax2.tick_params(axis='x', colors='red')\n",
    "    ax2.invert_xaxis()\n",
    "    #ax1.set_ylabel('Depth [ft]')\n",
    "    ax2.grid(True)\n",
    "    \n",
    "    ax3=ax[3].twiny()\n",
    "    ax3.set_xlim(1.5, 3)\n",
    "    ax3.plot(f[N4], f.index, label='RHOB[gr/cc]', color='blue') \n",
    "    ax3.spines['top'].set_position(('outward',0))\n",
    "    ax3.set_xlabel('RHOB[gr/cc]',color='blue')    \n",
    "    ax3.tick_params(axis='x', colors='blue')\n",
    "    ax3.grid(True)\n",
    "    \n",
    "    ax4=ax[4].twiny()\n",
    "    ax4.set_xlim(0.2, 1000)\n",
    "    ax4.plot(f[N5], f.index, label='Resistivity[oh.mm]', color='navy')\n",
    "    #ax4.set_xscale(\"log\", nonposx='clip')\n",
    "    ax4.set_xscale(\"log\", nonposx='clip')\n",
    "    ax4.spines['top'].set_position(('outward',0))\n",
    "    ax4.set_xlabel('Resistivity[oh.mm]',color='navy')\n",
    "    locmin = matplotlib.ticker.LogLocator(base=10.0, subs=np.arange(2, 10) * .1, numticks=100)\n",
    "    ax4.xaxis.set_minor_locator(locmin)\n",
    "    #ax4.tick_params(axis='x', which='minor')\n",
    "    ax4.tick_params(axis='x', colors='navy', which='both')\n",
    "    #ax4.xaxis.set_minor_formatter(FormatStrFormatter(\"%.1f\"))\n",
    "    ax4.xaxis.grid(True, which='minor')\n",
    "    ax4.grid(True)\n",
    "    \n",
    "    ax5=ax[5].twiny()\n",
    "    CALIMIN = 6\n",
    "    CALIMAX = 18\n",
    "    ax5.set_xlim(CALIMIN, CALIMAX)\n",
    "    ax5.plot(f[N6], f.index, label='CALI[IN]', color='red')\n",
    "    ax5.spines['top'].set_position(('outward',0))\n",
    "    ax5.set_xticks(np.arange(CALIMIN, CALIMAX, 2))\n",
    "    ax5.set_xlabel('CALI[IN]',color='red')    \n",
    "    ax5.tick_params(axis='x', colors='red')\n",
    "    ax5.grid(True)\n",
    "    \n",
    "    # Print Tops\n",
    "    for i in range(len(ax)):\n",
    "        for k, row in tops[(tops.MD >= top_depth) & (tops.MD <= bottom_depth)].iterrows():\n",
    "            vars()['ax'+str(i)].hlines(row['MD'], xmin=-500, xmax=800, linestyles='solid', color='k')\n",
    "            vars()['ax'+str(0)].text(f[N1].min(), row['MD'], row['Zone Name'], color='r')\n",
    "    \n",
    " \n",
    "    pic_n = input('Name for .png picture: ')\n",
    "    plt.savefig (f'./Output pictures/{pic_n}.png', dpi=300, format='png')\n",
    "    plt.show()"
   ]
  },
  {
   "cell_type": "code",
   "execution_count": null,
   "metadata": {},
   "outputs": [],
   "source": [
    "LCD1"
   ]
  },
  {
   "cell_type": "code",
   "execution_count": null,
   "metadata": {
    "scrolled": true
   },
   "outputs": [],
   "source": [
    "plot_LC_D1(LCD1_logs_1, LCD1_tops, 'GR_MERGED', 'DTCO_MERGED', 'DTSM_MERGED', 'RHOB_MERGED', 'HDRS', 'HCAL_MERGED')"
   ]
  },
  {
   "cell_type": "code",
   "execution_count": null,
   "metadata": {},
   "outputs": [],
   "source": [
    "def plot_LC_D1_Dipolar(logs, tops, N1, N2, N3, N4, N5, N6):\n",
    "    \n",
    "    print('Log from {} to {}: '.format(tops.MD.min(), tops.MD.max()))\n",
    "    top_depth = float(input('Top depth(#): '))\n",
    "    bottom_depth = float(input('Bottom depth(#): '))\n",
    "    print('Nemonics in LOG: ', logs.columns)\n",
    "    print('------MUST be more than 1 Nemonic------')\n",
    "    nw=3\n",
    "    well= str(input('Name of well: '))\n",
    "    f = logs[(logs.index >= top_depth) & (logs.index <= bottom_depth)]\n",
    "    fig, ax = plt.subplots(nrows=1, ncols=nw, figsize=(10,14), sharey=True, sharex=True)\n",
    "    fig.suptitle(\"Logs Visualization\" + ' ' + well, fontsize=20)\n",
    "    fig.subplots_adjust(top=0.82,wspace=0.1)\n",
    "    \n",
    "    \n",
    "    print('Nemonics in LOG: ', logs.columns)\n",
    "\n",
    "    \n",
    "    #General setting for all axis\n",
    "    \n",
    "    major_yticks = np.arange(top_depth, bottom_depth, 50)\n",
    "    minor_yticks = np.arange(top_depth, bottom_depth, 10)\n",
    "        \n",
    "    for axes in ax:\n",
    "        axes.set_ylim (top_depth,bottom_depth)\n",
    "        axes.invert_yaxis()\n",
    "        axes.yaxis.grid(True)\n",
    "        axes.get_xaxis().set_visible(False)\n",
    "        axes.set_yticks(major_yticks)\n",
    "        axes.set_yticks(minor_yticks, minor=True)\n",
    "        axes.grid(which='minor', linestyle='--')\n",
    "        axes.set_ylabel('MD[ft]')\n",
    "    \n",
    "    ax0=ax[0].twiny()\n",
    "    GRMIN= 0\n",
    "    GRMAX= 151\n",
    "    ax0.set_xlim(GRMIN,GRMAX)\n",
    "    ax0.plot(f[N1], f.index, label='GR[gAPI]', color='green') \n",
    "    ax0.spines['top'].set_position(('outward',0))\n",
    "    ax0.set_xlabel('GR[api]',color='green')\n",
    "    ax0.set_xticks(np.arange(GRMIN, GRMAX, 30))\n",
    "    ax0.tick_params(axis='x', colors='green')\n",
    "    ax0.set_ylabel('Depth [ft]', color='black')\n",
    "    #ax0.get_yticklabels.set_visible(True)\n",
    "    #ax0.tick_params(axis='y', colors='black')\n",
    "    ax0.label_outer()\n",
    "    ax0.grid(True)\n",
    "    #ax0.grid(which='major')\n",
    "    #ax0.grid(which='minor', linestyle='--')\n",
    "    \n",
    "    ax1=ax[1].twiny()\n",
    "    ax1.set_xlim(100,150)\n",
    "    ax1.plot(f[N2], f.index, label='DTS1[us/ft]', color='black') \n",
    "    ax1.spines['top'].set_position(('outward',0))\n",
    "    ax1.set_xlabel('DTS1[us/ft]',color='black')    \n",
    "    ax1.tick_params(axis='x', colors='black')\n",
    "    ax1.invert_xaxis()\n",
    "    #ax1.set_ylabel('Depth [ft]')\n",
    "    ax1.grid(True)\n",
    "    \n",
    "    ax2=ax[1].twiny()\n",
    "    ax2.set_xlim(100,150)\n",
    "    ax2.plot(f[N3], f.index, label='DTS3[us/ft]', color='red') \n",
    "    ax2.spines['top'].set_position(('outward',40))\n",
    "    ax2.set_xlabel('DTS3[us/ft]',color='red')    \n",
    "    ax2.tick_params(axis='x', colors='red')\n",
    "    ax2.invert_xaxis()\n",
    "    #ax1.set_ylabel('Depth [ft]')\n",
    "    ax2.grid(True)\n",
    "    \n",
    "    ax3=ax[1].twiny()\n",
    "    ax3.set_xlim(100,150)\n",
    "    ax3.plot(f[N4], f.index, label='DTS5[us/ft]', color='blue') \n",
    "    ax3.spines['top'].set_position(('outward',80))\n",
    "    ax3.set_xlabel('DTS5[us/ft]',color='blue')    \n",
    "    ax3.tick_params(axis='x', colors='blue')\n",
    "    ax3.invert_xaxis()\n",
    "    #ax1.set_ylabel('Depth [ft]')\n",
    "    ax3.grid(True)\n",
    "    \n",
    "    ax4=ax[2].twiny()\n",
    "    CALIMIN = 6\n",
    "    CALIMAX = 7\n",
    "    ax4.set_xlim(CALIMIN, CALIMAX)\n",
    "    ax4.plot(f[N5], f.index, label='CALI[IN]', color='red')\n",
    "    ax4.spines['top'].set_position(('outward',0))\n",
    "    ax4.set_xticks(np.arange(CALIMIN, CALIMAX, 0.2))\n",
    "    ax4.set_xlabel('CALI HD1[IN]',color='red')    \n",
    "    ax4.tick_params(axis='x', colors='red')\n",
    "    ax4.grid(True)\n",
    "    \n",
    "    ax5=ax[2].twiny()\n",
    "#     CALIMIN = 6\n",
    "#     CALIMAX = 18\n",
    "    ax5.set_xlim(CALIMIN, CALIMAX)\n",
    "    ax5.plot(f[N6], f.index, label='CALI[IN]', color='navy')\n",
    "    ax5.spines['top'].set_position(('outward',40))\n",
    "    ax5.set_xticks(np.arange(CALIMIN, CALIMAX, 0.2))\n",
    "    ax5.set_xlabel('CALI HD2[IN]',color='navy')    \n",
    "    ax5.tick_params(axis='x', colors='navy')\n",
    "    ax5.grid(True)\n",
    "    \n",
    "    # Print Tops\n",
    "    for i in range(len(ax)):\n",
    "        for k, row in tops[(tops.MD >= top_depth) & (tops.MD <= bottom_depth)].iterrows():\n",
    "            vars()['ax'+str(i)].hlines(row['MD'], xmin=-500, xmax=800, linestyles='solid', color='k')\n",
    "            vars()['ax'+str(0)].text(f[N1].min(), row['MD'], row['Zone Name'], color='r')\n",
    "    \n",
    " \n",
    "    pic_n = input('Name for .png picture: ')\n",
    "    plt.savefig (f'./Output pictures/{pic_n}.png', dpi=300, format='png')\n",
    "    plt.show()"
   ]
  },
  {
   "cell_type": "code",
   "execution_count": null,
   "metadata": {},
   "outputs": [],
   "source": [
    "LCD1_logs_dipolar.columns"
   ]
  },
  {
   "cell_type": "code",
   "execution_count": null,
   "metadata": {
    "scrolled": true
   },
   "outputs": [],
   "source": [
    "plot_LC_D1_Dipolar(LCD1_logs_dipolar, LC1_tops, 'GR', 'DTSH1', 'DTSH3', 'DTSH5', 'HD1_PPC1', 'HD2_PPC1')"
   ]
  },
  {
   "cell_type": "code",
   "execution_count": null,
   "metadata": {},
   "outputs": [],
   "source": [
    "def plot_Apamate_1(logs, tops, N1, N2, N3, N4, N5, N6):\n",
    "    \n",
    "    print('Log from {} to {}: '.format(tops.MD.min(), tops.MD.max()))\n",
    "    top_depth = float(input('Top depth(#): '))\n",
    "    bottom_depth = float(input('Bottom depth(#): '))\n",
    "    print('Nemonics in LOG: ', logs.columns)\n",
    "    print('------MUST be more than 1 Nemonic------')\n",
    "    nw=6\n",
    "    well= str(input('Name of well: '))\n",
    "    f = logs[(logs.index >= top_depth) & (logs.index <= bottom_depth)]\n",
    "    fig, ax = plt.subplots(nrows=1, ncols=nw, figsize=(14,14), sharey=True, sharex=True)\n",
    "    fig.suptitle(\"Logs Visualization\" + ' ' + well, fontsize=20)\n",
    "    fig.subplots_adjust(top=0.91,wspace=0.1)\n",
    "    \n",
    "    \n",
    "    print('Nemonics in LOG: ', logs.columns)\n",
    "\n",
    "    \n",
    "    #General setting for all axis\n",
    "    \n",
    "    major_yticks = np.arange(top_depth, bottom_depth, 400)\n",
    "    minor_yticks = np.arange(top_depth, bottom_depth, 200)\n",
    "        \n",
    "    for axes in ax:\n",
    "        axes.set_ylim (top_depth,bottom_depth)\n",
    "        axes.invert_yaxis()\n",
    "        axes.yaxis.grid(True)\n",
    "        axes.get_xaxis().set_visible(False)\n",
    "        axes.set_yticks(major_yticks)\n",
    "        axes.set_yticks(minor_yticks, minor=True)\n",
    "        axes.grid(which='minor', linestyle='--')\n",
    "        axes.set_ylabel('MD[ft]')\n",
    "    \n",
    "    ax0=ax[0].twiny()\n",
    "    GRMIN= 0\n",
    "    GRMAX= 151\n",
    "    ax0.set_xlim(GRMIN,GRMAX)\n",
    "    ax0.plot(f[N1], f.index, label='GR[gAPI]', color='green') \n",
    "    ax0.spines['top'].set_position(('outward',0))\n",
    "    ax0.set_xlabel('GR[api]',color='green')\n",
    "    ax0.set_xticks(np.arange(GRMIN, GRMAX, 30))\n",
    "    ax0.tick_params(axis='x', colors='green')\n",
    "    ax0.set_ylabel('MD [ft]', color='black')\n",
    "    #ax0.get_yticklabels.set_visible(True)\n",
    "    #ax0.tick_params(axis='y', colors='black')\n",
    "    ax0.label_outer()\n",
    "    ax0.grid(True)\n",
    "    #ax0.grid(which='major')\n",
    "    #ax0.grid(which='minor', linestyle='--')\n",
    "    \n",
    "    ax1=ax[1].twiny()\n",
    "    ax1.set_xlim(40,240)\n",
    "    ax1.plot(f[N2], f.index, label='DTCO[us/ft]', color='black') \n",
    "    ax1.spines['top'].set_position(('outward',0))\n",
    "    ax1.set_xlabel('DTCO[us/ft]',color='black')    \n",
    "    ax1.tick_params(axis='x', colors='black')\n",
    "    ax1.invert_xaxis()\n",
    "    #ax1.set_ylabel('Depth [ft]')\n",
    "    ax1.grid(True)\n",
    "    \n",
    "    ax2=ax[2].twiny()\n",
    "    ax2.set_xlim(80,380)\n",
    "    ax2.plot(f[N3], f.index, label='DTSM[us/ft]', color='red') \n",
    "    ax2.spines['top'].set_position(('outward',0))\n",
    "    ax2.set_xlabel('DTSM[us/ft]',color='red')    \n",
    "    ax2.tick_params(axis='x', colors='red')\n",
    "    ax2.invert_xaxis()\n",
    "    #ax1.set_ylabel('Depth [ft]')\n",
    "    ax2.grid(True)\n",
    "    \n",
    "    \n",
    "    ax3=ax[3].twiny()\n",
    "    ax3.set_xlim(0.2, 1000)\n",
    "    ax3.plot(f[N4], f.index, label='Resistivity[oh.mm]', color='navy')\n",
    "    #ax3.set_xscale(\"log\", nonposx='clip')\n",
    "    ax3.set_xscale(\"log\", nonposx='clip')\n",
    "    ax3.spines['top'].set_position(('outward',0))\n",
    "    ax3.set_xlabel('Resistivity[oh.mm]',color='navy')\n",
    "    locmin = matplotlib.ticker.LogLocator(base=10.0, subs=np.arange(2, 10) * .1, numticks=100)\n",
    "    ax3.xaxis.set_minor_locator(locmin)\n",
    "    #ax3.tick_params(axis='x', which='minor')\n",
    "    ax3.tick_params(axis='x', colors='navy', which='both')\n",
    "    #ax3.xaxis.set_minor_formatter(FormatStrFormatter(\"%.1f\"))\n",
    "    ax3.xaxis.grid(True, which='minor')\n",
    "    ax3.grid(True)\n",
    "    \n",
    "    ax4=ax[4].twiny()\n",
    "    ax4.set_xlim(1.5, 3)\n",
    "    ax4.plot(f[N5], f.index, label='RHOB[gr/cc]', color='blue') \n",
    "    ax4.spines['top'].set_position(('outward',0))\n",
    "    ax4.set_xlabel('RHOB[gr/cc]',color='blue')    \n",
    "    ax4.tick_params(axis='x', colors='blue')\n",
    "    ax4.grid(True)\n",
    "    \n",
    "    ax5=ax[5].twiny()\n",
    "    CALIMIN = 6\n",
    "    CALIMAX = 18\n",
    "    ax5.set_xlim(CALIMIN, CALIMAX)\n",
    "    ax5.plot(f[N6], f.index, label='CALI[IN]', color='red')\n",
    "    ax5.spines['top'].set_position(('outward',0))\n",
    "    ax5.set_xticks(np.arange(CALIMIN, CALIMAX, 2))\n",
    "    ax5.set_xlabel('CALI[IN]',color='red')    \n",
    "    ax5.tick_params(axis='x', colors='red')\n",
    "    ax5.grid(True)\n",
    "    \n",
    "    # Print Tops\n",
    "    for i in range(len(ax)):\n",
    "        for k, row in tops[(tops.MD >= top_depth) & (tops.MD <= bottom_depth)].iterrows():\n",
    "            vars()['ax'+str(i)].hlines(row['MD'], xmin=-500, xmax=800, linestyles='solid', color='k')\n",
    "            vars()['ax'+str(0)].text(f[N1].min(), row['MD'], row['Zone Name'], color='r')\n",
    "    \n",
    " \n",
    "    pic_n = input('Name for .png picture: ')\n",
    "    plt.savefig (f'./Output pictures/{pic_n}.png', dpi=300, format='png')\n",
    "    plt.show()"
   ]
  },
  {
   "cell_type": "code",
   "execution_count": null,
   "metadata": {},
   "outputs": [],
   "source": [
    "Apamate_1_logs_1.columns"
   ]
  },
  {
   "cell_type": "code",
   "execution_count": null,
   "metadata": {
    "scrolled": true
   },
   "outputs": [],
   "source": [
    "plot_Apamate_1(Apamate_1_logs_1, Apamate_1_tops, 'GR_MERGED', 'DTCO_MERGED', 'DTSM_MERGED', 'AT60_MERGED', 'RHOB_MERGED', 'HCAL_MERGED')"
   ]
  },
  {
   "cell_type": "markdown",
   "metadata": {},
   "source": [
    "## Add TVD and TVDBGL to logs"
   ]
  },
  {
   "cell_type": "code",
   "execution_count": null,
   "metadata": {},
   "outputs": [],
   "source": [
    "def add_wellpath_logs (logs, well_path):\n",
    "    #add TVD\n",
    "    tvd = np.array([])    \n",
    "    for depth in logs.index:\n",
    "        tvd = np.append(tvd, np.interp(depth, well_path.index, well_path.TVD))        \n",
    "    logs['TVD'] = pd.DataFrame(tvd, index=logs.index)\n",
    "    logs['TVD_ft'] = pd.DataFrame(tvd*3.28, index=logs.index)\n",
    "    #add TVDBGL\n",
    "    tvdbgl = np.array([])    \n",
    "    for depth in logs.index:\n",
    "        tvdbgl = np.append(tvdbgl, np.interp(depth, well_path.index, well_path.TVDBGL))        \n",
    "    logs['TVDBGL'] = pd.DataFrame(tvdbgl, index=logs.index)\n",
    "    logs['TVDBGL_ft'] = pd.DataFrame(tvdbgl*3.28, index=logs.index)\n",
    "        \n",
    "    #add INC, AZ\n",
    "    azi = np.array([])\n",
    "    incl=np.array([])\n",
    "    for depth in logs.index:\n",
    "        azi = np.append(azi, np.interp(depth, well_path.index, well_path.AZ))\n",
    "        incl = np.append(incl, np.interp(depth, well_path.index, well_path.INC))\n",
    "    logs['AZI'] = pd.DataFrame(azi, index=logs.index)\n",
    "    logs['INC'] = pd.DataFrame(incl, index=logs.index)\n",
    "    \n",
    "    print('TVD, TVDBLG, INC and AZI were added')"
   ]
  },
  {
   "cell_type": "code",
   "execution_count": null,
   "metadata": {},
   "outputs": [],
   "source": [
    "add_wellpath_logs(HOKCHI_11DES_L1, HOKCHI_11DES_wellpath)"
   ]
  },
  {
   "cell_type": "code",
   "execution_count": null,
   "metadata": {},
   "outputs": [],
   "source": [
    "add_wellpath_logs(HOKCHI_7_DES_logs, HOKCHI_7DES_wellpath)"
   ]
  },
  {
   "cell_type": "code",
   "execution_count": null,
   "metadata": {},
   "outputs": [],
   "source": [
    "add_wellpath_logs(HOKCHI_7_DES_logs_2, HOKCHI_7DES_wellpath)"
   ]
  },
  {
   "cell_type": "code",
   "execution_count": null,
   "metadata": {},
   "outputs": [],
   "source": [
    "add_wellpath_logs(HOKCHI_7_DES_logs_3, HOKCHI_7DES_wellpath)"
   ]
  },
  {
   "cell_type": "code",
   "execution_count": null,
   "metadata": {},
   "outputs": [],
   "source": [
    "add_wellpath_logs(HOKCHI_8H_LOGS, HOKCHI_8H_wellpath)"
   ]
  },
  {
   "cell_type": "code",
   "execution_count": null,
   "metadata": {},
   "outputs": [],
   "source": [
    "HOKCHI_8H_LOGS"
   ]
  },
  {
   "cell_type": "code",
   "execution_count": null,
   "metadata": {},
   "outputs": [],
   "source": [
    "add_wellpath_logs(HOKCHI_8H_PD_LOGS, HOKCHI_8H_PD_wellpath)"
   ]
  },
  {
   "cell_type": "code",
   "execution_count": null,
   "metadata": {},
   "outputs": [],
   "source": [
    "HOKCHI_8H_PD_LOGS"
   ]
  },
  {
   "cell_type": "code",
   "execution_count": null,
   "metadata": {},
   "outputs": [],
   "source": [
    "add_wellpath_logs(HOKCHI_9H_LOGS, HOKCHI_9H_wellpath)"
   ]
  },
  {
   "cell_type": "code",
   "execution_count": null,
   "metadata": {},
   "outputs": [],
   "source": [
    "HOKCHI_9H_LOGS"
   ]
  },
  {
   "cell_type": "markdown",
   "metadata": {},
   "source": [
    "## Add Wellpath to Tops"
   ]
  },
  {
   "cell_type": "code",
   "execution_count": null,
   "metadata": {},
   "outputs": [],
   "source": [
    "def add_wellpath_tops (tops, well_path):\n",
    "    #add TVD\n",
    "    tvd = np.array([])    \n",
    "    for depth in tops.MD:\n",
    "        tvd = np.append(tvd, np.interp(depth, well_path.index, well_path.TVD))        \n",
    "    tops['TVD'] = pd.DataFrame(tvd, index=tops.index)\n",
    "    #add TVDBGL\n",
    "    tvdbgl = np.array([])    \n",
    "    for depth in tops.MD:\n",
    "        tvdbgl = np.append(tvdbgl, np.interp(depth, well_path.index, well_path.TVDBGL))        \n",
    "    tops['TVDBGL'] = pd.DataFrame(tvdbgl, index=tops.index)\n",
    "    print('TVD and TVDBLG were added')"
   ]
  },
  {
   "cell_type": "code",
   "execution_count": null,
   "metadata": {},
   "outputs": [],
   "source": [
    "def add_wellpath_logs (logs, well_path):\n",
    "    #add TVD\n",
    "    tvd = np.array([])    \n",
    "    for depth in logs.index:\n",
    "        tvd = np.append(tvd, np.interp(depth, well_path.index, well_path.TVD))        \n",
    "    logs['TVD'] = pd.DataFrame(tvd, index=logs.index)\n",
    "    logs['TVD_ft'] = pd.DataFrame(tvd*3.28, index=logs.index)\n",
    "    #add TVDBGL\n",
    "    tvdbgl = np.array([])    \n",
    "    for depth in logs.index:\n",
    "        tvdbgl = np.append(tvdbgl, np.interp(depth, well_path.index, well_path.TVDBGL))        \n",
    "    logs['TVDBGL'] = pd.DataFrame(tvdbgl, index=logs.index)\n",
    "    logs['TVDBGL_ft'] = pd.DataFrame(tvdbgl*3.28, index=logs.index)\n",
    "        \n",
    "    #add INC, AZ\n",
    "    azi = np.array([])\n",
    "    incl=np.array([])\n",
    "    for depth in logs.index:\n",
    "        azi = np.append(azi, np.interp(depth, well_path.index, well_path.AZ))\n",
    "        incl = np.append(incl, np.interp(depth, well_path.index, well_path.INC))\n",
    "    logs['AZI'] = pd.DataFrame(azi, index=logs.index)\n",
    "    logs['INC'] = pd.DataFrame(incl, index=logs.index)\n",
    "    \n",
    "    print('TVD, TVDBLG, INC and AZI were added')"
   ]
  },
  {
   "cell_type": "code",
   "execution_count": null,
   "metadata": {},
   "outputs": [],
   "source": [
    "add_wellpath_tops(HOKCHI_11DES_tops, HOKCHI_11DES_wellpath)"
   ]
  },
  {
   "cell_type": "code",
   "execution_count": null,
   "metadata": {},
   "outputs": [],
   "source": [
    "add_wellpath_tops(HOKCHI_7DES_tops, HOKCHI_7DES_wellpath)"
   ]
  },
  {
   "cell_type": "code",
   "execution_count": null,
   "metadata": {},
   "outputs": [],
   "source": [
    "HOKCHI_7DES_tops"
   ]
  },
  {
   "cell_type": "code",
   "execution_count": null,
   "metadata": {},
   "outputs": [],
   "source": [
    "add_wellpath_tops(HOKCHI_8H_tops, HOKCHI_8H_wellpath)"
   ]
  },
  {
   "cell_type": "code",
   "execution_count": null,
   "metadata": {
    "scrolled": true
   },
   "outputs": [],
   "source": [
    "HOKCHI_8H_tops"
   ]
  },
  {
   "cell_type": "code",
   "execution_count": null,
   "metadata": {},
   "outputs": [],
   "source": [
    "add_wellpath_tops(HOKCHI_8H_PD_tops, HOKCHI_8H_PD_wellpath)"
   ]
  },
  {
   "cell_type": "code",
   "execution_count": null,
   "metadata": {
    "scrolled": true
   },
   "outputs": [],
   "source": [
    "HOKCHI_8H_PD_tops"
   ]
  },
  {
   "cell_type": "code",
   "execution_count": null,
   "metadata": {},
   "outputs": [],
   "source": [
    "add_wellpath_tops(HOKCHI_9H_tops, HOKCHI_9H_wellpath)"
   ]
  },
  {
   "cell_type": "code",
   "execution_count": null,
   "metadata": {},
   "outputs": [],
   "source": [
    "HOKCHI_9H_tops"
   ]
  },
  {
   "cell_type": "code",
   "execution_count": null,
   "metadata": {},
   "outputs": [],
   "source": [
    "MA_14B_T2_wellpath[(MA_14B_T2_wellpath['TVDBGL']<2621.33)]"
   ]
  },
  {
   "cell_type": "code",
   "execution_count": null,
   "metadata": {},
   "outputs": [],
   "source": [
    "save_file(LC1_logs_1['CALA'], 'CALIPER_LC-1')"
   ]
  },
  {
   "cell_type": "code",
   "execution_count": null,
   "metadata": {},
   "outputs": [],
   "source": [
    "def plot_ALL_GR(logs1, N1, logs2, N2, logs3, N3, logs4, N4, logs5, N5, logs6, N6, logs7, N7):\n",
    "    \n",
    "    top_depth = float(input('Top depth(#): '))\n",
    "    bottom_depth = float(input('Bottom depth(#): '))\n",
    "    nw=7\n",
    "    well= str(input('Name of well: '))\n",
    "    #f = logs[(logs.index >= top_depth) & (logs.index <= bottom_depth)]\n",
    "    fig, ax = plt.subplots(nrows=1, ncols=nw, figsize=(14,14), sharey=True, sharex=True)\n",
    "    fig.suptitle(\"Logs Visualization\" + ' ' + well, fontsize=20)\n",
    "    fig.subplots_adjust(top=0.87,wspace=0.1)\n",
    "          \n",
    "    #General setting for all axis\n",
    "    \n",
    "    major_yticks = np.arange(top_depth, bottom_depth, 400)\n",
    "    minor_yticks = np.arange(top_depth, bottom_depth, 200)\n",
    "        \n",
    "    for axes in ax:\n",
    "        axes.set_ylim (top_depth,bottom_depth)\n",
    "        axes.invert_yaxis()\n",
    "        axes.yaxis.grid(True)\n",
    "        axes.get_xaxis().set_visible(False)\n",
    "        axes.get_yaxis().set_visible(True)\n",
    "        axes.set_yticks(major_yticks)\n",
    "        axes.set_yticks(minor_yticks, minor=True)\n",
    "        axes.grid(which='minor', linestyle='--')\n",
    "        #axes.set_ylabel('MD[ft]')\n",
    "    \n",
    "    ax0=ax[0].twiny()\n",
    "    GRMIN= 0\n",
    "    GRMAX= 151\n",
    "    ax0.set_xlim(GRMIN,GRMAX)\n",
    "    ax0.plot(logs1[N1], logs1.index, label='GR[gAPI]', color='green') \n",
    "    ax0.spines['top'].set_position(('outward',0))\n",
    "    ax0.set_title('LC-1')\n",
    "    ax0.set_xlabel('GR[gAPI]',color='green')\n",
    "    ax0.set_xticks(np.arange(GRMIN, GRMAX, 30))\n",
    "    ax0.tick_params(axis='x', colors='green')\n",
    "    ax0.set_ylabel('MD[ft]', color='black')\n",
    "    ax0.grid(True)\n",
    "    \n",
    "    \n",
    "    ax1=ax[1].twiny()\n",
    "    GRMIN= 0\n",
    "    GRMAX= 151\n",
    "    ax1.set_xlim(GRMIN,GRMAX)\n",
    "    ax1.plot(logs2[N2], logs2.index, label='GR[gAPI]', color='green') \n",
    "    ax1.spines['top'].set_position(('outward',0))\n",
    "    ax1.set_title('LC-3')\n",
    "    ax1.set_xlabel('GR[gAPI]',color='green')\n",
    "    ax1.set_xticks(np.arange(GRMIN, GRMAX, 30))\n",
    "    ax1.tick_params(axis='x', colors='green')\n",
    "    #ax1.set_ylabel('Depth [ft]', color='black')\n",
    "    #ax1.label_outer()\n",
    "    #ax1.get_yaxis().set_visible(False)\n",
    "    ax1.grid(True)\n",
    "    \n",
    "    ax2=ax[2].twiny()\n",
    "    GRMIN= 0\n",
    "    GRMAX= 151\n",
    "    ax2.set_xlim(GRMIN,GRMAX)\n",
    "    ax2.plot(logs3[N3], logs3.index, label='GR[gAPI]', color='green') \n",
    "    ax2.spines['top'].set_position(('outward',0))\n",
    "    ax2.set_title('LC-3ST')\n",
    "    ax2.set_xlabel('GR[gAPI]',color='green')\n",
    "    ax2.set_xticks(np.arange(GRMIN, GRMAX, 30))\n",
    "    ax2.tick_params(axis='x', colors='green')\n",
    "    #ax2.set_ylabel('Depth [ft]', color='black')\n",
    "    #ax2.label_outer()\n",
    "    ax2.grid(True)\n",
    "    \n",
    "    ax3=ax[3].twiny()\n",
    "    GRMIN= 0\n",
    "    GRMAX= 151\n",
    "    ax3.set_xlim(GRMIN,GRMAX)\n",
    "    ax3.plot(logs4[N4], logs4.index, label='GR[gAPI]', color='green') \n",
    "    ax3.spines['top'].set_position(('outward',0))\n",
    "    ax3.set_title('LC-5')\n",
    "    ax3.set_xlabel('GR[gAPI]',color='green')\n",
    "    ax3.set_xticks(np.arange(GRMIN, GRMAX, 30))\n",
    "    ax3.tick_params(axis='x', colors='green')\n",
    "    ax3.grid(True)\n",
    "    \n",
    "    ax4=ax[4].twiny()\n",
    "    GRMIN= 0\n",
    "    GRMAX= 151\n",
    "    ax4.set_xlim(GRMIN,GRMAX)\n",
    "    ax4.plot(logs5[N5], logs5.index, label='GR[gAPI]', color='green') \n",
    "    ax4.spines['top'].set_position(('outward',0))\n",
    "    ax4.set_title('LCI-1XST')\n",
    "    ax4.set_xlabel('GR[api]',color='green')\n",
    "    ax4.set_xticks(np.arange(GRMIN, GRMAX, 30))\n",
    "    ax4.tick_params(axis='x', colors='green')\n",
    "    ax4.grid(True)\n",
    "    \n",
    "    ax5=ax[5].twiny()\n",
    "    GRMIN= 0\n",
    "    GRMAX= 151\n",
    "    ax5.set_xlim(GRMIN,GRMAX)\n",
    "    ax5.plot(logs6[N6], logs6.index, label='GR[gAPI]', color='green') \n",
    "    ax5.spines['top'].set_position(('outward',0))\n",
    "    ax5.set_title('LC-D1')\n",
    "    ax5.set_xlabel('GR[gAPI]',color='green')\n",
    "    ax5.set_xticks(np.arange(GRMIN, GRMAX, 30))\n",
    "    ax5.tick_params(axis='x', colors='green')\n",
    "    ax5.grid(True)\n",
    "    \n",
    "    ax6=ax[6].twiny()\n",
    "    GRMIN= 0\n",
    "    GRMAX= 151\n",
    "    ax6.set_xlim(GRMIN,GRMAX)\n",
    "    ax6.plot(logs7[N7], logs7.index, label='GR[gAPI]', color='green') \n",
    "    ax6.spines['top'].set_position(('outward',0))\n",
    "    ax6.set_title('Apamate-1X')\n",
    "    ax6.set_xlabel('GR[gAPI]',color='green')\n",
    "    ax6.set_xticks(np.arange(GRMIN, GRMAX, 30))\n",
    "    ax6.tick_params(axis='x', colors='green')\n",
    "    ax6.grid(True)\n",
    "    \n",
    "   \n",
    "    pic_n = input('Name for .png picture: ')\n",
    "    plt.savefig (f'./Output pictures/{pic_n}.png', dpi=300, format='png')\n",
    "    plt.show()"
   ]
  },
  {
   "cell_type": "code",
   "execution_count": null,
   "metadata": {},
   "outputs": [],
   "source": [
    "def plot_ALL_GR_TVD(logs1, N1, logs2, N2, logs3, N3, logs4, N4, logs5, N5, logs6, N6, logs7, N7):\n",
    "    \n",
    "    top_depth = float(input('Top depth(#): '))\n",
    "    bottom_depth = float(input('Bottom depth(#): '))\n",
    "    nw=7\n",
    "    well= str(input('Name of well: '))\n",
    "    #f = logs[(logs.TVD >= top_depth) & (logs.TVD <= bottom_depth)]\n",
    "    fig, ax = plt.subplots(nrows=1, ncols=nw, figsize=(14,14), sharey=True, sharex=True)\n",
    "    fig.suptitle(\"Logs Visualization\" + ' ' + well, fontsize=20)\n",
    "    fig.subplots_adjust(top=0.87,wspace=0.1)\n",
    "          \n",
    "    #General setting for all axis\n",
    "    \n",
    "    major_yticks = np.arange(top_depth, bottom_depth, 200)\n",
    "    minor_yticks = np.arange(top_depth, bottom_depth, 50)\n",
    "        \n",
    "    for axes in ax:\n",
    "        axes.set_ylim (top_depth,bottom_depth)\n",
    "        axes.invert_yaxis()\n",
    "        axes.yaxis.grid(True)\n",
    "        axes.get_xaxis().set_visible(False)\n",
    "        axes.get_yaxis().set_visible(True)\n",
    "        axes.set_yticks(major_yticks)\n",
    "        axes.set_yticks(minor_yticks, minor=True)\n",
    "        axes.grid(which='minor', linestyle='--')\n",
    "        #axes.set_ylabel('MD[ft]')\n",
    "    \n",
    "    ax0=ax[0].twiny()\n",
    "    GRMIN= 0\n",
    "    GRMAX= 151\n",
    "    ax0.set_xlim(GRMIN,GRMAX)\n",
    "    ax0.plot(logs1[N1], logs1.TVD, label='GR[gAPI]', color='green') \n",
    "    ax0.spines['top'].set_position(('outward',0))\n",
    "    ax0.set_title('MA-01')\n",
    "    ax0.set_xlabel('GR[gAPI]',color='green')\n",
    "    ax0.set_xticks(np.arange(GRMIN, GRMAX, 30))\n",
    "    ax0.tick_params(axis='x', colors='green')\n",
    "    ax0.set_ylabel('MD[ft]', color='black')\n",
    "    ax0.grid(True)\n",
    "    \n",
    "    \n",
    "    ax1=ax[1].twiny()\n",
    "    GRMIN= 0\n",
    "    GRMAX= 151\n",
    "    ax1.set_xlim(GRMIN,GRMAX)\n",
    "    ax1.plot(logs2[N2], logs2.TVD, label='GR[gAPI]', color='green') \n",
    "    ax1.spines['top'].set_position(('outward',0))\n",
    "    ax1.set_title('MA-02A')\n",
    "    ax1.set_xlabel('GR[gAPI]',color='green')\n",
    "    ax1.set_xticks(np.arange(GRMIN, GRMAX, 30))\n",
    "    ax1.tick_params(axis='x', colors='green')\n",
    "    #ax1.set_ylabel('Depth [ft]', color='black')\n",
    "    #ax1.label_outer()\n",
    "    #ax1.get_yaxis().set_visible(False)\n",
    "    ax1.grid(True)\n",
    "    \n",
    "    ax2=ax[2].twiny()\n",
    "    GRMIN= 0\n",
    "    GRMAX= 151\n",
    "    ax2.set_xlim(GRMIN,GRMAX)\n",
    "    ax2.plot(logs3[N3], logs3.TVD, label='GR[gAPI]', color='green') \n",
    "    ax2.spines['top'].set_position(('outward',0))\n",
    "    ax2.set_title('MA-04')\n",
    "    ax2.set_xlabel('GR[gAPI]',color='green')\n",
    "    ax2.set_xticks(np.arange(GRMIN, GRMAX, 30))\n",
    "    ax2.tick_params(axis='x', colors='green')\n",
    "    #ax2.set_ylabel('Depth [ft]', color='black')\n",
    "    #ax2.label_outer()\n",
    "    ax2.grid(True)\n",
    "    \n",
    "    ax3=ax[3].twiny()\n",
    "    GRMIN= 0\n",
    "    GRMAX= 151\n",
    "    ax3.set_xlim(GRMIN,GRMAX)\n",
    "    ax3.plot(logs4[N4], logs4.TVD, label='GR[gAPI]', color='green') \n",
    "    ax3.spines['top'].set_position(('outward',0))\n",
    "    ax3.set_title('MA-05A')\n",
    "    ax3.set_xlabel('GR[gAPI]',color='green')\n",
    "    ax3.set_xticks(np.arange(GRMIN, GRMAX, 30))\n",
    "    ax3.tick_params(axis='x', colors='green')\n",
    "    ax3.grid(True)\n",
    "    \n",
    "    ax4=ax[4].twiny()\n",
    "    GRMIN= 0\n",
    "    GRMAX= 151\n",
    "    ax4.set_xlim(GRMIN,GRMAX)\n",
    "    ax4.plot(logs5[N5], logs5.TVD, label='GR[gAPI]', color='green') \n",
    "    ax4.spines['top'].set_position(('outward',0))\n",
    "    ax4.set_title('MA-06A')\n",
    "    ax4.set_xlabel('GR[api]',color='green')\n",
    "    ax4.set_xticks(np.arange(GRMIN, GRMAX, 30))\n",
    "    ax4.tick_params(axis='x', colors='green')\n",
    "    ax4.grid(True)\n",
    "    \n",
    "    ax5=ax[5].twiny()\n",
    "    GRMIN= 0\n",
    "    GRMAX= 151\n",
    "    ax5.set_xlim(GRMIN,GRMAX)\n",
    "    ax5.plot(logs6[N6], logs6.TVD, label='GR[gAPI]', color='green') \n",
    "    ax5.spines['top'].set_position(('outward',0))\n",
    "    ax5.set_title('MA-14A')\n",
    "    ax5.set_xlabel('GR[gAPI]',color='green')\n",
    "    ax5.set_xticks(np.arange(GRMIN, GRMAX, 30))\n",
    "    ax5.tick_params(axis='x', colors='green')\n",
    "    ax5.grid(True)\n",
    "    \n",
    "    ax6=ax[6].twiny()\n",
    "    GRMIN= 0\n",
    "    GRMAX= 151\n",
    "    ax6.set_xlim(GRMIN,GRMAX)\n",
    "    ax6.plot(logs7[N7], logs7.TVD, label='GR[gAPI]', color='green') \n",
    "    ax6.spines['top'].set_position(('outward',0))\n",
    "    ax6.set_title('MB-11')\n",
    "    ax6.set_xlabel('GR[gAPI]',color='green')\n",
    "    ax6.set_xticks(np.arange(GRMIN, GRMAX, 30))\n",
    "    ax6.tick_params(axis='x', colors='green')\n",
    "    ax6.grid(True)\n",
    "    \n",
    "   \n",
    "    pic_n = input('Name for .png picture: ')\n",
    "    plt.savefig (f'./Output pictures/{pic_n}.png', dpi=300, format='png')\n",
    "    plt.show()"
   ]
  },
  {
   "cell_type": "code",
   "execution_count": null,
   "metadata": {},
   "outputs": [],
   "source": [
    "MB_11_logs_1.columns"
   ]
  },
  {
   "cell_type": "code",
   "execution_count": null,
   "metadata": {
    "scrolled": true
   },
   "outputs": [],
   "source": [
    "plot_ALL_GR_TVD(MA_01_logs_MEM, 'GR', MA_02A_logs_MEM, 'GR_MERGED', MA_04_logs_1, 'GR_M', MA_05A_logs_1, 'GR_M', MA_06A_logs_1, 'GR_M', MA_14A_logs_1, 'GR_M', MB_11_logs_1, 'GR_M')"
   ]
  },
  {
   "cell_type": "code",
   "execution_count": null,
   "metadata": {},
   "outputs": [],
   "source": [
    "def plot_ALL_DTCO(logs1, N1, logs2, N2, logs3, N3, logs4, N4, logs5, N5, logs6, N6):\n",
    "    \n",
    "    top_depth = float(input('Top depth(#): '))\n",
    "    bottom_depth = float(input('Bottom depth(#): '))\n",
    "    nw=6\n",
    "    well= str(input('Name of well: '))\n",
    "    #f = logs[(logs.index >= top_depth) & (logs.index <= bottom_depth)]\n",
    "    fig, ax = plt.subplots(nrows=1, ncols=nw, figsize=(14,14), sharey=True, sharex=True)\n",
    "    fig.suptitle(\"Logs Visualization\" + ' ' + well, fontsize=20)\n",
    "    fig.subplots_adjust(top=0.87,wspace=0.1)\n",
    "          \n",
    "    #General setting for all axis\n",
    "    \n",
    "    major_yticks = np.arange(top_depth, bottom_depth, 400)\n",
    "    minor_yticks = np.arange(top_depth, bottom_depth, 200)\n",
    "        \n",
    "    for axes in ax:\n",
    "        axes.set_ylim (top_depth,bottom_depth)\n",
    "        axes.invert_yaxis()\n",
    "        axes.yaxis.grid(True)\n",
    "        axes.get_xaxis().set_visible(False)\n",
    "        axes.get_yaxis().set_visible(True)\n",
    "        axes.set_yticks(major_yticks)\n",
    "        axes.set_yticks(minor_yticks, minor=True)\n",
    "        axes.grid(which='minor', linestyle='--')\n",
    "        #axes.set_ylabel('MD[ft]')\n",
    "    \n",
    "    ax0=ax[0].twiny()\n",
    "    ax0.set_xlim(40,240)\n",
    "    ax0.plot(logs1[N1], logs1.index, label='DTCO[us/ft]', color='black') \n",
    "    ax0.spines['top'].set_position(('outward',0))\n",
    "    ax0.set_title('LC-1')\n",
    "    ax0.set_xlabel('DTCO[us/ft]',color='black')    \n",
    "    ax0.tick_params(axis='x', colors='black')\n",
    "    ax0.invert_xaxis()\n",
    "    #ax1.set_ylabel('Depth [ft]')\n",
    "    ax0.grid(True)\n",
    "    \n",
    "    ax1=ax[1].twiny()\n",
    "    ax1.set_xlim(40,240)\n",
    "    ax1.plot(logs2[N2], logs2.index, label='DTCO[us/ft]', color='black') \n",
    "    ax1.spines['top'].set_position(('outward',0))\n",
    "    ax1.set_title('LC-3')\n",
    "    ax1.set_xlabel('DTCO[us/ft]',color='black')    \n",
    "    ax1.tick_params(axis='x', colors='black')\n",
    "    ax1.invert_xaxis()\n",
    "    #ax1.set_ylabel('Depth [ft]')\n",
    "    ax1.grid(True)\n",
    "    \n",
    "    ax2=ax[2].twiny()\n",
    "    ax2.set_xlim(40,240)\n",
    "    ax2.plot(logs3[N3], logs3.index, label='DTCO[us/ft]', color='black') \n",
    "    ax2.spines['top'].set_position(('outward',0))\n",
    "    ax2.set_title('LC-3ST')\n",
    "    ax2.set_xlabel('DTCO[us/ft]',color='black')    \n",
    "    ax2.tick_params(axis='x', colors='black')\n",
    "    ax2.invert_xaxis()\n",
    "    #ax1.set_ylabel('Depth [ft]')\n",
    "    ax2.grid(True)\n",
    "    \n",
    "    ax3=ax[3].twiny()\n",
    "    ax3.set_xlim(40,240)\n",
    "    ax3.plot(logs4[N4], logs4.index, label='DTCO[us/ft]', color='black') \n",
    "    ax3.spines['top'].set_position(('outward',0))\n",
    "    ax3.set_title('LCI-1XST')\n",
    "    ax3.set_xlabel('DTCO[us/ft]',color='black')    \n",
    "    ax3.tick_params(axis='x', colors='black')\n",
    "    ax3.invert_xaxis()\n",
    "    #ax1.set_ylabel('Depth [ft]')\n",
    "    ax3.grid(True)\n",
    "    \n",
    "    ax4=ax[4].twiny()\n",
    "    ax4.set_xlim(40,240)\n",
    "    ax4.plot(logs5[N5], logs5.index, label='DTCO[us/ft]', color='black') \n",
    "    ax4.spines['top'].set_position(('outward',0))\n",
    "    ax4.set_title('LC-D1')\n",
    "    ax4.set_xlabel('DTCO[us/ft]',color='black')    \n",
    "    ax4.tick_params(axis='x', colors='black')\n",
    "    ax4.invert_xaxis()\n",
    "    #ax1.set_ylabel('Depth [ft]')\n",
    "    ax4.grid(True)\n",
    "    \n",
    "    ax5=ax[5].twiny()\n",
    "    ax5.set_xlim(40,240)\n",
    "    ax5.plot(logs6[N6], logs6.index, label='DTCO[us/ft]', color='black') \n",
    "    ax5.spines['top'].set_position(('outward',0))\n",
    "    ax5.set_title('Apamate-1')\n",
    "    ax5.set_xlabel('DTCO[us/ft]',color='black')    \n",
    "    ax5.tick_params(axis='x', colors='black')\n",
    "    ax5.invert_xaxis()\n",
    "    #ax1.set_ylabel('Depth [ft]')\n",
    "    ax5.grid(True)\n",
    "    \n",
    "#     ax6=ax[6].twiny()\n",
    "#     ax6.set_xlim(40,240)\n",
    "#     ax6.plot(logs7[N7], logs7.index, label='DTCO[us/ft]', color='black') \n",
    "#     ax6.spines['top'].set_position(('outward',0))\n",
    "#     ax6.set_title('Apamate-1')\n",
    "#     ax6.set_xlabel('DTCO[us/ft]',color='black')    \n",
    "#     ax6.tick_params(axis='x', colors='black')\n",
    "#     ax6.invert_xaxis()\n",
    "#     #ax1.set_ylabel('Depth [ft]')\n",
    "#     ax6.grid(True)\n",
    "    \n",
    "   \n",
    "    pic_n = input('Name for .png picture: ')\n",
    "    plt.savefig (f'./Output pictures/{pic_n}.png', dpi=300, format='png')\n",
    "    plt.show()"
   ]
  },
  {
   "cell_type": "code",
   "execution_count": null,
   "metadata": {},
   "outputs": [],
   "source": [
    "def plot_ALL_DTCO_TVD(logs1, N1, logs2, N2, logs3, N3, logs4, N4, logs5, N5, logs6, N6):\n",
    "    \n",
    "    top_depth = float(input('Top depth(#): '))\n",
    "    bottom_depth = float(input('Bottom depth(#): '))\n",
    "    nw=6\n",
    "    well= str(input('Name of well: '))\n",
    "    #f = logs[(logs.TVD >= top_depth) & (logs.TVD <= bottom_depth)]\n",
    "    fig, ax = plt.subplots(nrows=1, ncols=nw, figsize=(14,14), sharey=True, sharex=True)\n",
    "    fig.suptitle(\"Logs Visualization\" + ' ' + well, fontsize=20)\n",
    "    fig.subplots_adjust(top=0.87,wspace=0.1)\n",
    "          \n",
    "    #General setting for all axis\n",
    "    \n",
    "    major_yticks = np.arange(top_depth, bottom_depth, 400)\n",
    "    minor_yticks = np.arange(top_depth, bottom_depth, 200)\n",
    "        \n",
    "    for axes in ax:\n",
    "        axes.set_ylim (top_depth,bottom_depth)\n",
    "        axes.invert_yaxis()\n",
    "        axes.yaxis.grid(True)\n",
    "        axes.get_xaxis().set_visible(False)\n",
    "        axes.get_yaxis().set_visible(True)\n",
    "        axes.set_yticks(major_yticks)\n",
    "        axes.set_yticks(minor_yticks, minor=True)\n",
    "        axes.grid(which='minor', linestyle='--')\n",
    "        #axes.set_ylabel('MD[ft]')\n",
    "    \n",
    "    ax0=ax[0].twiny()\n",
    "    ax0.set_xlim(40,240)\n",
    "    ax0.plot(logs1[N1], logs1.TVD, label='DTCO[us/ft]', color='black') \n",
    "    ax0.spines['top'].set_position(('outward',0))\n",
    "    ax0.set_title('LC-1')\n",
    "    ax0.set_xlabel('DTCO[us/ft]',color='black')    \n",
    "    ax0.tick_params(axis='x', colors='black')\n",
    "    ax0.invert_xaxis()\n",
    "    #ax1.set_ylabel('Depth [ft]')\n",
    "    ax0.grid(True)\n",
    "    \n",
    "    ax1=ax[1].twiny()\n",
    "    ax1.set_xlim(40,240)\n",
    "    ax1.plot(logs2[N2], logs2.TVD, label='DTCO[us/ft]', color='black') \n",
    "    ax1.spines['top'].set_position(('outward',0))\n",
    "    ax1.set_title('LC-3')\n",
    "    ax1.set_xlabel('DTCO[us/ft]',color='black')    \n",
    "    ax1.tick_params(axis='x', colors='black')\n",
    "    ax1.invert_xaxis()\n",
    "    #ax1.set_ylabel('Depth [ft]')\n",
    "    ax1.grid(True)\n",
    "    \n",
    "    ax2=ax[2].twiny()\n",
    "    ax2.set_xlim(40,240)\n",
    "    ax2.plot(logs3[N3], logs3.TVD, label='DTCO[us/ft]', color='black') \n",
    "    ax2.spines['top'].set_position(('outward',0))\n",
    "    ax2.set_title('LC-3ST')\n",
    "    ax2.set_xlabel('DTCO[us/ft]',color='black')    \n",
    "    ax2.tick_params(axis='x', colors='black')\n",
    "    ax2.invert_xaxis()\n",
    "    #ax1.set_ylabel('Depth [ft]')\n",
    "    ax2.grid(True)\n",
    "    \n",
    "    ax3=ax[3].twiny()\n",
    "    ax3.set_xlim(40,240)\n",
    "    ax3.plot(logs4[N4], logs4.TVD, label='DTCO[us/ft]', color='black') \n",
    "    ax3.spines['top'].set_position(('outward',0))\n",
    "    ax3.set_title('LCI-1X')\n",
    "    ax3.set_xlabel('DTCO[us/ft]',color='black')    \n",
    "    ax3.tick_params(axis='x', colors='black')\n",
    "    ax3.invert_xaxis()\n",
    "    #ax1.set_ylabel('Depth [ft]')\n",
    "    ax3.grid(True)\n",
    "    \n",
    "    ax4=ax[4].twiny()\n",
    "    ax4.set_xlim(40,240)\n",
    "    ax4.plot(logs5[N5], logs5.TVD, label='DTCO[us/ft]', color='black') \n",
    "    ax4.spines['top'].set_position(('outward',0))\n",
    "    ax4.set_title('LC-D1')\n",
    "    ax4.set_xlabel('DTCO[us/ft]',color='black')    \n",
    "    ax4.tick_params(axis='x', colors='black')\n",
    "    ax4.invert_xaxis()\n",
    "    #ax1.set_ylabel('Depth [ft]')\n",
    "    ax4.grid(True)\n",
    "    \n",
    "    ax5=ax[5].twiny()\n",
    "    ax5.set_xlim(40,240)\n",
    "    ax5.plot(logs6[N6], logs6.TVD, label='DTCO[us/ft]', color='black') \n",
    "    ax5.spines['top'].set_position(('outward',0))\n",
    "    ax5.set_title('Apamate-1')\n",
    "    ax5.set_xlabel('DTCO[us/ft]',color='black')    \n",
    "    ax5.tick_params(axis='x', colors='black')\n",
    "    ax5.invert_xaxis()\n",
    "    #ax1.set_ylabel('Depth [ft]')\n",
    "    ax5.grid(True)\n",
    "    \n",
    "#     ax6=ax[6].twiny()\n",
    "#     ax6.set_xlim(40,240)\n",
    "#     ax6.plot(logs7[N7], logs7.TVD, label='DTCO[us/ft]', color='black') \n",
    "#     ax6.spines['top'].set_position(('outward',0))\n",
    "#     ax6.set_title('Apamate-1')\n",
    "#     ax6.set_xlabel('DTCO[us/ft]',color='black')    \n",
    "#     ax6.tick_params(axis='x', colors='black')\n",
    "#     ax6.invert_xaxis()\n",
    "#     #ax1.set_ylabel('Depth [ft]')\n",
    "#     ax6.grid(True)\n",
    "    \n",
    "   \n",
    "    pic_n = input('Name for .png picture: ')\n",
    "    plt.savefig (f'./Output pictures/{pic_n}.png', dpi=300, format='png')\n",
    "    plt.show()"
   ]
  },
  {
   "cell_type": "code",
   "execution_count": null,
   "metadata": {},
   "outputs": [],
   "source": [
    "Apamate_1_logs_1.columns"
   ]
  },
  {
   "cell_type": "code",
   "execution_count": null,
   "metadata": {
    "scrolled": true
   },
   "outputs": [],
   "source": [
    "plot_ALL_DTCO_TVD(LC1_logs_1, 'SDT2', LC3_logs_1, 'DTCO_MERGED', LC3ST_logs_1, 'DTCO_MERGED', LCI_1X_logs_1, 'DTCO_MERGED', LCD1_logs_1, 'DTCO_MERGED', Apamate_1_logs_1, 'DTCO_MERGED')"
   ]
  },
  {
   "cell_type": "code",
   "execution_count": null,
   "metadata": {},
   "outputs": [],
   "source": [
    "def plot_ALL_RES_TVD(logs1, N1, logs2, N2, logs3, N3, logs4, N4, logs5, N5, logs6, N6):\n",
    "    \n",
    "    top_depth = float(input('Top depth(#): '))\n",
    "    bottom_depth = float(input('Bottom depth(#): '))\n",
    "    nw=6\n",
    "    well= str(input('Name of well: '))\n",
    "    #f = logs[(logs.TVD >= top_depth) & (logs.TVD <= bottom_depth)]\n",
    "    fig, ax = plt.subplots(nrows=1, ncols=nw, figsize=(14,14), sharey=True, sharex=True)\n",
    "    fig.suptitle(\"Logs Visualization\" + ' ' + well, fontsize=20)\n",
    "    fig.subplots_adjust(top=0.87,wspace=0.1)\n",
    "          \n",
    "    #General setting for all axis\n",
    "    \n",
    "    major_yticks = np.arange(top_depth, bottom_depth, 400)\n",
    "    minor_yticks = np.arange(top_depth, bottom_depth, 200)\n",
    "        \n",
    "    for axes in ax:\n",
    "        axes.set_ylim (top_depth,bottom_depth)\n",
    "        axes.invert_yaxis()\n",
    "        axes.yaxis.grid(True)\n",
    "        axes.get_xaxis().set_visible(False)\n",
    "        axes.get_yaxis().set_visible(True)\n",
    "        axes.set_yticks(major_yticks)\n",
    "        axes.set_yticks(minor_yticks, minor=True)\n",
    "        axes.grid(which='minor', linestyle='--')\n",
    "        #axes.set_ylabel('MD[ft]')\n",
    "    \n",
    "    ax0=ax[0].twiny()\n",
    "    ax0.set_xlim(0.2, 1000)\n",
    "    ax0.plot(logs1[N1], logs1.TVD, label='Resistivity[oh.mm]', color='navy')\n",
    "    #ax3.set_xscale(\"log\", nonposx='clip')\n",
    "    ax0.set_xscale(\"log\", nonposx='clip')\n",
    "    ax0.spines['top'].set_position(('outward',0))\n",
    "    ax0.set_xlabel('Resistivity[oh.mm]',color='navy')\n",
    "    locmin = matplotlib.ticker.LogLocator(base=10.0, subs=np.arange(2, 10) * .1, numticks=100)\n",
    "    ax0.xaxis.set_minor_locator(locmin)\n",
    "    #ax3.tick_params(axis='x', which='minor')\n",
    "    ax0.tick_params(axis='x', colors='navy', which='both')\n",
    "    ax0.set_title('LC-1')\n",
    "    #ax3.xaxis.set_minor_formatter(FormatStrFormatter(\"%.1f\"))\n",
    "    ax0.xaxis.grid(True, which='minor')\n",
    "    ax0.grid(True)\n",
    "    \n",
    "    ax1=ax[1].twiny()\n",
    "    ax1.set_xlim(0.2, 1000)\n",
    "    ax1.plot(logs2[N2], logs2.TVD, label='Resistivity[oh.mm]', color='navy')\n",
    "    #ax3.set_xscale(\"log\", nonposx='clip')\n",
    "    ax1.set_xscale(\"log\", nonposx='clip')\n",
    "    ax1.spines['top'].set_position(('outward',0))\n",
    "    ax1.set_xlabel('Resistivity[oh.mm]',color='navy')\n",
    "    locmin = matplotlib.ticker.LogLocator(base=10.0, subs=np.arange(2, 10) * .1, numticks=100)\n",
    "    ax1.xaxis.set_minor_locator(locmin)\n",
    "    #ax3.tick_params(axis='x', which='minor')\n",
    "    ax1.tick_params(axis='x', colors='navy', which='both')\n",
    "    ax1.set_title('LC-3')\n",
    "    #ax3.xaxis.set_minor_formatter(FormatStrFormatter(\"%.1f\"))\n",
    "    ax1.xaxis.grid(True, which='minor')\n",
    "    ax1.grid(True)\n",
    "    \n",
    "    ax2=ax[2].twiny()\n",
    "    ax2.set_xlim(0.2, 1000)\n",
    "    ax2.plot(logs3[N3], logs3.TVD, label='Resistivity[oh.mm]', color='navy')\n",
    "    #ax3.set_xscale(\"log\", nonposx='clip')\n",
    "    ax2.set_xscale(\"log\", nonposx='clip')\n",
    "    ax2.spines['top'].set_position(('outward',0))\n",
    "    ax2.set_xlabel('Resistivity[oh.mm]',color='navy')\n",
    "    locmin = matplotlib.ticker.LogLocator(base=10.0, subs=np.arange(2, 10) * .1, numticks=100)\n",
    "    ax2.xaxis.set_minor_locator(locmin)\n",
    "    #ax3.tick_params(axis='x', which='minor')\n",
    "    ax2.tick_params(axis='x', colors='navy', which='both')\n",
    "    ax2.set_title('LC-3ST')\n",
    "    #ax3.xaxis.set_minor_formatter(FormatStrFormatter(\"%.1f\"))\n",
    "    ax2.xaxis.grid(True, which='minor')\n",
    "    ax2.grid(True)\n",
    "    \n",
    "    ax3=ax[3].twiny()\n",
    "    ax3.set_xlim(0.2, 1000)\n",
    "    ax3.plot(logs4[N4], logs4.TVD, label='Resistivity[oh.mm]', color='navy')\n",
    "    #ax3.set_xscale(\"log\", nonposx='clip')\n",
    "    ax3.set_xscale(\"log\", nonposx='clip')\n",
    "    ax3.spines['top'].set_position(('outward',0))\n",
    "    ax3.set_xlabel('Resistivity[oh.mm]',color='navy')\n",
    "    locmin = matplotlib.ticker.LogLocator(base=10.0, subs=np.arange(2, 10) * .1, numticks=100)\n",
    "    ax3.xaxis.set_minor_locator(locmin)\n",
    "    #ax3.tick_params(axis='x', which='minor')\n",
    "    ax3.tick_params(axis='x', colors='navy', which='both')\n",
    "    ax3.set_title('LC-5')\n",
    "    #ax3.xaxis.set_minor_formatter(FormatStrFormatter(\"%.1f\"))\n",
    "    ax3.xaxis.grid(True, which='minor')\n",
    "    ax3.grid(True)\n",
    "    \n",
    "    ax4=ax[4].twiny()\n",
    "    ax4.set_xlim(0.2, 1000)\n",
    "    ax4.plot(logs5[N5], logs5.TVD, label='Resistivity[oh.mm]', color='navy')\n",
    "    #ax3.set_xscale(\"log\", nonposx='clip')\n",
    "    ax4.set_xscale(\"log\", nonposx='clip')\n",
    "    ax4.spines['top'].set_position(('outward',0))\n",
    "    ax4.set_xlabel('Resistivity[oh.mm]',color='navy')\n",
    "    locmin = matplotlib.ticker.LogLocator(base=10.0, subs=np.arange(2, 10) * .1, numticks=100)\n",
    "    ax4.xaxis.set_minor_locator(locmin)\n",
    "    #ax3.tick_params(axis='x', which='minor')\n",
    "    ax4.tick_params(axis='x', colors='navy', which='both')\n",
    "    ax4.set_title('LC-D1')\n",
    "    #ax3.xaxis.set_minor_formatter(FormatStrFormatter(\"%.1f\"))\n",
    "    ax4.xaxis.grid(True, which='minor')\n",
    "    ax4.grid(True)\n",
    "    \n",
    "    ax5=ax[5].twiny()\n",
    "    ax5.set_xlim(0.2, 1000)\n",
    "    ax5.plot(logs6[N6], logs6.TVD, label='Resistivity[oh.mm]', color='navy')\n",
    "    #ax3.set_xscale(\"log\", nonposx='clip')\n",
    "    ax5.set_xscale(\"log\", nonposx='clip')\n",
    "    ax5.spines['top'].set_position(('outward',0))\n",
    "    ax5.set_xlabel('Resistivity[oh.mm]',color='navy')\n",
    "    locmin = matplotlib.ticker.LogLocator(base=10.0, subs=np.arange(2, 10) * .1, numticks=100)\n",
    "    ax5.xaxis.set_minor_locator(locmin)\n",
    "    #ax3.tick_params(axis='x', which='minor')\n",
    "    ax5.tick_params(axis='x', colors='navy', which='both')\n",
    "    ax5.set_title('Apamate-1')\n",
    "    #ax3.xaxis.set_minor_formatter(FormatStrFormatter(\"%.1f\"))\n",
    "    ax5.xaxis.grid(True, which='minor')\n",
    "    ax5.grid(True)\n",
    "    \n",
    "#     ax6=ax[6].twiny()\n",
    "#     ax6.set_xlim(40,240)\n",
    "#     ax6.plot(logs7[N7], logs7.TVD, label='DTCO[us/ft]', color='black') \n",
    "#     ax6.spines['top'].set_position(('outward',0))\n",
    "#     ax6.set_title('Apamate-1')\n",
    "#     ax6.set_xlabel('DTCO[us/ft]',color='black')    \n",
    "#     ax6.tick_params(axis='x', colors='black')\n",
    "#     ax6.invert_xaxis()\n",
    "#     #ax1.set_ylabel('Depth [ft]')\n",
    "#     ax6.grid(True)\n",
    "    \n",
    "   \n",
    "    pic_n = input('Name for .png picture: ')\n",
    "    plt.savefig (f'./Output pictures/{pic_n}.png', dpi=300, format='png')\n",
    "    plt.show()"
   ]
  },
  {
   "cell_type": "code",
   "execution_count": null,
   "metadata": {
    "scrolled": true
   },
   "outputs": [],
   "source": [
    "plot_ALL_RES_TVD(LC1_logs_1, 'HDRS', LC3_logs_1, 'HDRS', LC3ST_logs_1, 'HDRS', LC5_logs_1, 'HDRS', LCD1_logs_1, 'HDRS', Apamate_1_logs_1, 'AT60_MERGED')"
   ]
  },
  {
   "cell_type": "code",
   "execution_count": null,
   "metadata": {},
   "outputs": [],
   "source": [
    "def plot_VSP_DTCO(logs1, N1, N11, logs2, N2, N21, logs3, N3, N31, logs4, N4, N41, logs5, N5, N51):\n",
    "    \n",
    "    top_depth = float(input('Top depth(#): '))\n",
    "    bottom_depth = float(input('Bottom depth(#): '))\n",
    "    nw=5\n",
    "    well= str(input('Name of well: '))\n",
    "    #f = logs[(logs.TVD >= top_depth) & (logs.TVD <= bottom_depth)]\n",
    "    fig, ax = plt.subplots(nrows=1, ncols=nw, figsize=(3*nw,16), sharey=True, sharex=True)\n",
    "    fig.suptitle(\"Logs Visualization\" + ' ' + well, fontsize=18)\n",
    "    fig.subplots_adjust(top=0.83,wspace=0.1)\n",
    "          \n",
    "    #General setting for all axis\n",
    "    \n",
    "    major_yticks = np.arange(top_depth, bottom_depth, 100)\n",
    "    minor_yticks = np.arange(top_depth, bottom_depth, 50)\n",
    "        \n",
    "    for axes in ax:\n",
    "        axes.set_ylim (top_depth,bottom_depth)\n",
    "        axes.invert_yaxis()\n",
    "        axes.yaxis.grid(True)\n",
    "        axes.get_xaxis().set_visible(False)\n",
    "        axes.get_yaxis().set_visible(True)\n",
    "        axes.set_yticks(major_yticks)\n",
    "        axes.set_yticks(minor_yticks, minor=True)\n",
    "        axes.grid(which='minor', linestyle='--')\n",
    "        #axes.set_ylabel('MD[ft]')\n",
    "    \n",
    "    ax0=ax[0].twiny()\n",
    "    ax0.set_xlim(40,240)\n",
    "    ax0.plot(logs1[N1], logs1.TVD, label='DTCO[us/ft]', color='black') \n",
    "    ax0.spines['top'].set_position(('outward',0))\n",
    "    ax0.set_title('MA-01')\n",
    "    ax0.set_xlabel('DTCO[us/ft]',color='black')    \n",
    "    ax0.tick_params(axis='x', colors='black')\n",
    "    ax0.invert_xaxis()\n",
    "    #ax1.set_ylabel('Depth [ft]')\n",
    "    ax0.grid(True)\n",
    "    \n",
    "    ax1=ax[0].twiny()\n",
    "    ax1.set_xlim(40,240)\n",
    "    ax1.plot(logs1[N11], logs1.TVD, label='DTCO[us/ft]', color='red') \n",
    "    ax1.spines['top'].set_position(('outward',40))\n",
    "#     ax1.set_title('LC-3')\n",
    "    ax1.set_xlabel('FROM_INTERVAL_VEL',color='red')    \n",
    "    ax1.tick_params(axis='x', colors='red')\n",
    "    ax1.invert_xaxis()\n",
    "    #ax1.set_ylabel('Depth [ft]')\n",
    "    ax1.grid(True)\n",
    "    \n",
    "#     ax2=ax[0].twiny()\n",
    "#     ax2.set_xlim(40,240)\n",
    "#     ax2.plot(logs1[N12], logs1.TVD, label='DTCO[us/ft]', color='limegreen') \n",
    "#     ax2.spines['top'].set_position(('outward',80))\n",
    "# #     ax2.set_title('LC-3ST')\n",
    "#     ax2.set_xlabel(N12,color='limegreen')    \n",
    "#     ax2.tick_params(axis='x', colors='limegreen')\n",
    "#     ax2.invert_xaxis()\n",
    "#     #ax1.set_ylabel('Depth [ft]')\n",
    "#     ax2.grid(True)\n",
    "    \n",
    "    ax3=ax[1].twiny()\n",
    "    ax3.set_xlim(40,240)\n",
    "    ax3.plot(logs2[N2], logs2.TVD, label='DTCO[us/ft]', color='black') \n",
    "    ax3.spines['top'].set_position(('outward',0))\n",
    "    ax3.set_title('MA-02A')\n",
    "    ax3.set_xlabel('DTCO[us/ft]',color='black')    \n",
    "    ax3.tick_params(axis='x', colors='black')\n",
    "    ax3.invert_xaxis()\n",
    "    #ax1.set_ylabel('Depth [ft]')\n",
    "    ax3.grid(True)\n",
    "    \n",
    "    ax4=ax[1].twiny()\n",
    "    ax4.set_xlim(40,240)\n",
    "    ax4.plot(logs2[N21], logs2.TVD, label='DTCO[us/ft]', color='red') \n",
    "    ax4.spines['top'].set_position(('outward',40))\n",
    "#     ax4.set_title('LC-D1')\n",
    "    ax4.set_xlabel('FROM_INTERVAL_VEL',color='red')    \n",
    "    ax4.tick_params(axis='x', colors='red')\n",
    "    ax4.invert_xaxis()\n",
    "    #ax1.set_ylabel('Depth [ft]')\n",
    "    ax4.grid(True)\n",
    "    \n",
    "    ax5=ax[2].twiny()\n",
    "    ax5.set_xlim(40,240)\n",
    "    ax5.plot(logs3[N3], logs3.TVD, label='DTCO[us/ft]', color='black') \n",
    "    ax5.spines['top'].set_position(('outward',0))\n",
    "    ax5.set_title('MA-09B')\n",
    "    ax5.set_xlabel('DTCO[us/ft]',color='black')    \n",
    "    ax5.tick_params(axis='x', colors='black')\n",
    "    ax5.invert_xaxis()\n",
    "    #ax1.set_ylabel('Depth [ft]')\n",
    "    ax5.grid(True)\n",
    "    \n",
    "    ax6=ax[2].twiny()\n",
    "    ax6.set_xlim(40,240)\n",
    "    ax6.plot(logs3[N31], logs3.TVD, label='DTCO[us/ft]', color='red') \n",
    "    ax6.spines['top'].set_position(('outward',40))\n",
    "#     ax6.set_title('Apamate-1')\n",
    "    ax6.set_xlabel('FROM_INTERVAL_VEL',color='red')    \n",
    "    ax6.tick_params(axis='x', colors='red')\n",
    "    ax6.invert_xaxis()\n",
    "    #ax1.set_ylabel('Depth [ft]')\n",
    "    ax6.grid(True)\n",
    "    \n",
    "    ax7=ax[3].twiny()\n",
    "    ax7.set_xlim(40,240)\n",
    "    ax7.plot(logs4[N4], logs4.TVD, label='DTCO[us/ft]', color='black') \n",
    "    ax7.spines['top'].set_position(('outward',0))\n",
    "    ax7.set_title('MA-02B')\n",
    "    ax7.set_xlabel('DTCO[us/ft]',color='black')    \n",
    "    ax7.tick_params(axis='x', colors='black')\n",
    "    ax7.invert_xaxis()\n",
    "    #ax1.set_ylabel('Depth [ft]')\n",
    "    ax7.grid(True)\n",
    "    \n",
    "    ax8=ax[3].twiny()\n",
    "    ax8.set_xlim(40,240)\n",
    "    ax8.plot(logs4[N41], logs4.TVD, label='DTCO[us/ft]', color='red') \n",
    "    ax8.spines['top'].set_position(('outward',40))\n",
    "#     ax8.set_title('Apamate-1')\n",
    "    ax8.set_xlabel('FROM_INTERVAL_VEL',color='red')    \n",
    "    ax8.tick_params(axis='x', colors='red')\n",
    "    ax8.invert_xaxis()\n",
    "    #ax1.set_ylabel('Depth [ft]')\n",
    "    ax8.grid(True)\n",
    "    \n",
    "    ax9=ax[4].twiny()\n",
    "    ax9.set_xlim(40,240)\n",
    "    ax9.plot(logs5[N5], logs5.TVD, label='DTCO[us/ft]', color='black') \n",
    "    ax9.spines['top'].set_position(('outward',0))\n",
    "    ax9.set_title('MA-14B')\n",
    "    ax9.set_xlabel('DTCO[us/ft]',color='black')    \n",
    "    ax9.tick_params(axis='x', colors='black')\n",
    "    ax9.invert_xaxis()\n",
    "    #ax1.set_ylabel('Depth [ft]')\n",
    "    ax9.grid(True)\n",
    "    \n",
    "    ax10=ax[4].twiny()\n",
    "    ax10.set_xlim(40,240)\n",
    "    ax10.plot(logs5[N51], logs5.TVD, label='DTCO[us/ft]', color='red') \n",
    "    ax10.spines['top'].set_position(('outward',40))\n",
    "#     ax8.set_title('Apamate-1')\n",
    "    ax10.set_xlabel('FROM_INTERVAL_VEL',color='red')    \n",
    "    ax10.tick_params(axis='x', colors='red')\n",
    "    ax10.invert_xaxis()\n",
    "    #ax1.set_ylabel('Depth [ft]')\n",
    "    ax10.grid(True)\n",
    "    \n",
    "   \n",
    "    pic_n = input('Name for .png picture: ')\n",
    "    plt.savefig (f'./Output pictures/{pic_n}.png', dpi=300, format='png')\n",
    "    plt.show()"
   ]
  },
  {
   "cell_type": "code",
   "execution_count": null,
   "metadata": {},
   "outputs": [],
   "source": [
    "MA_14B_logs_QC.columns"
   ]
  },
  {
   "cell_type": "code",
   "execution_count": null,
   "metadata": {
    "scrolled": false
   },
   "outputs": [],
   "source": [
    "plot_VSP_DTCO(MA_01_logs_MEM, 'DTCO', 'COMPRESSIONAL_FROM_VEL_INTERVAL',\\\n",
    "             MA_02A_logs_MEM, 'DTCO_MERGED', 'COMPRESSIONAL_FROM_VEL_INTERVAL',\\\n",
    "              MA_09B_logs_MEM, 'DTCO_MERGED','COMPRESSIONAL_FROM_VEL_INTERVAL', \\\n",
    "             MA_02B_logs_QC, 'DTCO_MERGED', 'COMPRESSIONAL_FROM_VEL_INTERVAL', \\\n",
    "             MA_14B_logs_QC, 'DTCO_MERGED', 'COMPRESSIONAL_FROM_VEL_INTERVAL')"
   ]
  },
  {
   "cell_type": "code",
   "execution_count": null,
   "metadata": {},
   "outputs": [],
   "source": [
    "Apamate_1_logs_1.columns"
   ]
  },
  {
   "cell_type": "markdown",
   "metadata": {},
   "source": [
    "## Machine Learning Tree regresor / Nearest Neighbors Vs Castagna"
   ]
  },
  {
   "cell_type": "code",
   "execution_count": null,
   "metadata": {},
   "outputs": [],
   "source": [
    "import sqlite3\n",
    "from sklearn.tree import DecisionTreeRegressor\n",
    "from sklearn.neighbors import KNeighborsRegressor\n",
    "from sklearn import svm\n",
    "from sklearn.linear_model import LinearRegression\n",
    "from sklearn.model_selection import train_test_split\n",
    "from sklearn.metrics import mean_squared_error\n",
    "from math import sqrt"
   ]
  },
  {
   "cell_type": "code",
   "execution_count": null,
   "metadata": {},
   "outputs": [],
   "source": [
    "LC3ST_logs_1.columns"
   ]
  },
  {
   "cell_type": "code",
   "execution_count": null,
   "metadata": {},
   "outputs": [],
   "source": [
    "logs_for_cast = LC3ST_logs_1[['DTCO_MERGED','DTSM_MERGED','HDRS','GR_MERGED']].dropna()\n",
    "#logs_for_cast['DTCO'] = logs_for_mem[['DTCO']].dropna()\n",
    "y = logs_for_cast[['DTSM_MERGED']]\n",
    "X = logs_for_cast[['HDRS','DTCO_MERGED','GR_MERGED']]"
   ]
  },
  {
   "cell_type": "code",
   "execution_count": null,
   "metadata": {},
   "outputs": [],
   "source": [
    "X_train, X_test, y_train, y_test = train_test_split(X, y, test_size=0.53, random_state=324)"
   ]
  },
  {
   "cell_type": "code",
   "execution_count": null,
   "metadata": {},
   "outputs": [],
   "source": [
    "regressor = DecisionTreeRegressor(max_depth=20)\n",
    "regressor.fit(X_train, y_train)"
   ]
  },
  {
   "cell_type": "code",
   "execution_count": null,
   "metadata": {},
   "outputs": [],
   "source": [
    "y_prediction = regressor.predict(X_test)\n",
    "y_prediction"
   ]
  },
  {
   "cell_type": "code",
   "execution_count": null,
   "metadata": {},
   "outputs": [],
   "source": [
    "RMSE = sqrt(mean_squared_error(y_true = y_test, y_pred = y_prediction))\n",
    "print(RMSE)"
   ]
  },
  {
   "cell_type": "code",
   "execution_count": null,
   "metadata": {},
   "outputs": [],
   "source": [
    "y_test.describe()"
   ]
  },
  {
   "cell_type": "code",
   "execution_count": null,
   "metadata": {},
   "outputs": [],
   "source": [
    "LC3ST_ML_prediction = regressor.predict(LC3ST_logs_1[['HDRS','DTCO_MERGED','GR_MERGED']].dropna())\n",
    "LC3ST_ML_prediction"
   ]
  },
  {
   "cell_type": "code",
   "execution_count": null,
   "metadata": {},
   "outputs": [],
   "source": [
    "LC3ST_ML_prediction.shape"
   ]
  },
  {
   "cell_type": "code",
   "execution_count": null,
   "metadata": {},
   "outputs": [],
   "source": [
    "Cleaned = LC3ST_logs_1[['HDRS','DTCO_MERGED','GR_MERGED']].dropna()"
   ]
  },
  {
   "cell_type": "code",
   "execution_count": null,
   "metadata": {},
   "outputs": [],
   "source": [
    "LCD1_ML_prediction = regressor.predict(LCD1_logs_1[['HDRS','DTCO_MERGED','GR_MERGED']].dropna())\n",
    "LCD1_ML_prediction"
   ]
  },
  {
   "cell_type": "code",
   "execution_count": null,
   "metadata": {},
   "outputs": [],
   "source": [
    "cleaned2 = LCD1_logs_1[['HDRS','DTCO_MERGED','GR_MERGED']].dropna()"
   ]
  },
  {
   "cell_type": "code",
   "execution_count": null,
   "metadata": {},
   "outputs": [],
   "source": [
    "MB_11_logs_1.columns"
   ]
  },
  {
   "cell_type": "code",
   "execution_count": null,
   "metadata": {
    "scrolled": false
   },
   "outputs": [],
   "source": [
    "a = 1.16009280742459\n",
    "b = 0.0044607243120132\n",
    "castagna = a/((1/MB_11_logs_1[['DTC_M']])-b)\n",
    "a2 = 1.850304369836\n",
    "b2 = 0\n",
    "castagna2 = a2/((1/MB_11_logs_1[['DTC_M']])-b2)\n",
    "plt.figure(figsize=(10, 10), dpi= 80, facecolor='w', edgecolor='k')\n",
    "plt.scatter(MB_11_logs_1[['DTC_M']], MB_11_logs_1[['DTS_M']], alpha=1, s=7, label = 'Original Logs')\n",
    "# plt.scatter(cleanedLQC[['DTCO_MERGED']], cleanedLQC[['DTSM_SYNT_ML']], alpha = 0.5, s=5, label = 'Prediction with ML')\n",
    "plt.scatter(MB_11_logs_1[['DTC_M']], castagna, alpha = 0.5, s=7, label = 'Castagna Orig Const ')\n",
    "# plt.scatter(MB_11_logs_1[['DTC_M']], castagna2, alpha = 0.5, s=7, label = 'Castagna Minim Error Calib')\n",
    "plt.title('MB-11 Prediction of DTSM', size=14)\n",
    "plt.xlabel('DTC [us/ft]')\n",
    "plt.ylabel('DTS [us/ft]')\n",
    "plt.xlim(40, 120)\n",
    "plt.ylim(50, 200)\n",
    "plt.legend()\n",
    "plt.savefig ('./Output pictures/Prediction_Castagna_MB_11.png', dpi=200, format='png')\n",
    "plt.show()"
   ]
  },
  {
   "cell_type": "code",
   "execution_count": null,
   "metadata": {
    "scrolled": false
   },
   "outputs": [],
   "source": [
    "a = 1.45508883384195\n",
    "b = 0.00343544147379077\n",
    "castagna = a/((1/LC3ST_logs_1[['DTCO_MERGED']])-b)\n",
    "a2 = 1.16009280742459\n",
    "b2 = 0.0044607243120132\n",
    "castagna2 = a2/((1/LC3ST_logs_1[['DTCO_MERGED']])-b2)\n",
    "plt.figure(figsize=(10, 10), dpi= 80, facecolor='w', edgecolor='k')\n",
    "plt.scatter(LC3ST_logs_1['DTCO_MERGED'], LC3ST_logs_1['DTSM_MERGED'], alpha=0.5, s=5, label = 'Original Logs')\n",
    "plt.scatter(Cleaned[['DTCO_MERGED']], LC3ST_ML_prediction, alpha = 0.5, s=5, label = 'Prediction with ML')\n",
    "plt.scatter(LC3ST_logs_1['DTCO_MERGED'], castagna, alpha = 0.5, s=5, label = 'Castagna Porquero ')\n",
    "plt.scatter(LC3ST_logs_1['DTCO_MERGED'], castagna2, alpha = 0.5, s=5, label = 'Castagna Cienaga de Oro')\n",
    "plt.title('LC-3ST Prediction of DTSM')\n",
    "plt.xlabel('DTCO [us/ft]')\n",
    "plt.ylabel('DTSM [us/ft]')\n",
    "plt.xlim(30, 180)\n",
    "plt.ylim(60, 400)\n",
    "plt.legend()\n",
    "plt.savefig ('./Output pictures/Prediction with ML LC3ST.png', dpi=200, format='png')\n",
    "plt.show()"
   ]
  },
  {
   "cell_type": "markdown",
   "metadata": {},
   "source": [
    "### QC to input logs"
   ]
  },
  {
   "cell_type": "code",
   "execution_count": null,
   "metadata": {},
   "outputs": [],
   "source": [
    "#Creates a copy of the imput datase as LQC dataser for madel creation all the outpus will be place in this dataset\n",
    "LC3ST_LQC = LC3ST_logs_1.copy()\n",
    "LC3ST_LQC = LC3ST_LQC.dropna(axis=0, how='all')\n",
    "print('Original input Logs: ',LC3ST_logs_1.shape, 'Rows and columns after cleaning: ', LC3ST_LQC.shape)"
   ]
  },
  {
   "cell_type": "code",
   "execution_count": null,
   "metadata": {},
   "outputs": [],
   "source": [
    "LC3ST_LQC.columns"
   ]
  },
  {
   "cell_type": "code",
   "execution_count": null,
   "metadata": {},
   "outputs": [],
   "source": [
    "#Cleaning with a cut point\n",
    "LC3ST_LQC = LC3ST_LQC.mask(LC3ST_LQC['GR_MERGED']>140, np.nan)\n",
    "LC3ST_LQC = LC3ST_LQC.mask(LC3ST_LQC['DTCO_MERGED']<80, np.nan)\n",
    "LC3ST_LQC = LC3ST_LQC.mask(LC3ST_LQC['DTCO_MERGED']>150, np.nan)\n",
    "LC3ST_LQC = LC3ST_LQC.mask(LC3ST_LQC['DTSM_MERGED']<150, np.nan)\n",
    "LC3ST_LQC = LC3ST_LQC.mask(LC3ST_LQC['DTSM_MERGED']>380, np.nan)\n",
    "LC3ST_LQC = LC3ST_LQC.mask(LC3ST_LQC['HDRS']>2500, np.nan)\n",
    "LC3ST_LQC = LC3ST_LQC.mask(LC3ST_LQC['HDRS']<0.2, np.nan)"
   ]
  },
  {
   "cell_type": "code",
   "execution_count": null,
   "metadata": {},
   "outputs": [],
   "source": [
    "DeviationLim_DTSM = 2.5\n",
    "DeviationLim_DTCO = 2.5\n",
    "LC3ST_LQC['DTSM_MERGED']=LC3ST_LQC['DTSM_MERGED'].mask(LC3ST_LQC['DTSM_MERGED'].sub(LC3ST_LQC['DTSM_MERGED'].mean()).div(LC3ST_LQC['DTSM_MERGED'].std()).abs().gt(DeviationLim_DTSM))\n",
    "LC3ST_LQC['DTCO_MERGED']=LC3ST_LQC['DTCO_MERGED'].mask(LC3ST_LQC['DTCO_MERGED'].sub(LC3ST_LQC['DTCO_MERGED'].mean()).div(LC3ST_LQC['DTCO_MERGED'].std()).abs().gt(DeviationLim_DTCO))"
   ]
  },
  {
   "cell_type": "code",
   "execution_count": null,
   "metadata": {
    "scrolled": false
   },
   "outputs": [],
   "source": [
    "# a = 1.45508883384195\n",
    "# b = 0.00343544147379077\n",
    "# castagna = a/((1/LC3ST_logs_1[['DTCO_MERGED']])-b)\n",
    "# a2 = 1.16009280742459\n",
    "# b2 = 0.0044607243120132\n",
    "# castagna2 = a2/((1/LC3ST_logs_1[['DTCO_MERGED']])-b2)\n",
    "plt.figure(figsize=(10, 10), dpi= 80, facecolor='w', edgecolor='k')\n",
    "plt.scatter(LC3ST_logs_1['DTCO_MERGED'], LC3ST_logs_1['DTSM_MERGED'], alpha=0.5, s=5, label = 'Original Logs')\n",
    "plt.scatter(LC3ST_logs_2[['DTCO_MERGED']], LC3ST_logs_2['DTSM_MERGED'], alpha = 0.5, s=5, label = 'Cleaned Logs')\n",
    "# plt.scatter(LC3ST_logs_1['DTCO_MERGED'], castagna, alpha = 0.5, s=5, label = 'Castagna Porquero ')\n",
    "# plt.scatter(LC3ST_logs_1['DTCO_MERGED'], castagna2, alpha = 0.5, s=5, label = 'Castagna Cienaga de Oro')\n",
    "plt.title('LC-3ST LQC - DTCO / DTSM', size=14)\n",
    "plt.xlabel('DTCO [us/ft]')\n",
    "plt.ylabel('DTSM [us/ft]')\n",
    "plt.xlim(60, 180)\n",
    "plt.ylim(100, 400)\n",
    "plt.legend()\n",
    "plt.grid(True)\n",
    "plt.savefig ('./Output pictures/LQC_LC3ST.png', dpi=200, format='png')\n",
    "plt.show()"
   ]
  },
  {
   "cell_type": "code",
   "execution_count": null,
   "metadata": {},
   "outputs": [],
   "source": [
    "#Creates a copy of the imput datase as LQC dataser for madel creation all the outpus will be place in this dataset\n",
    "LCD1_LQC = LCD1_logs_1.copy()\n",
    "LCD1_LQC = LCD1_LQC.dropna(axis=0, how='all')\n",
    "print('Original input Logs: ',LCD1_logs_1.shape, 'Rows and columns after cleaning: ', LCD1_LQC.shape)"
   ]
  },
  {
   "cell_type": "code",
   "execution_count": null,
   "metadata": {},
   "outputs": [],
   "source": [
    "#Cleaning with a cut point\n",
    "LCD1_LQC = LCD1_LQC.mask(LCD1_LQC['GR_MERGED']>140, np.nan)\n",
    "LCD1_LQC = LCD1_LQC.mask(LCD1_LQC['DTCO_MERGED']<50, np.nan)\n",
    "LCD1_LQC = LCD1_LQC.mask(LCD1_LQC['DTCO_MERGED']>200, np.nan)\n",
    "LCD1_LQC = LCD1_LQC.mask(LCD1_LQC['DTSM_MERGED']<100, np.nan)\n",
    "LCD1_LQC = LCD1_LQC.mask(LCD1_LQC['HDRS']>2500, np.nan)"
   ]
  },
  {
   "cell_type": "code",
   "execution_count": null,
   "metadata": {},
   "outputs": [],
   "source": [
    "LCD1_tops"
   ]
  },
  {
   "cell_type": "code",
   "execution_count": null,
   "metadata": {},
   "outputs": [],
   "source": [
    "save_file(LCD1_LQC[['DTCO_MERGED', 'DTSM_MERGED']][(LCD1_LQC.index>10677)].dropna(), 'LC-D1_SONICLOGS')"
   ]
  },
  {
   "cell_type": "code",
   "execution_count": null,
   "metadata": {},
   "outputs": [],
   "source": [
    "DeviationLim_DTSM = 2.5\n",
    "DeviationLim_DTCO = 2.5\n",
    "LCD1_LQC['DTSM_MERGED']=LCD1_LQC['DTSM_MERGED'].mask(LCD1_LQC['DTSM_MERGED'].sub(LCD1_LQC['DTSM_MERGED'].mean()).div(LCD1_LQC['DTSM_MERGED'].std()).abs().gt(DeviationLim_DTSM))\n",
    "LCD1_LQC['DTCO_MERGED']=LCD1_LQC['DTCO_MERGED'].mask(LCD1_LQC['DTCO_MERGED'].sub(LCD1_LQC['DTCO_MERGED'].mean()).div(LCD1_LQC['DTCO_MERGED'].std()).abs().gt(DeviationLim_DTCO))"
   ]
  },
  {
   "cell_type": "code",
   "execution_count": null,
   "metadata": {
    "scrolled": false
   },
   "outputs": [],
   "source": [
    "plt.figure(figsize=(10, 10), dpi= 80, facecolor='w', edgecolor='k')\n",
    "plt.scatter(LCD1_logs_1['DTCO_MERGED'], LCD1_logs_1['DTSM_MERGED'], alpha=0.5, s=5, label = 'Original Logs')\n",
    "plt.scatter(LCD1_LQC[['DTCO_MERGED']], LCD1_LQC['DTSM_MERGED'], alpha = 0.5, s=5, label = 'Cleaned Logs')\n",
    "plt.title('LC-D1 LQC - DTCO / DTSM', size=14)\n",
    "plt.xlabel('DTCO [us/ft]')\n",
    "plt.ylabel('DTSM [us/ft]')\n",
    "plt.xlim(30, 180)\n",
    "plt.ylim(60, 400)\n",
    "plt.legend()\n",
    "plt.savefig ('./Output pictures/LQC_LCD1.png', dpi=200, format='png')\n",
    "plt.show()"
   ]
  },
  {
   "cell_type": "code",
   "execution_count": null,
   "metadata": {},
   "outputs": [],
   "source": [
    "#logs_for_cast = LC3ST_LQC[['DTCO_MERGED','DTSM_MERGED','HDRS','GR_MERGED']].dropna()\n",
    "logs_for_cast = LC3ST_logs_1[['DTCO_MERGED','DTSM_MERGED','GR_MERGED']].dropna()\n",
    "#logs_for_cast['DTCO'] = logs_for_mem[['DTCO']].dropna()\n",
    "y = logs_for_cast[['DTSM_MERGED']]\n",
    "X = logs_for_cast[['DTCO_MERGED']]"
   ]
  },
  {
   "cell_type": "code",
   "execution_count": null,
   "metadata": {},
   "outputs": [],
   "source": [
    "X_train, X_test, y_train, y_test = train_test_split(X, y, test_size=0.33, random_state=324)"
   ]
  },
  {
   "cell_type": "code",
   "execution_count": null,
   "metadata": {},
   "outputs": [],
   "source": [
    "regressor = KNeighborsRegressor()\n",
    "regressor.fit(X_train, y_train)"
   ]
  },
  {
   "cell_type": "code",
   "execution_count": null,
   "metadata": {},
   "outputs": [],
   "source": [
    "regressor2 = KNeighborsRegressor()\n",
    "regressor2.fit(X_train, y_train)"
   ]
  },
  {
   "cell_type": "code",
   "execution_count": null,
   "metadata": {},
   "outputs": [],
   "source": [
    "regressor = svm.SVR()\n",
    "regressor.fit(X_train, y_train)"
   ]
  },
  {
   "cell_type": "code",
   "execution_count": null,
   "metadata": {},
   "outputs": [],
   "source": [
    "regressor = LinearRegression()\n",
    "regressor.fit(X_train, y_train)"
   ]
  },
  {
   "cell_type": "code",
   "execution_count": null,
   "metadata": {},
   "outputs": [],
   "source": [
    "regressor = DecisionTreeRegressor(max_depth=5)\n",
    "regressor.fit(X_train, y_train)"
   ]
  },
  {
   "cell_type": "code",
   "execution_count": null,
   "metadata": {},
   "outputs": [],
   "source": [
    "y_prediction = regressor.predict(X_test)\n",
    "y_prediction"
   ]
  },
  {
   "cell_type": "code",
   "execution_count": null,
   "metadata": {},
   "outputs": [],
   "source": [
    "RMSE = sqrt(mean_squared_error(y_true = y_test, y_pred = y_prediction))\n",
    "print(RMSE)"
   ]
  },
  {
   "cell_type": "code",
   "execution_count": null,
   "metadata": {},
   "outputs": [],
   "source": [
    "LC1LQC_ML_prediction = regressor.predict(LC3ST_logs_2[['DTCO_MERGED']].dropna())\n",
    "LC1LQC_ML_prediction"
   ]
  },
  {
   "cell_type": "code",
   "execution_count": null,
   "metadata": {},
   "outputs": [],
   "source": [
    "LC1LQC_ML_prediction2 = regressor2.predict(LC3ST_logs_2[['DTCO_MERGED','GR_MERGED']].dropna())\n",
    "LC1LQC_ML_prediction2"
   ]
  },
  {
   "cell_type": "code",
   "execution_count": null,
   "metadata": {},
   "outputs": [],
   "source": [
    "LC1_logs_1.columns"
   ]
  },
  {
   "cell_type": "code",
   "execution_count": null,
   "metadata": {},
   "outputs": [],
   "source": [
    "cleanedLQC = LC3ST_logs_2[['DTCO_MERGED']].dropna()\n",
    "#cleanedLQC = LC3ST_logs_2[['DTCO_MERGED','GR_MERGED']].dropna()"
   ]
  },
  {
   "cell_type": "code",
   "execution_count": null,
   "metadata": {},
   "outputs": [],
   "source": [
    "cleanedLQC['DTSM_SYNT_ML'] = LC1LQC_ML_prediction\n",
    "#cleanedLQC['DTSM_SYNT_ML'] = LC1LQC_ML_prediction2"
   ]
  },
  {
   "cell_type": "code",
   "execution_count": null,
   "metadata": {},
   "outputs": [],
   "source": [
    "a = 1.20745072923461\n",
    "b = 0.0043166359386542\n",
    "castagna2 = a/((1/cleanedLQC[['DTCO_MERGED']])-b)\n",
    "cleanedLQC['DTSM_SYNT_Cast'] = castagna2"
   ]
  },
  {
   "cell_type": "code",
   "execution_count": null,
   "metadata": {},
   "outputs": [],
   "source": [
    "def save_file(data, file_name):\n",
    "    data.to_csv(f'./Output files/{file_name}.csv')"
   ]
  },
  {
   "cell_type": "code",
   "execution_count": null,
   "metadata": {},
   "outputs": [],
   "source": [
    "def save_file_excel(data, file_name):\n",
    "    data.to_excel(f'./Output files/{file_name}.xlsx', sheet_name=file_name)"
   ]
  },
  {
   "cell_type": "code",
   "execution_count": null,
   "metadata": {},
   "outputs": [],
   "source": [
    "LC1_logs_1[['CALA', 'CALI']].head()"
   ]
  },
  {
   "cell_type": "code",
   "execution_count": null,
   "metadata": {},
   "outputs": [],
   "source": [
    "save_file_excel(LC1_logs_1[['GR','CALA']].dropna(), 'LC1_GR_CALI')"
   ]
  },
  {
   "cell_type": "code",
   "execution_count": null,
   "metadata": {},
   "outputs": [],
   "source": []
  },
  {
   "cell_type": "code",
   "execution_count": null,
   "metadata": {},
   "outputs": [],
   "source": [
    "save_file(cleanedLQC[['DTSM_SYNT_ML', 'DTSM_SYNT_Cast']], 'LC3ST-SYNT-DTSM')"
   ]
  },
  {
   "cell_type": "code",
   "execution_count": null,
   "metadata": {
    "scrolled": false
   },
   "outputs": [],
   "source": [
    "a = 1.20745072923461\n",
    "b = 0.0043166359386542\n",
    "castagna = a/((1/LC3ST_LQC[['DTCO_MERGED']])-b)\n",
    "a2 = 1.16009280742459\n",
    "b2 = 0.0044607243120132\n",
    "castagna2 = a2/((1/LC3ST_LQC[['DTCO_MERGED']])-b2)\n",
    "plt.figure(figsize=(10, 10), dpi= 80, facecolor='w', edgecolor='k')\n",
    "plt.grid(True)\n",
    "plt.scatter(result['DTCO_MERGED'], result['DTSM_MERGED'], alpha=0.5, s=5, label = 'Cleaned Logs')\n",
    "#plt.scatter(LCD1_LQC[['DTCO_MERGED']], LCD1_LQC['DTSM_MERGED'], alpha = 0.5, s=5, label = 'Cleaned Logs LCD1')\n",
    "plt.scatter(cleanedLQC[['DTCO_MERGED']], cleanedLQC[['DTSM_SYNT_ML']], alpha = 0.5, s=5, label = 'Prediction ML')\n",
    "plt.scatter(LC3ST_LQC['DTCO_MERGED'], castagna, alpha = 0.5, s=5, label = 'Castagna Calibrado ')\n",
    "plt.scatter(LC3ST_LQC['DTCO_MERGED'], castagna2, alpha = 0.5, s=5, label = 'Castagna Const Teoricas')\n",
    "plt.title('Prediction of DTSM LC-3ST')\n",
    "plt.xlabel('DTCO [us/ft]')\n",
    "plt.ylabel('DTSM [us/ft]')\n",
    "plt.xlim(60, 180)\n",
    "plt.ylim(100, 400)\n",
    "plt.legend()\n",
    "\n",
    "plt.savefig ('./Output pictures/Prediction with ML_2 LC3ST after QC.png', dpi=200, format='png')\n",
    "plt.show()"
   ]
  },
  {
   "cell_type": "code",
   "execution_count": null,
   "metadata": {},
   "outputs": [],
   "source": [
    "LC3ST_logs_1.columns"
   ]
  },
  {
   "cell_type": "code",
   "execution_count": null,
   "metadata": {
    "scrolled": true
   },
   "outputs": [],
   "source": [
    "c = 2806.008\n",
    "n1 = 0.215\n",
    "n2 = 0.117\n",
    "DT_faust = 1000000/((c*LC3ST_logs_1['HDRS']**n1)*(LC3ST_logs_1['TVD']**n2))\n",
    "plt.figure(figsize=(10, 10), dpi= 80, facecolor='w', edgecolor='k')\n",
    "plt.grid(True)\n",
    "#plt.scatter(result['DTCO_MERGED'], result['DTSM_MERGED'], alpha=0.5, s=5, label = 'Cleaned Logs')\n",
    "#plt.scatter(LCD1_LQC[['DTCO_MERGED']], LCD1_LQC['DTSM_MERGED'], alpha = 0.5, s=5, label = 'Cleaned Logs LCD1')\n",
    "plt.scatter(LC3ST_logs_1['HDRS'], LC3ST_logs_1['DTCO_MERGED'], alpha = 0.5, s=5, label = 'Faust Calibrado ')\n",
    "plt.scatter(LC3ST_logs_1[['HDRS']], DT_faust, alpha = 0.5, s=5, label = 'Prediction DT - Faust')\n",
    "# plt.scatter(LC3ST_LQC['DTCO_MERGED'], castagna2, alpha = 0.5, s=5, label = 'Castagna Const Teoricas')\n",
    "plt.title('Prediction of DT - Faust (LC-3ST)')\n",
    "plt.xlabel('Resistivity [ohm.m]')\n",
    "plt.ylabel('DTCO [us/ft]')\n",
    "plt.xlim(0, 6)\n",
    "plt.ylim(50, 160)\n",
    "plt.legend()\n",
    "\n",
    "plt.savefig ('./Output pictures/DT - Faust Preit LC3ST.png', dpi=200, format='png')\n",
    "plt.show()"
   ]
  },
  {
   "cell_type": "code",
   "execution_count": null,
   "metadata": {
    "scrolled": true
   },
   "outputs": [],
   "source": [
    "a = 0.2451\n",
    "b = 0.2469\n",
    "d_garner = a*((1000000/LC3ST_logs_1[['DTCO_MERGED']])**b)\n",
    "plt.figure(figsize=(10, 10), dpi= 80, facecolor='w', edgecolor='k')\n",
    "plt.grid(True)\n",
    "#plt.scatter(result['DTCO_MERGED'], result['DTSM_MERGED'], alpha=0.5, s=5, label = 'Cleaned Logs')\n",
    "#plt.scatter(LCD1_LQC[['DTCO_MERGED']], LCD1_LQC['DTSM_MERGED'], alpha = 0.5, s=5, label = 'Cleaned Logs LCD1')\n",
    "plt.scatter(LC3ST_logs_1['DTCO_MERGED'], LC3ST_logs_1['RHOB_MERGED'], alpha = 0.5, s=5, label = 'Gardner Calibrado ')\n",
    "plt.scatter(LC3ST_logs_1[['DTCO_MERGED']], d_garner, alpha = 0.5, s=5, label = 'Prediction Density/DT - Gardner')\n",
    "# plt.scatter(LC3ST_LQC['DTCO_MERGED'], castagna2, alpha = 0.5, s=5, label = 'Castagna Const Teoricas')\n",
    "plt.title('Prediction of Density / DT LC-3ST')\n",
    "plt.xlabel('DTCO [us/ft]')\n",
    "plt.ylabel('Density [gr/cc]')\n",
    "plt.xlim(50, 180)\n",
    "plt.ylim(2.1, 2.8)\n",
    "plt.legend()\n",
    "\n",
    "plt.savefig ('./Output pictures/Garner Preit LC3ST.png', dpi=200, format='png')\n",
    "plt.show()"
   ]
  },
  {
   "cell_type": "code",
   "execution_count": null,
   "metadata": {},
   "outputs": [],
   "source": [
    "save_file_excel(LC3ST_logs_1[['DTCO_MERGED', 'RHOB_MERGED']].dropna(), 'LC3ST_gardner')"
   ]
  },
  {
   "cell_type": "code",
   "execution_count": null,
   "metadata": {},
   "outputs": [],
   "source": [
    "def plot_visual_synte(logs,tops, N1, N2, N3, logs2, N4, N5):\n",
    "    \n",
    "    print('Log from {} to {}: '.format(logs.index.min(), logs.index.max()))\n",
    "    top_depth = float(input('Top depth(#): '))\n",
    "    bottom_depth = float(input('Bottom depth(#): '))\n",
    "    print('Nemonics in LOG: ', logs.columns)\n",
    "    print('------MUST be more than 1 Nemonic------')\n",
    "    nw=4\n",
    "    well= str(input('Name of well: '))\n",
    "    f = logs[(logs.index >= top_depth) & (logs.index <= bottom_depth)]\n",
    "    f2 = logs2[(logs2.index >= top_depth) & (logs2.index <= bottom_depth)]\n",
    "    fig, ax = plt.subplots(nrows=1, ncols=nw, figsize=(14,14), sharey=True, sharex=True)\n",
    "    fig.suptitle(\"Logs Visualization\" + ' ' + well, fontsize=20)\n",
    "    fig.subplots_adjust(top=0.85,wspace=0.1)\n",
    "    \n",
    "    \n",
    "    print('Nemonics in LOG: ', logs.columns)\n",
    "\n",
    "    \n",
    "    #General setting for all axis\n",
    "    \n",
    "    major_yticks = np.arange(top_depth, bottom_depth, 400)\n",
    "    minor_yticks = np.arange(top_depth, bottom_depth, 200)\n",
    "        \n",
    "    for axes in ax:\n",
    "        axes.set_ylim (top_depth,bottom_depth)\n",
    "        axes.invert_yaxis()\n",
    "        axes.yaxis.grid(True)\n",
    "        axes.get_xaxis().set_visible(False)\n",
    "        axes.set_yticks(major_yticks)\n",
    "        axes.set_yticks(minor_yticks, minor=True)\n",
    "        axes.grid(which='minor', linestyle='--')\n",
    "        axes.set_ylabel('MD[ft]')\n",
    "    \n",
    "    ax0=ax[0].twiny()\n",
    "    GRMIN= 0\n",
    "    GRMAX= 151\n",
    "    ax0.set_xlim(GRMIN,GRMAX)\n",
    "    ax0.plot(f[N1], f.index, label='GR[gAPI]', color='green') \n",
    "    ax0.spines['top'].set_position(('outward',0))\n",
    "    ax0.set_xlabel('GR[api]',color='green')\n",
    "    ax0.set_xticks(np.arange(GRMIN, GRMAX, 30))\n",
    "    ax0.tick_params(axis='x', colors='green')\n",
    "    ax0.set_ylabel('Depth [ft]', color='black')\n",
    "    #ax0.get_yticklabels.set_visible(True)\n",
    "    #ax0.tick_params(axis='y', colors='black')\n",
    "    ax0.label_outer()\n",
    "    ax0.grid(True)\n",
    "    #ax0.grid(which='major')\n",
    "    #ax0.grid(which='minor', linestyle='--')\n",
    "    \n",
    "    ax1=ax[1].twiny()\n",
    "    ax1.set_xlim(40,240)\n",
    "    ax1.plot(f[N2], f.index, label='DTCO[us/ft]', color='black') \n",
    "    ax1.spines['top'].set_position(('outward',0))\n",
    "    ax1.set_xlabel('DTCO[us/ft]',color='black')    \n",
    "    ax1.tick_params(axis='x', colors='black')\n",
    "    ax1.invert_xaxis()\n",
    "    #ax1.set_ylabel('Depth [ft]')\n",
    "    ax1.grid(True)\n",
    "    \n",
    "#     ax2=ax[2].twiny()\n",
    "#     ax2.set_xlim(1.5, 3)\n",
    "#     ax2.plot(f[N3], f.index, label='RHOB[gr/cc]', color='blue') \n",
    "#     ax2.spines['top'].set_position(('outward',0))\n",
    "#     ax2.set_xlabel('RHOB[gr/cc]',color='blue')    \n",
    "#     ax2.tick_params(axis='x', colors='blue')\n",
    "#     ax2.grid(True)\n",
    "    \n",
    "#     ax2=ax[3].twiny()\n",
    "#     ax2.set_xlim(0.2, 1000)\n",
    "#     ax2.plot(f[N4], f.index, label='Resistivity[oh.mm]', color='navy')\n",
    "#     #ax2.set_xscale(\"log\", nonposx='clip')\n",
    "#     ax2.set_xscale(\"log\", nonposx='clip')\n",
    "#     ax2.spines['top'].set_position(('outward',0))\n",
    "#     ax2.set_xlabel('Resistivity[oh.mm]',color='navy')\n",
    "#     locmin = matplotlib.ticker.LogLocator(base=10.0, subs=np.arange(2, 10) * .1, numticks=100)\n",
    "#     ax2.xaxis.set_minor_locator(locmin)\n",
    "#     #ax2.tick_params(axis='x', which='minor')\n",
    "#     ax2.tick_params(axis='x', colors='navy', which='both')\n",
    "#     #ax2.xaxis.set_minor_formatter(FormatStrFormatter(\"%.1f\"))\n",
    "#     ax2.xaxis.grid(True, which='minor')\n",
    "#     ax2.grid(True)\n",
    "    \n",
    "#     ax3=ax[4].twiny()\n",
    "#     CALIMIN = 6\n",
    "#     CALIMAX = 18\n",
    "#     ax3.set_xlim(CALIMIN, CALIMAX)\n",
    "#     ax3.plot(f[N5], f.index, label='CALI[IN]', color='red')\n",
    "#     ax3.spines['top'].set_position(('outward',0))\n",
    "#     ax3.set_xticks(np.arange(CALIMIN, CALIMAX, 2))\n",
    "#     ax3.set_xlabel('CALI[IN]',color='red')    \n",
    "#     ax3.tick_params(axis='x', colors='red')\n",
    "#     ax3.grid(True)\n",
    "\n",
    "    ax21=ax[2].twiny()\n",
    "    ax21.set_xlim(80,380)\n",
    "    ax21.plot(f2[N4], f2.index, label='DTSM_ML[us/ft]', color='navy') \n",
    "    ax21.spines['top'].set_position(('outward',30))\n",
    "    ax21.set_xlabel('DTSM_ML[us/ft]',color='navy')    \n",
    "    ax21.tick_params(axis='x', colors='navy')\n",
    "    ax21.invert_xaxis()\n",
    "    #ax1.set_ylabel('Depth [ft]')\n",
    "    #ax2.grid(True)\n",
    "       \n",
    "    ax2=ax[2].twiny()\n",
    "    ax2.set_xlim(80,380)\n",
    "    ax2.plot(f[N3], f.index, label='DTSM_log[us/ft]', color='red') \n",
    "    ax2.spines['top'].set_position(('outward',0))\n",
    "    ax2.set_xlabel('DTSM_log[us/ft]',color='red')    \n",
    "    ax2.tick_params(axis='x', colors='red')\n",
    "    ax2.invert_xaxis()\n",
    "    #ax1.set_ylabel('Depth [ft]')\n",
    "    ax2.grid(True)\n",
    "    \n",
    "     \n",
    "    ax3=ax[3].twiny()\n",
    "    ax3.set_xlim(80,380)\n",
    "    ax3.plot(f2[N5], f2.index, label='DTSM_Cast[us/ft]', color='navy') \n",
    "    ax3.spines['top'].set_position(('outward',0))\n",
    "    ax3.set_xlabel('DTSM_Cast[us/ft]',color='navy')    \n",
    "    ax3.tick_params(axis='x', colors='navy')\n",
    "    ax3.invert_xaxis()\n",
    "    #ax1.set_ylabel('Depth [ft]')\n",
    "    ax3.grid(True)\n",
    "    \n",
    "    \n",
    "    # Print Tops\n",
    "    for i in range(len(ax)):\n",
    "        for k, row in tops[(tops.MD >= top_depth) & (tops.MD <= bottom_depth)].iterrows():\n",
    "            vars()['ax'+str(i)].hlines(row['MD'], xmin=-500, xmax=800, linestyles='solid', color='k')\n",
    "            vars()['ax'+str(0)].text(f[N1].min(), row['MD'], row['Zone Name'], color='r')\n",
    "    \n",
    " \n",
    "    pic_n = input('Name for .png picture: ')\n",
    "    plt.savefig (f'./Output pictures/{pic_n}.png', dpi=300, format='png')\n",
    "    plt.show()"
   ]
  },
  {
   "cell_type": "code",
   "execution_count": null,
   "metadata": {},
   "outputs": [],
   "source": [
    "LC3ST_logs_2"
   ]
  },
  {
   "cell_type": "code",
   "execution_count": null,
   "metadata": {
    "scrolled": true
   },
   "outputs": [],
   "source": [
    "plot_visual_synte(result ,LC3ST_tops, 'GR_MERGED','DTCO_MERGED', 'DTSM_MERGED', cleanedLQC, 'DTSM_SYNT_ML', 'DTSM_SYNT_Cast')"
   ]
  },
  {
   "cell_type": "code",
   "execution_count": null,
   "metadata": {},
   "outputs": [],
   "source": [
    "result = pd.concat([LC3ST_logs_2, LC3ST_logs_1['DTSM_MERGED']], axis=1)\n",
    "result.shape"
   ]
  },
  {
   "cell_type": "code",
   "execution_count": null,
   "metadata": {},
   "outputs": [],
   "source": [
    "LC3ST_logs_2.shape"
   ]
  },
  {
   "cell_type": "code",
   "execution_count": null,
   "metadata": {},
   "outputs": [],
   "source": [
    "def plot_4LOGS_CLEAN(logs, tops, N1, N2, N3, N4):\n",
    "    \n",
    "    print('Log from {} to {}: '.format(tops.MD.min(), tops.MD.max()))\n",
    "    top_depth = float(input('Top depth(#): '))\n",
    "    bottom_depth = float(input('Bottom depth(#): '))\n",
    "    print('Nemonics in LOG: ', logs.columns)\n",
    "    print('------MUST be more than 1 Nemonic------')\n",
    "    nw=4\n",
    "    well= str(input('Name of well: '))\n",
    "    f = logs[(logs.index >= top_depth) & (logs.index <= bottom_depth)]\n",
    "    fig, ax = plt.subplots(nrows=1, ncols=nw, figsize=(14,14), sharey=True, sharex=True)\n",
    "    fig.suptitle(\"Logs Visualization\" + ' ' + well, fontsize=20)\n",
    "    fig.subplots_adjust(top=0.91,wspace=0.1)\n",
    "    \n",
    "    \n",
    "    print('Nemonics in LOG: ', logs.columns)\n",
    "\n",
    "    \n",
    "    #General setting for all axis\n",
    "    \n",
    "    major_yticks = np.arange(top_depth, bottom_depth, 100)\n",
    "    minor_yticks = np.arange(top_depth, bottom_depth, 50)\n",
    "        \n",
    "    for axes in ax:\n",
    "        axes.set_ylim (top_depth,bottom_depth)\n",
    "        axes.invert_yaxis()\n",
    "        axes.yaxis.grid(True)\n",
    "        axes.get_xaxis().set_visible(False)\n",
    "        axes.set_yticks(major_yticks)\n",
    "        axes.set_yticks(minor_yticks, minor=True)\n",
    "        axes.grid(which='minor', linestyle='--')\n",
    "        axes.set_ylabel('MD[m]')\n",
    "    \n",
    "    ax0=ax[0].twiny()\n",
    "    GRMIN= 0\n",
    "    GRMAX= 151\n",
    "    ax0.set_xlim(GRMIN,GRMAX)\n",
    "    ax0.plot(f[N1], f.index, label='GR[gAPI]', color='green') \n",
    "    ax0.spines['top'].set_position(('outward',0))\n",
    "    ax0.set_xlabel('GR[api]',color='green')\n",
    "    ax0.set_xticks(np.arange(GRMIN, GRMAX, 30))\n",
    "    ax0.tick_params(axis='x', colors='green')\n",
    "    ax0.set_ylabel('MD [ft]', color='black')\n",
    "    #ax0.get_yticklabels.set_visible(True)\n",
    "    #ax0.tick_params(axis='y', colors='black')\n",
    "    ax0.label_outer()\n",
    "    ax0.grid(True)\n",
    "    \n",
    "    \n",
    "    ax1=ax[1].twiny()\n",
    "    DTMIN=40\n",
    "    DTMAX=241\n",
    "    ax1.set_xlim(DTMIN,DTMAX)\n",
    "    ax1.plot(f[N2], f.index, label='DTCO[us/ft]', color='black') \n",
    "    ax1.spines['top'].set_position(('outward',0))\n",
    "    ax1.set_xlabel('DTCO[us/ft]',color='black')  \n",
    "    ax1.set_xticks(np.arange(DTMIN, DTMAX, 40))\n",
    "    ax1.tick_params(axis='x', colors='black')\n",
    "    ax1.invert_xaxis()\n",
    "    #ax1.set_ylabel('Depth [ft]')\n",
    "    ax1.grid(True)\n",
    "    \n",
    "    \n",
    "    ax2=ax[2].twiny()\n",
    "    DTSMIN = 80\n",
    "    DTSMAX = 381\n",
    "    ax2.set_xlim(DTSMIN,DTSMAX)\n",
    "    ax2.plot(f[N3], f.index, label='DTSM[us/ft]', color='red') \n",
    "    ax2.spines['top'].set_position(('outward',0))\n",
    "    ax2.set_xlabel('DTSM[us/ft]',color='red')\n",
    "    ax2.set_xticks(np.arange(DTSMIN, DTSMAX, 60))\n",
    "    ax2.tick_params(axis='x', colors='red')\n",
    "    ax2.invert_xaxis()\n",
    "    #ax1.set_ylabel('Depth [ft]')\n",
    "    ax2.grid(True)\n",
    "    \n",
    "    \n",
    "#     ax3=ax[3].twiny()\n",
    "#     ax3.set_xlim(0.2, 1000)\n",
    "#     ax3.plot(f[N4], f.index, label='Resistivity[oh.mm]', color='navy')\n",
    "#     #ax3.set_xscale(\"log\", nonposx='clip')\n",
    "#     ax3.set_xscale(\"log\", nonposx='clip')\n",
    "#     ax3.spines['top'].set_position(('outward',0))\n",
    "#     ax3.set_xlabel('Resistivity[oh.mm]',color='navy')\n",
    "#     locmin = matplotlib.ticker.LogLocator(base=10.0, subs=np.arange(2, 10) * .1, numticks=100)\n",
    "#     ax3.xaxis.set_minor_locator(locmin)\n",
    "#     #ax3.tick_params(axis='x', which='minor')\n",
    "#     ax3.tick_params(axis='x', colors='navy', which='both')\n",
    "#     #ax3.xaxis.set_minor_formatter(FormatStrFormatter(\"%.1f\"))\n",
    "#     ax3.xaxis.grid(True, which='minor')\n",
    "#     ax3.grid(True)\n",
    "    \n",
    "    ax3=ax[3].twiny()\n",
    "    ax3.set_xlim(1.5, 3)\n",
    "    ax3.plot(f[N4], f.index, label='RHOB[gr/cc]', color='blue') \n",
    "    ax3.spines['top'].set_position(('outward',0))\n",
    "    ax3.set_xlabel('RHOB[gr/cc]',color='blue')    \n",
    "    ax3.tick_params(axis='x', colors='blue')\n",
    "    ax3.grid(True)\n",
    "    \n",
    "    #plot tvd as secondary axis\n",
    "    ax31=ax3.twinx()\n",
    "    color = 'tab:red'\n",
    "    ax31.set_ylabel('TVD [m]', color=color)\n",
    "    ax31.set_ylim(f.TVD.min(), f.TVD.max())\n",
    "    ax31.invert_yaxis()\n",
    "    ax31.plot(f[N4], f['TVD'], lw=0)\n",
    "    ax31.tick_params(axis='y', labelcolor=color)\n",
    "    ax31.spines['right'].set_position(('outward',10))\n",
    "    ax31.set_yticks(np.arange(f.TVD.min(), f.TVD.max(), 150))\n",
    "    #ax31.set_yticks(minor_yticks, minor=True)\n",
    "    \n",
    "    \n",
    "    \n",
    "#     ax5=ax[5].twiny()\n",
    "#     CALIMIN = 6\n",
    "#     CALIMAX = 18\n",
    "#     ax5.set_xlim(CALIMIN, CALIMAX)\n",
    "#     ax5.plot(f[N6], f.index, label='CALI[IN]', color='red')\n",
    "#     ax5.spines['top'].set_position(('outward',0))\n",
    "#     ax5.set_xticks(np.arange(CALIMIN, CALIMAX, 2))\n",
    "#     ax5.set_xlabel('CALI[IN]',color='red')    \n",
    "#     ax5.tick_params(axis='x', colors='red')\n",
    "#     ax5.grid(True)\n",
    "    \n",
    "    # Print Tops\n",
    "    for i in range(len(ax)):\n",
    "        for k, row in tops[(tops.MD >= top_depth) & (tops.MD <= bottom_depth)].iterrows():\n",
    "            vars()['ax'+str(i)].hlines(row['MD'], xmin=-500, xmax=800, linestyles='solid', color='k')\n",
    "            vars()['ax'+str(0)].text(f[N1].min(), row['MD'], row['Zone Name'], color='r')\n",
    "    \n",
    " \n",
    "    pic_n = input('Name for .png picture: ')\n",
    "    plt.savefig (f'./Output pictures/{pic_n}.png', dpi=300, format='png')\n",
    "    plt.show()"
   ]
  },
  {
   "cell_type": "code",
   "execution_count": null,
   "metadata": {},
   "outputs": [],
   "source": [
    "def plot_4LOGS_CLEAN_LCA_1ST(logs, tops, N1, N2, N3, N4, N5):\n",
    "    \n",
    "    print('Log from {} to {}: '.format(tops.MD.min(), tops.MD.max()))\n",
    "    top_depth = float(input('Top depth(#): '))\n",
    "    bottom_depth = float(input('Bottom depth(#): '))\n",
    "    print('Nemonics in LOG: ', logs.columns)\n",
    "    print('------MUST be more than 1 Nemonic------')\n",
    "    nw=4\n",
    "    well= str(input('Name of well: '))\n",
    "    f = logs[(logs.index >= top_depth) & (logs.index <= bottom_depth)]\n",
    "    fig, ax = plt.subplots(nrows=1, ncols=nw, figsize=(14,14), sharey=True, sharex=True)\n",
    "    fig.suptitle(\"Logs Visualization\" + ' ' + well, fontsize=20)\n",
    "    fig.subplots_adjust(top=0.88,wspace=0.1)\n",
    "    \n",
    "    \n",
    "    print('Nemonics in LOG: ', logs.columns)\n",
    "\n",
    "    \n",
    "    #General setting for all axis\n",
    "    \n",
    "    major_yticks = np.arange(top_depth, bottom_depth, 122)\n",
    "    minor_yticks = np.arange(top_depth, bottom_depth, 61)\n",
    "        \n",
    "    for axes in ax:\n",
    "        axes.set_ylim (top_depth,bottom_depth)\n",
    "        axes.invert_yaxis()\n",
    "        axes.yaxis.grid(True)\n",
    "        axes.get_xaxis().set_visible(False)\n",
    "        axes.set_yticks(major_yticks)\n",
    "        axes.set_yticks(minor_yticks, minor=True)\n",
    "        axes.grid(which='minor', linestyle='--')\n",
    "        axes.set_ylabel('MD[m]')\n",
    "    \n",
    "    ax0=ax[0].twiny()\n",
    "    GRMIN= 0\n",
    "    GRMAX= 151\n",
    "    ax0.set_xlim(GRMIN,GRMAX)\n",
    "    ax0.plot(f[N1], f.index, label='GR[gAPI]', color='green') \n",
    "    ax0.spines['top'].set_position(('outward',0))\n",
    "    ax0.set_xlabel('GR[api]',color='green')\n",
    "    ax0.set_xticks(np.arange(GRMIN, GRMAX, 30))\n",
    "    ax0.tick_params(axis='x', colors='green')\n",
    "    ax0.set_ylabel('MD [m]', color='black')\n",
    "    #ax0.get_yticklabels.set_visible(True)\n",
    "    #ax0.tick_params(axis='y', colors='black')\n",
    "    ax0.label_outer()\n",
    "    ax0.grid(True)\n",
    "    \n",
    "    \n",
    "    ax1=ax[1].twiny()\n",
    "    DTMIN=40\n",
    "    DTMAX=241\n",
    "    ax1.set_xlim(DTMIN,DTMAX)\n",
    "    ax1.plot(f[N2], f.index, label='DTCO[us/ft]', color='black') \n",
    "    ax1.spines['top'].set_position(('outward',0))\n",
    "    ax1.set_xlabel('DTCO[us/ft]',color='black')  \n",
    "    ax1.set_xticks(np.arange(DTMIN, DTMAX, 40))\n",
    "    ax1.tick_params(axis='x', colors='black')\n",
    "    ax1.invert_xaxis()\n",
    "    #ax1.set_ylabel('Depth [ft]')\n",
    "    ax1.grid(True)\n",
    "    \n",
    "    ax1=ax[1].twiny()\n",
    "    DTMIN=40\n",
    "    DTMAX=241\n",
    "    ax1.set_xlim(DTMIN,DTMAX)\n",
    "    ax1.plot(f[N5], f.index, label='DTCO[us/ft]', color='red', lw=1.4) \n",
    "    ax1.spines['top'].set_position(('outward',40))\n",
    "    ax1.set_xlabel('Vel_Intervalica_DT [us/ft]',color='red')  \n",
    "    ax1.set_xticks(np.arange(DTMIN, DTMAX, 40))\n",
    "    ax1.tick_params(axis='x', colors='red')\n",
    "    ax1.invert_xaxis()\n",
    "    #ax1.set_ylabel('Depth [ft]')\n",
    "    ax1.grid(True)\n",
    "    \n",
    "    \n",
    "    ax2=ax[2].twiny()\n",
    "    DTSMIN = 80\n",
    "    DTSMAX = 481\n",
    "    ax2.set_xlim(DTSMIN,DTSMAX)\n",
    "    ax2.plot(f[N3], f.index, label='DTSM[us/ft]', color='red') \n",
    "    ax2.spines['top'].set_position(('outward',0))\n",
    "    ax2.set_xlabel('DTSM[us/ft]',color='red')\n",
    "    ax2.set_xticks(np.arange(DTSMIN, DTSMAX, 60))\n",
    "    ax2.tick_params(axis='x', colors='red')\n",
    "    ax2.invert_xaxis()\n",
    "    #ax1.set_ylabel('Depth [ft]')\n",
    "    ax2.grid(True)\n",
    "    \n",
    "    \n",
    "#     ax3=ax[3].twiny()\n",
    "#     ax3.set_xlim(0.2, 1000)\n",
    "#     ax3.plot(f[N4], f.index, label='Resistivity[oh.mm]', color='navy')\n",
    "#     #ax3.set_xscale(\"log\", nonposx='clip')\n",
    "#     ax3.set_xscale(\"log\", nonposx='clip')\n",
    "#     ax3.spines['top'].set_position(('outward',0))\n",
    "#     ax3.set_xlabel('Resistivity[oh.mm]',color='navy')\n",
    "#     locmin = matplotlib.ticker.LogLocator(base=10.0, subs=np.arange(2, 10) * .1, numticks=100)\n",
    "#     ax3.xaxis.set_minor_locator(locmin)\n",
    "#     #ax3.tick_params(axis='x', which='minor')\n",
    "#     ax3.tick_params(axis='x', colors='navy', which='both')\n",
    "#     #ax3.xaxis.set_minor_formatter(FormatStrFormatter(\"%.1f\"))\n",
    "#     ax3.xaxis.grid(True, which='minor')\n",
    "#     ax3.grid(True)\n",
    "    \n",
    "    ax3=ax[3].twiny()\n",
    "    ax3.set_xlim(1.5, 3)\n",
    "    ax3.plot(f[N4], f.index, label='RHOB[gr/cc]', color='blue') \n",
    "    ax3.spines['top'].set_position(('outward',0))\n",
    "    ax3.set_xlabel('RHOB[gr/cc]',color='blue')    \n",
    "    ax3.tick_params(axis='x', colors='blue')\n",
    "    ax3.grid(True)\n",
    "    \n",
    "    #plot tvd as secondary axis\n",
    "    ax31=ax3.twinx()\n",
    "    color = 'tab:red'\n",
    "    ax31.set_ylabel('TVD [m]', color=color)\n",
    "    ax31.set_ylim(f.TVD.min(), f.TVD.max())\n",
    "    ax31.invert_yaxis()\n",
    "    ax31.plot(f[N4], f['TVD'], lw=0)\n",
    "    ax31.tick_params(axis='y', labelcolor=color)\n",
    "    ax31.spines['right'].set_position(('outward',10))\n",
    "    ax31.set_yticks(np.arange(f.TVD.min(), f.TVD.max(), 50))\n",
    "    #ax31.set_yticks(minor_yticks, minor=True)\n",
    "    \n",
    "    \n",
    "    \n",
    "#     ax5=ax[5].twiny()\n",
    "#     CALIMIN = 6\n",
    "#     CALIMAX = 18\n",
    "#     ax5.set_xlim(CALIMIN, CALIMAX)\n",
    "#     ax5.plot(f[N6], f.index, label='CALI[IN]', color='red')\n",
    "#     ax5.spines['top'].set_position(('outward',0))\n",
    "#     ax5.set_xticks(np.arange(CALIMIN, CALIMAX, 2))\n",
    "#     ax5.set_xlabel('CALI[IN]',color='red')    \n",
    "#     ax5.tick_params(axis='x', colors='red')\n",
    "#     ax5.grid(True)\n",
    "    \n",
    "    # Print Tops\n",
    "    for i in range(len(ax)):\n",
    "        for k, row in tops[(tops.MD >= top_depth) & (tops.MD <= bottom_depth)].iterrows():\n",
    "            vars()['ax'+str(i)].hlines(row['MD'], xmin=-500, xmax=800, linestyles='solid', color='k')\n",
    "            vars()['ax'+str(0)].text(f[N1].min(), row['MD'], row['Zone Name'], color='r')\n",
    "    \n",
    " \n",
    "    pic_n = input('Name for .png picture: ')\n",
    "    plt.savefig (f'./Output pictures/{pic_n}.png', dpi=300, format='png')\n",
    "    plt.show()"
   ]
  },
  {
   "cell_type": "code",
   "execution_count": null,
   "metadata": {},
   "outputs": [],
   "source": [
    "MA_02A_logs_MEM.columns"
   ]
  },
  {
   "cell_type": "code",
   "execution_count": null,
   "metadata": {
    "scrolled": true
   },
   "outputs": [],
   "source": [
    "plot_4LOGS_CLEAN_LCA_1ST(MA_02A_logs_MEM, MA_02A_tops, 'GR_MERGED', 'DTCO_MERGED', 'DTSM_CASTAGNA', 'RHOB_MERGED', 'COMPRESSIONAL_FROM_VEL_INTERVAL')"
   ]
  },
  {
   "cell_type": "code",
   "execution_count": null,
   "metadata": {},
   "outputs": [],
   "source": [
    "MA_01_logs_MEM.columns"
   ]
  },
  {
   "cell_type": "code",
   "execution_count": null,
   "metadata": {
    "scrolled": true
   },
   "outputs": [],
   "source": [
    "plot_4LOGS_CLEAN_LCA_1ST(MA_01_logs_MEM, MA_01_tops, 'GR', 'DTCO', 'DTSM_CASTAGNA', 'RHOB', 'COMPRESSIONAL_FROM_VEL_INTERVAL')"
   ]
  },
  {
   "cell_type": "code",
   "execution_count": null,
   "metadata": {},
   "outputs": [],
   "source": [
    "MA_09B_logs_MEM.columns"
   ]
  },
  {
   "cell_type": "code",
   "execution_count": null,
   "metadata": {
    "scrolled": true
   },
   "outputs": [],
   "source": [
    "plot_4LOGS_CLEAN_LCA_1ST(MA_09B_logs_MEM, MA_09B_tops, 'GR_MERGED', 'DTCO_MERGED', 'DTSM_CASTAGNA', 'RHOB_MERGED', 'COMPRESSIONAL_FROM_VEL_INTERVAL')"
   ]
  },
  {
   "cell_type": "code",
   "execution_count": null,
   "metadata": {},
   "outputs": [],
   "source": [
    "MA_02B_logs_QC.columns"
   ]
  },
  {
   "cell_type": "code",
   "execution_count": null,
   "metadata": {
    "scrolled": true
   },
   "outputs": [],
   "source": [
    "plot_4LOGS_CLEAN_LCA_1ST(MA_02B_logs_QC, MA_02B_tops, 'GR_MERGED', 'DTCO_MERGED', 'DTSM_CASTAGNA', 'RHOB_MERGED', 'COMPRESSIONAL_FROM_VEL_INTERVAL')"
   ]
  },
  {
   "cell_type": "code",
   "execution_count": null,
   "metadata": {},
   "outputs": [],
   "source": [
    "MA_14B_logs_QC.columns"
   ]
  },
  {
   "cell_type": "code",
   "execution_count": null,
   "metadata": {
    "scrolled": true
   },
   "outputs": [],
   "source": [
    "plot_4LOGS_CLEAN_LCA_1ST(MA_14B_logs_QC, MA_14B_tops, 'GR_MERGED', 'DTCO_MERGED', 'DTSM_CASTAGNA', 'RHOB_MERGED', 'COMPRESSIONAL_FROM_VEL_INTERVAL')"
   ]
  },
  {
   "cell_type": "code",
   "execution_count": null,
   "metadata": {},
   "outputs": [],
   "source": [
    "MA_06A_logs_QC.columns"
   ]
  },
  {
   "cell_type": "code",
   "execution_count": null,
   "metadata": {
    "scrolled": true
   },
   "outputs": [],
   "source": [
    "plot_4LOGS_CLEAN_LCA_1ST(MA_06A_logs_QC, MA_06A_tops, 'GR_MERGED', 'DTCO_MERGED', 'DTSM_CASTAGNA', 'RHOB_MERGED', 'COMPRESSIONAL_FROM_VEL_INTERVAL')"
   ]
  },
  {
   "cell_type": "code",
   "execution_count": null,
   "metadata": {},
   "outputs": [],
   "source": [
    "MA_02B_tops"
   ]
  },
  {
   "cell_type": "code",
   "execution_count": null,
   "metadata": {
    "scrolled": true
   },
   "outputs": [],
   "source": [
    "plot_4LOGS_CLEAN(MA_06A_logs_QC, MA_06A_tops, 'GR_MERGED', 'DTCO_MERGED', 'DTSM_CASTAGNA', 'RHOB_MERGED')"
   ]
  },
  {
   "cell_type": "code",
   "execution_count": null,
   "metadata": {},
   "outputs": [],
   "source": [
    "LC5_logs_2.columns"
   ]
  },
  {
   "cell_type": "code",
   "execution_count": null,
   "metadata": {},
   "outputs": [],
   "source": [
    "add_wellpath_logs(LC5_logs_2, LC5_wellpath)"
   ]
  },
  {
   "cell_type": "code",
   "execution_count": null,
   "metadata": {
    "scrolled": true
   },
   "outputs": [],
   "source": [
    "plot_4LOGS_CLEAN(LC5_logs_2, LC5_tops, 'GR_MERGED', 'DTCO_MERGED', 'DTSM_SYNT_CAST', 'RHOB_MERGED')"
   ]
  },
  {
   "cell_type": "code",
   "execution_count": null,
   "metadata": {},
   "outputs": [],
   "source": [
    "add_wellpath_logs(LCI_1X_logs_2, LCI_1X_wellpath)"
   ]
  },
  {
   "cell_type": "code",
   "execution_count": null,
   "metadata": {
    "scrolled": true
   },
   "outputs": [],
   "source": [
    "plot_4LOGS_CLEAN(LCI_1X_logs_2, LCI_1X_tops, 'GR_MERGED', 'DTCO_MERGED', 'DTSM_SYNT_CAST', 'ROHB_MERGED')"
   ]
  },
  {
   "cell_type": "code",
   "execution_count": null,
   "metadata": {},
   "outputs": [],
   "source": [
    "LCA_1ST_logs_2.columns"
   ]
  },
  {
   "cell_type": "code",
   "execution_count": null,
   "metadata": {
    "scrolled": true
   },
   "outputs": [],
   "source": [
    "plot_4LOGS_CLEAN(LCA_1ST_logs_2, LCA1ST_tops, 'GR_MERGED', 'DTCO_MERGED', 'DTSM_SYNT_CAST', 'ROHB_MERGED')"
   ]
  },
  {
   "cell_type": "code",
   "execution_count": null,
   "metadata": {},
   "outputs": [],
   "source": [
    "LCI_1X_logs_2.columns"
   ]
  },
  {
   "cell_type": "code",
   "execution_count": null,
   "metadata": {
    "scrolled": true
   },
   "outputs": [],
   "source": [
    "plot_visual(LC1_logs_1,LC1_tops)"
   ]
  },
  {
   "cell_type": "markdown",
   "metadata": {},
   "source": [
    "#Import the tops of propagation well\n",
    "wT_tops = pd.read_csv('./Target_well/Prognosis/Tops_prognosis.csv', sep=',').dropna(axis=0, how='all')\n",
    "wT_tops_units = wT_tops.iloc[[0]]\n",
    "wT_tops = wT_tops.drop([0], axis=0).reset_index(drop=True)\n",
    "wT_tops[['MD']] = wT_tops[['MD']].astype('float')\n",
    "wT_tops"
   ]
  },
  {
   "cell_type": "markdown",
   "metadata": {},
   "source": [
    "## CALCULOS VENTANA DE ESTABILIDAD"
   ]
  },
  {
   "cell_type": "code",
   "execution_count": null,
   "metadata": {},
   "outputs": [],
   "source": [
    "#Creates a copy of the imput datase as LQC dataser for madel creation all the outpus will be place in this dataset\n",
    "def MEM_data_set(logs, tops, w_name):\n",
    "    globals()[w_name+'_MEM_Dataset'] = logs.copy()\n",
    "    print(globals()[w_name+'_MEM_Dataset'].shape)\n",
    "    globals()[w_name+'_MEM_Dataset'] = globals()[w_name+'_MEM_Dataset'].dropna(axis=0, how='all')\n",
    "    globals()[w_name+'_MEM_Dataset'] = globals()[w_name+'_MEM_Dataset'][(globals()[w_name+'_MEM_Dataset'].index >= tops['MD'].min()) & (globals()[w_name+'_MEM_Dataset'].index <= tops['MD'].max())]\n",
    "    print('Rows and columns after cleaning: ', globals()[w_name+'_MEM_Dataset'].shape)"
   ]
  },
  {
   "cell_type": "code",
   "execution_count": null,
   "metadata": {},
   "outputs": [],
   "source": [
    "MEM_data_set(HOKCHI_11DES_L1, HOKCHI_11DES_tops, 'HOKCHI_11DES')"
   ]
  },
  {
   "cell_type": "code",
   "execution_count": null,
   "metadata": {},
   "outputs": [],
   "source": [
    "HOKCHI_11DES_MEM_Dataset"
   ]
  },
  {
   "cell_type": "code",
   "execution_count": null,
   "metadata": {},
   "outputs": [],
   "source": [
    "MEM_data_set(HOKCHI_7_DES_logs_3, HOKCHI_7DES_tops, 'HOKCHI_7DES')"
   ]
  },
  {
   "cell_type": "code",
   "execution_count": null,
   "metadata": {
    "scrolled": true
   },
   "outputs": [],
   "source": [
    "HOKCHI_7DES_MEM_Dataset"
   ]
  },
  {
   "cell_type": "code",
   "execution_count": null,
   "metadata": {},
   "outputs": [],
   "source": [
    "MEM_data_set(HOKCHI_8H_LOGS, HOKCHI_8H_tops, 'HOKCHI_8H')"
   ]
  },
  {
   "cell_type": "code",
   "execution_count": null,
   "metadata": {},
   "outputs": [],
   "source": [
    "HOKCHI_8H_MEM_Dataset"
   ]
  },
  {
   "cell_type": "code",
   "execution_count": null,
   "metadata": {
    "scrolled": true
   },
   "outputs": [],
   "source": [
    "MEM_data_set(HOKCHI_8H_PD_LOGS, HOKCHI_8H_PD_tops, 'HOKCHI_8H_PD')"
   ]
  },
  {
   "cell_type": "code",
   "execution_count": null,
   "metadata": {
    "scrolled": true
   },
   "outputs": [],
   "source": [
    "HOKCHI_8H_PD_LOGS['DTCO']"
   ]
  },
  {
   "cell_type": "code",
   "execution_count": null,
   "metadata": {},
   "outputs": [],
   "source": []
  },
  {
   "cell_type": "code",
   "execution_count": null,
   "metadata": {
    "scrolled": false
   },
   "outputs": [],
   "source": [
    "HOKCHI_8H_PD_MEM_Dataset"
   ]
  },
  {
   "cell_type": "code",
   "execution_count": null,
   "metadata": {
    "scrolled": true
   },
   "outputs": [],
   "source": [
    "MEM_data_set(HOKCHI_9H_LOGS, HOKCHI_9H_tops, 'HOKCHI_9H')"
   ]
  },
  {
   "cell_type": "code",
   "execution_count": null,
   "metadata": {
    "scrolled": true
   },
   "outputs": [],
   "source": [
    "HOKCHI_9H_LOGS.isnull()"
   ]
  },
  {
   "cell_type": "code",
   "execution_count": null,
   "metadata": {
    "scrolled": true
   },
   "outputs": [],
   "source": [
    "HOKCHI_9H_MEM_Dataset"
   ]
  },
  {
   "cell_type": "code",
   "execution_count": null,
   "metadata": {},
   "outputs": [],
   "source": [
    "'''\n",
    "To create the VSH from GR log and the \n",
    "'''\n",
    "\n",
    "#VSH creation from GR\n",
    "def VSH_GR (logs,tops):\n",
    "    dt_w = []    \n",
    "    for k, row in tops.iterrows():\n",
    "        if row.MD==0:\n",
    "            continue\n",
    "        else:\n",
    "            #print(k)\n",
    "            dt_w.append(tops.iloc[k,:]['MD'] - tops.iloc[k-1,:]['MD'])\n",
    "    #dt_w.append(logs.index.max()-tops.iloc[k,:]['MD'])\n",
    "    print (logs.columns)\n",
    "    GR = input('Select' + \"\\033[1m\" + ' Gamma Ray ' + \"\\033[0m\" + 'nemonic: ')\n",
    "    vsh = []\n",
    "    for x in range(len(dt_w)):\n",
    "        top = tops.iloc[x,:]['MD']\n",
    "        base = top + dt_w[x]\n",
    "        print('top:',top, 'base: ', base)\n",
    "        formation = tops.iloc[x,:]['Zone Name']\n",
    "        gr_matrix, gr_shale = [float(item) for item in (input(f'for {formation} Enter Gamma ray of Matrix / Shale values (10/120): ').split() or ('10 120').split())]\n",
    "        #for i, row in logs[(logs.index>= top) & (logs.index <= base)].interpolate(limit_area='inside').iterrows():\n",
    "        for i, row in logs[(logs.index> top) & (logs.index <= base)].iterrows():\n",
    "            vsh.append((row[GR]-gr_matrix) / (gr_shale-gr_matrix))\n",
    "    vsh = np.where(np.array(vsh) > 1,1, np.array(vsh))    \n",
    "    logs['VSH'] = pd.DataFrame(vsh, index=logs.index)\n",
    "#         for i, row in logs[logs.iloc[x,:]['MD']]\n",
    "#     logs['VSH'] = 1-((10-logs[GR]) / (120-10))\n",
    "#     logs['VSH'] = ((logs[GR]-10) / (120-10))\n",
    "    #print(logs[['VSH']])\n",
    "    \n",
    "    top_depth=0\n",
    "    bottom_depth = logs.index.max()\n",
    "    f = logs[(logs.index >= top_depth) & (logs.index <= bottom_depth)]\n",
    "    fig, ax = plt.subplots(nrows=1, ncols=2,figsize=(14,10), sharey=True)\n",
    "    fig.suptitle(\"Vcl_PLOT\", fontsize=22)\n",
    "    fig.subplots_adjust(top=0.91,wspace=0.1)\n",
    "\n",
    "#General setting for all axis\n",
    "\n",
    "    major_yticks = np.arange(top_depth, bottom_depth, 400)\n",
    "    minor_yticks = np.arange(top_depth, bottom_depth, 200)\n",
    "    for axes in ax:\n",
    "        axes.set_ylim (top_depth,bottom_depth)\n",
    "        axes.invert_yaxis()\n",
    "        axes.yaxis.grid(True)\n",
    "        axes.get_xaxis().set_visible(False)\n",
    "        axes.set_yticks(major_yticks)\n",
    "        axes.set_yticks(minor_yticks, minor=True)\n",
    "        axes.grid(which='minor', linestyle='--')\n",
    "        axes.set_ylabel('MD[m]')\n",
    "    \n",
    "        \n",
    "#1st track: GR \n",
    "    \n",
    "    ax0=ax[0].twiny()\n",
    "    ax0.set_xlim(0,150)\n",
    "    ax0.plot(f[GR], f.index, label='GR[api]', color='green') \n",
    "    ax0.spines['top'].set_position(('outward',0))\n",
    "    ax0.set_xlabel('GR[api]',color='green')    \n",
    "    ax0.tick_params(axis='x', colors='green')\n",
    "    ax0.grid(True)\n",
    "\n",
    "# 2rd Track VSH    \n",
    "    ax1=ax[1].twiny()\n",
    "    ax1.set_xlim(0,1)\n",
    "    ax1.spines['top'].set_position(('outward',0))    \n",
    "    ax1.plot(f.VSH, f.index, label='VSH', color='black' ,linewidth=0.2)\n",
    "    ax1.set_xlabel('Vcl', color='black')    \n",
    "    ax1.tick_params(axis='x', colors='black')\n",
    "    #ax2.fill_betweenx(f.index,f.VSH,1,color='gold',label= 'Vclay')\n",
    "    normalize = mpl.colors.Normalize(vmin=f.VSH.min(), vmax=f.VSH.max())\n",
    "    cmap=mpl.cm.summer\n",
    "    ax1.fill_betweenx(f.index,f.VSH,0,facecolor=cmap(normalize(1)),label= 'Vcl')\n",
    "    ax1.grid(True)\n",
    "#     poly, = ax1.fill(f.VSH, f.index, facecolor='none')\n",
    "#     xmin, xmax = ax1.get_xlim()\n",
    "#     ymin, ymax = ax1.get_ylim()\n",
    "#     img_data = np.arange(xmin,xmax,(xmax-xmin)/100.)\n",
    "#     img_data = img_data.reshape(img_data.size,1)\n",
    "#     im = ax1.imshow(img_data, aspect='auto', origin='lower', cmap=plt.cm.Reds_r, extent=[xmin,xmax,ymin,ymax], vmin=f.index.min(), vmax=30.)\n",
    "#     im.set_clip_path(poly)\n",
    "    #ax1.legend(loc='lower left')\n",
    "    \n",
    "# Print Tops\n",
    "    for i in range(len(ax)):\n",
    "        for k, row in tops[(tops.MD >= top_depth) & (tops.MD <= bottom_depth)].iterrows():\n",
    "            vars()['ax'+str(i)].hlines(row['MD'], xmin=-500, xmax=800, linestyles='solid', color='k')\n",
    "            vars()['ax'+str(0)].text(logs[GR].min(), row['MD'], row['Zone Name'], color='r')\n",
    "# Save figure    \n",
    "    #plt.savefig ('./Output pictures/VSH_PLOT.png', dpi=300, format='png')\n",
    "    plt.show()"
   ]
  },
  {
   "cell_type": "code",
   "execution_count": null,
   "metadata": {},
   "outputs": [],
   "source": [
    "'''\n",
    "To create the VSH from GR log and the \n",
    "'''\n",
    "\n",
    "#VSH creation from GR\n",
    "def VSH_GR_Test (logs,tops, w_name):\n",
    "    #logs = logs[(logs.index >= tops['MD'].min()) & (logs.index <= tops['MD'].max())]\n",
    "    dt_w = []    \n",
    "    for k, row in tops.iterrows():\n",
    "        if k==0:\n",
    "            continue\n",
    "        else:\n",
    "            #print(k)\n",
    "            dt_w.append(tops.iloc[k,:]['MD'] - tops.iloc[k-1,:]['MD'])\n",
    "    #dt_w.append(logs.index.max()-tops.iloc[k,:]['MD'])\n",
    "    print (logs.columns)\n",
    "    GR = input('Select' + \"\\033[1m\" + ' Gamma Ray ' + \"\\033[0m\" + 'nemonic: ')\n",
    "    vsh = []\n",
    "    for x in range(len(dt_w)):\n",
    "        top = tops.iloc[x,:]['MD']\n",
    "        base = top + dt_w[x]\n",
    "        print('top:',top, 'base: ', base)\n",
    "        formation = tops.iloc[x,:]['Zone Name']\n",
    "        gr_matrix, gr_shale = [float(item) for item in (input('for '+ \"\\033[1m\" + f'{formation}'+\\\n",
    "                                                              \"\\033[0m\" + ' Enter Gamma ray of Matrix / Shale values (10/120): ').split() \\\n",
    "                                                        or ('25 140').split())]\n",
    "        #for i, row in logs[(logs.index>= top) & (logs.index <= base)].interpolate(limit_area='inside').iterrows():\n",
    "        for i, row in logs[(logs.index > top) & (logs.index <= base)].iterrows():\n",
    "            vsh.append((row[GR]-gr_matrix) / (gr_shale-gr_matrix))\n",
    "    vsh = np.where(np.array(vsh) >= 1,1, np.array(vsh))\n",
    "    vsh = np.where(np.array(vsh) <= 0,0, np.array(vsh))\n",
    "    logs['VSH'] = pd.DataFrame(vsh, index=logs.index)\n",
    "#         for i, row in logs[logs.iloc[x,:]['MD']]\n",
    "#     logs['VSH'] = 1-((10-logs[GR]) / (120-10))\n",
    "#     logs['VSH'] = ((logs[GR]-10) / (120-10))\n",
    "    #print(logs[['VSH']])\n",
    "    \n",
    "    top_depth=0\n",
    "    bottom_depth = tops.MD.max()\n",
    "    f = logs[(logs.index > top_depth) & (logs.index <= bottom_depth)]\n",
    "    fig, ax = plt.subplots(nrows=1, ncols=2, figsize=(10,16), sharey=True)\n",
    "    fig.suptitle(f\"Vcl_PLOT  {w_name}\", fontsize=22)\n",
    "    fig.subplots_adjust(top=0.91,wspace=0.1)\n",
    "\n",
    "#General setting for all axis\n",
    "\n",
    "    major_yticks = np.arange(top_depth, bottom_depth, 200)\n",
    "    minor_yticks = np.arange(top_depth, bottom_depth, 100)\n",
    "    for axes in ax:\n",
    "        axes.set_ylim (top_depth,bottom_depth)\n",
    "        axes.invert_yaxis()\n",
    "        axes.yaxis.grid(True)\n",
    "        axes.get_xaxis().set_visible(False)\n",
    "        axes.set_yticks(major_yticks)\n",
    "        axes.set_yticks(minor_yticks, minor=True)\n",
    "        axes.grid(which='minor', linestyle='--')\n",
    "        axes.set_ylabel('MD[m]')\n",
    "    \n",
    "        \n",
    "#1st track: GR \n",
    "    \n",
    "    ax0=ax[0].twiny()\n",
    "    ax0.set_xlim(0,150)\n",
    "    ax0.plot(f[GR], f.index, label='GR[api]', color='green') \n",
    "    ax0.spines['top'].set_position(('outward',0))\n",
    "    ax0.set_xlabel('GR[gAPI]',color='green')    \n",
    "    ax0.tick_params(axis='x', colors='green')\n",
    "    ax0.grid(True)\n",
    "\n",
    "# 2rd Track VSH    \n",
    "    ax1=ax[1].twiny()\n",
    "    v_min=0\n",
    "    v_max=1.01\n",
    "    gird_space=0.2\n",
    "    var_color ='black'\n",
    "    v_label='Vcl-GR[Dec]'\n",
    "    ax1.set_xlim(v_min,v_max)\n",
    "    ax1.plot(f['VSH'], f.index, color=var_color, lw=0.5)\n",
    "    ax1.set_xlabel(v_label, color=var_color)\n",
    "    ax1.spines['top'].set_position(('outward',0))\n",
    "    ax1.fill_betweenx(f.index,f['VSH'],0,color='gold',label= v_label)\n",
    "    ax1.set_xticks(np.arange(v_min, v_max, gird_space))\n",
    "    ax1.tick_params(axis='x', colors=var_color)\n",
    "    ax1.grid(True)\n",
    "    \n",
    "#     ax11=ax[1].twiny()\n",
    "#     v_min=0\n",
    "#     v_max=1.01\n",
    "#     gird_space=0.2\n",
    "#     var_color ='blue'\n",
    "#     v_label='Vcl-GR[Dec]'\n",
    "#     ax11.set_xlim(v_min,v_max)\n",
    "#     ax11.plot(f['VCL'], f.index, color=var_color, lw=0.5)\n",
    "#     ax11.set_xlabel(v_label, color=var_color)\n",
    "#     ax11.spines['top'].set_position(('outward',0))\n",
    "# #     ax11.fill_betweenx(f.index,f['VSH'],0,color='gold',label= v_label)\n",
    "#     ax11.set_xticks(np.arange(v_min, v_max, gird_space))\n",
    "#     ax11.tick_params(axis='x', colors=var_color)\n",
    "#     ax11.grid(True)\n",
    "    \n",
    "# Print Tops\n",
    "    for i in range(len(ax)):\n",
    "        for k, row in tops[(tops.MD >= top_depth) & (tops.MD <= bottom_depth)].iterrows():\n",
    "            vars()['ax'+str(i)].hlines(row['MD'], xmin=-500, xmax=800, linestyles='solid', color='k')\n",
    "            vars()['ax'+str(0)].text(logs[GR].min(), row['MD'], row['Zone Name'], color='r')\n",
    "# Save figure    \n",
    "    plt.savefig (f'./Output pictures/VSH_PLOT_{w_name}.png', dpi=300, format='png')\n",
    "    plt.show()"
   ]
  },
  {
   "cell_type": "code",
   "execution_count": null,
   "metadata": {
    "scrolled": true
   },
   "outputs": [],
   "source": [
    "VSH_GR_Test(HOKCHI_11DES_MEM_Dataset, HOKCHI_11DES_tops, 'HOKCHI_11DES')"
   ]
  },
  {
   "cell_type": "code",
   "execution_count": null,
   "metadata": {
    "scrolled": true
   },
   "outputs": [],
   "source": [
    "VSH_GR_Test(HOKCHI_7DES_MEM_Dataset, HOKCHI_7DES_tops, 'HOKCHI_7DES')"
   ]
  },
  {
   "cell_type": "code",
   "execution_count": null,
   "metadata": {
    "scrolled": true
   },
   "outputs": [],
   "source": [
    "VSH_GR_Test(HOKCHI_8H_MEM_Dataset, HOKCHI_8H_tops, 'HOKCHI_8H')"
   ]
  },
  {
   "cell_type": "code",
   "execution_count": null,
   "metadata": {
    "scrolled": true
   },
   "outputs": [],
   "source": [
    "VSH_GR_Test(HOKCHI_8H_PD_MEM_Dataset, HOKCHI_8H_PD_tops, 'HOKCHI_8H_PD')"
   ]
  },
  {
   "cell_type": "code",
   "execution_count": null,
   "metadata": {
    "scrolled": true
   },
   "outputs": [],
   "source": [
    "VSH_GR_Test(HOKCHI_9H_MEM_Dataset, HOKCHI_9H_tops, 'HOKCHI_9H')"
   ]
  },
  {
   "cell_type": "code",
   "execution_count": null,
   "metadata": {},
   "outputs": [],
   "source": [
    "#VSH creation from GR\n",
    "def MST_GR (logs,tops,w_name):\n",
    "    print (logs.columns)\n",
    "    GR = input('Select' + \"\\033[1m\" + ' Gamma Ray ' + \"\\033[0m\" + 'nemonic: ')\n",
    "    dt_w = []    \n",
    "    for k, row in tops.iterrows():\n",
    "        if k==0:\n",
    "            continue\n",
    "        else:\n",
    "            #print(k)\n",
    "            dt_w.append(tops.iloc[k,:]['MD'] - tops.iloc[k-1,:]['MD'])\n",
    "    #dt_w.append(logs.index.max()-tops.iloc[k,:]['MD'])\n",
    "    cf = []\n",
    "    for x in range(len(dt_w)):\n",
    "        top = tops.iloc[x,:]['MD']\n",
    "        base = top + dt_w[x]\n",
    "        print('top:',top, 'base: ', base)\n",
    "        formation = tops.iloc[x,:]['Zone Name']\n",
    "        cutoff_VSH = float(input(f'for {formation} Enter Cutoff value for sandstone (0.35) : ') or '0.35')\n",
    "        for i, row in logs[(logs.index> top) & (logs.index <= base)].iterrows():\n",
    "            if row['VSH'] >= cutoff_VSH:\n",
    "                cf.append(1) \n",
    "            else:\n",
    "                cf.append(0)\n",
    "        \n",
    "    logs['MST'] = pd.DataFrame(cf, index=logs.index)\n",
    "    #print(logs[['MST']])\n",
    "    \n",
    "### Plot the VSH and the Mechanical Stratigraphy\n",
    "    top_depth=tops.MD.min()\n",
    "    bottom_depth = tops.MD.max()\n",
    "    f = logs[(logs.index >= top_depth) & (logs.index <= bottom_depth)]\n",
    "    fig, ax = plt.subplots(nrows=1, ncols=3, figsize=(10,16), sharey=True, sharex=True,\\\n",
    "                           gridspec_kw={'width_ratios': [3, 1, 3]})\n",
    "    fig.suptitle(f\"Mechanical Stra_{w_name}\", fontsize=16)\n",
    "    fig.subplots_adjust(top=0.91,wspace=0.1)\n",
    "\n",
    "#General setting for all axis\n",
    "\n",
    "    major_yticks = np.arange(top_depth, bottom_depth, 200)\n",
    "    minor_yticks = np.arange(top_depth, bottom_depth, 100)\n",
    "    \n",
    "    for axes in ax:\n",
    "        axes.set_ylim (top_depth,bottom_depth)\n",
    "        axes.invert_yaxis()\n",
    "        axes.yaxis.grid(True)\n",
    "        axes.get_xaxis().set_visible(False)\n",
    "        axes.set_yticks(major_yticks)\n",
    "        axes.set_yticks(minor_yticks, minor=True)\n",
    "        axes.grid(which='minor', linestyle='--')\n",
    "        axes.set_ylabel('MD[m]')\n",
    "    \n",
    "        \n",
    "#1st track: GR \n",
    "    \n",
    "    ax0=ax[0].twiny()\n",
    "    ax0.set_xlim(0,150)\n",
    "    ax0.plot(f[GR], f.index, label='GR[api]', color='green') \n",
    "    ax0.spines['top'].set_position(('outward',0))\n",
    "    ax0.set_xlabel('GR[gAPI]',color='green', fontsize=12)    \n",
    "    ax0.tick_params(axis='x', colors='green')\n",
    "    ax0.grid(True)\n",
    "# 2nd track MST        \n",
    "    ax1=ax[1].twiny()\n",
    "    ax1.set_xlim(0,1)\n",
    "    #ax1.plot(f.MST, f.index, label='SAND_flag', color='g', fillstyle='full', lw=2)\n",
    "    ax1.spines['top'].set_position(('outward',0))\n",
    "    ax1.fill_betweenx(f.index,f.MST,0,color='g', label= 'MST')\n",
    "    ax1.fill_betweenx(f.index,f.MST,1,color='y', label= 'MST')        \n",
    "    #ax02.fill_betweenx(NetPay.DEPT,0,NetPay.PayFlag,color='gray')\n",
    "    ax1.set_xlabel('M.Stratigraphy Sand=0 Clay=1',color='black')    \n",
    "    ax1.tick_params(axis='x', colors='black')  \n",
    "    ax1.grid(True)\n",
    "    \n",
    "# 3rd Track VSH    \n",
    "    ax2=ax[2].twiny()\n",
    "    ax2.set_xlim(0,1)\n",
    "    ax2.spines['top'].set_position(('outward',0))\n",
    "    def rect(x,y,w,h,c):\n",
    "        ax2 = plt.gca()\n",
    "        polygon = plt.Rectangle((x,y),w,h,color=c)\n",
    "        ax2.add_patch(polygon)\n",
    "\n",
    "    def rainbow_fill(X,Y, cmap=plt.get_cmap(\"summer_r\")):\n",
    "        plt.plot(X,Y, color='black' ,linewidth=0.2)  # Plot so the axes scale correctly\n",
    "\n",
    "        dy = Y[1]-Y[0]\n",
    "        #N  = float(X.max())\n",
    "        N=1\n",
    "\n",
    "        for n, (x,y) in enumerate(zip(X,Y)):\n",
    "            #color = cmap(n/N)\n",
    "            color = cmap(x/N)\n",
    "            rect(0,y,x,dy,color)\n",
    "# Test data    \n",
    "    X = f.VSH\n",
    "    Y = f.index\n",
    "    rainbow_fill(X,Y)\n",
    "#     ax1.plot(f.VSH, f.index, label='VSH', color='black' ,linewidth=0.2)\n",
    "    ax2.set_xlabel('Vcl [v/v]', color='black')    \n",
    "    ax2.tick_params(axis='x', colors='black')\n",
    "    ax2.grid(True)\n",
    "    \n",
    "#     v_min=0\n",
    "#     v_max=1.01\n",
    "#     gird_space=0.2\n",
    "#     var_color ='red'\n",
    "#     v_label='Vcl-Calib]'\n",
    "#     ax21=ax[2].twiny()\n",
    "#     ax21.set_xlim(v_min,v_max)\n",
    "# #     ax21.plot(f['VSH'], f.index, color=var_color, lw=0.5)\n",
    "#     ax21.set_xlabel(v_label, color=var_color)\n",
    "#     ax21.spines['top'].set_position(('outward',40))\n",
    "# #     ax11.fill_betweenx(f.index,f['VSH'],0,color='gold',label= v_label)\n",
    "#     ax21.set_xticks(np.arange(v_min, v_max, gird_space))\n",
    "#     ax21.tick_params(axis='x', colors=var_color)\n",
    "#     ax21.grid(True)\n",
    "    \n",
    "# Print Tops\n",
    "    for i in range(len(ax)):\n",
    "        for k, row in tops[(tops.MD >= top_depth) & (tops.MD <= bottom_depth)].iterrows():\n",
    "            vars()['ax'+str(i)].hlines(row['MD'], xmin=-500, xmax=800, linestyles='solid', color='k')\n",
    "            vars()['ax'+str(0)].text(logs[GR].min(), row['MD'], row['Zone Name'], color='r')\n",
    "# Save figure    \n",
    "    plt.savefig (f'./Output pictures/{w_name}_MST_PLOT.png', dpi=300, format='png')\n",
    "    plt.show()"
   ]
  },
  {
   "cell_type": "code",
   "execution_count": null,
   "metadata": {},
   "outputs": [],
   "source": [
    "HOKCHI_11DES_MEM_Dataset"
   ]
  },
  {
   "cell_type": "code",
   "execution_count": null,
   "metadata": {
    "scrolled": true
   },
   "outputs": [],
   "source": [
    "MST_GR(HOKCHI_11DES_MEM_Dataset, HOKCHI_11DES_tops, 'HOKCHI_11DES')"
   ]
  },
  {
   "cell_type": "code",
   "execution_count": null,
   "metadata": {
    "scrolled": true
   },
   "outputs": [],
   "source": [
    "MST_GR(HOKCHI_7DES_MEM_Dataset, HOKCHI_7DES_tops, 'HOKCHI_7DES')"
   ]
  },
  {
   "cell_type": "code",
   "execution_count": null,
   "metadata": {
    "scrolled": true
   },
   "outputs": [],
   "source": [
    "MST_GR(HOKCHI_8H_MEM_Dataset, HOKCHI_8H_tops, 'HOKCHI_8H')"
   ]
  },
  {
   "cell_type": "code",
   "execution_count": null,
   "metadata": {
    "scrolled": true
   },
   "outputs": [],
   "source": [
    "MST_GR(HOKCHI_8H_PD_MEM_Dataset, HOKCHI_8H_PD_tops, 'HOKCHI_8H_PD')"
   ]
  },
  {
   "cell_type": "code",
   "execution_count": null,
   "metadata": {
    "scrolled": true
   },
   "outputs": [],
   "source": [
    "MST_GR(HOKCHI_9H_MEM_Dataset, HOKCHI_9H_tops, 'HOKCHI_9H')"
   ]
  },
  {
   "cell_type": "code",
   "execution_count": null,
   "metadata": {},
   "outputs": [],
   "source": [
    "'''\n",
    "Funtion to calculate the total porosity [PHIT_D] and Corrected/Effective porosity [PHIC_D] with the help of a density log\n",
    "The funtion allows user to enter the density for matrix, fluid and shale.\n",
    "'''\n",
    "def PHI_DEN(logs):\n",
    "    print(logs.columns)\n",
    "    DEN = input('Select' + \"\\033[1m\" + ' DENSITY ' + \"\\033[0m\" + 'nemonic: ')\n",
    "    den_matrix, den_fluid, den_shale = [float(item) for item in \\\n",
    "                                        (input('Enter Density of Matrix/Fluid/Shale (2.62/1.1/2.4) [gr/cc]: ').split()\\\n",
    "                                         or ('2.62 1.1 2.4').split())]\n",
    "    phi = (logs[DEN].interpolate(limit_area='inside') - den_matrix) / (den_fluid - den_matrix)\n",
    "    phi_shale = (den_shale - den_matrix) / (den_fluid - den_matrix)\n",
    "    phi_sh_corr = phi - (logs.VSH * phi_shale)\n",
    "    logs['PHIT_D'] = pd.DataFrame(phi, index=logs.index)\n",
    "    logs['PHIC_D'] = pd.DataFrame(phi_sh_corr, index=logs.index)\n",
    "    logs['PHIC_D'] = logs['PHIC_D'].mask(logs['PHIC_D'].lt(0),0)\n",
    "    logs['PHIT_D'] = logs['PHIT_D'].mask(logs['PHIT_D'].lt(0),0)\n",
    "    print('The following columns were created: PHIC_D, PHIT_D')"
   ]
  },
  {
   "cell_type": "code",
   "execution_count": null,
   "metadata": {},
   "outputs": [],
   "source": [
    "'''\n",
    "Funtion to calculate the total porosity [PHIT_D] and Corrected/Effective porosity [PHIC_D] with the help of a density log\n",
    "The funtion allows user to enter the density for matrix, fluid and shale.\n",
    "'''\n",
    "def PHI_DEN(logs, tops):\n",
    "    print(logs.columns)\n",
    "    DEN = input('Select' + \"\\033[1m\" + ' DENSITY ' + \"\\033[0m\" + 'nemonic: ')\n",
    "    dt_w = []    \n",
    "    for k, row in tops.iterrows():\n",
    "        if k==0:\n",
    "            continue\n",
    "        else:\n",
    "            #print(k)\n",
    "            dt_w.append(tops.iloc[k,:]['MD'] - tops.iloc[k-1,:]['MD'])\n",
    "    den_matrix = []\n",
    "    den_fluid = []\n",
    "    den_shale = []\n",
    "    phi_t = pd.DataFrame([])\n",
    "    phi_sh_corr_t = pd.DataFrame([])\n",
    "    for x in range(len(dt_w)):\n",
    "        top = tops.iloc[x,:]['MD']\n",
    "        base = top + dt_w[x]\n",
    "        print('top:',top, 'base: ', base)\n",
    "        formation = tops.iloc[x,:]['Zone Name']\n",
    "        den_matrix, den_fluid, den_shale = [float(item) for item in \\\n",
    "                                        (input(f' For {formation} enter Density of Matrix/Fluid/Shale (2.65/1/2.4) [gr/cc]: ').split()\\\n",
    "                                         or ('2.65 1 2.4').split())]\n",
    "        phi = ((logs[[DEN]][(logs.index>=top) & (logs.index<base)].interpolate(limit_area='inside')) - den_matrix) / (den_fluid - den_matrix)\n",
    "        phi_shale = (den_shale - den_matrix) / (den_fluid - den_matrix)           \n",
    "        vsh = logs[['VSH']][(logs.index>=top) & (logs.index<base)]\n",
    "        phi_sh = phi-phi_shale*phi_shale\n",
    "#         pt = np.array(phi)\n",
    "#         vsh_n= np.array(phi)\n",
    "#         corrector=[]\n",
    "#         for x in range(len(vsh)):\n",
    "#             p_corr = pt[x]-vsh_n[x]*phi_shale\n",
    "#             corrector.append(p_corr)\n",
    "        phi_sh_corr_t = phi_sh_corr_t.append(phi_sh)\n",
    "        phi_t = phi_t.append(phi)\n",
    "                \n",
    "#     print(phi_sh_corr_t)\n",
    "    logs['PHIT_D'] = pd.DataFrame(phi_t, index=logs.index)\n",
    "    logs['PHIC_D'] = pd.DataFrame(phi_sh_corr_t, index=logs.index)\n",
    "    logs['PHIC_D'] = logs['PHIC_D'].mask(logs['PHIC_D'].lt(0),0)\n",
    "    logs['PHIT_D'] = logs['PHIT_D'].mask(logs['PHIT_D'].lt(0),0)\n",
    "    print('The following columns were created: PHIC_D, PHIT_D')"
   ]
  },
  {
   "cell_type": "code",
   "execution_count": null,
   "metadata": {},
   "outputs": [],
   "source": [
    "'''\n",
    "Calculate the porosity with the Wyllie equation\n",
    "'''\n",
    "def PHI_SONIC(logs):\n",
    "    dt_matrix, dt_fluid, dt_shale = [float(item) for item in \\\n",
    "                                     (input('Enter DELTA of Matrix/Fluid/Shale (47.5/189/55) [us/ft]: ').split()\\\n",
    "                                      or ('47.5 189 55').split())]\n",
    "    phi = (logs.COMPRESSIONAL - dt_matrix) / (dt_fluid - dt_matrix)\n",
    "    phi_shale = (dt_shale - dt_matrix) / (dt_fluid - dt_matrix)\n",
    "    phi_sh_corr = phi - (logs.VSH * phi_shale)\n",
    "    logs['PHIT_S'] = pd.DataFrame(phi, index=logs.index)\n",
    "    logs['PHIC_S'] = pd.DataFrame(phi_sh_corr, index=logs.index)\n",
    "    logs['PHIT_S'] = logs['PHIT_S'].mask(logs['PHIT_S'].lt(0),0)\n",
    "    logs['PHIC_S'] = logs['PHIC_S'].mask(logs['PHIC_S'].lt(0),0)\n",
    "    print('The following columns were created: ')"
   ]
  },
  {
   "cell_type": "code",
   "execution_count": null,
   "metadata": {
    "scrolled": true
   },
   "outputs": [],
   "source": [
    "PHI_DEN(HOKCHI_11DES_MEM_Dataset, HOKCHI_11DES_tops)"
   ]
  },
  {
   "cell_type": "code",
   "execution_count": null,
   "metadata": {
    "scrolled": true
   },
   "outputs": [],
   "source": [
    "PHI_DEN(HOKCHI_7DES_MEM_Dataset, HOKCHI_7DES_tops)"
   ]
  },
  {
   "cell_type": "code",
   "execution_count": null,
   "metadata": {
    "scrolled": true
   },
   "outputs": [],
   "source": [
    "PHI_DEN(HOKCHI_8H_MEM_Dataset, HOKCHI_8H_tops)"
   ]
  },
  {
   "cell_type": "code",
   "execution_count": null,
   "metadata": {
    "scrolled": true
   },
   "outputs": [],
   "source": [
    "PHI_DEN(HOKCHI_8H_PD_MEM_Dataset, HOKCHI_8H_PD_tops)"
   ]
  },
  {
   "cell_type": "code",
   "execution_count": null,
   "metadata": {
    "scrolled": false
   },
   "outputs": [],
   "source": [
    "PHI_DEN(HOKCHI_9H_MEM_Dataset, HOKCHI_9H_tops)"
   ]
  },
  {
   "cell_type": "code",
   "execution_count": null,
   "metadata": {
    "scrolled": true
   },
   "outputs": [],
   "source": [
    "plot_visual_test(HOKCHI_9H_MEM_Dataset, HOKCHI_9H_tops)"
   ]
  },
  {
   "cell_type": "code",
   "execution_count": null,
   "metadata": {
    "scrolled": true
   },
   "outputs": [],
   "source": [
    "plot_visual_test(HOKCHI_8H_PD_MEM_Dataset, HOKCHI_8H_PD_tops)"
   ]
  },
  {
   "cell_type": "code",
   "execution_count": null,
   "metadata": {
    "scrolled": true
   },
   "outputs": [],
   "source": [
    "plot_visual_test(HOKCHI_8H_PD_MEM_Dataset, HOKCHI_8H_PD_tops)"
   ]
  },
  {
   "cell_type": "code",
   "execution_count": null,
   "metadata": {
    "scrolled": true
   },
   "outputs": [],
   "source": [
    "plot_visual_test(HOKCHI_8H_PD_MEM_Dataset, HOKCHI_8H_PD_tops)"
   ]
  },
  {
   "cell_type": "code",
   "execution_count": null,
   "metadata": {
    "scrolled": true
   },
   "outputs": [],
   "source": [
    "plot_visual_test(HOKCHI_11DES_MEM_Dataset, HOKCHI_11DES_tops)"
   ]
  },
  {
   "cell_type": "code",
   "execution_count": null,
   "metadata": {
    "scrolled": true
   },
   "outputs": [],
   "source": [
    "plot_visual_test(HOKCHI_7DES_MEM_Dataset, HOKCHI_7DES_tops)"
   ]
  },
  {
   "cell_type": "code",
   "execution_count": null,
   "metadata": {},
   "outputs": [],
   "source": [
    "'''\n",
    "Using the sonic model it calculates the Dynamic Shear [G_dyn] and the dynamic Bulk [K_dyn] modulus\n",
    "The script also compute the Dynamic Young modulus [E_dyn] and the dynamic possion ratio [PR_dyn]\n",
    "from shear and bulk modules.\n",
    "'''\n",
    "def DYNAMIC_PROP(logs):\n",
    "    print(logs.columns)\n",
    "    DENSIDAD = input('Enter Density nemonic: ')\n",
    "    COMPRESSIONAL = input('Enter DTCO nemonic: ')\n",
    "    SHEAR = input('Enter DTSM nemonic: ')\n",
    "    G_dyn = 13474.45*(logs[DENSIDAD].interpolate(limit_area='inside')/(logs[SHEAR].interpolate(limit_area='inside'))**2)\n",
    "    K_dyn = 13474.45*logs[DENSIDAD].interpolate(limit_area='inside')\\\n",
    "    *(1/(logs[COMPRESSIONAL].interpolate(limit_area='inside'))**2)-((4/3)*G_dyn)\n",
    "    E_dyn = (9*G_dyn*K_dyn)/(G_dyn+3*K_dyn)\n",
    "    E_dyn = np.where(np.array(E_dyn)<0,np.nan, np.array(E_dyn))\n",
    "    E_dyn = np.where(np.array(E_dyn)>32,np.nan, np.array(E_dyn))\n",
    "    PR_dyn = (3*K_dyn-2*G_dyn)/(6*K_dyn+2*G_dyn)\n",
    "    PR_dyn = np.where(np.array(PR_dyn)<0.1,0.1, np.array(PR_dyn))\n",
    "    PR_dyn = np.where(np.array(PR_dyn)>0.45,0.45, np.array(PR_dyn))\n",
    "    logs['G_dyn'] = G_dyn\n",
    "    logs['K_dyn'] = K_dyn\n",
    "    logs['E_dyn'] = E_dyn\n",
    "    logs['PR_dyn'] = PR_dyn\n",
    "    #Convertion to Gpa\n",
    "    logs['G_dyn_IU'] = G_dyn*6.89476*10**(3)/1000\n",
    "    logs['K_dyn_IU'] = K_dyn*6.89476*10**(3)/1000\n",
    "    logs['E_dyn_IU'] = E_dyn*6.89476*10**(3)/1000\n",
    "    #Convert to Bar\n",
    "    logs['G_dyn_bar'] = (G_dyn*10**6)/14.5038\n",
    "    logs['K_dyn_bar'] = (K_dyn*10**(6))/14.5038\n",
    "    logs['E_dyn_bar'] = (E_dyn*10**(6))/14.5038\n",
    "    print(logs[['G_dyn','K_dyn','E_dyn','PR_dyn']].head(100))"
   ]
  },
  {
   "cell_type": "code",
   "execution_count": null,
   "metadata": {},
   "outputs": [],
   "source": [
    "DYNAMIC_PROP(HOKCHI_11DES_MEM_Dataset)"
   ]
  },
  {
   "cell_type": "code",
   "execution_count": null,
   "metadata": {},
   "outputs": [],
   "source": [
    "DYNAMIC_PROP(HOKCHI_7DES_MEM_Dataset)"
   ]
  },
  {
   "cell_type": "code",
   "execution_count": null,
   "metadata": {},
   "outputs": [],
   "source": [
    "DYNAMIC_PROP(HOKCHI_8H_MEM_Dataset)"
   ]
  },
  {
   "cell_type": "code",
   "execution_count": null,
   "metadata": {},
   "outputs": [],
   "source": [
    "DYNAMIC_PROP(HOKCHI_8H_PD_MEM_Dataset)"
   ]
  },
  {
   "cell_type": "code",
   "execution_count": null,
   "metadata": {},
   "outputs": [],
   "source": [
    "DYNAMIC_PROP(HOKCHI_9H_MEM_Dataset)"
   ]
  },
  {
   "cell_type": "code",
   "execution_count": null,
   "metadata": {
    "scrolled": true
   },
   "outputs": [],
   "source": [
    "plot_visual_test(HOKCHI_11DES_MEM_Dataset, HOKCHI_11DES_tops)"
   ]
  },
  {
   "cell_type": "code",
   "execution_count": null,
   "metadata": {
    "scrolled": true
   },
   "outputs": [],
   "source": [
    "plot_visual_test(HOKCHI_7DES_MEM_Dataset, HOKCHI_7DES_tops)"
   ]
  },
  {
   "cell_type": "code",
   "execution_count": null,
   "metadata": {
    "scrolled": true
   },
   "outputs": [],
   "source": [
    "plot_visual_test(HOKCHI_8H_PD_MEM_Dataset, HOKCHI_8H_PD_tops)"
   ]
  },
  {
   "cell_type": "code",
   "execution_count": null,
   "metadata": {
    "scrolled": true
   },
   "outputs": [],
   "source": [
    "plot_visual_test(HOKCHI_9H_MEM_Dataset, HOKCHI_9H_tops)"
   ]
  },
  {
   "cell_type": "code",
   "execution_count": null,
   "metadata": {},
   "outputs": [],
   "source": [
    "def YM_FULLER(logs):\n",
    "    logs['YM_FULLER'] = 0.032*logs['E_dyn']**1.632"
   ]
  },
  {
   "cell_type": "code",
   "execution_count": null,
   "metadata": {},
   "outputs": [],
   "source": [
    "YM_FULLER(MA_02A_MEM_Dataset)"
   ]
  },
  {
   "cell_type": "code",
   "execution_count": null,
   "metadata": {},
   "outputs": [],
   "source": [
    "'''\n",
    "Computes the static Youngs module from E_dyn and total porosity [PHIT] with the Morales correlation. Appy to\n",
    "sandstones only\n",
    "\n",
    "Application: The correlation is retrieved based on several high-permeability sandstones ranging from very \n",
    "fine-grained to coarse-grained from several fields - Kuparuk, Alaska; Elmworth and Mitsue, \n",
    "Canada; Punta Benitez and Boqueron, Venzuela. This is applicable to all three porosity groups: consolidated (10%-15%),\n",
    "moderately consolidated (15%-25%), and weakly consolidated (>25%).For porosity 0%-10%, the equation is not defined. \n",
    "From the software interface, the user can select “No correlation” or  “use correlation of porosity 10-15%”.\n",
    "\n",
    "Reference:\n",
    "R.H. Morales and R.P. Marcinew, \n",
    "“Fracturing of High-Permeability Formations: Mechanical Properties Correlations”, SPE 26561, Oct 1993\n",
    "\n",
    "'''\n",
    "def YM_STATIC_MC(logs):\n",
    "    ym_mc=[]\n",
    "    for x, row in logs.iterrows():\n",
    "        if (row['PHIT_D']>=0 and row['PHIT_D']<0.15):\n",
    "            logEs = 2.137+0.6612*math.log10(row.E_dyn*10**6)\n",
    "            ym_mc.append((10**logEs)/10**6)\n",
    "        elif (row['PHIT_D']>=0.15 and row['PHIT_D']<0.25):\n",
    "            logEs = 1.829+0.6920*math.log10(row.E_dyn*10**6)\n",
    "            ym_mc.append((10**logEs)/10**6)\n",
    "        elif (row['PHIT_D']>=0.25):\n",
    "            logEs = -0.4575+0.9404*math.log10(row.E_dyn*(10**6))\n",
    "            ym_mc.append(10**(logEs)/10**6)\n",
    "    logs['YM_MC'] = pd.DataFrame(ym_mc, index=logs.index)\n",
    "    print(logs[['YM_MC']])        "
   ]
  },
  {
   "cell_type": "code",
   "execution_count": null,
   "metadata": {},
   "outputs": [],
   "source": [
    "'''\n",
    "Compute the Static Youngs from E_dyn and Total porosity [PHIT]. Apply to sand stones only. \n",
    "The correlation was based on Morales’ data sets (SPE 26561) and modified by Tom Bratton in 1997.\n",
    "\n",
    "'''\n",
    "def YM_STATIC_MMC(logs):\n",
    "    print(logs.columns)\n",
    "    PHIT = input('Enter Total Porosity nemonic: ')\n",
    "    E_dyn = input('Enter Dynamic Youngs Madulus nemonic: ')\n",
    "    k = float(input('Enter boost factor Youngs Madulus: ') or '1')\n",
    "    ym_mmc=[]\n",
    "    for x, row in logs.interpolate(limit_area='inside').iterrows():\n",
    "        if (row[PHIT]<=0.35):\n",
    "            Es = (-2.21*row[PHIT]+0.965)*row[E_dyn]*k\n",
    "            ym_mmc.append(Es)\n",
    "        elif (row[PHIT]>0.35):\n",
    "            Es = (-2.21*0.35+0.965)*row[E_dyn]*k\n",
    "            ym_mmc.append(Es)\n",
    "        else:\n",
    "            ym_mmc.append(np.nan)\n",
    "    logs['YM_MMC'] = pd.DataFrame(ym_mmc, index=logs.index)\n",
    "    logs['YM_MMC_IU'] = logs['YM_MMC']*6.89476*10**(3) #Mpa\n",
    "    logs['YM_MMC_bar'] = logs['YM_MMC']*10**6/14.5038 #Bar\n",
    "    print('The following mnemonics were created: ', logs[['YM_MMC', 'YM_MMC_IU', 'YM_MMC_bar']])"
   ]
  },
  {
   "cell_type": "code",
   "execution_count": null,
   "metadata": {},
   "outputs": [],
   "source": [
    "'''\n",
    "Compute the Static Youngs from E_dyn and Total porosity [PHIT]. Apply to sand stones only. \n",
    "The correlation was based on Morales’ data sets (SPE 26561) and modified by Tom Bratton in 1997.\n",
    "\n",
    "'''\n",
    "def YM_STATIC_MMC(logs, tops):\n",
    "    print(logs.columns)\n",
    "    PHIT = input('Enter Total Porosity nemonic: ')\n",
    "    E_dyn = input('Enter Dynamic Youngs Madulus nemonic: ')\n",
    "    #Apply bust factor after total YM has been created\n",
    "    dt_w = []    \n",
    "    for k, row in tops.iterrows():\n",
    "        if row.MD==0:\n",
    "            continue\n",
    "        else:\n",
    "            #print(k)\n",
    "            dt_w.append(tops.iloc[k,:]['MD'] - tops.iloc[k-1,:]['MD'])\n",
    "    #array of inputs\n",
    "    mult = [] #np.array([])\n",
    "    for x in range(len(dt_w)):\n",
    "        top = tops.iloc[x,:]['MD']\n",
    "        base = top + dt_w[x]\n",
    "        print('top:',top, 'base: ', base)\n",
    "        formation = tops.iloc[x,:]['Zone Name']\n",
    "        mult_s = float(input(f'Enter YM_MMC Multiplier (1)for {formation}: ') or '1')\n",
    "        mult.append(mult_s)\n",
    "    \n",
    "    #total YMM without bust factor\n",
    "    ym_mmc=[]\n",
    "    for x, row in logs.interpolate(limit_area='inside').iterrows():\n",
    "        if (row[PHIT]<=0.35):\n",
    "            Es = (-2.21*row[PHIT]+0.965)*row[E_dyn]\n",
    "            ym_mmc.append(Es)\n",
    "        elif (row[PHIT]>0.35):\n",
    "            Es = (-2.21*0.35+0.965)*row[E_dyn]\n",
    "            ym_mmc.append(Es)\n",
    "        else:\n",
    "            ym_mmc.append(np.nan)\n",
    "    logs['YM_MMC'] = pd.DataFrame(ym_mmc, index=logs.index)\n",
    "    \n",
    "    #Bust factor by zone\n",
    "    ym_t = pd.DataFrame([])    \n",
    "    for x in range(len(dt_w)):\n",
    "        top = tops.iloc[x,:]['MD']\n",
    "        base = top + dt_w[x]\n",
    "#         print('top:',top, 'base: ', base)\n",
    "        formation = tops.iloc[x,:]['Zone Name']\n",
    "        ym_sect = logs[['YM_MMC']][(logs.index>=top) & (logs.index<base)]\n",
    "        ym_t = ym_t.append(ym_sect*mult[x]) \n",
    "    #replace for new calculation\n",
    "    logs['YM_MMC'] = ym_t #Mpsi\n",
    "    logs['YM_MMC_IU'] = ym_t*6.89476*10**(3)#Mpa\n",
    "    logs['YM_MMC_bar'] = ym_t*10**6/14.5038 #Bar\n",
    "    print('The following mnemonics were created: ', logs[['YM_MMC', 'YM_MMC_IU', 'YM_MMC_bar']])"
   ]
  },
  {
   "cell_type": "code",
   "execution_count": null,
   "metadata": {},
   "outputs": [],
   "source": [
    "'''\n",
    "Compute static possion ratio with the use of a multiplier that usually is 1. Means static and dynic are equal\n",
    "'''\n",
    "def PR_STATIC(logs):\n",
    "    print(logs.columns)\n",
    "    PR_dyn = input('Enter Dynamic Possion Ratio nemonic: ')\n",
    "    mult = float(input('Enter Possion Ratio Multiplier (1): ') or '1')\n",
    "    PR_ST = logs[PR_dyn]*mult\n",
    "    logs['PR_St'] = PR_ST\n",
    "    print(logs[['PR_St']])"
   ]
  },
  {
   "cell_type": "code",
   "execution_count": null,
   "metadata": {},
   "outputs": [],
   "source": [
    "'''\n",
    "Compute static possion ratio with the use of a multiplier that usually is 1. Means static and dynic are equal\n",
    "'''\n",
    "def PR_STATIC(logs, tops):\n",
    "    print(logs.columns)\n",
    "    PR_dyn = input('Enter Dynamic Possion Ratio nemonic: ')\n",
    "    dt_w = []    \n",
    "    for k, row in tops.iterrows():\n",
    "        if k==0:\n",
    "            continue\n",
    "        else:\n",
    "            #print(k)\n",
    "            dt_w.append(tops.iloc[k,:]['MD'] - tops.iloc[k-1,:]['MD'])\n",
    "    #array of inputs\n",
    "    mult = [] #np.array([])\n",
    "    for x in range(len(dt_w)):\n",
    "        top = tops.iloc[x,:]['MD']\n",
    "        base = top + dt_w[x]\n",
    "        print('top:',top, 'base: ', base)\n",
    "        formation = tops.iloc[x,:]['Zone Name']\n",
    "        mult_s = float(input(f'Enter Possion Ratio Multiplier (1)for {formation}: ') or '1')\n",
    "        mult.append(mult_s)\n",
    "    \n",
    "    pr_t = pd.DataFrame([])    \n",
    "    for x in range(len(dt_w)):\n",
    "        top = tops.iloc[x,:]['MD']\n",
    "        base = top + dt_w[x]\n",
    "#         print('top:',top, 'base: ', base)\n",
    "        formation = tops.iloc[x,:]['Zone Name']\n",
    "        pr_sect = logs[[PR_dyn]][(logs.index>=top) & (logs.index<base)]\n",
    "        pr_t = pr_t.append(pr_sect*mult[x])   \n",
    "    logs['PR_St'] = pr_t\n",
    "    print(logs[['PR_St']])"
   ]
  },
  {
   "cell_type": "code",
   "execution_count": null,
   "metadata": {},
   "outputs": [],
   "source": [
    "YM_STATIC_MMC(HOKCHI_11DES_MEM_Dataset)"
   ]
  },
  {
   "cell_type": "code",
   "execution_count": null,
   "metadata": {},
   "outputs": [],
   "source": [
    "YM_STATIC_MMC(HOKCHI_7DES_MEM_Dataset)"
   ]
  },
  {
   "cell_type": "code",
   "execution_count": null,
   "metadata": {},
   "outputs": [],
   "source": [
    "YM_STATIC_MMC(HOKCHI_8H_MEM_Dataset)"
   ]
  },
  {
   "cell_type": "code",
   "execution_count": null,
   "metadata": {},
   "outputs": [],
   "source": [
    "YM_STATIC_MMC(HOKCHI_8H_PD_MEM_Dataset)"
   ]
  },
  {
   "cell_type": "code",
   "execution_count": null,
   "metadata": {},
   "outputs": [],
   "source": [
    "YM_STATIC_MMC(HOKCHI_9H_MEM_Dataset)"
   ]
  },
  {
   "cell_type": "markdown",
   "metadata": {},
   "source": [
    "# POSSION RATIO"
   ]
  },
  {
   "cell_type": "code",
   "execution_count": null,
   "metadata": {},
   "outputs": [],
   "source": [
    "PR_STATIC(HOKCHI_11DES_MEM_Dataset)"
   ]
  },
  {
   "cell_type": "code",
   "execution_count": null,
   "metadata": {},
   "outputs": [],
   "source": [
    "PR_STATIC(HOKCHI_7DES_MEM_Dataset)"
   ]
  },
  {
   "cell_type": "code",
   "execution_count": null,
   "metadata": {},
   "outputs": [],
   "source": [
    "PR_STATIC(HOKCHI_8H_MEM_Dataset)"
   ]
  },
  {
   "cell_type": "code",
   "execution_count": null,
   "metadata": {},
   "outputs": [],
   "source": [
    "PR_STATIC(HOKCHI_8H_PD_MEM_Dataset)"
   ]
  },
  {
   "cell_type": "code",
   "execution_count": null,
   "metadata": {},
   "outputs": [],
   "source": [
    "PR_STATIC(HOKCHI_9H_MEM_Dataset)"
   ]
  },
  {
   "cell_type": "markdown",
   "metadata": {},
   "source": [
    "# Rock strength"
   ]
  },
  {
   "cell_type": "code",
   "execution_count": null,
   "metadata": {},
   "outputs": [],
   "source": [
    "'''\n",
    "Compute the UCS (unconfined compressive strength) with the use of McNally correlation published in 1987, most validate for\n",
    "fine grained consolidated and unconsolidated sandstones with different porosity ranges.\n",
    "UCS[psi]\n",
    "Reference: McNally, G.H., 1987.\n",
    "Estimation of coal measures rock strength using sonic and neutron logs. Geoexploration 24, 381-395.\n",
    "\n",
    "'''\n",
    "def UCS_McNally(logs, tops):\n",
    "    print(logs.columns)\n",
    "    DTCO = input('Enter DTCO nemonic: ')\n",
    "    \n",
    "    #Apply bust factor after total YM has been created\n",
    "    dt_w = []    \n",
    "    for k, row in tops.iterrows():\n",
    "        if k==0:\n",
    "            continue\n",
    "        else:\n",
    "            #print(k)\n",
    "            dt_w.append(tops.iloc[k,:]['MD'] - tops.iloc[k-1,:]['MD'])\n",
    "    #array of inputs\n",
    "    mult = [] #np.array([])\n",
    "    for x in range(len(dt_w)):\n",
    "        top = tops.iloc[x,:]['MD']\n",
    "        base = top + dt_w[x]\n",
    "        print('top:',top, 'base: ', base)\n",
    "        formation = tops.iloc[x,:]['Zone Name']\n",
    "        mult_s = float(input(f'Enter UCS Multiplier (1)for {formation}: ') or '1.0')\n",
    "        mult.append(mult_s)\n",
    "        \n",
    "    #calculate full UCS McNally   \n",
    "    Vpcorr = (1/logs[DTCO].interpolate(limit_area='inside'))*(10**6/3280.84)\n",
    "    logs['Vp'] = Vpcorr\n",
    "    ucsmcnally = 145.038*1277*np.exp((-11.2/Vpcorr))\n",
    "    logs['UCS_McNally'] = ucsmcnally\n",
    "    \n",
    "    #Bust factor by zone\n",
    "    ucs_t = pd.DataFrame([])    \n",
    "    for x in range(len(dt_w)):\n",
    "        top = tops.iloc[x,:]['MD']\n",
    "        base = top + dt_w[x]\n",
    "#         print('top:',top, 'base: ', base)\n",
    "        formation = tops.iloc[x,:]['Zone Name']\n",
    "        ucs_sect = logs[['UCS_McNally']][(logs.index>=top) & (logs.index<base)]\n",
    "        ucs_t = ucs_t.append(ucs_sect*mult[x]) \n",
    "    \n",
    "    logs['UCS_McNally'] = ucs_t\n",
    "#     logs['UCS_McNally_IU'] = ucs_t*6.89476#Kpa\n",
    "#     logs['UCS_McNally_bar'] = ucs_t/14.5038 #Bar\n",
    "#     print(logs[['UCS_McNally', 'UCS_McNally_IU', 'UCS_McNally_bar', 'Vp']])\n",
    "    print('Dataser UCS_McNally created: ', logs['UCS_McNally'].dropna())"
   ]
  },
  {
   "cell_type": "code",
   "execution_count": null,
   "metadata": {},
   "outputs": [],
   "source": [
    "UCS_McNally(HOKCHI_11DES_MEM_Dataset, HOKCHI_11DES_tops)"
   ]
  },
  {
   "cell_type": "code",
   "execution_count": null,
   "metadata": {},
   "outputs": [],
   "source": [
    "UCS_McNally(HOKCHI_7DES_MEM_Dataset, HOKCHI_7DES_tops)"
   ]
  },
  {
   "cell_type": "code",
   "execution_count": null,
   "metadata": {},
   "outputs": [],
   "source": [
    "UCS_McNally(HOKCHI_8H_MEM_Dataset, HOKCHI_8H_tops)"
   ]
  },
  {
   "cell_type": "code",
   "execution_count": null,
   "metadata": {},
   "outputs": [],
   "source": [
    "UCS_McNally(HOKCHI_8H_PD_MEM_Dataset, HOKCHI_8H_PD_tops)"
   ]
  },
  {
   "cell_type": "code",
   "execution_count": null,
   "metadata": {},
   "outputs": [],
   "source": [
    "UCS_McNally(HOKCHI_9H_MEM_Dataset, HOKCHI_9H_tops)"
   ]
  },
  {
   "cell_type": "code",
   "execution_count": null,
   "metadata": {},
   "outputs": [],
   "source": [
    "'''\n",
    "Compute the UCS (unconfined compressive strength) with the use of the correlation proposed by Per Horsrud based\n",
    "on core data from the North Sea. It is valid for fine mostly high porosity Tertiary shales.\n",
    "Units: psi\n",
    "Reference: Horsrud, P., 2001.\n",
    "Estimating mechanical properties of shale from empirical correlations. SPE Drill. Complet. 16, 68 - 73.\n",
    "\n",
    "'''\n",
    "def UCS_Horsrud(logs, tops):\n",
    "    print(logs.columns)\n",
    "    DTCO = input('Enter DTCO nemonic: ')\n",
    "    #Apply bust factor after total UCS has been created\n",
    "    dt_w = []    \n",
    "    for k, row in tops.iterrows():\n",
    "        if k==0:\n",
    "            continue\n",
    "        else:\n",
    "            dt_w.append(tops.iloc[k,:]['MD'] - tops.iloc[k-1,:]['MD'])\n",
    "    #array of inputs K\n",
    "    mult = [] #np.array([])\n",
    "    for x in range(len(dt_w)):\n",
    "        top = tops.iloc[x,:]['MD']\n",
    "        base = top + dt_w[x]\n",
    "        print('top:',top, 'base: ', base)\n",
    "        formation = tops.iloc[x,:]['Zone Name']\n",
    "        mult_s = float(input(f'Enter UCS Multiplier (1)for {formation}: ') or '1.0')\n",
    "        mult.append(mult_s)\n",
    "    #UCS without factor\n",
    "    ucshorsrud = 145.038*0.77*(304.8/logs[DTCO].interpolate(limit_area='inside'))**2.93\n",
    "    logs['UCS_Horsrud'] = ucshorsrud\n",
    "    logs['UCS_Horsrud'] = logs['UCS_Horsrud']\n",
    "    \n",
    "    #Bust factor by zone\n",
    "    ucs_t = pd.DataFrame([])    \n",
    "    for x in range(len(dt_w)):\n",
    "        top = tops.iloc[x,:]['MD']\n",
    "        base = top + dt_w[x]\n",
    "        ucs_sect = logs[['UCS_Horsrud']][(logs.index>=top) & (logs.index<base)]\n",
    "        ucs_t = ucs_t.append(ucs_sect*mult[x])\n",
    "    logs['UCS_Horsrud'] = ucs_t\n",
    "    \n",
    "    print(logs[['UCS_Horsrud']])"
   ]
  },
  {
   "cell_type": "code",
   "execution_count": null,
   "metadata": {},
   "outputs": [],
   "source": [
    "'''\n",
    "Compute the UCS (unconfined compressive strength) with the use of the correlation proposed by Per Horsrud based\n",
    "on core data from the North Sea. It is valid for fine mostly high porosity Tertiary shales.\n",
    "Units: psi\n",
    "Reference: Horsrud, P., 2001.\n",
    "Estimating mechanical properties of shale from empirical correlations. SPE Drill. Complet. 16, 68 - 73.\n",
    "\n",
    "\n",
    "'''\n",
    "def UCS_Horsrud(logs):\n",
    "    print(logs.columns)\n",
    "    DTCO = input('Enter DTCO nemonic: ')\n",
    "    k = float(input(\"Enter Bust factor Default = 1 : \") or \"1\")\n",
    "    ucshorsrud = 145.038*0.77*(304.8/logs[DTCO].interpolate(limit_area='inside'))**2.93\n",
    "    logs['UCS_Horsrud'] = ucshorsrud\n",
    "    logs['UCS_Horsrud'] = logs['UCS_Horsrud']*k\n",
    "#     logs['UCS_Horsrud_IU'] = logs['UCS_Horsrud']*6.89476#Kpa\n",
    "#     logs['UCS_Horsrud_bar'] = logs['UCS_Horsrud']/14.5038 #Bar\n",
    "    print(logs[['UCS_Horsrud']])"
   ]
  },
  {
   "cell_type": "code",
   "execution_count": null,
   "metadata": {},
   "outputs": [],
   "source": [
    "'''\n",
    "GMI, 2010. Te Kiri Prospect Geomechanical Analysis, PEP 51149. Ministry of Economic\n",
    "Development New Zealand Unpublished Petroleum Report PR4278.\n",
    "'''\n",
    "def UCS_GMI(logs):\n",
    "    print(logs.columns)\n",
    "    DTCO = input('Enter DTCO nemonic: ')\n",
    "    k = float(input(\"Enter Bust factor Default = 1 : \") or \"1\")\n",
    "    ucsgmi = 1.7*(1/(0.0032808*logs[DTCO].interpolate(limit_area='inside')))**2.6\n",
    "    logs['UCS_GMI'] = ucsgmi*145.038\n",
    "    logs['UCS_GMI'] = logs['UCS_GMI']*k\n",
    "#     logs['UCS_Horsrud_IU'] = logs['UCS_Horsrud']*6.89476#Kpa\n",
    "#     logs['UCS_Horsrud_bar'] = logs['UCS_Horsrud']/14.5038 #Bar\n",
    "    print(logs[['UCS_GMI']])"
   ]
  },
  {
   "cell_type": "code",
   "execution_count": null,
   "metadata": {},
   "outputs": [],
   "source": [
    "'''\n",
    "Chang, C., Zoback, M.D., Khaksar, A., 2006. Empirical relations between rock strength\n",
    "and physical properties in sedimentary rocks. J. Pet. Sci. Eng. 51 (3–4), 223–237.\n",
    "https://doi.org/10.1016/j.petrol.2006.01.003.\n",
    "'''\n",
    "def UCS_GLOBAL(logs):\n",
    "    print(logs.columns)\n",
    "    DTCO = input('Enter DTCO nemonic: ')\n",
    "    k = float(input(\"Enter Bust factor Default = 1 : \") or \"1\")\n",
    "    ucsglobal = 1.35*(304.8/logs[DTCO].interpolate(limit_area='inside'))**2.6\n",
    "    logs['UCS_GLOBAL'] = ucsglobal*145.038\n",
    "    logs['UCS_GLOBAL'] = logs['UCS_GLOBAL']*k\n",
    "#     logs['UCS_Horsrud_IU'] = logs['UCS_Horsrud']*6.89476#Kpa\n",
    "#     logs['UCS_Horsrud_bar'] = logs['UCS_Horsrud']/14.5038 #Bar\n",
    "    print(logs[['UCS_GLOBAL']])"
   ]
  },
  {
   "cell_type": "code",
   "execution_count": null,
   "metadata": {
    "scrolled": true
   },
   "outputs": [],
   "source": [
    "UCS_Horsrud(HOKCHI_11DES_MEM_Dataset, HOKCHI_11DES_tops)"
   ]
  },
  {
   "cell_type": "code",
   "execution_count": null,
   "metadata": {
    "scrolled": true
   },
   "outputs": [],
   "source": [
    "UCS_Horsrud(HOKCHI_7DES_MEM_Dataset, HOKCHI_7DES_tops)"
   ]
  },
  {
   "cell_type": "code",
   "execution_count": null,
   "metadata": {
    "scrolled": true
   },
   "outputs": [],
   "source": [
    "UCS_Horsrud(HOKCHI_8H_MEM_Dataset, HOKCHI_8H_tops)"
   ]
  },
  {
   "cell_type": "code",
   "execution_count": null,
   "metadata": {
    "scrolled": true
   },
   "outputs": [],
   "source": [
    "UCS_Horsrud(HOKCHI_8H_PD_MEM_Dataset, HOKCHI_8H_PD_tops)"
   ]
  },
  {
   "cell_type": "code",
   "execution_count": null,
   "metadata": {
    "scrolled": true
   },
   "outputs": [],
   "source": [
    "UCS_Horsrud(HOKCHI_9H_MEM_Dataset, HOKCHI_9H_tops)"
   ]
  },
  {
   "cell_type": "code",
   "execution_count": null,
   "metadata": {},
   "outputs": [],
   "source": [
    "UCS_GMI(MA_14B_T2_MEM_Dataset)"
   ]
  },
  {
   "cell_type": "code",
   "execution_count": null,
   "metadata": {},
   "outputs": [],
   "source": [
    "MA_09B_MEM_Dataset['UCS_GLOBAL'][(MA_09B_MEM_Dataset.index>=5462.95)&(MA_09B_MEM_Dataset.index<=5707.92)] = \\\n",
    "MA_09B_MEM_Dataset['UCS_GMI'][(MA_09B_MEM_Dataset.index>=5462.95)&(MA_09B_MEM_Dataset.index<=5707.92)]"
   ]
  },
  {
   "cell_type": "code",
   "execution_count": null,
   "metadata": {},
   "outputs": [],
   "source": [
    "MA_09B_MEM_Dataset['UCS_GLOBAL'][(MA_09B_MEM_Dataset.index>=5707.92)&(MA_09B_MEM_Dataset.index<=6542)] = \\\n",
    "MA_09B_MEM_Dataset['UCS_GMI'][(MA_09B_MEM_Dataset.index>=5707.92)&(MA_09B_MEM_Dataset.index<=6542)]"
   ]
  },
  {
   "cell_type": "code",
   "execution_count": null,
   "metadata": {},
   "outputs": [],
   "source": [
    "MA_02B_MEM_Dataset['UCS_GLOBAL'][(MA_02B_MEM_Dataset.index>=5446.3)&(MA_02B_MEM_Dataset.index<=5727.79)] = \\\n",
    "MA_02B_MEM_Dataset['UCS_GMI'][(MA_02B_MEM_Dataset.index>=5446.3)&(MA_02B_MEM_Dataset.index<=5727.79)]"
   ]
  },
  {
   "cell_type": "code",
   "execution_count": null,
   "metadata": {
    "scrolled": true
   },
   "outputs": [],
   "source": [
    "MA_02B_MEM_Dataset['UCS_GLOBAL'][(MA_02B_MEM_Dataset.index>=5727.79)&(MA_02B_MEM_Dataset.index<=5870)] = \\\n",
    "MA_02B_MEM_Dataset['UCS_GMI'][(MA_02B_MEM_Dataset.index>=5727.79)&(MA_02B_MEM_Dataset.index<=5870)]"
   ]
  },
  {
   "cell_type": "code",
   "execution_count": null,
   "metadata": {},
   "outputs": [],
   "source": [
    "MA_02B_TRAJ2_MEM_Dataset['UCS_GLOBAL'][(MA_02B_TRAJ2_MEM_Dataset.index>=5325.46)&(MA_02B_TRAJ2_MEM_Dataset.index<=5895)] = \\\n",
    "MA_02B_TRAJ2_MEM_Dataset['UCS_GMI'][(MA_02B_TRAJ2_MEM_Dataset.index>=5325.46)&(MA_02B_TRAJ2_MEM_Dataset.index<=5895)]"
   ]
  },
  {
   "cell_type": "code",
   "execution_count": null,
   "metadata": {},
   "outputs": [],
   "source": [
    "MA_14B_MEM_Dataset['UCS_GLOBAL'][(MA_14B_MEM_Dataset.index>=4744.6)&(MA_14B_MEM_Dataset.index<=5200)] = \\\n",
    "MA_14B_MEM_Dataset['UCS_GMI'][(MA_14B_MEM_Dataset.index>=4744.6)&(MA_14B_MEM_Dataset.index<=5200)]"
   ]
  },
  {
   "cell_type": "code",
   "execution_count": null,
   "metadata": {},
   "outputs": [],
   "source": [
    "MA_14B_T2_MEM_Dataset['UCS_GLOBAL'][(MA_14B_T2_MEM_Dataset.index>=4925)&(MA_14B_T2_MEM_Dataset.index<=5225)] = \\\n",
    "MA_14B_T2_MEM_Dataset['UCS_GMI'][(MA_14B_T2_MEM_Dataset.index>=4925)&(MA_14B_T2_MEM_Dataset.index<=5225)]"
   ]
  },
  {
   "cell_type": "code",
   "execution_count": null,
   "metadata": {},
   "outputs": [],
   "source": [
    "MA_06A_MEM_Dataset['UCS_GLOBAL'][(MA_06A_MEM_Dataset.index>=3739.25)&(MA_06A_MEM_Dataset.index<=4407)] = \\\n",
    "MA_06A_MEM_Dataset['UCS_GMI'][(MA_06A_MEM_Dataset.index>=3739.25)&(MA_06A_MEM_Dataset.index<=4407)]"
   ]
  },
  {
   "cell_type": "code",
   "execution_count": null,
   "metadata": {},
   "outputs": [],
   "source": [
    "MA_01_MEM_Dataset['UCS_GLOBAL'][(MA_01_MEM_Dataset.index>=2647.18)&(MA_01_MEM_Dataset.index<=3155)] = \\\n",
    "MA_01_MEM_Dataset['UCS_GMI'][(MA_01_MEM_Dataset.index>=2647.18)&(MA_01_MEM_Dataset.index<=3155)]"
   ]
  },
  {
   "cell_type": "code",
   "execution_count": null,
   "metadata": {},
   "outputs": [],
   "source": [
    "'''\n",
    "Merge the two UCS for sand and clay\n",
    "'''\n",
    "def UCS_Merge(logs):    \n",
    "    UCS_Mer = []\n",
    "    for index, row in logs.iterrows():\n",
    "        if row.MST == 1:#MUDSTONES\n",
    "            UCS_Mer.append(row.UCS_Horsrud)\n",
    "        elif row.MST == 0:#SANDS\n",
    "            UCS_Mer.append(row.UCS_McNally)#UCS_McNally\n",
    "        else:\n",
    "            UCS_Mer.append(np.nan)\n",
    "    logs['UCS_merge'] = UCS_Mer\n",
    "    logs['UCS_merge'] = logs['UCS_merge']\n",
    "    logs['UCS_merge_IU'] = logs['UCS_merge']*6.89476#Kpa\n",
    "    logs['UCS_merge_bar'] = logs['UCS_merge']/14.5038 #Bar\n",
    "    \n",
    "    print(logs[['MST','UCS_McNally','UCS_merge']])"
   ]
  },
  {
   "cell_type": "code",
   "execution_count": null,
   "metadata": {},
   "outputs": [],
   "source": [
    "UCS_Merge(HOKCHI_11DES_MEM_Dataset)"
   ]
  },
  {
   "cell_type": "code",
   "execution_count": null,
   "metadata": {},
   "outputs": [],
   "source": [
    "UCS_Merge(HOKCHI_7DES_MEM_Dataset)"
   ]
  },
  {
   "cell_type": "code",
   "execution_count": null,
   "metadata": {},
   "outputs": [],
   "source": [
    "UCS_Merge(HOKCHI_8H_MEM_Dataset)"
   ]
  },
  {
   "cell_type": "code",
   "execution_count": null,
   "metadata": {},
   "outputs": [],
   "source": [
    "UCS_Merge(HOKCHI_8H_PD_MEM_Dataset)"
   ]
  },
  {
   "cell_type": "code",
   "execution_count": null,
   "metadata": {},
   "outputs": [],
   "source": []
  },
  {
   "cell_type": "code",
   "execution_count": null,
   "metadata": {},
   "outputs": [],
   "source": [
    "UCS_Merge(HOKCHI_9H_MEM_Dataset)"
   ]
  },
  {
   "cell_type": "code",
   "execution_count": null,
   "metadata": {},
   "outputs": [],
   "source": [
    "'''By Dick Plumb based on his data published in 1994 and it was modified in 2002.\n",
    "minimun value of 19 degrees, eliminates a predicted a non-physical increase of friction angle at low values of Vgrain.\n",
    "    '''\n",
    "def FANG_Plumb(logs):\n",
    "    print(logs.columns)\n",
    "    PHIT = input('Enter Total Porosity nemonic: ')\n",
    "    fang = 19 + 31.172*(1-logs[PHIT].interpolate(limit_area='inside')-logs['VSH'].interpolate(limit_area='inside'))**2\n",
    "    logs['FANG_PC'] = fang # result in degrees\n",
    "    #logs['FANG_PC'] = logs['FANG_PC'].mask(logs['FANG_PC'].lt(19),19)\n",
    "    print(logs['FANG_PC'])"
   ]
  },
  {
   "cell_type": "code",
   "execution_count": null,
   "metadata": {},
   "outputs": [],
   "source": [
    "FANG_Plumb(HOKCHI_11DES_MEM_Dataset)"
   ]
  },
  {
   "cell_type": "code",
   "execution_count": null,
   "metadata": {},
   "outputs": [],
   "source": [
    "FANG_Plumb(HOKCHI_7DES_MEM_Dataset)"
   ]
  },
  {
   "cell_type": "code",
   "execution_count": null,
   "metadata": {},
   "outputs": [],
   "source": [
    "FANG_Plumb(HOKCHI_8H_MEM_Dataset)"
   ]
  },
  {
   "cell_type": "code",
   "execution_count": null,
   "metadata": {},
   "outputs": [],
   "source": [
    "FANG_Plumb(HOKCHI_8H_PD_MEM_Dataset)"
   ]
  },
  {
   "cell_type": "code",
   "execution_count": null,
   "metadata": {},
   "outputs": [],
   "source": [
    "FANG_Plumb(HOKCHI_9H_MEM_Dataset)"
   ]
  },
  {
   "cell_type": "code",
   "execution_count": null,
   "metadata": {},
   "outputs": [],
   "source": [
    "'''\n",
    "Define the tansile strength by a portion of UCS usually 0.1\n",
    "'''\n",
    "def TENSILE_STR(logs):\n",
    "    print(logs.columns)\n",
    "    UCS = input('Enter UCS nemonic: ')\n",
    "    k = float(input(\"Enter correlation factor Default = 0.1 : \") or \"0.1\")\n",
    "    logs['TSTR'] = logs[UCS]*k\n",
    "    logs['TSTR_IU'] = logs[UCS]*6.89476 #Kpa\n",
    "    logs['TSTR_bar'] = logs[UCS]/14.5038 #bar\n",
    "    print(logs[['TSTR','TSTR_IU','TSTR_bar']])"
   ]
  },
  {
   "cell_type": "code",
   "execution_count": null,
   "metadata": {},
   "outputs": [],
   "source": [
    "TENSILE_STR(HOKCHI_11DES_MEM_Dataset)"
   ]
  },
  {
   "cell_type": "code",
   "execution_count": null,
   "metadata": {},
   "outputs": [],
   "source": [
    "TENSILE_STR(HOKCHI_7DES_MEM_Dataset)"
   ]
  },
  {
   "cell_type": "code",
   "execution_count": null,
   "metadata": {},
   "outputs": [],
   "source": [
    "TENSILE_STR(HOKCHI_8H_MEM_Dataset)"
   ]
  },
  {
   "cell_type": "code",
   "execution_count": null,
   "metadata": {},
   "outputs": [],
   "source": [
    "TENSILE_STR(HOKCHI_8H_PD_MEM_Dataset)"
   ]
  },
  {
   "cell_type": "code",
   "execution_count": null,
   "metadata": {},
   "outputs": [],
   "source": [
    "TENSILE_STR(HOKCHI_9H_MEM_Dataset)"
   ]
  },
  {
   "cell_type": "code",
   "execution_count": null,
   "metadata": {
    "scrolled": true
   },
   "outputs": [],
   "source": [
    "plot_visual_test(HOKCHI_11DES_MEM_Dataset, HOKCHI_11DES_tops)"
   ]
  },
  {
   "cell_type": "code",
   "execution_count": null,
   "metadata": {
    "scrolled": true
   },
   "outputs": [],
   "source": [
    "plot_visual_test(HOKCHI_7DES_MEM_Dataset, HOKCHI_7DES_tops)"
   ]
  },
  {
   "cell_type": "markdown",
   "metadata": {},
   "source": [
    "## Overburden"
   ]
  },
  {
   "cell_type": "code",
   "execution_count": null,
   "metadata": {},
   "outputs": [],
   "source": [
    "'''\n",
    "The equation udes to denity log to calculate a computed density ['DEN_EXT'] \n",
    "that is compared and adjusted with the real density log\n",
    "with the computed density the code can calculated the Vertical stress [V_Stress] and \n",
    "its Mud weight equvalent [V_Stress_EMW]\n",
    "'''\n",
    "def OVERBURDEN_EXTRA (logs,well_path):\n",
    "    well_name = input('Enter Well Name: ')\n",
    "    print(logs.columns)\n",
    "    RHOB = input('Enter DENSITY nemonic: ')\n",
    "    air_g = float(input('Enter air gap [m]: ') or (-well_path.iloc[0,:]['TVDBGL']*3.28084))\n",
    "    water_d = float(input('Enter water depth: [m] ') or '0')\n",
    "    gl_d = float(input('Enter Ground floor density [g/cm3](def:1.65): ') or '1.65')\n",
    "    tvd_s, sp_d = [float(item) for item in (input('Enter TVDBGL [m] and Density [g/cm3] for Shallow Depth (580ft/2.16[g/cm3]): ').split()\\\n",
    "                                            or ('580 2.163').split())]\n",
    "    tvd_de, de_d = [float(item) for item in (input('Enter TVDBGL [m] and Density [g/cm3] for Deep Depth (1500ft/2.3[g/cm3]): ').split()\\\n",
    "                                             or ('8530 2.6').split())]\n",
    "    def equations(vars):\n",
    "        ao, alpha = vars\n",
    "        eq1 = gl_d + (ao*(tvd_s-air_g-water_d)**alpha)-sp_d\n",
    "        eq2 = gl_d + (ao*(tvd_de-air_g-water_d)**alpha)-de_d\n",
    "        return [eq1, eq2]\n",
    "    ao, alpha =  fsolve(equations, (1, 1))\n",
    "    print('A0 is:', ao, 'Alpha is:', alpha)\n",
    "    den_comp = gl_d + (ao*(logs['TVD']-air_g-water_d)**alpha)    \n",
    "    logs['DEN_EXT'] = den_comp\n",
    "    #Computation of vertical stress\n",
    "    svert_ext=[0] #[(gl_d + ao*(logs.iloc[0,:]['TVD']-air_g-water_d)**alpha)*logs.iloc[0,:]['TVD']]\n",
    "    obmw_ext=[0] #[svert_ext[0]/(0.052*logs.iloc[0,:]['TVD'])]\n",
    "    for x in range(len(logs)):\n",
    "        if x==0:#(logs.iloc[x,:]['TVD'])<=(-well_path.iloc[0,:]['TVDBGL']):\n",
    "            continue\n",
    "        elif pd.isnull(logs.iloc[x,:]['DEN_EXT'])==True:\n",
    "            svert_ext.append(0)\n",
    "            obmw_ext.append(0)\n",
    "        else:\n",
    "            #print('else',x)\n",
    "            svert_ext.append(svert_ext[x-1] + 0.43368*logs.iloc[x,:]['DEN_EXT']*(logs.iloc[x,:]['TVD_ft']-logs.iloc[x-1,:]['TVD_ft']))\n",
    "            obmw_ext.append(svert_ext[x]/(0.052*logs.iloc[x,:]['TVD_ft']))\n",
    "    #print(svert_ext)\n",
    "    logs['V_Stress'] = pd.DataFrame(svert_ext, index=logs.index) + (water_d*3.28*1.03*8.33*0.052)\n",
    "    logs['V_Stress_IU'] = logs['V_Stress']*6.89476 #Kpa\n",
    "    logs['V_Stress_bar'] = logs['V_Stress']/14.5038 #bar\n",
    "    #Equvalent MW\n",
    "    logs['V_Stress_EMW'] = logs['V_Stress']/(logs['TVD_ft']*0.052)\n",
    "    logs['V_Stress_EMW_SG'] = logs['V_Stress_EMW']/8.33 #Specific gravity SG\n",
    "    \n",
    "    #####\n",
    "    # Plot the results\n",
    "    top_depth=0\n",
    "    bottom_depth = logs.TVD.max()\n",
    "    f = logs[(logs.TVD >= top_depth) & (logs.TVD <= bottom_depth)]\n",
    "    fig, ax = plt.subplots(nrows=1, ncols=3, figsize=(10,16), sharey=True)\n",
    "    fig.suptitle(f\"{well_name}_OVERBURDEN PLOT\", fontsize=20)\n",
    "    fig.subplots_adjust(top=0.88,wspace=0.1)\n",
    "\n",
    "#General setting for all axis\n",
    "    major_yticks = np.arange(top_depth, bottom_depth, 100)\n",
    "    minor_yticks = np.arange(top_depth, bottom_depth, 50)\n",
    "    \n",
    "    for axes in ax:\n",
    "        axes.set_ylim (top_depth,bottom_depth)\n",
    "        axes.invert_yaxis()\n",
    "        axes.yaxis.grid(True)\n",
    "        axes.get_xaxis().set_visible(False)\n",
    "        axes.set_yticks(major_yticks)\n",
    "        axes.set_yticks(minor_yticks, minor=True)\n",
    "        axes.grid(which='minor', linestyle='--')\n",
    "        axes.set_ylabel('TVD[m]')\n",
    "\n",
    "#1st track: Density log, Ext_dentity \n",
    "    \n",
    "    ax01=ax[0].twiny()\n",
    "    ax01.set_xlim(0,3)\n",
    "    ax01.plot(f[RHOB], f.TVD, label='DENSITY[gr/cm3]', color='red')\n",
    "    ax01.spines['top'].set_position(('outward',0))    \n",
    "    ax01.set_xlabel('DENSITY[gr/cm3]',color='red')    \n",
    "    ax01.tick_params(axis='x', colors='red')\n",
    "    ax01.grid(True)\n",
    "    \n",
    "    ax02=ax[0].twiny()\n",
    "    ax02.set_xlim(0,3)\n",
    "    ax02.plot(f.DEN_EXT, f.TVD, label='EXRAPOLATED_DEN', color='blue', lw=2)\n",
    "    ax02.spines['top'].set_position(('outward',40))\n",
    "    ax02.set_xlabel('EXTRAPOLATED DENSITY',color='blue')    \n",
    "    ax02.tick_params(axis='x', colors='blue')\n",
    "    ax02.scatter(gl_d,(air_g+water_d), c='k', marker='d',s=50)\n",
    "    ax02.scatter(sp_d, tvd_s, c='k', marker='*',s=250)\n",
    "    ax02.scatter(de_d, tvd_de, c='k', marker='*',s=250)\n",
    "    \n",
    "      \n",
    "#2nd track: Vertical Stress\n",
    "\n",
    "    ax11=ax[1].twiny()\n",
    "    ax11.set_xlim(0,20000)\n",
    "    ax11.set_xscale('linear')\n",
    "    ax11.grid(True)\n",
    "    ax11.spines['top'].set_position(('outward',0))\n",
    "    ax11.set_xlabel('V_STRESS [psi]', color='black')\n",
    "    ax11.plot(f.V_Stress, f.TVD, label='Vert_Stress[psi]', color='black')\n",
    "    ax11.tick_params(axis='x', colors='black')    \n",
    "        \n",
    "                # Petrophycal curves\n",
    "\n",
    "#3th track: Vertical Stress EMW\n",
    "    v21_min=0\n",
    "    v21_max=25/8.33\n",
    "#     v21_space = \n",
    "    ax21=ax[2].twiny()\n",
    "    ax21.set_xlim(v21_min,v21_max)\n",
    "    ax21.spines['top'].set_position(('outward',0))\n",
    "    ax21.plot(f.V_Stress_EMW_SG, f.TVD, label='Overburden_EMW [gr/cc]', color='black',linewidth=2)\n",
    "    ax21.set_xlabel('Overburden_EMW [gr/cc]', color='black')\n",
    "#     ax21.set_xticks(np.arange(v21_min, v21_max, v21_space))\n",
    "    ax21.tick_params(axis='x', colors='black')\n",
    "    ax21.legend(loc='lower left')\n",
    "    ax21.grid(True)\n",
    "    \n",
    "    plt.savefig (f'./Output pictures/{well_name}_OVERBURDEN_PLOT.png', dpi=300, format='png')\n",
    "    plt.show()"
   ]
  },
  {
   "cell_type": "code",
   "execution_count": null,
   "metadata": {},
   "outputs": [],
   "source": [
    "pd.isnull(LC1_MEM_Dataset.iloc[200,:]['DEN_EXT'])"
   ]
  },
  {
   "cell_type": "code",
   "execution_count": null,
   "metadata": {},
   "outputs": [],
   "source": [
    "HOKCHI_11DES_wellpath"
   ]
  },
  {
   "cell_type": "code",
   "execution_count": null,
   "metadata": {
    "scrolled": true
   },
   "outputs": [],
   "source": [
    "OVERBURDEN_EXTRA (HOKCHI_11DES_MEM_Dataset, HOKCHI_11DES_wellpath)"
   ]
  },
  {
   "cell_type": "code",
   "execution_count": null,
   "metadata": {
    "scrolled": true
   },
   "outputs": [],
   "source": [
    "OVERBURDEN_EXTRA (HOKCHI_7DES_MEM_Dataset, HOKCHI_7DES_wellpath)"
   ]
  },
  {
   "cell_type": "code",
   "execution_count": null,
   "metadata": {
    "scrolled": true
   },
   "outputs": [],
   "source": [
    "OVERBURDEN_EXTRA (HOKCHI_8H_MEM_Dataset, HOKCHI_8H_wellpath)"
   ]
  },
  {
   "cell_type": "code",
   "execution_count": null,
   "metadata": {
    "scrolled": true
   },
   "outputs": [],
   "source": [
    "OVERBURDEN_EXTRA (HOKCHI_8H_PD_MEM_Dataset, HOKCHI_8H_PD_wellpath)"
   ]
  },
  {
   "cell_type": "code",
   "execution_count": null,
   "metadata": {
    "scrolled": true
   },
   "outputs": [],
   "source": [
    "OVERBURDEN_EXTRA (HOKCHI_9H_MEM_Dataset, HOKCHI_9H_wellpath)"
   ]
  },
  {
   "cell_type": "markdown",
   "metadata": {},
   "source": [
    "# Pore pressure"
   ]
  },
  {
   "cell_type": "code",
   "execution_count": null,
   "metadata": {},
   "outputs": [],
   "source": [
    "LC1_MEM_Dataset.columns"
   ]
  },
  {
   "cell_type": "code",
   "execution_count": null,
   "metadata": {},
   "outputs": [],
   "source": [
    "'''\n",
    "Compute Pore Pressure by the law of Terzaghi, where the Vertical effective stress is calculated taking into account\n",
    "the matrix and fluid compressibility. Biot coefficient is taken as 1 for all the cases.\n",
    "'''\n",
    "def EATON_PP(logs, well_path):\n",
    "    well_name = input('Enter Well Name: ')\n",
    "    air_g = float(input('Enter air gap: ') or (-well_path.iloc[0,:]['TVDBGL']*3.28084))\n",
    "    water_d = float(input('Enter water depth: ') or '0')\n",
    "    n_den = float(input('Enter normal PP density (g/cm3): ') or '1.038')\n",
    "    #Create the trend line\n",
    "    Ro = float(input('Enter DTCO on ground floor (90) : ') or '89.03')\n",
    "    x, y = [float(item) for item in (input('Enter DTCO value and TVD [m] to complete the line (52.9/8847.02) ')\\\n",
    "                                     .split() or ('47.72 8788').split())]\n",
    "    k = (Ro-x)/((air_g+water_d)-y)\n",
    "    #k = float(input('Enter water depth: ') or '-0.00482')\n",
    "    T_line = Ro + k*logs['TVDBGL']    \n",
    "    n = float(input('Enter Eaton exponent n (n:3) : ') or '1')\n",
    "    alpha= float(input('Enter Eaton factor alpha (n:1) : ') or '1')\n",
    "    grad_norm = 0.052*n_den*8.35\n",
    "    print(logs.columns)\n",
    "    DTCO = input('Enter DTCO nemonic: ')\n",
    "    f = (T_line/logs[DTCO].interpolate(limit_area='inside'))**n\n",
    "    efe_v_stress = (logs['V_Stress']-logs['TVD_ft']*grad_norm)*f        \n",
    "    for x in range(len(efe_v_stress)):        \n",
    "        d=T_line.iloc[x]/(logs.iloc[x,:][DTCO])\n",
    "        if d>=1:\n",
    "            efe_v_stress.iloc[x]=(logs.iloc[x,:]['V_Stress']-grad_norm*logs.iloc[x,:]['TVD_ft'])            \n",
    "        else:\n",
    "            continue\n",
    "    \n",
    "    PP_Eaton=logs['V_Stress']-efe_v_stress\n",
    "#     for x in range(len(PP_Eaton)):        \n",
    "#         d=T_line.iloc[x]/(logs.iloc[x,:]['COMPRESSIONAL'])\n",
    "#         if d>=1:\n",
    "#             PP_Eaton.iloc[x]=(grad_norm*logs.iloc[x,:]['TVD'])            \n",
    "#         else:\n",
    "#             continue\n",
    "# #             PP_Eaton.append(logs.iloc[x,:]['V_Stress']-efe_v_stress.iloc[x])                        \n",
    "    PP_Eaton_EMW = PP_Eaton/(0.052*logs['TVD_ft'])\n",
    "    logs['VS_eff_Eaton'] = efe_v_stress\n",
    "    logs['PP_Eaton'] = PP_Eaton\n",
    "    logs['PP_Eaton_IU'] = PP_Eaton*6.89476 #Kpa\n",
    "    logs['PP_Eaton_bar'] = PP_Eaton/14.5038 #bar\n",
    "    logs['PP_Eaton_EMW'] = PP_Eaton_EMW\n",
    "    logs['PP_Eaton_EMW_SG'] = PP_Eaton_EMW/8.33\n",
    "    \n",
    "##Plot\n",
    "    top_depth=0\n",
    "    bottom_depth = logs.TVD.max()\n",
    "    f = logs[(logs.TVD >= top_depth) & (logs.TVD <= bottom_depth)]\n",
    "    fig, ax = plt.subplots(nrows=1, ncols=3, figsize=(10,16), sharey=True, sharex=True)\n",
    "    fig.suptitle(f\"EATON PORE PRESSURE {well_name}\", fontsize=18)\n",
    "    fig.subplots_adjust(top=0.89,wspace=0.1)\n",
    "\n",
    "    major_yticks = np.arange(top_depth, bottom_depth, 100)\n",
    "    minor_yticks = np.arange(top_depth, bottom_depth, 50)\n",
    "    \n",
    "    for axes in ax:\n",
    "        axes.set_ylim (top_depth,bottom_depth)\n",
    "        axes.invert_yaxis()\n",
    "        axes.yaxis.grid(True)\n",
    "        axes.get_xaxis().set_visible(False)\n",
    "        axes.set_yticks(major_yticks)\n",
    "        axes.set_yticks(minor_yticks, minor=True)\n",
    "        axes.grid(which='minor', linestyle='--')\n",
    "        axes.set_ylabel('TVD[m]')\n",
    "\n",
    "#1st track: Compre log, Trend Line \n",
    "    v_min=80\n",
    "    v_max=180.01\n",
    "    v_space = 20\n",
    "    ax01=ax[0].twiny()\n",
    "    ax01.set_xlim(v_min,v_max)\n",
    "    ax01.plot(f[DTCO], f.TVD, label='DTCO[us.ft]', color='red')\n",
    "    ax01.spines['top'].set_position(('outward',0))    \n",
    "    ax01.set_xlabel('DTCO[us.ft]',color='red')    \n",
    "    ax01.tick_params(axis='x', colors='red')\n",
    "    ax01.invert_xaxis()\n",
    "    ax01.set_xticks(np.arange(v_min, v_max, v_space))\n",
    "    ax01.grid(True)\n",
    "    \n",
    "    ax02=ax[0].twiny()\n",
    "    ax02.set_xlim(v_min,v_max)\n",
    "    ax02.plot(T_line, f.TVD, label='Trend Line', color='blue', lw=2)\n",
    "    ax02.spines['top'].set_position(('outward',40))\n",
    "    ax02.set_xlabel('Trend Line',color='blue')\n",
    "    ax02.invert_xaxis()\n",
    "    ax02.tick_params(axis='x', colors='blue')\n",
    "    ax02.set_xticks(np.arange(v_min, v_max, v_space))\n",
    "    \n",
    "#2nd track: Vertical Stress\n",
    "    \n",
    "    v1_min=0\n",
    "    v1_max=10000\n",
    "#     v1_space = 40\n",
    "    ax11=ax[1].twiny()\n",
    "    ax11.set_xlim(v1_min,v1_max)\n",
    "    ax11.set_xscale('linear')\n",
    "    ax11.grid(True)\n",
    "    ax11.spines['top'].set_position(('outward',0))\n",
    "    ax11.set_xlabel('V_STRESS [psi]', color='black')\n",
    "    ax11.plot(f.V_Stress, f.TVD, label='Vert_Stress[psi]', color='black')\n",
    "    ax11.tick_params(axis='x', colors='black')\n",
    "    \n",
    "    ax12=ax[1].twiny()\n",
    "    ax12.set_xlim(v1_min,v1_max)\n",
    "    ax12.set_xscale('linear')\n",
    "    ax12.grid(True)\n",
    "    ax12.spines['top'].set_position(('outward',40))\n",
    "    ax12.set_xlabel('PP_Eaton[psi]', color='magenta')\n",
    "    ax12.plot(f.PP_Eaton, f.TVD, label='PP_Eaton[psi]', color='magenta')\n",
    "    ax12.tick_params(axis='x', colors='magenta')\n",
    "        \n",
    "\n",
    "#3th track: Vertical Stress EMW\n",
    "    \n",
    "    v2_min = 1\n",
    "    v2_max = 2.201#*6.89476 #Kpa\n",
    "    v2_space= 0.2#*6.89476 #Kpa\n",
    "    ax21=ax[2].twiny()\n",
    "    ax21.set_xlim(v2_min,v2_max)\n",
    "    ax21.spines['top'].set_position(('outward',0))\n",
    "    ax21.plot(f.V_Stress_EMW_SG, f.TVD, label='Overburden_EMW [gr/cc]', color='black',linewidth=2)\n",
    "    ax21.set_xlabel('Overburden_EMW [gr/cc]', color='black')    \n",
    "    ax21.tick_params(axis='x', colors='black')\n",
    "    ax21.set_xticks(np.arange(v2_min, v2_max, v2_space))\n",
    "#     ax21.legend(loc='lower left')\n",
    "    ax21.grid(True)\n",
    "    \n",
    "    ax22=ax[2].twiny()\n",
    "    ax22.set_xlim(v2_min,v2_max)\n",
    "    ax22.spines['top'].set_position(('outward',40))\n",
    "    ax22.plot(f.PP_Eaton_EMW_SG, f.TVD, label='PP_Eaton_EMW [gr/cc]', color='magenta',linewidth=2)\n",
    "    ax22.set_xlabel('PP_Eaton_EMW [gr/cc]', color='magenta')    \n",
    "    ax22.tick_params(axis='x', colors='magenta')\n",
    "    ax22.set_xticks(np.arange(v2_min, v2_max, v2_space))\n",
    "#     ax22.legend(loc='lower left')\n",
    "    ax22.grid(True)\n",
    "    \n",
    "    \n",
    "    plt.savefig (f'./Output pictures/EATON_PP_PLOT_{well_name}.png', dpi=300, format='png')\n",
    "    plt.show()"
   ]
  },
  {
   "cell_type": "code",
   "execution_count": null,
   "metadata": {
    "scrolled": true
   },
   "outputs": [],
   "source": [
    "EATON_PP(HOKCHI_11DES_MEM_Dataset, HOKCHI_11DES_wellpath)"
   ]
  },
  {
   "cell_type": "code",
   "execution_count": null,
   "metadata": {
    "scrolled": true
   },
   "outputs": [],
   "source": [
    "EATON_PP(HOKCHI_7DES_MEM_Dataset, HOKCHI_7DES_wellpath)"
   ]
  },
  {
   "cell_type": "code",
   "execution_count": null,
   "metadata": {
    "scrolled": true
   },
   "outputs": [],
   "source": [
    "EATON_PP(HOKCHI_8H_MEM_Dataset, HOKCHI_8H_wellpath)"
   ]
  },
  {
   "cell_type": "code",
   "execution_count": null,
   "metadata": {
    "scrolled": true
   },
   "outputs": [],
   "source": [
    "EATON_PP(HOKCHI_8H_PD_MEM_Dataset, HOKCHI_8H_PD_wellpath)"
   ]
  },
  {
   "cell_type": "code",
   "execution_count": null,
   "metadata": {},
   "outputs": [],
   "source": [
    "HOKCHI_8H_PD_MEM_Dataset['DTCO']"
   ]
  },
  {
   "cell_type": "code",
   "execution_count": null,
   "metadata": {
    "scrolled": true
   },
   "outputs": [],
   "source": [
    "EATON_PP(HOKCHI_9H_MEM_Dataset, HOKCHI_9H_wellpath)"
   ]
  },
  {
   "cell_type": "markdown",
   "metadata": {},
   "source": [
    "## Aumento de PP por pruebas MDT"
   ]
  },
  {
   "cell_type": "code",
   "execution_count": null,
   "metadata": {},
   "outputs": [],
   "source": [
    "def MDT_adj (logs, top, base):\n",
    "    top = float(top)\n",
    "    base = float(base)\n",
    "    pp_e = []\n",
    "    pp_emw = []\n",
    "    for i, row in logs[(logs.TVD> top) & (logs.TVD <= base)].iterrows():\n",
    "        if row['MST']== 0:\n",
    "            pp_ei = ((row['TVD']+977.21)/0.0931)*0.145\n",
    "            pp_emwi = pp_ei/(0.052*row['TVD_ft']*8.33) #(4437/(0.052*row['TVD']))/8.33\n",
    "            pp_e.append(pp_ei)\n",
    "            pp_emw.append(pp_emwi)\n",
    "        else:\n",
    "            pp_e.append(row['PP_Eaton'])\n",
    "            pp_emw.append(row['PP_Eaton_EMW_SG'])\n",
    "            \n",
    "    logs['PP_Eaton'][(logs.TVD> top) & (logs.TVD <= base)] = pp_e\n",
    "    logs['PP_Eaton_EMW_SG'][(logs.TVD> top) & (logs.TVD <= base)] = pp_emw\n",
    "    return logs"
   ]
  },
  {
   "cell_type": "code",
   "execution_count": null,
   "metadata": {},
   "outputs": [],
   "source": [
    "def MDT_adj_yac (logs, top, base):\n",
    "    top = float(top)\n",
    "    base = float(base)\n",
    "    pp_e = []\n",
    "    pp_emw = []\n",
    "    for i, row in logs[(logs.TVD> top) & (logs.TVD <= base)].iterrows():\n",
    "        if row['MST']== 0:\n",
    "            pp_ei = ((row['TVD']+1202.6)/0.0973)*0.145\n",
    "            pp_emwi = pp_ei/(0.052*row['TVD_ft']*8.33) #(4437/(0.052*row['TVD']))/8.33\n",
    "            pp_e.append(pp_ei)\n",
    "            pp_emw.append(pp_emwi)\n",
    "        else:\n",
    "            pp_ei = ((row['TVD']+1202.6)/0.0973)*0.145\n",
    "            pp_emwi = pp_ei/(0.052*row['TVD_ft']*8.33) #(4437/(0.052*row['TVD']))/8.33\n",
    "            pp_e.append(pp_ei)\n",
    "            pp_emw.append(pp_emwi)\n",
    "#             pp_e.append(row['PP_Eaton'])\n",
    "#             pp_emw.append(row['PP_Eaton_EMW_SG'])\n",
    "            \n",
    "    logs['PP_Eaton'][(logs.TVD> top) & (logs.TVD <= base)] = pp_e\n",
    "    logs['PP_Eaton_EMW_SG'][(logs.TVD> top) & (logs.TVD <= base)] = pp_emw\n",
    "    return logs"
   ]
  },
  {
   "cell_type": "code",
   "execution_count": null,
   "metadata": {},
   "outputs": [],
   "source": [
    "def MDT_adj_surface (logs, top, base):\n",
    "    top = float(top)\n",
    "    base = float(base)\n",
    "    pp_e = []\n",
    "    pp_emw = []\n",
    "    for i, row in logs[(logs.index> top) & (logs.index <= base)].iterrows():\n",
    "        if row['PP_Eaton_EMW_SG']>= 1.1:            \n",
    "            pp_emwi = 1.1\n",
    "            pp_ei = pp_emwi*0.052*8.33*row['TVD_ft']\n",
    "            pp_e.append(pp_ei)\n",
    "            pp_emw.append(pp_emwi)\n",
    "            #print(row['TVD'])\n",
    "        else:\n",
    "            pp_e.append(row['PP_Eaton'])\n",
    "            pp_emw.append(row['PP_Eaton_EMW_SG'])\n",
    "            \n",
    "    logs['PP_Eaton'][(logs.index> top) & (logs.index <= base)] = pp_e\n",
    "    logs['PP_Eaton_EMW_SG'][(logs.index> top) & (logs.index <= base)] = pp_emw\n",
    "    return logs"
   ]
  },
  {
   "cell_type": "code",
   "execution_count": null,
   "metadata": {},
   "outputs": [],
   "source": [
    "MDT_adj(HOKCHI_11DES_MEM_Dataset, 1720, 2420)"
   ]
  },
  {
   "cell_type": "code",
   "execution_count": null,
   "metadata": {},
   "outputs": [],
   "source": [
    "MDT_adj(HOKCHI_7DES_MEM_Dataset, 1720, 2420)"
   ]
  },
  {
   "cell_type": "code",
   "execution_count": null,
   "metadata": {},
   "outputs": [],
   "source": [
    "MDT_adj(HOKCHI_8H_MEM_Dataset, 1720, 2420)"
   ]
  },
  {
   "cell_type": "code",
   "execution_count": null,
   "metadata": {},
   "outputs": [],
   "source": [
    "MDT_adj(HOKCHI_8H_PD_MEM_Dataset, 1720, 2420)"
   ]
  },
  {
   "cell_type": "code",
   "execution_count": null,
   "metadata": {},
   "outputs": [],
   "source": [
    "MDT_adj(HOKCHI_9H_MEM_Dataset, 1720, 2420)"
   ]
  },
  {
   "cell_type": "code",
   "execution_count": null,
   "metadata": {},
   "outputs": [],
   "source": [
    "MDT_adj_yac(HOKCHI_11DES_MEM_Dataset, 2450, 2700)"
   ]
  },
  {
   "cell_type": "code",
   "execution_count": null,
   "metadata": {
    "scrolled": false
   },
   "outputs": [],
   "source": [
    "MDT_adj_yac(HOKCHI_7DES_MEM_Dataset, 2450, 2700)"
   ]
  },
  {
   "cell_type": "code",
   "execution_count": null,
   "metadata": {
    "scrolled": false
   },
   "outputs": [],
   "source": [
    "MDT_adj_yac(HOKCHI_8H_MEM_Dataset, 2450, 2700)"
   ]
  },
  {
   "cell_type": "code",
   "execution_count": null,
   "metadata": {},
   "outputs": [],
   "source": [
    "HOKCHI_8H_PD_MEM_Dataset['TVD'][3300:]"
   ]
  },
  {
   "cell_type": "code",
   "execution_count": null,
   "metadata": {
    "scrolled": false
   },
   "outputs": [],
   "source": [
    "MDT_adj_yac(HOKCHI_8H_PD_MEM_Dataset, 2553.61 , 2760.4)"
   ]
  },
  {
   "cell_type": "code",
   "execution_count": null,
   "metadata": {},
   "outputs": [],
   "source": [
    "HOKCHI_9H_MEM_Dataset[3407:4010]"
   ]
  },
  {
   "cell_type": "code",
   "execution_count": null,
   "metadata": {
    "scrolled": false
   },
   "outputs": [],
   "source": [
    "MDT_adj_yac(HOKCHI_9H_MEM_Dataset, 2541.7 , 2580)"
   ]
  },
  {
   "cell_type": "code",
   "execution_count": null,
   "metadata": {},
   "outputs": [],
   "source": [
    "MDT_adj_surface(HOKCHI_11DES_MEM_Dataset, 80, 880)"
   ]
  },
  {
   "cell_type": "code",
   "execution_count": null,
   "metadata": {},
   "outputs": [],
   "source": [
    "MDT_adj_surface(HOKCHI_8H_MEM_Dataset, 80, 880)"
   ]
  },
  {
   "cell_type": "code",
   "execution_count": null,
   "metadata": {},
   "outputs": [],
   "source": [
    "MDT_adj_surface(HOKCHI_8H_PD_MEM_Dataset, 80, 880)"
   ]
  },
  {
   "cell_type": "code",
   "execution_count": null,
   "metadata": {},
   "outputs": [],
   "source": [
    "MDT_adj_surface(HOKCHI_9H_MEM_Dataset, 80, 880)"
   ]
  },
  {
   "cell_type": "markdown",
   "metadata": {},
   "source": [
    "# Horizontal stresses"
   ]
  },
  {
   "cell_type": "code",
   "execution_count": null,
   "metadata": {},
   "outputs": [],
   "source": [
    "'''\n",
    "Caculated the horizontal stress HS_MIN_PE and  HS_MAX_PE by the Poro-Elastic horizonal strainf Model\n",
    "'''\n",
    "def HORIZONTAL_STRESS_PE(logs):\n",
    "    well_name = input('Enter Well Name: ')\n",
    "    e_min = float(input('Enter Epsilon for HS_MIN (0.001) : ') or '0.001')\n",
    "    e_max = float(input('Enter Epsilon for HS_MAX (0.001) : ') or '0.001')\n",
    "\n",
    "    h_min = (logs['V_Stress']-logs['PP_Eaton'])*(logs['PR_St']/(1-logs['PR_St']))\\\n",
    "            +logs['PP_Eaton']+((logs['YM_MMC']*10**6)*e_min/(1-(logs['PR_St'])**2))\\\n",
    "            +(logs['PR_St']*(logs['YM_MMC']*10**6)*e_max/(1-(logs['PR_St'])**2))\n",
    "        \n",
    "    H_max = (logs['V_Stress']*logs['PR_St']/(1-logs['PR_St'])-(logs['PP_Eaton']*logs['PR_St']/(1-logs['PR_St']))\\\n",
    "            +logs['PP_Eaton'])+((logs['YM_MMC']*10**6)*e_max/(1-logs['PR_St']**2)) \\\n",
    "            +(logs['PR_St']*(logs['YM_MMC']*10**6)*e_min/(1-logs['PR_St']**2))\n",
    "    logs['h_min_PE'] = h_min\n",
    "    logs['h_min_PE_IU'] = h_min*6.89476 #Kpa\n",
    "    logs['h_min_PE_bar'] = h_min/14.5038 #bar\n",
    "    logs['h_min_PE_EMW'] = logs['h_min_PE']/(0.052*logs['TVD_ft'])\n",
    "    logs['h_min_PE_EMW_SG'] = logs['h_min_PE_EMW']/8.33\n",
    "    \n",
    "    logs['H_max_PE'] = H_max\n",
    "    logs['H_max_PE_IU'] = H_max = h_min*6.89476 #Kpa\n",
    "    logs['H_max_PE_bar'] = H_max = h_min/14.5038 #bar\n",
    "    logs['H_max_PE_EMW'] = H_max/(0.052*logs['TVD_ft'])\n",
    "    logs['H_max_PE_EMW_SG'] = logs['H_max_PE_EMW']/8.33\n",
    "    #print(logs[['PR_St','PP_Eaton','V_Stress','YM_MMC','h_min_PE', 'H_max_PE']])\n",
    "    \n",
    "##Plot\n",
    "    top_depth=0\n",
    "    bottom_depth = logs.index.max()\n",
    "    f = logs[(logs.index >= top_depth) & (logs.index <= bottom_depth)]\n",
    "    fig, ax = plt.subplots(nrows=1, ncols=3, figsize=(12,16), sharey=True, sharex=True)\n",
    "    fig.suptitle(f\"HORIZONTAL STRESS PLOT {well_name}\", fontsize=22)\n",
    "    fig.subplots_adjust(top=0.81,wspace=0.1)\n",
    "    \n",
    "    #For all axis\n",
    "    major_yticks = np.arange(top_depth, bottom_depth, 100)\n",
    "    minor_yticks = np.arange(top_depth, bottom_depth, 50)\n",
    "    \n",
    "    for axes in ax:\n",
    "        axes.set_ylim (top_depth,bottom_depth)\n",
    "        axes.invert_yaxis()\n",
    "        axes.yaxis.grid(True)\n",
    "        axes.get_xaxis().set_visible(False)\n",
    "        axes.set_yticks(major_yticks)\n",
    "        axes.set_yticks(minor_yticks, minor=True)\n",
    "        axes.grid(which='minor', linestyle='--')\n",
    "        axes.set_ylabel('TVD[m]')\n",
    "\n",
    "#1st track: Youngs Module \n",
    "    \n",
    "    ax01=ax[0].twiny()\n",
    "    ax01.set_xlim(0,5)\n",
    "    ax01.plot(f.YM_MMC, f.index, label='YYM_MMC [Mpsi]', color='red')\n",
    "    ax01.spines['top'].set_position(('outward',0))    \n",
    "    ax01.set_xlabel('YYM_MMC [Mpsi]',color='red')    \n",
    "    ax01.tick_params(axis='x', colors='red')\n",
    "    #ax01.invert_xaxis()\n",
    "    ax01.grid(True)\n",
    "    \n",
    "\n",
    "    \n",
    "#2nd track: Possion Ratio\n",
    "\n",
    "    ax11=ax[1].twiny()\n",
    "    ax11.set_xlim(0,0.5)\n",
    "    ax11.set_xscale('linear')\n",
    "    ax11.grid(True)\n",
    "    ax11.spines['top'].set_position(('outward',0))\n",
    "    ax11.set_xlabel('PR_St [Unitless]', color='black')\n",
    "    ax11.plot(f.PR_St, f.index, label='PR_St [Unitless]', color='black')\n",
    "    ax11.tick_params(axis='x', colors='black')\n",
    "    \n",
    "\n",
    "#3th track: Pore Pressure, SHmax Shmin, V-stress\n",
    "    v_min = 0\n",
    "    v_max = 15001#*6.89476 #Kpa\n",
    "    v_space= 2500#*6.89476 #Kpa\n",
    "    ax21=ax[2].twiny()\n",
    "    ax21.set_xlim(v_min,v_max)\n",
    "    ax21.spines['top'].set_position(('outward',0))\n",
    "    ax21.plot(f.V_Stress, f.index, label='V_Stress [psi]', color='black',linewidth=1.5)\n",
    "    ax21.set_xlabel('V_Stress [psi]', color='black')    \n",
    "    ax21.tick_params(axis='x', colors='black')\n",
    "    ax21.set_xticks(np.arange(v_min, v_max, v_space))\n",
    "    #ax21.legend(loc='lower left')\n",
    "    ax21.grid(True)\n",
    "    \n",
    "    ax22=ax[2].twiny()\n",
    "    ax22.set_xlim(v_min,v_max)\n",
    "    ax22.spines['top'].set_position(('outward',40))\n",
    "    ax22.plot(f.PP_Eaton, f.index, label='PP_Eaton [psi]', color='blue',linewidth=1.5)\n",
    "    ax22.set_xlabel('PP_Eaton [psi]', color='blue')    \n",
    "    ax22.tick_params(axis='x', colors='blue')\n",
    "    ax22.set_xticks(np.arange(v_min, v_max, v_space))\n",
    "    #ax22.legend(loc='lower left')    \n",
    "    #ax22.grid(True)\n",
    "    \n",
    "    ax23=ax[2].twiny()\n",
    "    ax23.set_xlim(v_min,v_max)\n",
    "    ax23.spines['top'].set_position(('outward',80))\n",
    "    ax23.plot(f.h_min_PE, f.index, label='Min_H_Stress [psi]', color='green',linewidth=0.5)\n",
    "    ax23.set_xlabel('Min_H_Stress [psi]', color='green')    \n",
    "    ax23.tick_params(axis='x', colors='green')\n",
    "    ax23.set_xticks(np.arange(v_min, v_max, v_space))\n",
    "    \n",
    "    ax24=ax[2].twiny()\n",
    "    ax24.set_xlim(v_min,v_max)\n",
    "    ax24.spines['top'].set_position(('outward',120))\n",
    "    ax24.plot(f.H_max_PE, f.index, label='Max_H_Stress [psi]', color='red',linewidth=0.5)\n",
    "    ax24.set_xlabel('Max_H_Stress [psi]', color='red')    \n",
    "    ax24.tick_params(axis='x', colors='red')\n",
    "    ax24.set_xticks(np.arange(v_min, v_max, v_space))\n",
    "    \n",
    "    \n",
    "    plt.savefig (f'./Output pictures/Horizontal_stresses_PLOT_{well_name}.png', dpi=300, format='png')\n",
    "    plt.show()"
   ]
  },
  {
   "cell_type": "code",
   "execution_count": null,
   "metadata": {},
   "outputs": [],
   "source": [
    "'''\n",
    "Caculated the horizontal stress HS_MIN_PE and  HS_MAX_PE by the Poro-Elastic horizonal strainf Model\n",
    "'''\n",
    "def HORIZONTAL_STRESS_PE_BF(logs, tops):\n",
    "    well_name = input('Enter Well Name: ')\n",
    "    \n",
    "    dt_w = []    \n",
    "    for k, row in tops.iterrows():\n",
    "        if k==0:\n",
    "            continue\n",
    "        else:\n",
    "            #print(k)\n",
    "            dt_w.append(tops.iloc[k,:]['MD'] - tops.iloc[k-1,:]['MD'])\n",
    "    #array of inputs\n",
    "    e_min = [] #np.array([])\n",
    "    e_max = []\n",
    "    for x in range(len(dt_w)):\n",
    "        top = tops.iloc[x,:]['MD']\n",
    "        base = top + dt_w[x]\n",
    "        print('top:',top, 'base: ', base)\n",
    "        formation = tops.iloc[x,:]['Zone Name']\n",
    "        e_min_s, e_max_s = [float(item) for item in \\\n",
    "                                        (input(f' For {formation} Enter Epsilon for HS_MIN / HS_MAX (0.001 / 0.002) [gr/cc]: ').split()\\\n",
    "                                         or ('0.00006 0.0006').split())]\n",
    "        e_min.append(e_min_s)\n",
    "        e_max.append(e_max_s)\n",
    "    \n",
    "    h_min = pd.Series()\n",
    "    H_max = pd.Series()\n",
    "    for x in range(len(dt_w)):        \n",
    "        top = tops.iloc[x,:]['MD']\n",
    "        base = top + dt_w[x]\n",
    "        logs_filter = logs[(logs.index>=top) & (logs.index<base)]\n",
    "        \n",
    "        h_min_s = (logs_filter['V_Stress']-logs_filter['PP_Eaton'])*(logs_filter['PR_St']/(1-logs_filter['PR_St']))\\\n",
    "                +logs_filter['PP_Eaton']+((logs_filter['YM_MMC']*10**6)*e_min[x]/(1-(logs_filter['PR_St'])**2))\\\n",
    "                +(logs_filter['PR_St']*(logs_filter['YM_MMC']*10**6)*e_max[x]/(1-(logs_filter['PR_St'])**2))\n",
    "\n",
    "        H_max_s = (logs_filter['V_Stress']*logs_filter['PR_St']/(1-logs_filter['PR_St'])-(logs_filter['PP_Eaton']*logs_filter['PR_St']/(1-logs_filter['PR_St']))\\\n",
    "                +logs_filter['PP_Eaton'])+((logs_filter['YM_MMC']*10**6)*e_max[x]/(1-logs_filter['PR_St']**2)) \\\n",
    "                +(logs_filter['PR_St']*(logs_filter['YM_MMC']*10**6)*e_min[x]/(1-logs_filter['PR_St']**2))\n",
    "        \n",
    "        h_min = h_min.append(h_min_s)\n",
    "        H_max = H_max.append(H_max_s)\n",
    "    \n",
    "#     print(h_min)\n",
    "    \n",
    "    logs['h_min_PE'] = h_min #pd.DataFrame(h_min, index=logs.index)\n",
    "    logs['h_min_PE_IU'] = h_min*6.89476 #Kpa\n",
    "    logs['h_min_PE_bar'] = h_min/14.5038 #bar\n",
    "    logs['h_min_PE_EMW'] = logs['h_min_PE']/(0.052*logs['TVD_ft'])\n",
    "    logs['h_min_PE_EMW_SG'] = logs['h_min_PE_EMW']/8.33\n",
    "    \n",
    "    logs['H_max_PE'] = pd.DataFrame(H_max, index=logs.index)\n",
    "    logs['H_max_PE_IU'] = H_max = h_min*6.89476 #Kpa\n",
    "    logs['H_max_PE_bar'] = H_max = h_min/14.5038 #bar\n",
    "    logs['H_max_PE_EMW'] = logs['H_max_PE']/(0.052*logs['TVD_ft'])\n",
    "    logs['H_max_PE_EMW_SG'] = logs['H_max_PE_EMW']/8.33\n",
    "    #print(logs[['PR_St','PP_Eaton','V_Stress','YM_MMC','h_min_PE', 'H_max_PE']])\n",
    "    \n",
    "##Plot\n",
    "    top_depth=0\n",
    "    bottom_depth = logs.index.max()\n",
    "    f = logs[(logs.index >= top_depth) & (logs.index <= bottom_depth)]\n",
    "    fig, ax = plt.subplots(nrows=1, ncols=4, figsize=(12,16), sharey=True, sharex=True,\\\n",
    "                           gridspec_kw={'width_ratios': [1, 1, 3, 3]})\n",
    "    fig.suptitle(f\"HORIZONTAL STRESS PLOT {well_name}\", fontsize=22)\n",
    "    fig.subplots_adjust(top=0.81,wspace=0.1)\n",
    "    \n",
    "    #For all axis\n",
    "    major_yticks = np.arange(top_depth, bottom_depth, 100)\n",
    "    minor_yticks = np.arange(top_depth, bottom_depth, 50)\n",
    "    \n",
    "    for axes in ax:\n",
    "        axes.set_ylim (top_depth,bottom_depth)\n",
    "        axes.invert_yaxis()\n",
    "        axes.yaxis.grid(True)\n",
    "        axes.get_xaxis().set_visible(False)\n",
    "        axes.set_yticks(major_yticks)\n",
    "        axes.set_yticks(minor_yticks, minor=True)\n",
    "        axes.grid(which='minor', linestyle='--')\n",
    "        axes.set_ylabel('MD[m]')\n",
    "\n",
    "#1st track: Youngs Module \n",
    "    \n",
    "    ax01=ax[0].twiny()\n",
    "    ax01.set_xlim(0,6.01)\n",
    "    ax01.plot(f.YM_MMC, f.index, label='YYM_MMC [Mpsi]', color='red')\n",
    "    ax01.spines['top'].set_position(('outward',0))    \n",
    "    ax01.set_xlabel('YYM_MMC [Mpsi]',color='red')    \n",
    "    ax01.tick_params(axis='x', colors='red')\n",
    "    #ax01.invert_xaxis()\n",
    "    ax01.grid(True)\n",
    "    \n",
    "\n",
    "    \n",
    "#2nd track: Possion Ratio\n",
    "\n",
    "    ax11=ax[1].twiny()\n",
    "    ax11.set_xlim(0,0.5)\n",
    "    ax11.set_xscale('linear')\n",
    "    ax11.grid(True)\n",
    "    ax11.spines['top'].set_position(('outward',0))\n",
    "    ax11.set_xlabel('PR_St [Unitless]', color='black')\n",
    "    ax11.plot(f.PR_St, f.index, label='PR_St [Unitless]', color='black')\n",
    "    ax11.tick_params(axis='x', colors='black')\n",
    "    \n",
    "\n",
    "#3th track: Pore Pressure, SHmax Shmin, V-stress\n",
    "    v_min = 0\n",
    "    v_max = 10001#*6.89476 #Kpa\n",
    "    v_space= 2000#*6.89476 #Kpa\n",
    "    ax21=ax[2].twiny()\n",
    "    ax21.set_xlim(v_min,v_max)\n",
    "    ax21.spines['top'].set_position(('outward',0))\n",
    "    ax21.plot(f.V_Stress, f.index, label='V_Stress [psi]', color='black',linewidth=1.5)\n",
    "    ax21.set_xlabel('V_Stress [psi]', color='black')    \n",
    "    ax21.tick_params(axis='x', colors='black')\n",
    "    ax21.set_xticks(np.arange(v_min, v_max, v_space))\n",
    "    #ax21.legend(loc='lower left')\n",
    "    ax21.grid(True)\n",
    "    \n",
    "    ax22=ax[2].twiny()\n",
    "    ax22.set_xlim(v_min,v_max)\n",
    "    ax22.spines['top'].set_position(('outward',40))\n",
    "    ax22.plot(f.PP_Eaton, f.index, label='PP_Eaton [psi]', color='blue',linewidth=1.5)\n",
    "    ax22.set_xlabel('PP_Eaton [psi]', color='blue')    \n",
    "    ax22.tick_params(axis='x', colors='blue')\n",
    "    ax22.set_xticks(np.arange(v_min, v_max, v_space))\n",
    "    #ax22.legend(loc='lower left')    \n",
    "    #ax22.grid(True)\n",
    "    \n",
    "    ax23=ax[2].twiny()\n",
    "    ax23.set_xlim(v_min,v_max)\n",
    "    ax23.spines['top'].set_position(('outward',80))\n",
    "    ax23.plot(f.h_min_PE, f.index, label='Min_H_Stress [psi]', color='green',linewidth=0.5)\n",
    "    ax23.set_xlabel('Min_H_Stress [psi]', color='green')    \n",
    "    ax23.tick_params(axis='x', colors='green')\n",
    "    ax23.set_xticks(np.arange(v_min, v_max, v_space))\n",
    "    \n",
    "    ax24=ax[2].twiny()\n",
    "    ax24.set_xlim(v_min,v_max)\n",
    "    ax24.spines['top'].set_position(('outward',120))\n",
    "    ax24.plot(f.H_max_PE, f.index, label='Max_H_Stress [psi]', color='red',linewidth=0.5)\n",
    "    ax24.set_xlabel('Max_H_Stress [psi]', color='red')    \n",
    "    ax24.tick_params(axis='x', colors='red')\n",
    "    ax24.set_xticks(np.arange(v_min, v_max, v_space))\n",
    "    \n",
    "    #4th track: Pore Pressure, SHmax Shmin, V-stress\n",
    "    \n",
    "    v_min = 1\n",
    "    v_max = 2.2#*6.89476 #Kpa\n",
    "    v_space= 0.2#*6.89476 #Kpa\n",
    "    ax31=ax[3].twiny()\n",
    "    ax31.set_xlim(v_min,v_max)\n",
    "    ax31.spines['top'].set_position(('outward',0))\n",
    "    ax31.plot(f.V_Stress_EMW_SG, f.index, label='V_Stress [gr/cc]', color='black',linewidth=1.5)\n",
    "    ax31.set_xlabel('V_Stress [gr/cc]', color='black')    \n",
    "    ax31.tick_params(axis='x', colors='black')\n",
    "    ax31.set_xticks(np.arange(v_min, v_max, v_space))\n",
    "    #ax21.legend(loc='lower left')\n",
    "    ax31.grid(True)\n",
    "    \n",
    "    ax32=ax[3].twiny()\n",
    "    ax32.set_xlim(v_min,v_max)\n",
    "    ax32.spines['top'].set_position(('outward',40))\n",
    "    ax32.plot(f.PP_Eaton_EMW_SG, f.index, label='PP_Eaton [gr/cc]', color='blue',linewidth=1.5)\n",
    "    ax32.set_xlabel('PP_Eaton [gr/cc]', color='blue')    \n",
    "    ax32.tick_params(axis='x', colors='blue')\n",
    "    ax32.set_xticks(np.arange(v_min, v_max, v_space))\n",
    "    #ax22.legend(loc='lower left')    \n",
    "    #ax22.grid(True)\n",
    "    \n",
    "    ax33=ax[3].twiny()\n",
    "    ax33.set_xlim(v_min,v_max)\n",
    "    ax33.spines['top'].set_position(('outward',80))\n",
    "    ax33.plot(f.h_min_PE_EMW_SG, f.index, label='Min_H_Stress [gr/cc]', color='green',linewidth=0.5)\n",
    "    ax33.set_xlabel('Min_H_Stress [gr/cc]', color='green')    \n",
    "    ax33.tick_params(axis='x', colors='green')\n",
    "    ax33.set_xticks(np.arange(v_min, v_max, v_space))\n",
    "    \n",
    "    ax34=ax[3].twiny()\n",
    "    ax34.set_xlim(v_min,v_max)\n",
    "    ax34.spines['top'].set_position(('outward',120))\n",
    "    ax34.plot(f.H_max_PE_EMW_SG, f.index, label='Max_H_Stress [gr/cc]', color='red',linewidth=0.5)\n",
    "    ax34.set_xlabel('Max_H_Stress [gr/cc]', color='red')    \n",
    "    ax34.tick_params(axis='x', colors='red')\n",
    "    ax34.set_xticks(np.arange(v_min, v_max, v_space))\n",
    "    \n",
    "    \n",
    "    plt.savefig (f'./Output pictures/Horizontal_stresses_PLOT_{well_name}.png', dpi=300, format='png')\n",
    "    plt.show()"
   ]
  },
  {
   "cell_type": "code",
   "execution_count": null,
   "metadata": {
    "scrolled": true
   },
   "outputs": [],
   "source": [
    "HORIZONTAL_STRESS_PE_BF(HOKCHI_11DES_MEM_Dataset, HOKCHI_11DES_tops)"
   ]
  },
  {
   "cell_type": "code",
   "execution_count": null,
   "metadata": {
    "scrolled": true
   },
   "outputs": [],
   "source": [
    "HORIZONTAL_STRESS_PE_BF(HOKCHI_7DES_MEM_Dataset, HOKCHI_7DES_tops)"
   ]
  },
  {
   "cell_type": "code",
   "execution_count": null,
   "metadata": {
    "scrolled": true
   },
   "outputs": [],
   "source": [
    "HORIZONTAL_STRESS_PE_BF(HOKCHI_8H_MEM_Dataset, HOKCHI_8H_tops)"
   ]
  },
  {
   "cell_type": "code",
   "execution_count": null,
   "metadata": {
    "scrolled": false
   },
   "outputs": [],
   "source": [
    "HORIZONTAL_STRESS_PE_BF(HOKCHI_8H_PD_MEM_Dataset, HOKCHI_8H_PD_tops)"
   ]
  },
  {
   "cell_type": "code",
   "execution_count": null,
   "metadata": {
    "scrolled": true
   },
   "outputs": [],
   "source": [
    "HORIZONTAL_STRESS_PE_BF(HOKCHI_9H_MEM_Dataset, HOKCHI_9H_tops)"
   ]
  },
  {
   "cell_type": "markdown",
   "metadata": {},
   "source": [
    "# DEPLETION PP"
   ]
  },
  {
   "cell_type": "code",
   "execution_count": null,
   "metadata": {},
   "outputs": [],
   "source": [
    "def MDT_adj_yac_depl (logs, top, base):\n",
    "    top = float(top)\n",
    "    base = float(base)\n",
    "    pp_e = []\n",
    "    pp_emw = []\n",
    "    for i, row in logs[(logs.TVD> top) & (logs.TVD <= base)].iterrows():\n",
    "        if row['MST']== 0:\n",
    "            pp_ei = ((row['TVD']+12.83)/0.4625)\n",
    "            pp_emwi = pp_ei/(0.052*row['TVD_ft']*8.33) #(4437/(0.052*row['TVD']))/8.33\n",
    "            pp_e.append(pp_ei)\n",
    "            pp_emw.append(pp_emwi)\n",
    "        else:\n",
    "            pp_e.append(row['PP_Eaton'])\n",
    "            pp_emw.append(row['PP_Eaton_EMW_SG'])\n",
    "            \n",
    "    logs['PP_Eaton'][(logs.TVD> top) & (logs.TVD <= base)] = pp_e\n",
    "    logs['PP_Eaton_EMW_SG'][(logs.TVD> top) & (logs.TVD <= base)] = pp_emw\n",
    "    return logs"
   ]
  },
  {
   "cell_type": "code",
   "execution_count": null,
   "metadata": {},
   "outputs": [],
   "source": [
    "HOKCHI_8H_PD_MEM_Dataset['TVD'][(HOKCHI_8H_PD_MEM_Dataset['TVD']>2554) & (HOKCHI_8H_PD_MEM_Dataset['TVD']<=2760.4)]"
   ]
  },
  {
   "cell_type": "code",
   "execution_count": null,
   "metadata": {},
   "outputs": [],
   "source": [
    "MDT_adj_yac_depl(HOKCHI_8H_PD_MEM_Dataset, 2553, 2760.4)"
   ]
  },
  {
   "cell_type": "code",
   "execution_count": null,
   "metadata": {},
   "outputs": [],
   "source": [
    "dep_area = HOKCHI_8H_PD_MEM_Dataset[(HOKCHI_8H_PD_MEM_Dataset.index>=3490)&(HOKCHI_8H_PD_MEM_Dataset.index<=4010)].copy()\n",
    "# dep_area['PP_Eaton'] = dep_area['PP_Eaton']-2240\n",
    "# dep_area['PP_Eaton_EMW'] = dep_area['PP_Eaton']/(0.052*dep_area['TVD'])\n"
   ]
  },
  {
   "cell_type": "code",
   "execution_count": null,
   "metadata": {},
   "outputs": [],
   "source": [
    "HOKCHI_8H_PD_MEM_Dataset['PP_Eaton'][(HOKCHI_8H_PD_MEM_Dataset.index>=3490)&(HOKCHI_8H_PD_MEM_Dataset.index<=4010)] = 12.62*dep_area['TVD_ft']*0.052\n",
    "HOKCHI_8H_PD_MEM_Dataset['PP_Eaton_EMW_SG'][(HOKCHI_8H_PD_MEM_Dataset.index>=3490)&(HOKCHI_8H_PD_MEM_Dataset.index<=4010)] = 1.51"
   ]
  },
  {
   "cell_type": "code",
   "execution_count": null,
   "metadata": {},
   "outputs": [],
   "source": [
    "HOKCHI_8H_PD_MEM_Dataset['h_min_PE'][(HOKCHI_8H_PD_MEM_Dataset.index>=3490)&(HOKCHI_8H_PD_MEM_Dataset.index<=4010)] = dep_area['h_min_PE']-60\n",
    "HOKCHI_8H_PD_MEM_Dataset['h_min_PE_EMW_SG'][(HOKCHI_8H_PD_MEM_Dataset.index>=3490)&(HOKCHI_8H_PD_MEM_Dataset.index<=4010)]= (dep_area['h_min_PE']-60)/(0.052*dep_area['TVD_ft']*8.33)"
   ]
  },
  {
   "cell_type": "code",
   "execution_count": null,
   "metadata": {},
   "outputs": [],
   "source": [
    "MDT_adj_yac_depl(HOKCHI_9H_MEM_Dataset, 2541.7, 2580)"
   ]
  },
  {
   "cell_type": "code",
   "execution_count": null,
   "metadata": {},
   "outputs": [],
   "source": [
    "HOKCHI_9H_MEM_Dataset['TVD'][(HOKCHI_9H_MEM_Dataset['TVD']>2541.7) & (HOKCHI_9H_MEM_Dataset['TVD']<=2580)]"
   ]
  },
  {
   "cell_type": "code",
   "execution_count": null,
   "metadata": {},
   "outputs": [],
   "source": [
    "dep_area_3 = HOKCHI_9H_MEM_Dataset[(HOKCHI_9H_MEM_Dataset.index>=3398)&(HOKCHI_9H_MEM_Dataset.index<=4010)].copy()"
   ]
  },
  {
   "cell_type": "code",
   "execution_count": null,
   "metadata": {},
   "outputs": [],
   "source": [
    "pp_deplet = dep_area_3['PP_Eaton']*0.8\n",
    "sh_deplet = dep_area_3['h_min_PE']-(dep_area_3['PP_Eaton']*0.2*0.4)"
   ]
  },
  {
   "cell_type": "code",
   "execution_count": null,
   "metadata": {},
   "outputs": [],
   "source": [
    "pp_deplet"
   ]
  },
  {
   "cell_type": "code",
   "execution_count": null,
   "metadata": {},
   "outputs": [],
   "source": [
    "dep_area_3.PP_Eaton"
   ]
  },
  {
   "cell_type": "code",
   "execution_count": null,
   "metadata": {},
   "outputs": [],
   "source": [
    "HOKCHI_9H_MEM_Dataset['PP_Eaton'][(HOKCHI_9H_MEM_Dataset.index>=3398)&(HOKCHI_9H_MEM_Dataset.index<=4010)] = pp_deplet\n",
    "HOKCHI_9H_MEM_Dataset['PP_Eaton_EMW_SG'][(HOKCHI_9H_MEM_Dataset.index>=3398)&(HOKCHI_9H_MEM_Dataset.index<=4010)] = pp_deplet/(0.052*dep_area_3['TVD_ft']*8.33)\n",
    "HOKCHI_9H_MEM_Dataset['h_min_PE'][(HOKCHI_9H_MEM_Dataset.index>=3398)&(HOKCHI_9H_MEM_Dataset.index<=4010)] = sh_deplet\n",
    "HOKCHI_9H_MEM_Dataset['h_min_PE_EMW_SG'][(HOKCHI_9H_MEM_Dataset.index>=3398)&(HOKCHI_9H_MEM_Dataset.index<=4010)]= (sh_deplet)/(0.052*dep_area_3['TVD_ft']*8.33)"
   ]
  },
  {
   "cell_type": "code",
   "execution_count": null,
   "metadata": {},
   "outputs": [],
   "source": [
    "dep_area_2 = MA_14B_MEM_Dataset[(MA_14B_MEM_Dataset.index>=5138)&(MA_14B_MEM_Dataset.index<=5200)].copy()"
   ]
  },
  {
   "cell_type": "code",
   "execution_count": null,
   "metadata": {},
   "outputs": [],
   "source": [
    "MA_14B_MEM_Dataset['PP_Eaton'][(MA_14B_MEM_Dataset.index>=5138)&(MA_14B_MEM_Dataset.index<=5200)] = 7.497*dep_area_2['TVD_ft']*0.052\n",
    "MA_14B_MEM_Dataset['PP_Eaton_EMW_SG'][(MA_14B_MEM_Dataset.index>=5138)&(MA_14B_MEM_Dataset.index<=5200)] = 0.9"
   ]
  },
  {
   "cell_type": "code",
   "execution_count": null,
   "metadata": {},
   "outputs": [],
   "source": [
    "MA_14B_MEM_Dataset['h_min_PE'][(MA_14B_MEM_Dataset.index>=5138)&(MA_14B_MEM_Dataset.index<=5200)] = dep_area_2['h_min_PE']*0.93\n",
    "MA_14B_MEM_Dataset['h_min_PE_EMW_SG'][(MA_14B_MEM_Dataset.index>=5138)&(MA_14B_MEM_Dataset.index<=5200)]= dep_area_2['h_min_PE_EMW_SG']*0.93"
   ]
  },
  {
   "cell_type": "code",
   "execution_count": null,
   "metadata": {},
   "outputs": [],
   "source": [
    "dep_area_4 = MA_14B_T2_MEM_Dataset[(MA_14B_T2_MEM_Dataset.index>=5175)&(MA_14B_T2_MEM_Dataset.index<=5225)].copy()"
   ]
  },
  {
   "cell_type": "code",
   "execution_count": null,
   "metadata": {},
   "outputs": [],
   "source": [
    "MA_14B_T2_MEM_Dataset['PP_Eaton'][(MA_14B_T2_MEM_Dataset.index>=5175)&(MA_14B_T2_MEM_Dataset.index<=5225)] = 7.497*dep_area_4['TVD_ft']*0.052\n",
    "MA_14B_T2_MEM_Dataset['PP_Eaton_EMW_SG'][(MA_14B_T2_MEM_Dataset.index>=5175)&(MA_14B_T2_MEM_Dataset.index<=5225)] = 0.9\n",
    "MA_14B_T2_MEM_Dataset['h_min_PE'][(MA_14B_T2_MEM_Dataset.index>=5175)&(MA_14B_T2_MEM_Dataset.index<=5225)] = dep_area_4['h_min_PE']*0.93\n",
    "MA_14B_T2_MEM_Dataset['h_min_PE_EMW_SG'][(MA_14B_T2_MEM_Dataset.index>=5175)&(MA_14B_T2_MEM_Dataset.index<=5225)]= dep_area_4['h_min_PE_EMW_SG']*0.93"
   ]
  },
  {
   "cell_type": "markdown",
   "metadata": {},
   "source": [
    "### No depleted"
   ]
  },
  {
   "cell_type": "code",
   "execution_count": null,
   "metadata": {},
   "outputs": [],
   "source": [
    "MA_14B_MEM_Dataset['PP_Eaton'][(MA_14B_MEM_Dataset.index>=5138)&(MA_14B_MEM_Dataset.index<=5200)] = dep_area_2['PP_Eaton']\n",
    "MA_14B_MEM_Dataset['PP_Eaton_EMW_SG'][(MA_14B_MEM_Dataset.index>=5138)&(MA_14B_MEM_Dataset.index<=5200)] = dep_area_2['PP_Eaton_EMW_SG']"
   ]
  },
  {
   "cell_type": "code",
   "execution_count": null,
   "metadata": {},
   "outputs": [],
   "source": [
    "MA_14B_MEM_Dataset['h_min_PE'][(MA_14B_MEM_Dataset.index>=5138)&(MA_14B_MEM_Dataset.index<=5200)] = dep_area_2['h_min_PE']\n",
    "MA_14B_MEM_Dataset['h_min_PE_EMW_SG'][(MA_14B_MEM_Dataset.index>=5138)&(MA_14B_MEM_Dataset.index<=5200)]= dep_area_2['h_min_PE_EMW_SG']"
   ]
  },
  {
   "cell_type": "code",
   "execution_count": null,
   "metadata": {},
   "outputs": [],
   "source": []
  },
  {
   "cell_type": "code",
   "execution_count": null,
   "metadata": {},
   "outputs": [],
   "source": [
    "MA_14B_T2_MEM_Dataset['PP_Eaton'][(MA_14B_T2_MEM_Dataset.index>=4925)&(MA_14B_T2_MEM_Dataset.index<=5225)] = dep_area_4['PP_Eaton']\n",
    "MA_14B_T2_MEM_Dataset['PP_Eaton_EMW_SG'][(MA_14B_T2_MEM_Dataset.index>=4925)&(MA_14B_T2_MEM_Dataset.index<=5225)] = dep_area_4['PP_Eaton_EMW_SG']\n",
    "MA_14B_T2_MEM_Dataset['h_min_PE'][(MA_14B_T2_MEM_Dataset.index>=4925)&(MA_14B_T2_MEM_Dataset.index<=5225)] = dep_area_4['h_min_PE']\n",
    "MA_14B_T2_MEM_Dataset['h_min_PE_EMW_SG'][(MA_14B_T2_MEM_Dataset.index>=4925)&(MA_14B_T2_MEM_Dataset.index<=5225)]= dep_area_4['h_min_PE_EMW_SG']"
   ]
  },
  {
   "cell_type": "markdown",
   "metadata": {},
   "source": [
    "# WBS\n"
   ]
  },
  {
   "cell_type": "code",
   "execution_count": null,
   "metadata": {},
   "outputs": [],
   "source": [
    "def WBS_WINDOW(logs, well_path, tops):\n",
    "    well_name = input('Enter Well Name: ')\n",
    "    Hmax_dir =  float(input('Enter Direction of SHmax  (AZI: 90 deg) : ') or '90')\n",
    "    \n",
    "    '''\n",
    "    3D linear elastic solution - With the assumption of rock formation is homogeneous and isotropic, the induced stress field\n",
    "    around borehole has been given by Jaeger and Cook (1979). According to Bradley (1979) the stress \n",
    "    can be expressed in borehole cylindrical polar coordinates system r-teta as:\n",
    "    Ask Carlos about the dmud'''\n",
    "    Rw = 1 # borehole radius    \n",
    "    dmud = 10 #ppg for Pw that is the wells pressure\n",
    "    alpha = (logs['AZI']-Hmax_dir)*(math.pi/180)\n",
    "    inc_rad = logs['INC']*(math.pi/180)\n",
    "    Ixx_p = np.cos(alpha)*np.cos(inc_rad)\n",
    "    Ixy_p = np.sin(alpha)*np.cos(inc_rad)\n",
    "    Ixz_p = -np.sin(inc_rad)\n",
    "    Iyx_p = -np.sin(alpha)\n",
    "    Iyy_p = np.cos(alpha)\n",
    "    Iyz_p = 0\n",
    "    Izx_p = np.cos(alpha)*np.sin(inc_rad)\n",
    "    Izy_p = np.sin(alpha)*np.sin(inc_rad)\n",
    "    Izz_p = np.cos(inc_rad)\n",
    "    Sx_o = (Ixx_p**2)*logs['H_max_PE']+(Ixy_p**2)*logs['h_min_PE']+(Ixz_p**2)*logs['V_Stress']\n",
    "    Sy_o = (Iyx_p**2)*logs['H_max_PE']+(Iyy_p**2)*logs['h_min_PE']+(Iyz_p**2)*logs['V_Stress']\n",
    "    Sz_o = (Izx_p**2)*logs['H_max_PE']+(Izy_p**2)*logs['h_min_PE']+(Izz_p**2)*logs['V_Stress']\n",
    "    Txy_o = (Ixx_p*Iyx_p)*logs['H_max_PE']+(Ixy_p*Iyy_p)*logs['h_min_PE']+(Ixz_p*Iyz_p)*logs['V_Stress']\n",
    "    Tyz_o = (Iyx_p*Izx_p)*logs['H_max_PE']+(Iyy_p*Izy_p)*logs['h_min_PE']+(Iyz_p*Izz_p)*logs['V_Stress']\n",
    "    Tzx_o = (Izx_p*Ixx_p)*logs['H_max_PE']+(Izy_p*Ixy_p)*logs['h_min_PE']+(Izz_p*Ixz_p)*logs['V_Stress']\n",
    "    teta_min_r = np.arctan((2*Txy_o/(Sx_o-Sy_o))/2)\n",
    "    teta_min_d = teta_min_r*(180/math.pi)\n",
    "    teta_max_d = teta_min_d+90\n",
    "    teta_max_r = teta_max_d*(math.pi/180)\n",
    "#     Sig_r = ((Sx_o+Sy_o)/2)*(1-(Rw**2/r**2))+((Sx_o-Sy_o)/2)*(1+(3*Rw**4/r**4)-(4*Rw**2/r**2))*np.cos(2*teta_min_r) \\\n",
    "#                 +Txy_o*(1+(3*Rw**4/r**4)-(4*Rw**2/r**2))*np.sin(2*teta_min_r)+(dmud*0.052*logs['TVD']*Rw**2/r**2)\n",
    "#     Sig_t =  ((Sx_o+Sy_o)/2)*(1+(Rw**2/r**2))-((Sx_o-Sy_o)/2)*(1+(3*Rw**4/r**4))*np.cos(2*teta_min_r) \\\n",
    "#                 - Txy_o*(1+(3*Rw**4/r**4))*np.sin(2*teta_min_r)-(dmud*0.052*logs['TVD']*Rw**2/r**2)\n",
    "#     Sig_z = Sz_o-logs['PR_St']*(2*(Sx_o-Sy_o)*(Rw**2/r**2)*np.cos(2*teta_min_r)+4*Txy_o*(Rw**2/r**2)*np.sin(2*teta_min_r))\n",
    "#     Tau_rt = ((Sy_o-Sx_o)/2)*(1-(3*Rw**4/r**4)+(2*Rw**2/r**2))*np.sin(2*teta_min_r)+Txy_o*(1-(3*Rw**4/r**4)+(2*Rw**2/r**2))\\\n",
    "#                 *np.cos(2*teta_min_r)\n",
    "#     Tau_tz = (-Tzx_o*np.sin(teta_min_r)+Tyz_o*np.cos(teta_min_r))*(1+(Rw**2/r**2))\n",
    "#     Tau_rz = (Tzx_o*np.cos(teta_min_r)+Tyz_o*np.sin(teta_min_r))*(1-(Rw**2/r**2))\n",
    "    \n",
    "#     Sig_t_max = 0.5*(Sig_z+Sig_t+np.sqrt(((Sig_z-Sig_t)**2)-4*Tau_tz**2))\n",
    "#     Sig_t_min = 0.5*(Sig_z+Sig_t-np.sqrt(((Sig_z-Sig_t)**2)-4*Tau_tz**2))    \n",
    "    \n",
    "    '''\n",
    "    Failure mode: Mohr-Coulomb Criterion\n",
    "    '''\n",
    "\n",
    "    tan_fang = np.tan((45 + logs['FANG_PC']/2)*math.pi/180) # radians\n",
    "    \n",
    "    r=[1, 1.05, 1.10, 1.2] # Deph of damage of \n",
    "    \n",
    "    for x in range(len(r)):        \n",
    "        A_t = ((Sx_o+Sy_o)/2)*(1+(Rw**2/r[x]**2))-((Sx_o-Sy_o)/2)*(1+(3*Rw**4/r[x]**4))*np.cos(2*teta_max_r) \\\n",
    "                - Txy_o*(1+(3*Rw**4/r[x]**4))*np.sin(2*teta_max_r)\n",
    "        A_r = ((Sx_o+Sy_o)/2)*(1-(Rw**2/r[x]**2))+((Sx_o-Sy_o)/2)*(1+(3*Rw**4/r[x]**4)-(4*Rw**2/r[x]**2))*np.cos(2*teta_max_r) \\\n",
    "                +Txy_o*(1+(3*Rw**4/r[x]**4)-(4*Rw**2/r[x]**2))*np.sin(2*teta_max_r)\n",
    "        \n",
    "        globals()['S_collapse_'+str(x)] = (A_t-logs['PP_Eaton']-logs['UCS_merge']-A_r*tan_fang**2+logs['PP_Eaton']*tan_fang**2) \\\n",
    "                                        /((1+tan_fang**2)*(Rw/r[x])**2)\n",
    "        globals()['S_collapse_EMW_'+str(x)] = globals()['S_collapse_'+str(x)]/(0.052*logs['TVD'])\n",
    "        \n",
    "#         if x==0:\n",
    "#             globals()['BD_fract_'+str(x)] = (logs['TSTR']+A_t-logs['PP_Eaton'])/(Rw**2/r[x]**2)\n",
    "#             globals()['BD_fract_EMW_'+str(x)] =globals()['BD_fract_'+str(x)]/(0.052*logs['TVD'])\n",
    "#         else:\n",
    "#             continue\n",
    "   \n",
    "    A_t_BD = ((Sx_o+Sy_o)/2)*(1+(Rw**2/r[0]**2))-((Sx_o-Sy_o)/2)*(1+(3*Rw**4/r[0]**4))*np.cos(2*teta_min_r) \\\n",
    "                - Txy_o*(1+(3*Rw**4/r[0]**4))*np.sin(2*teta_min_r)\n",
    "    globals()['BD_fract_'+str(0)] = (logs['TSTR']+A_t_BD-logs['PP_Eaton'])/(Rw**2/r[0]**2)\n",
    "    globals()['BD_fract_EMW_'+str(0)] =globals()['BD_fract_'+str(0)]/(0.052*logs['TVD'])\n",
    "            \n",
    "    logs['COLLAPSE_MC'] = S_collapse_EMW_0\n",
    "    logs['COLLAPSE_MC_5'] = S_collapse_EMW_1\n",
    "    logs['COLLAPSE_MC_10'] = S_collapse_EMW_2\n",
    "    logs['COLLAPSE_MC_20'] = S_collapse_EMW_3\n",
    "    \n",
    "    logs['BreakDown'] = BD_fract_EMW_0    \n",
    "    \n",
    "    ## Plot WBS - Window\n",
    "    top_depth=logs.index.min()\n",
    "    bottom_depth = logs.index.max()\n",
    "    f = logs[(logs.index >= top_depth) & (logs.index <= bottom_depth)]\n",
    "    fig, ax = plt.subplots(nrows=1, ncols=2, figsize=(10,18), sharey=True, sharex=True,\\\n",
    "                           gridspec_kw={'width_ratios': [1, 3]})\n",
    "    fig.suptitle(f\"WBS PLOT {well_name}\", fontsize=18)\n",
    "    fig.subplots_adjust(top=0.78,wspace=0.1)\n",
    "\n",
    "    #For all axis\n",
    "    major_yticks = np.arange(top_depth, bottom_depth, 400)\n",
    "    minor_yticks = np.arange(top_depth, bottom_depth, 200)\n",
    "    \n",
    "    for axes in ax:\n",
    "        axes.set_ylim (top_depth,bottom_depth)\n",
    "        axes.invert_yaxis()\n",
    "        axes.yaxis.grid(True)\n",
    "        axes.get_xaxis().set_visible(False)\n",
    "        axes.set_yticks(major_yticks)\n",
    "        axes.set_yticks(minor_yticks, minor=True)\n",
    "        axes.grid(which='minor', linestyle='--')\n",
    "        axes.set_ylabel('MD [ft]')\n",
    "\n",
    "#1st track: Inclination & Azimuth \n",
    "    \n",
    "    ax01=ax[0].twiny()\n",
    "    ax01.set_xlim(0,90)\n",
    "    ax01.plot(f.INC, f.index, label='DEVIATION [deg]', color='red', lw=3)\n",
    "    ax01.spines['top'].set_position(('outward',0))    \n",
    "    ax01.set_xlabel('WELL_DEVIATION [deg]',color='red')    \n",
    "    ax01.tick_params(axis='x', colors='red')\n",
    "    ax01.grid(True)\n",
    "    \n",
    "    ax02=ax[0].twiny()\n",
    "    ax02.set_xlim(0,360)\n",
    "    ax02.plot(f.AZI, f.index, label='AZIMUTH [deg]', color='blue', lw=3)\n",
    "    ax02.spines['top'].set_position(('outward',40))\n",
    "    ax02.set_xlabel('WELL_AZIMUTH [deg]',color='blue')    \n",
    "    ax02.tick_params(axis='x', colors='blue')\n",
    "    \n",
    "    \n",
    "      \n",
    "#2nd track: Wellbore stability window\n",
    "\n",
    "    v_min = 8\n",
    "    v_max = 18.01\n",
    "    v_space= 2\n",
    "    ax11=ax[1].twiny()\n",
    "    ax11.set_xlim(v_min,v_max)\n",
    "    ax11.set_xscale('linear')\n",
    "    ax11.grid(True)\n",
    "    ax11.spines['top'].set_position(('outward',0))\n",
    "    ax11.set_xlabel('COLLAPSE_LIM_MC [ppg]', color='yellow')\n",
    "    ax11.plot(f.COLLAPSE_MC, f.index, label='COLLAPSE_LIM_MC [ppg]', color='yellow')\n",
    "    ax11.fill_betweenx(f.index,f.COLLAPSE_MC,0,color='yellow', label= 'COLLAPSE_LIM_MC [ppg]')\n",
    "    ax11.tick_params(axis='x', colors='yellow')\n",
    "    ax11.set_xticks(np.arange(v_min, v_max, v_space))\n",
    "    \n",
    "    ax12=ax[1].twiny()\n",
    "    ax12.set_xlim(v_min,v_max)\n",
    "    ax12.set_xscale('linear')\n",
    "    #ax12.grid(True)\n",
    "    ax12.spines['top'].set_position(('outward',30))\n",
    "    ax12.set_xlabel('COLLAPSE_5% [ppg]', color='darkorange')\n",
    "    ax12.plot(f.COLLAPSE_MC_5, f.index, label='COLLAPSE_5% [ppg]', color='darkorange')\n",
    "    ax12.fill_betweenx(f.index,f.COLLAPSE_MC_5,0,color='darkorange', label= 'COLLAPSE_5% [ppg]')\n",
    "    ax12.tick_params(axis='x', colors='darkorange')\n",
    "    ax12.set_xticks(np.arange(v_min, v_max, v_space))\n",
    "    \n",
    "    ax13=ax[1].twiny()\n",
    "    ax13.set_xlim(v_min,v_max)\n",
    "    ax13.set_xscale('linear')\n",
    "    #ax13.grid(True)\n",
    "    ax13.spines['top'].set_position(('outward',60))\n",
    "    ax13.set_xlabel('COLLAPSE_10% [ppg]', color='orangered')\n",
    "    ax13.plot(f.COLLAPSE_MC_10, f.index, label='COLLAPSE_10% [ppg]', color='orangered')\n",
    "    ax13.fill_betweenx(f.index,f.COLLAPSE_MC_10,0,color='orangered', label= 'COLLAPSE_10% [ppg]')\n",
    "    ax13.tick_params(axis='x', colors='orangered')\n",
    "    ax13.set_xticks(np.arange(v_min, v_max, v_space))\n",
    "    \n",
    "    ax14=ax[1].twiny()\n",
    "    ax14.set_xlim(v_min,v_max)\n",
    "    ax14.set_xscale('linear')\n",
    "    ax14.grid(True)\n",
    "    ax14.spines['top'].set_position(('outward',90))\n",
    "    ax14.set_xlabel('COLLAPSE_20% [ppg]', color='red')\n",
    "    ax14.plot(f.COLLAPSE_MC_20, f.index, label='COLLAPSE_20% [ppg]', color='red')\n",
    "    ax14.fill_betweenx(f.index,f.COLLAPSE_MC_20,0,color='red', label= 'COLLAPSE_20% [ppg]')\n",
    "    ax14.tick_params(axis='x', colors='red')\n",
    "    ax14.set_xticks(np.arange(v_min, v_max, v_space))\n",
    "    \n",
    "    ax15=ax[1].twiny()\n",
    "    ax15.set_xlim(v_min,v_max)\n",
    "    ax15.set_xscale('linear')\n",
    "    #ax15.grid(True)\n",
    "    ax15.spines['top'].set_position(('outward',120))\n",
    "    ax15.set_xlabel('KICK_LIM [ppg]', color='lightslategrey')\n",
    "    ax15.plot(f.PP_Eaton_EMW, f.index, label='KICK_LIM [ppg]', color='lightslategrey',alpha=1)\n",
    "    ax15.fill_betweenx(f.index, f.PP_Eaton_EMW ,0,color='lightslategrey', label= 'KICK_LIM [ppg]', alpha=1)\n",
    "    ax15.tick_params(axis='x', colors='lightslategrey')\n",
    "    ax15.set_xticks(np.arange(v_min, v_max, v_space))\n",
    "    \n",
    "    ax16=ax[1].twiny()\n",
    "    ax16.set_xlim(v_min,v_max)\n",
    "    ax16.set_xscale('linear')\n",
    "    #ax16.grid(True)\n",
    "    ax16.spines['top'].set_position(('outward',150))\n",
    "    ax16.set_xlabel('LOSS_LIM [ppg]', color='mediumslateblue')\n",
    "    ax16.plot(f.h_min_PE_EMW, f.index, label='LOSS_LIM [ppg]', color='mediumslateblue')\n",
    "    ax16.fill_betweenx(f.index, f.h_min_PE_EMW ,1000,color='mediumslateblue', label= 'LOSS_LIM [ppg]',lw=0.5)\n",
    "    ax16.tick_params(axis='x', colors='mediumslateblue')\n",
    "    ax16.set_xticks(np.arange(v_min, v_max, v_space))\n",
    "    \n",
    "    ax17=ax[1].twiny()\n",
    "    ax17.set_xlim(v_min,v_max)\n",
    "    ax17.set_xscale('linear')\n",
    "    #ax17.grid(True)\n",
    "    ax17.spines['top'].set_position(('outward',180))\n",
    "    ax17.set_xlabel('FRAC_LIM [ppg]', color='navy')\n",
    "    ax17.plot(f.BreakDown, f.index, label='FRAC_LIM [ppg]', color='navy')\n",
    "    ax17.fill_betweenx(f.index, f.BreakDown ,1000,color='navy', label= 'FRAC_LIM [ppg]', lw=0.5)\n",
    "    ax17.tick_params(axis='x', colors='navy')\n",
    "    ax17.set_xticks(np.arange(v_min, v_max, v_space))\n",
    "        \n",
    "                # Petrophycal curves\n",
    "\n",
    "#3th track: Vertical Stress EMW\n",
    "\n",
    "#     ax21=ax[2].twiny()\n",
    "#     ax21.set_xlim(0,25)\n",
    "#     ax21.spines['top'].set_position(('outward',40))\n",
    "#     ax21.plot(f.V_Stress_EMW, f.index, label='Overburden_EMW [ppg]', color='black',linewidth=2)\n",
    "#     ax21.set_xlabel('Overburden_EMW [ppg]', color='black')    \n",
    "#     ax21.tick_params(axis='x', colors='black')\n",
    "#     ax21.legend(loc='lower left')\n",
    "#     ax21.grid(True)\n",
    "    \n",
    "#Tops lines\n",
    "    for i in range(len(ax)):\n",
    "        for k, row in tops[(tops.MD >= top_depth) & (tops.MD <= bottom_depth)].iterrows():\n",
    "            vars()['ax'+str(i)+'2'].hlines(row['MD'], xmin=-500, xmax=800, linestyles='solid', color='k',lw=0.7)\n",
    "            vars()['ax'+str(0)+'2'].text(logs['INC'].min(), row['MD'], row['Zone Name'], color='r')\n",
    "    \n",
    "    \n",
    "    plt.savefig (f'./Output pictures/WBS_PLOT_{well_name}.png', dpi=300, format='png')    \n",
    "    plt.show() "
   ]
  },
  {
   "cell_type": "code",
   "execution_count": null,
   "metadata": {},
   "outputs": [],
   "source": [
    "def WBS_WINDOW(logs, well_path, tops):\n",
    "    well_name = input('Enter Well Name: ')\n",
    "    Hmax_dir =  float(input('Enter Direction of SHmax  (AZI: 90 deg) : ') or '90')\n",
    "    \n",
    "    '''\n",
    "    3D linear elastic solution - With the assumption of rock formation is homogeneous and isotropic, the induced stress field\n",
    "    around borehole has been given by Jaeger and Cook (1979). According to Bradley (1979) the stress \n",
    "    can be expressed in borehole cylindrical polar coordinates system r-teta as:\n",
    "    Ask Carlos about the dmud'''\n",
    "    Rw = 1 # borehole radius    \n",
    "    dmud = 10 #ppg for Pw that is the wells pressure\n",
    "    alpha = (logs['AZI']-Hmax_dir)*(math.pi/180)\n",
    "    inc_rad = logs['INC']*(math.pi/180)\n",
    "    Ixx_p = np.cos(alpha)*np.cos(inc_rad)\n",
    "    Ixy_p = np.sin(alpha)*np.cos(inc_rad)\n",
    "    Ixz_p = -np.sin(inc_rad)\n",
    "    Iyx_p = -np.sin(alpha)\n",
    "    Iyy_p = np.cos(alpha)\n",
    "    Iyz_p = 0\n",
    "    Izx_p = np.cos(alpha)*np.sin(inc_rad)\n",
    "    Izy_p = np.sin(alpha)*np.sin(inc_rad)\n",
    "    Izz_p = np.cos(inc_rad)\n",
    "    Sx_o = (Ixx_p**2)*logs['H_max_PE']+(Ixy_p**2)*logs['h_min_PE']+(Ixz_p**2)*logs['V_Stress']\n",
    "    Sy_o = (Iyx_p**2)*logs['H_max_PE']+(Iyy_p**2)*logs['h_min_PE']+(Iyz_p**2)*logs['V_Stress']\n",
    "    Sz_o = (Izx_p**2)*logs['H_max_PE']+(Izy_p**2)*logs['h_min_PE']+(Izz_p**2)*logs['V_Stress']\n",
    "    Txy_o = (Ixx_p*Iyx_p)*logs['H_max_PE']+(Ixy_p*Iyy_p)*logs['h_min_PE']+(Ixz_p*Iyz_p)*logs['V_Stress']\n",
    "    Tyz_o = (Iyx_p*Izx_p)*logs['H_max_PE']+(Iyy_p*Izy_p)*logs['h_min_PE']+(Iyz_p*Izz_p)*logs['V_Stress']\n",
    "    Tzx_o = (Izx_p*Ixx_p)*logs['H_max_PE']+(Izy_p*Ixy_p)*logs['h_min_PE']+(Izz_p*Ixz_p)*logs['V_Stress']\n",
    "    teta_min_r = np.arctan((2*Txy_o/(Sx_o-Sy_o))/2)\n",
    "    teta_min_d = teta_min_r*(180/math.pi)\n",
    "    teta_max_d = teta_min_d+90\n",
    "    teta_max_r = teta_max_d*(math.pi/180)\n",
    "#     Sig_r = ((Sx_o+Sy_o)/2)*(1-(Rw**2/r**2))+((Sx_o-Sy_o)/2)*(1+(3*Rw**4/r**4)-(4*Rw**2/r**2))*np.cos(2*teta_min_r) \\\n",
    "#                 +Txy_o*(1+(3*Rw**4/r**4)-(4*Rw**2/r**2))*np.sin(2*teta_min_r)+(dmud*0.052*logs['TVD']*Rw**2/r**2)\n",
    "#     Sig_t =  ((Sx_o+Sy_o)/2)*(1+(Rw**2/r**2))-((Sx_o-Sy_o)/2)*(1+(3*Rw**4/r**4))*np.cos(2*teta_min_r) \\\n",
    "#                 - Txy_o*(1+(3*Rw**4/r**4))*np.sin(2*teta_min_r)-(dmud*0.052*logs['TVD']*Rw**2/r**2)\n",
    "#     Sig_z = Sz_o-logs['PR_St']*(2*(Sx_o-Sy_o)*(Rw**2/r**2)*np.cos(2*teta_min_r)+4*Txy_o*(Rw**2/r**2)*np.sin(2*teta_min_r))\n",
    "#     Tau_rt = ((Sy_o-Sx_o)/2)*(1-(3*Rw**4/r**4)+(2*Rw**2/r**2))*np.sin(2*teta_min_r)+Txy_o*(1-(3*Rw**4/r**4)+(2*Rw**2/r**2))\\\n",
    "#                 *np.cos(2*teta_min_r)\n",
    "#     Tau_tz = (-Tzx_o*np.sin(teta_min_r)+Tyz_o*np.cos(teta_min_r))*(1+(Rw**2/r**2))\n",
    "#     Tau_rz = (Tzx_o*np.cos(teta_min_r)+Tyz_o*np.sin(teta_min_r))*(1-(Rw**2/r**2))\n",
    "    \n",
    "#     Sig_t_max = 0.5*(Sig_z+Sig_t+np.sqrt(((Sig_z-Sig_t)**2)-4*Tau_tz**2))\n",
    "#     Sig_t_min = 0.5*(Sig_z+Sig_t-np.sqrt(((Sig_z-Sig_t)**2)-4*Tau_tz**2))    \n",
    "    \n",
    "    '''\n",
    "    Failure mode: Mohr-Coulomb Criterion\n",
    "    '''\n",
    "\n",
    "    tan_fang = np.tan((45 + logs['FANG_PC']/2)*math.pi/180) # radians\n",
    "    \n",
    "    r=[1, 1.05, 1.10, 1.2] # Deph of damage of \n",
    "    \n",
    "    for x in range(len(r)):        \n",
    "        A_t = ((Sx_o+Sy_o)/2)*(1+(Rw**2/r[x]**2))-((Sx_o-Sy_o)/2)*(1+(3*Rw**4/r[x]**4))*np.cos(2*teta_max_r) \\\n",
    "                - Txy_o*(1+(3*Rw**4/r[x]**4))*np.sin(2*teta_max_r)\n",
    "        A_r = ((Sx_o+Sy_o)/2)*(1-(Rw**2/r[x]**2))+((Sx_o-Sy_o)/2)*(1+(3*Rw**4/r[x]**4)-(4*Rw**2/r[x]**2))*np.cos(2*teta_max_r) \\\n",
    "                +Txy_o*(1+(3*Rw**4/r[x]**4)-(4*Rw**2/r[x]**2))*np.sin(2*teta_max_r)\n",
    "        \n",
    "        globals()['S_collapse_'+str(x)] = (A_t-logs['PP_Eaton']-logs['UCS_merge']-A_r*tan_fang**2+logs['PP_Eaton']*tan_fang**2) \\\n",
    "                                        /((1+tan_fang**2)*(Rw/r[x])**2)\n",
    "        globals()['S_collapse_EMW_'+str(x)] = globals()['S_collapse_'+str(x)]/(0.052*logs['TVD_ft'])\n",
    "        \n",
    "#         if x==0:\n",
    "#             globals()['BD_fract_'+str(x)] = (logs['TSTR']+A_t-logs['PP_Eaton'])/(Rw**2/r[x]**2)\n",
    "#             globals()['BD_fract_EMW_'+str(x)] =globals()['BD_fract_'+str(x)]/(0.052*logs['TVD'])\n",
    "#         else:\n",
    "#             continue\n",
    "   \n",
    "    A_t_BD = ((Sx_o+Sy_o)/2)*(1+(Rw**2/r[0]**2))-((Sx_o-Sy_o)/2)*(1+(3*Rw**4/r[0]**4))*np.cos(2*teta_min_r) \\\n",
    "                - Txy_o*(1+(3*Rw**4/r[0]**4))*np.sin(2*teta_min_r)\n",
    "    globals()['BD_fract_'+str(0)] = (logs['TSTR']+A_t_BD-logs['PP_Eaton'])/(Rw**2/r[0]**2)\n",
    "    globals()['BD_fract_EMW_'+str(0)] =globals()['BD_fract_'+str(0)]/(0.052*logs['TVD_ft'])\n",
    "            \n",
    "    logs['COLLAPSE_MC'] = S_collapse_EMW_0\n",
    "    logs['COLLAPSE_MC_5'] = S_collapse_EMW_1\n",
    "    logs['COLLAPSE_MC_10'] = S_collapse_EMW_2\n",
    "    logs['COLLAPSE_MC_20'] = S_collapse_EMW_3\n",
    "    \n",
    "    logs['COLLAPSE_MC_SG'] = S_collapse_EMW_0/8.33\n",
    "    logs['COLLAPSE_MC_5_SG'] = S_collapse_EMW_1/8.33\n",
    "    logs['COLLAPSE_MC_10_SG'] = S_collapse_EMW_2/8.33\n",
    "    logs['COLLAPSE_MC_20_SG'] = S_collapse_EMW_3/8.33\n",
    "    \n",
    "    logs['BreakDown'] = BD_fract_EMW_0\n",
    "    logs['BreakDown_SG'] = BD_fract_EMW_0/8.33\n",
    "    \n",
    "    ## Plot WBS - Window\n",
    "    top_depth=float(input('Enter top depth for plot: ') or logs.index.min())\n",
    "    bottom_depth = float(input('Enter bottom depth for plot') or logs.index.max())\n",
    "    f = logs[(logs.index >= top_depth) & (logs.index <= bottom_depth)]\n",
    "    fig, ax = plt.subplots(nrows=1, ncols=2, figsize=(10,18), sharey=True, sharex=True,\\\n",
    "                           gridspec_kw={'width_ratios': [1, 3]})\n",
    "    fig.suptitle(f\"WBS {well_name}\", fontsize=18)\n",
    "    fig.subplots_adjust(top=0.78,wspace=0.1)\n",
    "\n",
    "    #For all axis\n",
    "    major_yticks = np.arange(top_depth, bottom_depth, 100)\n",
    "    minor_yticks = np.arange(top_depth, bottom_depth, 50)\n",
    "    \n",
    "    for axes in ax:\n",
    "        axes.set_ylim (top_depth,bottom_depth)\n",
    "        axes.invert_yaxis()\n",
    "        axes.yaxis.grid(True)\n",
    "        axes.get_xaxis().set_visible(False)\n",
    "        axes.set_yticks(major_yticks)\n",
    "        axes.set_yticks(minor_yticks, minor=True)\n",
    "        axes.grid(which='minor', linestyle='--')\n",
    "        axes.set_ylabel('MD [m]')\n",
    "\n",
    "#1st track: Inclination & Azimuth \n",
    "    \n",
    "    ax01=ax[0].twiny()\n",
    "    ax01.set_xlim(0,90)\n",
    "    ax01.plot(f.INC, f.index, label='DEVIATION [deg]', color='red', lw=3)\n",
    "    ax01.spines['top'].set_position(('outward',0))    \n",
    "    ax01.set_xlabel('WELL_DEVIATION [deg]',color='red')    \n",
    "    ax01.tick_params(axis='x', colors='red')\n",
    "    ax01.grid(True)\n",
    "    \n",
    "    ax02=ax[0].twiny()\n",
    "    ax02.set_xlim(0,360)\n",
    "    ax02.plot(f.AZI, f.index, label='AZIMUTH [deg]', color='blue', lw=3)\n",
    "    ax02.spines['top'].set_position(('outward',40))\n",
    "    ax02.set_xlabel('WELL_AZIMUTH [deg]',color='blue')    \n",
    "    ax02.tick_params(axis='x', colors='blue')\n",
    "    \n",
    "    \n",
    "      \n",
    "#2nd track: Wellbore stability window\n",
    "\n",
    "    v_min = 6.664/8.33\n",
    "    v_max = 21.658/8.33\n",
    "    v_space= 0.833/8.33\n",
    "    color11 = 'peachpuff'\n",
    "    ax11=ax[1].twiny()\n",
    "    ax11.set_xlim(v_min,v_max)\n",
    "    ax11.set_xscale('linear')\n",
    "    ax11.grid(True)\n",
    "    ax11.spines['top'].set_position(('outward',0))\n",
    "    ax11.set_xlabel('COLLAPSE_LIM_MC [gr/cc]', color=color11)\n",
    "    ax11.plot(f.COLLAPSE_MC_SG, f.index, label='COLLAPSE_LIM_MC [gr/cc]', color=color11)\n",
    "    ax11.fill_betweenx(f.index,f.COLLAPSE_MC_SG,0,color=color11, label= 'COLLAPSE_LIM_MC [gr/cc]')\n",
    "    ax11.tick_params(axis='x', colors=color11)\n",
    "    ax11.set_xticks(np.arange(v_min, v_max, v_space))\n",
    "    \n",
    "    color12 = 'lightsalmon'\n",
    "    ax12=ax[1].twiny()\n",
    "    ax12.set_xlim(v_min,v_max)\n",
    "    ax12.set_xscale('linear')\n",
    "    #ax12.grid(True)\n",
    "    ax12.spines['top'].set_position(('outward',30))\n",
    "    ax12.set_xlabel('COLLAPSE_5% [gr/cc]', color=color12)\n",
    "    ax12.plot(f.COLLAPSE_MC_5_SG, f.index, label='COLLAPSE_5% [gr/cc]', color=color12)\n",
    "    ax12.fill_betweenx(f.index,f.COLLAPSE_MC_5_SG,0,color=color12, label= 'COLLAPSE_5% [gr/cc]')\n",
    "    ax12.tick_params(axis='x', colors=color12)\n",
    "    ax12.set_xticks(np.arange(v_min, v_max, v_space))\n",
    "    \n",
    "    color13 = 'tomato'\n",
    "    ax13=ax[1].twiny()\n",
    "    ax13.set_xlim(v_min,v_max)\n",
    "    ax13.set_xscale('linear')\n",
    "    #ax13.grid(True)\n",
    "    ax13.spines['top'].set_position(('outward',60))\n",
    "    ax13.set_xlabel('COLLAPSE_10% [gr/cc]', color=color13)\n",
    "    ax13.plot(f.COLLAPSE_MC_10_SG, f.index, label='COLLAPSE_10% [gr/cc]', color=color13)\n",
    "    ax13.fill_betweenx(f.index,f.COLLAPSE_MC_10_SG,0,color=color13, label= 'COLLAPSE_10% [gr/cc]')\n",
    "    ax13.tick_params(axis='x', colors=color13)\n",
    "    ax13.set_xticks(np.arange(v_min, v_max, v_space))\n",
    "    \n",
    "    color14 = 'firebrick'\n",
    "    ax14=ax[1].twiny()\n",
    "    ax14.set_xlim(v_min,v_max)\n",
    "    ax14.set_xscale('linear')\n",
    "    ax14.grid(True)\n",
    "    ax14.spines['top'].set_position(('outward',90))\n",
    "    ax14.set_xlabel('COLLAPSE_20% [gr/cc]', color=color14)\n",
    "    ax14.plot(f.COLLAPSE_MC_20_SG, f.index, label='COLLAPSE_20% [gr/cc]', color=color14)\n",
    "    ax14.fill_betweenx(f.index,f.COLLAPSE_MC_20_SG,0,color=color14, label= 'COLLAPSE_20% [gr/cc]')\n",
    "    ax14.tick_params(axis='x', colors=color14)\n",
    "    ax14.set_xticks(np.arange(v_min, v_max, v_space))\n",
    "    \n",
    "    color15 = 'steelblue'\n",
    "    ax15=ax[1].twiny()\n",
    "    ax15.set_xlim(v_min,v_max)\n",
    "    ax15.set_xscale('linear')\n",
    "    #ax15.grid(True)\n",
    "    ax15.spines['top'].set_position(('outward',120))\n",
    "    ax15.set_xlabel('KICK_LIM [gr/cc]', color=color15)\n",
    "#     ax15.plot(f.PP_Eaton_EMW_SG, f.index, label='KICK_LIM [gr/cc]', color=color15,alpha=1)\n",
    "    ax15.fill_betweenx(f.index, f.PP_Eaton_EMW_SG ,0,color=color15, label= 'KICK_LIM [gr/cc]', alpha=1)\n",
    "    ax15.tick_params(axis='x', colors=color15)\n",
    "    ax15.set_xticks(np.arange(v_min, v_max, v_space))\n",
    "    \n",
    "    color16 = 'slategray'\n",
    "    ax16=ax[1].twiny()\n",
    "    ax16.set_xlim(v_min,v_max)\n",
    "    ax16.set_xscale('linear')\n",
    "    #ax16.grid(True)\n",
    "    ax16.spines['top'].set_position(('outward',150))\n",
    "    ax16.set_xlabel('LOSS_LIM [gr/cc]', color=color16)\n",
    "    ax16.plot(f.h_min_PE_EMW_SG, f.index, label='LOSS_LIM [gr/cc]', color=color16)\n",
    "    ax16.fill_betweenx(f.index, f.h_min_PE_EMW_SG ,1000,color=color16, label= 'LOSS_LIM [gr/cc]',lw=0.5)\n",
    "    ax16.tick_params(axis='x', colors=color16)\n",
    "    ax16.set_xticks(np.arange(v_min, v_max, v_space))\n",
    "    \n",
    "    color17 = 'olive'\n",
    "    ax17=ax[1].twiny()\n",
    "    ax17.set_xlim(v_min,v_max)\n",
    "    ax17.set_xscale('linear')\n",
    "    #ax17.grid(True)\n",
    "    ax17.spines['top'].set_position(('outward',180))\n",
    "    ax17.set_xlabel('FRAC_LIM [gr/cc]', color=color17)\n",
    "    ax17.plot(f.BreakDown_SG, f.index, label='FRAC_LIM [gr/cc]', color=color17)\n",
    "    ax17.fill_betweenx(f.index, f.BreakDown_SG ,1000,color=color17, label= 'FRAC_LIM [gr/cc]', lw=0.5)\n",
    "    ax17.tick_params(axis='x', colors=color17)\n",
    "    ax17.set_xticks(np.arange(v_min, v_max, v_space))\n",
    "        \n",
    "                # Petrophycal curves\n",
    "\n",
    "#3th track: Vertical Stress EMW\n",
    "\n",
    "#     ax21=ax[2].twiny()\n",
    "#     ax21.set_xlim(0,25)\n",
    "#     ax21.spines['top'].set_position(('outward',40))\n",
    "#     ax21.plot(f.V_Stress_EMW, f.index, label='Overburden_EMW [gr/cc]', color='black',linewidth=2)\n",
    "#     ax21.set_xlabel('Overburden_EMW [gr/cc]', color='black')    \n",
    "#     ax21.tick_params(axis='x', colors='black')\n",
    "#     ax21.legend(loc='lower left')\n",
    "#     ax21.grid(True)\n",
    "    \n",
    "#Tops lines\n",
    "    for i in range(len(ax)):\n",
    "        for k, row in tops[(tops.MD >= top_depth) & (tops.MD <= bottom_depth)].iterrows():\n",
    "            vars()['ax'+str(i)+'2'].hlines(row['MD'], xmin=-500, xmax=800, linestyles='solid', color='k',lw=0.7)\n",
    "            vars()['ax'+str(0)+'2'].text(logs['INC'].min(), row['MD'], row['Zone Name'], color='r')\n",
    "    \n",
    "    \n",
    "    plt.savefig (f'./Output pictures/WBS_PLOT_{well_name}.png', dpi=300, format='png')    \n",
    "    plt.show()"
   ]
  },
  {
   "cell_type": "code",
   "execution_count": null,
   "metadata": {},
   "outputs": [],
   "source": [
    "LC1_MEM_Dataset.columns"
   ]
  },
  {
   "cell_type": "code",
   "execution_count": null,
   "metadata": {},
   "outputs": [],
   "source": [
    "LC1_MEM_Dataset[['AZI', 'INC','H_max_PE', 'h_min_PE', 'V_Stress', 'FANG_PC', 'PR_St', 'UCS_merge', 'PP_Eaton', 'TSTR' ]].dropna()"
   ]
  },
  {
   "cell_type": "code",
   "execution_count": null,
   "metadata": {},
   "outputs": [],
   "source": [
    "LC1_MEM_Dataset.dropna()"
   ]
  },
  {
   "cell_type": "code",
   "execution_count": null,
   "metadata": {},
   "outputs": [],
   "source": [
    "def _WBS_WINDOW(logs, well_path, tops): \n",
    "    logs_filter = logs[['AZI', 'INC','H_max_PE', 'h_min_PE', 'V_Stress', 'FANG_PC', 'PR_St',\\\n",
    "                                   'UCS_merge', 'PP_Eaton', 'TSTR', 'TVD','PP_Eaton_EMW', 'PP_Eaton_EMW_SG', 'h_min_PE_EMW', 'TVD_ft']].dropna()\n",
    "    Hmax_dir =  float(input('Enter Direction of SHmax  (AZI: 90 deg) : ') or '90')\n",
    "    \n",
    "    well_name = str(input('Enter well name: '))\n",
    "    \n",
    "    '''\n",
    "    3D linear elastic solution - With the assumption of rock formation is homogeneous and isotropic, the induced stress field\n",
    "    around borehole has been given by Jaeger and Cook (1979). According to Bradley (1979) the stress \n",
    "    can be expressed in borehole cylindrical polar coordinates system r-teta as:\n",
    "    Ask Carlos about the dmud'''\n",
    "    Rw = 1 # borehole radius    \n",
    "    dmud = 10 #ppg for Pw that is the wells pressure\n",
    "    alpha = (logs_filter['AZI']-Hmax_dir)*(math.pi/180)\n",
    "    inc_rad = logs_filter['INC']*(math.pi/180)\n",
    "    Ixx_p = np.cos(alpha)*np.cos(inc_rad)\n",
    "    Ixy_p = np.sin(alpha)*np.cos(inc_rad)\n",
    "    Ixz_p = -np.sin(inc_rad)\n",
    "    Iyx_p = -np.sin(alpha)\n",
    "    Iyy_p = np.cos(alpha)\n",
    "    Iyz_p = 0\n",
    "    Izx_p = np.cos(alpha)*np.sin(inc_rad)\n",
    "    Izy_p = np.sin(alpha)*np.sin(inc_rad)\n",
    "    Izz_p = np.cos(inc_rad)\n",
    "    Sx_o = (Ixx_p**2)*logs_filter['H_max_PE']+(Ixy_p**2)*logs_filter['h_min_PE']+(Ixz_p**2)*logs_filter['V_Stress']\n",
    "    Sy_o = (Iyx_p**2)*logs_filter['H_max_PE']+(Iyy_p**2)*logs_filter['h_min_PE']+(Iyz_p**2)*logs_filter['V_Stress']\n",
    "    Sz_o = (Izx_p**2)*logs_filter['H_max_PE']+(Izy_p**2)*logs_filter['h_min_PE']+(Izz_p**2)*logs_filter['V_Stress']\n",
    "    Txy_o = (Ixx_p*Iyx_p)*logs_filter['H_max_PE']+(Ixy_p*Iyy_p)*logs_filter['h_min_PE']+(Ixz_p*Iyz_p)*logs_filter['V_Stress']\n",
    "    Tyz_o = (Iyx_p*Izx_p)*logs_filter['H_max_PE']+(Iyy_p*Izy_p)*logs_filter['h_min_PE']+(Iyz_p*Izz_p)*logs_filter['V_Stress']\n",
    "    Tzx_o = (Izx_p*Ixx_p)*logs_filter['H_max_PE']+(Izy_p*Ixy_p)*logs_filter['h_min_PE']+(Izz_p*Ixz_p)*logs_filter['V_Stress']\n",
    "    \n",
    "    teta = np.arctan((2*Txy_o/(Sx_o-Sy_o))/2)\n",
    "    teta_pm = teta+(math.pi/2)\n",
    "    teta_min = np.array([])\n",
    "    for j in range(len(Sx_o)):\n",
    "        Sx_td = Sx_o.iloc[j]+Sy_o.iloc[j]-2*(Sx_o.iloc[j]-Sy_o.iloc[j])*math.cos(2*teta.iloc[j])-4*Txy_o.iloc[j]*math.sin(2*teta.iloc[j])\n",
    "        Sx_td_90 = Sx_o.iloc[j]+Sy_o.iloc[j]-2*(Sx_o.iloc[j]-Sy_o.iloc[j])*math.cos(2*teta_pm.iloc[j])-4*Txy_o.iloc[j]*math.sin(2*teta_pm.iloc[j])\n",
    "        if (Sx_td_90-Sx_td)>=0:\n",
    "            teta_min = np.append(teta_min, teta.iloc[j])\n",
    "        else:\n",
    "            teta_min = np.append(teta_min, teta_pm.iloc[j])\n",
    "    #print(teta_min)\n",
    "    teta_min_r = teta_min \n",
    "    teta_min_d = teta_min_r*(180/math.pi)\n",
    "    teta_max_d = teta_min_d+90\n",
    "    teta_max_r = teta_max_d*(math.pi/180)\n",
    "    \n",
    "    tan_fang = np.tan((45 + logs_filter['FANG_PC']/2)*math.pi/180) # radians   \n",
    "    r=[1, 1.05, 1.10, 1.2] # Deph of damage of\n",
    "    for x in range(len(r)):\n",
    "        A_r = ((Sx_o+Sy_o)/2)*(1-(Rw**2/r[x]**2))+((Sx_o-Sy_o)/2)*(1+(3*Rw**4/r[x]**4)-(4*Rw**2/r[x]**2))*np.cos(2*teta_max_r) \\\n",
    "                +Txy_o*(1+(3*Rw**4/r[x]**4)-(4*Rw**2/r[x]**2))*np.sin(2*teta_max_r)\n",
    "        \n",
    "        A_t = ((Sx_o+Sy_o)/2)*(1+(Rw**2/r[x]**2))-((Sx_o-Sy_o)/2)*(1+(3*Rw**4/r[x]**4))*np.cos(2*teta_max_r) \\\n",
    "                - Txy_o*(1+(3*Rw**4/r[x]**4))*np.sin(2*teta_max_r)\n",
    "        \n",
    "        Sig_z = Sz_o-logs_filter['PR_St']*(2*(Sx_o-Sy_o)*(Rw**2/r[x]**2)*np.cos(2*teta_max_r)+4*Txy_o*(Rw**2/r[x]**2) \\\n",
    "                                    *np.sin(2*teta_max_r))\n",
    "        \n",
    "        Tau_tz = (-Tzx_o*np.sin(teta_max_r)+Tyz_o*np.cos(teta_max_r))*(1+(Rw**2/r[x]**2))\n",
    "        \n",
    "#         Sig_p_max = 0.5*(Sig_z+(A_t-pw*(Rw**2/r**2))+np.sqrt(((Sig_z-(A_t-pw*(Rw**2/r**2)))**2)-4*Tau_tz**2))\n",
    "#         Sig_p_min = 0.5*(Sig_z+(A_t-pw*(Rw**2/r**2))-np.sqrt(((Sig_z-(A_t-pw*(Rw**2/r**2)))**2)-4*Tau_tz**2))\n",
    "        '''\n",
    "        Failure mode: a Criterion\n",
    "        '''\n",
    "        #print(Tau_tz)\n",
    "#         if x==0:\n",
    "            \n",
    "        pw_solve = np.array([])\n",
    "        for i in range(len(logs_filter)):\n",
    "            UCS = logs_filter.iloc[i,:]['UCS_merge']\n",
    "            pp = logs_filter.iloc[i,:]['PP_Eaton']\n",
    "            tan_fang_s = tan_fang.iloc[i]\n",
    "            A_r_s = A_r.iloc[i]\n",
    "            Sig_z_s = Sig_z.iloc[i]\n",
    "            A_t_s = A_t.iloc[i]\n",
    "            Tau_tz_s = Tau_tz.iloc[i]   \n",
    "            def equations(vars):                \n",
    "                pw = vars\n",
    "                eq1 = UCS+tan_fang_s**2 \\\n",
    "                    *((A_r_s+pw*(Rw**2/r[x]**2))-pp)\\\n",
    "                    -((0.5*(Sig_z_s+(A_t_s-pw*(Rw**2/r[x]**2))+math.sqrt(((Sig_z_s-(A_t_s-pw*(Rw**2/r[x]**2)))**2)+4*Tau_tz_s**2)))-pp)\n",
    "                return [eq1]\n",
    "            pw =  newton_krylov(equations, (3000), f_tol=0.01)\n",
    "            pw_solve = np.append(pw_solve, pw)\n",
    "        \n",
    "        globals()['S_collapse_'+str(x)] = pw_solve\n",
    "        globals()['S_collapse_EMW_'+str(x)] = pw_solve/(0.052*logs_filter['TVD_ft'])\n",
    "        \n",
    "        if x==0:\n",
    "            \n",
    "            A_t_BD = ((Sx_o+Sy_o)/2)*(1+(Rw**2/r[0]**2))-((Sx_o-Sy_o)/2)*(1+(3*Rw**4/r[0]**4))*np.cos(2*teta_min_r) \\\n",
    "                    - Txy_o*(1+(3*Rw**4/r[0]**4))*np.sin(2*teta_min_r)\n",
    "            \n",
    "            Sig_z_BD = Sz_o-logs_filter['PR_St']*(2*(Sx_o-Sy_o)*(Rw**2/r[x]**2)*np.cos(2*teta_min_r)+4*Txy_o*(Rw**2/r[x]**2) \\\n",
    "                                    *np.sin(2*teta_min_r))\n",
    "            Tau_tz_BD = (-Tzx_o*np.sin(teta_min_r)+Tyz_o*np.cos(teta_min_r))*(1+(Rw**2/r[x]**2))\n",
    "\n",
    "            pw_BD_solve = np.array([])\n",
    "            for i in range(len(logs_filter)):\n",
    "                TSTR = logs_filter.iloc[i,:]['TSTR']\n",
    "                pp = logs_filter.iloc[i,:]['PP_Eaton']\n",
    "                tan_fang_s = tan_fang.iloc[i]\n",
    "                A_r_s = A_r.iloc[i]\n",
    "                Sig_z_s = Sig_z_BD.iloc[i]\n",
    "                A_t_s = A_t_BD.iloc[i]\n",
    "                Tau_tz_s = Tau_tz_BD.iloc[i]\n",
    "                def equations(vars):\n",
    "                    pw = vars\n",
    "                    eq1 = -TSTR-(0.5*(Sig_z_s+(A_t_s-pw*(Rw**2/r[x]**2))-math.sqrt(((Sig_z_s-(A_t_s-pw*(Rw**2/r[x]**2)))**2)+4*Tau_tz_s**2)))+pp\n",
    "                    return [eq1]\n",
    "                pw =  newton_krylov(equations, (9000),  f_tol=0.01)\n",
    "                pw_BD_solve = np.append(pw_BD_solve, pw)                      \n",
    "\n",
    "            globals()['BD_fract_'+str(0)] = pw_BD_solve\n",
    "            globals()['BD_fract_EMW_'+str(0)] =pw_BD_solve/(0.052*logs_filter['TVD_ft'])\n",
    "        else: continue\n",
    "        print (Rw, r[x])\n",
    "    \n",
    "    logs_filter['COLLAPSE_MC'] = S_collapse_EMW_0\n",
    "    logs_filter['COLLAPSE_MC_5'] = S_collapse_EMW_1\n",
    "    logs_filter['COLLAPSE_MC_10'] = S_collapse_EMW_2\n",
    "    logs_filter['COLLAPSE_MC_20'] = S_collapse_EMW_3\n",
    "    \n",
    "    logs_filter['BreakDown'] = BD_fract_EMW_0    \n",
    "    #print (logs_filter[['COLLAPSE_MC', 'BreakDown']])\n",
    "    \n",
    "    ## Plot WBS - Window\n",
    "    top_depth=logs_filter.index.min()\n",
    "    bottom_depth = logs_filter.index.max()\n",
    "    f = logs_filter[(logs_filter.index >= top_depth) & (logs_filter.index <= bottom_depth)]\n",
    "    fig, ax = plt.subplots(nrows=1, ncols=2, figsize=(10,18), sharey=True, sharex=True,\\\n",
    "                           gridspec_kw={'width_ratios': [1, 3]})\n",
    "    fig.suptitle(f\"WBS {well_name}\", fontsize=18)\n",
    "    fig.subplots_adjust(top=0.78,wspace=0.1)\n",
    "\n",
    "    #For all axis\n",
    "    major_yticks = np.arange(top_depth, bottom_depth, 400)\n",
    "    minor_yticks = np.arange(top_depth, bottom_depth, 200)\n",
    "    \n",
    "    for axes in ax:\n",
    "        axes.set_ylim (top_depth,bottom_depth)\n",
    "        axes.invert_yaxis()\n",
    "        axes.yaxis.grid(True)\n",
    "        axes.get_xaxis().set_visible(False)\n",
    "        axes.set_yticks(major_yticks)\n",
    "        axes.set_yticks(minor_yticks, minor=True)\n",
    "        axes.grid(which='minor', linestyle='--')\n",
    "        axes.set_ylabel('MD [ft]')\n",
    "\n",
    "#1st track: Inclination & Azimuth \n",
    "    \n",
    "    ax01=ax[0].twiny()\n",
    "    ax01.set_xlim(0,90)\n",
    "    ax01.plot(f.INC, f.index, label='DEVIATION [deg]', color='red', lw=3)\n",
    "    ax01.spines['top'].set_position(('outward',0))    \n",
    "    ax01.set_xlabel('WELL_DEVIATION [deg]',color='red')    \n",
    "    ax01.tick_params(axis='x', colors='red')\n",
    "    ax01.grid(True)\n",
    "    \n",
    "    ax02=ax[0].twiny()\n",
    "    ax02.set_xlim(0,360)\n",
    "    ax02.plot(f.AZI, f.index, label='AZIMUTH [deg]', color='blue', lw=3)\n",
    "    ax02.spines['top'].set_position(('outward',40))\n",
    "    ax02.set_xlabel('WELL_AZIMUTH [deg]',color='blue')    \n",
    "    ax02.tick_params(axis='x', colors='blue')\n",
    "    \n",
    "    \n",
    "      \n",
    "#2nd track: Wellbore stability window\n",
    "\n",
    "    v_min = 6.664\n",
    "    v_max = 21.658\n",
    "    v_space= 0.833\n",
    "    color11 = 'peachpuff'\n",
    "    ax11=ax[1].twiny()\n",
    "    ax11.set_xlim(v_min,v_max)\n",
    "    ax11.set_xscale('linear')\n",
    "    ax11.grid(True)\n",
    "    ax11.spines['top'].set_position(('outward',0))\n",
    "    ax11.set_xlabel('COLLAPSE_LIM_MC [ppg]', color=color11)\n",
    "#     ax11.plot(f.COLLAPSE_MC, f.index, label='COLLAPSE_LIM_MC [ppg]', color=color11)\n",
    "    ax11.fill_betweenx(f.index,f.COLLAPSE_MC,0,color=color11, label= 'COLLAPSE_LIM_MC [ppg]')\n",
    "    ax11.tick_params(axis='x', colors=color11)\n",
    "    ax11.set_xticks(np.arange(v_min, v_max, v_space))\n",
    "    \n",
    "    color12 = 'lightsalmon'\n",
    "    ax12=ax[1].twiny()\n",
    "    ax12.set_xlim(v_min,v_max)\n",
    "    ax12.set_xscale('linear')\n",
    "    #ax12.grid(True)\n",
    "    ax12.spines['top'].set_position(('outward',30))\n",
    "    ax12.set_xlabel('COLLAPSE_5% [ppg]', color=color12)\n",
    "#     ax12.plot(f.COLLAPSE_MC_5, f.index, label='COLLAPSE_5% [ppg]', color=color12)\n",
    "    ax12.fill_betweenx(f.index,f.COLLAPSE_MC_5,0,color=color12, label= 'COLLAPSE_5% [ppg]')\n",
    "    ax12.tick_params(axis='x', colors=color12)\n",
    "    ax12.set_xticks(np.arange(v_min, v_max, v_space))\n",
    "    \n",
    "    color13 = 'tomato'\n",
    "    ax13=ax[1].twiny()\n",
    "    ax13.set_xlim(v_min,v_max)\n",
    "    ax13.set_xscale('linear')\n",
    "    #ax13.grid(True)\n",
    "    ax13.spines['top'].set_position(('outward',60))\n",
    "    ax13.set_xlabel('COLLAPSE_10% [ppg]', color=color13)\n",
    "#     ax13.plot(f.COLLAPSE_MC_10, f.index, label='COLLAPSE_10% [ppg]', color=color13)\n",
    "    ax13.fill_betweenx(f.index,f.COLLAPSE_MC_10,0,color=color13, label= 'COLLAPSE_10% [ppg]')\n",
    "    ax13.tick_params(axis='x', colors=color13)\n",
    "    ax13.set_xticks(np.arange(v_min, v_max, v_space))\n",
    "    \n",
    "    color14 = 'firebrick'\n",
    "    ax14=ax[1].twiny()\n",
    "    ax14.set_xlim(v_min,v_max)\n",
    "    ax14.set_xscale('linear')\n",
    "    ax14.grid(True)\n",
    "    ax14.spines['top'].set_position(('outward',90))\n",
    "    ax14.set_xlabel('COLLAPSE_20% [ppg]', color=color14)\n",
    "#     ax14.plot(f.COLLAPSE_MC_20, f.index, label='COLLAPSE_20% [ppg]', color=color14)\n",
    "    ax14.fill_betweenx(f.index,f.COLLAPSE_MC_20,0,color=color14, label= 'COLLAPSE_20% [ppg]')\n",
    "    ax14.tick_params(axis='x', colors=color14)\n",
    "    ax14.set_xticks(np.arange(v_min, v_max, v_space))\n",
    "    \n",
    "    color15 = 'steelblue'\n",
    "    ax15=ax[1].twiny()\n",
    "    ax15.set_xlim(v_min,v_max)\n",
    "    ax15.set_xscale('linear')\n",
    "    #ax15.grid(True)\n",
    "    ax15.spines['top'].set_position(('outward',120))\n",
    "    ax15.set_xlabel('KICK_LIM [ppg]', color=color15)\n",
    "#     ax15.plot(f.PP_Eaton_EMW, f.index, label='KICK_LIM [ppg]', color=color15,alpha=1)\n",
    "    ax15.fill_betweenx(f.index, f.PP_Eaton_EMW_SG*8.33 ,0,color=color15, label= 'KICK_LIM [ppg]', alpha=1)\n",
    "    ax15.tick_params(axis='x', colors=color15)\n",
    "    ax15.set_xticks(np.arange(v_min, v_max, v_space))\n",
    "    \n",
    "    color16 = 'slategray'\n",
    "    ax16=ax[1].twiny()\n",
    "    ax16.set_xlim(v_min,v_max)\n",
    "    ax16.set_xscale('linear')\n",
    "    #ax16.grid(True)\n",
    "    ax16.spines['top'].set_position(('outward',150))\n",
    "    ax16.set_xlabel('LOSS_LIM [ppg]', color=color16)\n",
    "#     ax16.plot(f.h_min_PE_EMW, f.index, label='LOSS_LIM [ppg]', color=color16)\n",
    "    ax16.fill_betweenx(f.index, f.h_min_PE_EMW ,1000,color=color16, label= 'LOSS_LIM [ppg]',lw=0.5)\n",
    "    ax16.tick_params(axis='x', colors=color16)\n",
    "    ax16.set_xticks(np.arange(v_min, v_max, v_space))\n",
    "    \n",
    "    color17 = 'olive'\n",
    "    ax17=ax[1].twiny()\n",
    "    ax17.set_xlim(v_min,v_max)\n",
    "    ax17.set_xscale('linear')\n",
    "    #ax17.grid(True)\n",
    "    ax17.spines['top'].set_position(('outward',180))\n",
    "    ax17.set_xlabel('FRAC_LIM [ppg]', color=color17)\n",
    "#     ax17.plot(f.BreakDown, f.index, label='FRAC_LIM [ppg]', color=color17)\n",
    "    ax17.fill_betweenx(f.index, f.BreakDown ,1000,color=color17, label= 'FRAC_LIM [ppg]', lw=0.5)\n",
    "    ax17.tick_params(axis='x', colors=color17)\n",
    "    ax17.set_xticks(np.arange(v_min, v_max, v_space))\n",
    "        \n",
    "                # Petrophycal curves\n",
    "\n",
    "#3th track: Vertical Stress EMW\n",
    "\n",
    "#     ax21=ax[2].twiny()\n",
    "#     ax21.set_xlim(0,25)\n",
    "#     ax21.spines['top'].set_position(('outward',40))\n",
    "#     ax21.plot(f.V_Stress_EMW, f.index, label='Overburden_EMW [ppg]', color='black',linewidth=2)\n",
    "#     ax21.set_xlabel('Overburden_EMW [ppg]', color='black')    \n",
    "#     ax21.tick_params(axis='x', colors='black')\n",
    "#     ax21.legend(loc='lower left')\n",
    "#     ax21.grid(True)\n",
    "    \n",
    "#Tops lines\n",
    "    for i in range(len(ax)):\n",
    "        for k, row in tops[(tops.MD >= top_depth) & (tops.MD <= bottom_depth)].iterrows():\n",
    "            vars()['ax'+str(i)+'2'].hlines(row['MD'], xmin=-500, xmax=800, linestyles='solid', color='k',lw=0.7)\n",
    "            vars()['ax'+str(0)+'2'].text(logs['INC'].min(), row['MD'], row['Zone Name'], color='r')\n",
    "    \n",
    "    \n",
    "    plt.savefig ('./Output pictures/WBS_PLOT.png', dpi=300, format='png')\n",
    "    logs_filter.to_csv('./Output files/LQC_DATA.csv')\n",
    "    plt.show()"
   ]
  },
  {
   "cell_type": "code",
   "execution_count": null,
   "metadata": {
    "scrolled": true
   },
   "outputs": [],
   "source": [
    "_WBS_WINDOW(HOKCHI_11DES_MEM_Dataset, HOKCHI_11DES_wellpath, HOKCHI_11DES_tops)"
   ]
  },
  {
   "cell_type": "code",
   "execution_count": null,
   "metadata": {
    "scrolled": true
   },
   "outputs": [],
   "source": [
    "_WBS_WINDOW(HOKCHI_7DES_MEM_Dataset, HOKCHI_7DES_wellpath, HOKCHI_7DES_tops)"
   ]
  },
  {
   "cell_type": "code",
   "execution_count": null,
   "metadata": {
    "scrolled": true
   },
   "outputs": [],
   "source": [
    "_WBS_WINDOW(HOKCHI_8H_MEM_Dataset, HOKCHI_8H_wellpath, HOKCHI_8H_tops)"
   ]
  },
  {
   "cell_type": "code",
   "execution_count": null,
   "metadata": {
    "scrolled": true
   },
   "outputs": [],
   "source": [
    "_WBS_WINDOW(HOKCHI_8H_PD_MEM_Dataset, HOKCHI_8H_PD_wellpath, HOKCHI_8H_PD_tops)"
   ]
  },
  {
   "cell_type": "code",
   "execution_count": null,
   "metadata": {
    "scrolled": true
   },
   "outputs": [],
   "source": [
    "_WBS_WINDOW(HOKCHI_9H_MEM_Dataset, HOKCHI_9H_wellpath, HOKCHI_9H_tops)"
   ]
  },
  {
   "cell_type": "code",
   "execution_count": null,
   "metadata": {
    "scrolled": true
   },
   "outputs": [],
   "source": [
    "#%matplotlib notebook\n",
    "WBS_WINDOW(HOKCHI_11DES_MEM_Dataset, HOKCHI_11DES_wellpath, HOKCHI_11DES_tops)"
   ]
  },
  {
   "cell_type": "code",
   "execution_count": null,
   "metadata": {
    "scrolled": true
   },
   "outputs": [],
   "source": [
    "#%matplotlib notebook\n",
    "WBS_WINDOW(HOKCHI_7DES_MEM_Dataset, HOKCHI_7DES_wellpath, HOKCHI_7DES_tops)"
   ]
  },
  {
   "cell_type": "code",
   "execution_count": null,
   "metadata": {
    "scrolled": true
   },
   "outputs": [],
   "source": [
    "#%matplotlib notebook\n",
    "WBS_WINDOW(HOKCHI_8H_MEM_Dataset, HOKCHI_8H_wellpath, HOKCHI_8H_tops)"
   ]
  },
  {
   "cell_type": "code",
   "execution_count": null,
   "metadata": {
    "scrolled": true
   },
   "outputs": [],
   "source": [
    "#%matplotlib notebook\n",
    "WBS_WINDOW(HOKCHI_8H_PD_MEM_Dataset, HOKCHI_8H_PD_wellpath, HOKCHI_8H_PD_tops)"
   ]
  },
  {
   "cell_type": "code",
   "execution_count": null,
   "metadata": {},
   "outputs": [],
   "source": [
    "del(HOKCHI_8H?PD_MEM_Dataset)"
   ]
  },
  {
   "cell_type": "code",
   "execution_count": null,
   "metadata": {
    "scrolled": false
   },
   "outputs": [],
   "source": [
    "#%matplotlib notebook\n",
    "WBS_WINDOW(HOKCHI_9H_MEM_Dataset, HOKCHI_9H_wellpath, HOKCHI_9H_tops)"
   ]
  },
  {
   "cell_type": "code",
   "execution_count": null,
   "metadata": {
    "scrolled": true
   },
   "outputs": [],
   "source": [
    "#%matplotlib notebook\n",
    "WBS_WINDOW(MA_09B_MEM_Dataset, MA_09B_wellpath, MA_09B_tops)"
   ]
  },
  {
   "cell_type": "code",
   "execution_count": null,
   "metadata": {
    "scrolled": true
   },
   "outputs": [],
   "source": [
    "#%matplotlib notebook\n",
    "WBS_WINDOW(MA_09B_MEM_Dataset, MA_09B_wellpath, MA_09B_tops)"
   ]
  },
  {
   "cell_type": "code",
   "execution_count": null,
   "metadata": {},
   "outputs": [],
   "source": []
  },
  {
   "cell_type": "code",
   "execution_count": null,
   "metadata": {
    "scrolled": true
   },
   "outputs": [],
   "source": [
    "#%matplotlib notebook\n",
    "WBS_WINDOW(MA_06A_MEM_Dataset, MA_06A_wellpath, MA_06A_tops)"
   ]
  },
  {
   "cell_type": "code",
   "execution_count": null,
   "metadata": {
    "scrolled": true
   },
   "outputs": [],
   "source": [
    "WBS_WINDOW(MA_02B_MEM_Dataset, MA_02B_wellpath, MA_02B_tops)"
   ]
  },
  {
   "cell_type": "code",
   "execution_count": null,
   "metadata": {
    "scrolled": true
   },
   "outputs": [],
   "source": [
    "WBS_WINDOW(MA_02B_TRAJ2_MEM_Dataset, MA_02B_TRAJ2_wellpath, MA_02B_TRAJ2_tops)"
   ]
  },
  {
   "cell_type": "code",
   "execution_count": null,
   "metadata": {
    "scrolled": true
   },
   "outputs": [],
   "source": [
    "WBS_WINDOW(MA_14B_MEM_Dataset, MA_14B_wellpath, MA_14B_tops)"
   ]
  },
  {
   "cell_type": "code",
   "execution_count": null,
   "metadata": {
    "scrolled": true
   },
   "outputs": [],
   "source": [
    "MA_14B_T2_wellpath"
   ]
  },
  {
   "cell_type": "code",
   "execution_count": null,
   "metadata": {},
   "outputs": [],
   "source": [
    "MA_14B_T2_MEM_Dataset"
   ]
  },
  {
   "cell_type": "code",
   "execution_count": null,
   "metadata": {
    "scrolled": true
   },
   "outputs": [],
   "source": [
    "WBS_WINDOW(MA_14B_T2_MEM_Dataset, MA_14B_T2_wellpath, MA_14B_T2_tops)"
   ]
  },
  {
   "cell_type": "code",
   "execution_count": null,
   "metadata": {
    "scrolled": true
   },
   "outputs": [],
   "source": [
    "WBS_WINDOW(MA_14B_T2_MEM_Dataset, MA_14B_T2_wellpath, MA_14B_T2_tops)"
   ]
  },
  {
   "cell_type": "markdown",
   "metadata": {},
   "source": [
    "# Model Calibration"
   ]
  },
  {
   "cell_type": "code",
   "execution_count": null,
   "metadata": {},
   "outputs": [],
   "source": [
    "#Upload the Tops calibration events for each well\n",
    "wells_cali = pd.read_csv('./Calibration/Calibration_points.csv', sep=',')\n",
    "wells_cali = wells_cali.drop([0], axis=0).reset_index(drop=True)\n",
    "wells_cali['MD'] = wells_cali['MD'].astype('float64')"
   ]
  },
  {
   "cell_type": "code",
   "execution_count": null,
   "metadata": {
    "scrolled": true
   },
   "outputs": [],
   "source": [
    "wells_cali"
   ]
  },
  {
   "cell_type": "code",
   "execution_count": null,
   "metadata": {},
   "outputs": [],
   "source": [
    "def Calibration_well(w_n,w_number):\n",
    "    globals()[w_number+'_calibration'] = wells_cali[wells_cali['Wells']==str(w_n)].reset_index(drop=True)\n",
    "    globals()[w_number+'_calibration']= globals()[w_number+'_calibration'].drop(columns='Wells').astype('float64')\n",
    "#     #globals()[w_number+'_calibration'] = \n",
    "    print('Tops data set was created: ', w_number+'_calibration')"
   ]
  },
  {
   "cell_type": "code",
   "execution_count": null,
   "metadata": {},
   "outputs": [],
   "source": [
    "Calibration_well(HOKCHI_11DES_name, 'HOKCHI_11DES')"
   ]
  },
  {
   "cell_type": "code",
   "execution_count": null,
   "metadata": {},
   "outputs": [],
   "source": [
    "Calibration_well('Hokchi-8HDes', 'HOKCHI_8H_PD')"
   ]
  },
  {
   "cell_type": "code",
   "execution_count": null,
   "metadata": {},
   "outputs": [],
   "source": []
  },
  {
   "cell_type": "code",
   "execution_count": null,
   "metadata": {
    "scrolled": true
   },
   "outputs": [],
   "source": [
    "HOKCHI_8H_PD_calibration"
   ]
  },
  {
   "cell_type": "code",
   "execution_count": null,
   "metadata": {
    "scrolled": true
   },
   "outputs": [],
   "source": [
    "HOKCHI_11DES_calibration"
   ]
  },
  {
   "cell_type": "code",
   "execution_count": null,
   "metadata": {},
   "outputs": [],
   "source": [
    "MW_HOKCHI_11DES_Comp = pd.read_excel('./Calibration/MW_HOKCHI_11DES_Comp.xlsx')\n",
    "MW_HOKCHI_11DES_Comp = MW_HOKCHI_11DES_Comp.drop([0], axis=0).reset_index(drop=True)\n",
    "#LC1_MW_Line[['MD','MW']] = wells_MW[['MD','MW']].astype('float')"
   ]
  },
  {
   "cell_type": "code",
   "execution_count": null,
   "metadata": {},
   "outputs": [],
   "source": [
    "MW_HOKCHI_11DES_Comp"
   ]
  },
  {
   "cell_type": "code",
   "execution_count": null,
   "metadata": {},
   "outputs": [],
   "source": [
    "MW_HOKCHI_7DES_Line = pd.read_excel('./Calibration/MW_HOKCHI_7DES.xlsx')\n",
    "MW_HOKCHI_7DES_Line = MW_HOKCHI_7DES_Line.drop([0], axis=0).reset_index(drop=True)\n",
    "#LC1_MW_Line[['MD','MW']] = wells_MW[['MD','MW']].astype('float')"
   ]
  },
  {
   "cell_type": "code",
   "execution_count": null,
   "metadata": {},
   "outputs": [],
   "source": [
    "MW_HOKCHI_7DES_Line"
   ]
  },
  {
   "cell_type": "code",
   "execution_count": null,
   "metadata": {},
   "outputs": [],
   "source": [
    "MW_HOKCHI_8HDES_Line = pd.read_excel('./Calibration/MW_HOKCHI_8HDES.xlsx')\n",
    "MW_HOKCHI_8HDES_Line = MW_HOKCHI_8HDES_Line.drop([0], axis=0).reset_index(drop=True)\n",
    "#LC1_MW_Line[['MD','MW']] = wells_MW[['MD','MW']].astype('float')"
   ]
  },
  {
   "cell_type": "code",
   "execution_count": null,
   "metadata": {},
   "outputs": [],
   "source": [
    "MW_HOKCHI_8HDES_PD_Line = pd.read_excel('./Calibration/MW_HOKCHI_8H_PD.xlsx')\n",
    "MW_HOKCHI_8HDES_PD_Line = MW_HOKCHI_8HDES_PD_Line.drop([0], axis=0).reset_index(drop=True)\n",
    "#LC1_MW_Line[['MD','MW']] = wells_MW[['MD','MW']].astype('float')"
   ]
  },
  {
   "cell_type": "code",
   "execution_count": null,
   "metadata": {},
   "outputs": [],
   "source": [
    "MW_HOKCHI_9H_Line = pd.read_excel('./Calibration/MW_HOKCHI_9H.xlsx')\n",
    "MW_HOKCHI_9H_Line = MW_HOKCHI_9H_Line.drop([0], axis=0).reset_index(drop=True)\n",
    "#LC1_MW_Line[['MD','MW']] = wells_MW[['MD','MW']].astype('float')"
   ]
  },
  {
   "cell_type": "code",
   "execution_count": null,
   "metadata": {},
   "outputs": [],
   "source": [
    "del(MW_HOKCHI_8HDES_PD_Line)"
   ]
  },
  {
   "cell_type": "code",
   "execution_count": null,
   "metadata": {},
   "outputs": [],
   "source": [
    "def Calibration_Plot (logs, w_calib, mw_line, tops):\n",
    "    \n",
    "    well_name = input('Enter Well Name: ')\n",
    "    top_depth = float(input('Enter top depth: ') or logs.index.min())\n",
    "    bottom_depth = float(input('Enter bottom  depth: ') or logs.index.max())\n",
    "    f = logs[(logs.index >= top_depth) & (logs.index <= bottom_depth)]\n",
    "    fig, ax = plt.subplots(nrows=1, ncols=3, figsize=(12,16), sharey=True, sharex=True,\\\n",
    "                           gridspec_kw={'width_ratios': [0.8, 3, 0.4]})\n",
    "    fig.suptitle(f\"WBS {well_name}\", fontsize=18)\n",
    "    fig.subplots_adjust(top=0.76,wspace=0.1)\n",
    "\n",
    "    #For all axis\n",
    "    major_yticks = np.arange(top_depth, bottom_depth, 200)\n",
    "    minor_yticks = np.arange(top_depth, bottom_depth, 50)\n",
    "    \n",
    "    for axes in ax:\n",
    "        axes.set_ylim (top_depth,bottom_depth)\n",
    "        axes.invert_yaxis()\n",
    "        axes.yaxis.grid(True)\n",
    "        axes.get_xaxis().set_visible(False)\n",
    "        axes.set_yticks(major_yticks)\n",
    "        axes.set_yticks(minor_yticks, minor=True)\n",
    "        axes.grid(which='minor', linestyle='--')\n",
    "        axes.set_ylabel('MD [m]')\n",
    "\n",
    "#1st track: Inclination & Azimuth \n",
    "    inc_min = 0\n",
    "    inc_max = 100.01\n",
    "    inc_step = 30\n",
    "    ax01=ax[0].twiny()\n",
    "    ax01.set_xlim(inc_min,inc_max)\n",
    "    ax01.plot(f.INC, f.index, label='DEVIATION [deg]', color='red', lw=3)\n",
    "    ax01.spines['top'].set_position(('outward',0))    \n",
    "    ax01.set_xlabel('WELL_DEVIATION [deg]',color='red')    \n",
    "    ax01.tick_params(axis='x', colors='red')\n",
    "    ax01.set_xticks(np.arange(inc_min, inc_max, inc_step))\n",
    "    ax01.grid(True)\n",
    "    \n",
    "    az_min = 0\n",
    "    az_max = 360.01\n",
    "    az_step = 180\n",
    "    ax02=ax[0].twiny()\n",
    "    ax02.set_xlim(az_min,az_max)\n",
    "    ax02.plot(f.AZI, f.index, label='AZIMUTH [deg]', color='blue', lw=3)\n",
    "    ax02.spines['top'].set_position(('outward',40))\n",
    "    ax02.set_xlabel('WELL_AZIMUTH [deg]',color='blue')\n",
    "    ax02.set_xticks(np.arange(az_min, az_max, az_step))\n",
    "    ax02.tick_params(axis='x', colors='blue')\n",
    "    \n",
    "    \n",
    "      \n",
    "#2nd track: Wellbore stability window\n",
    "\n",
    "    v_min = 8.33/8.33\n",
    "    v_max = 21.658/8.33\n",
    "    v_space= 0.833/8.33\n",
    "    color11 = 'peachpuff'\n",
    "    ax11=ax[1].twiny()\n",
    "    ax11.set_xlim(v_min,v_max)\n",
    "    ax11.set_xscale('linear')\n",
    "#     ax11.grid(True)\n",
    "    ax11.spines['top'].set_position(('outward',0))\n",
    "    ax11.set_xlabel('COLLAPSE_LIM_MC [gr/cc]', color=color11)\n",
    "    ax11.plot(f.COLLAPSE_MC_SG, f.index, label='COLLAPSE_LIM_MC [gr/cc]', color=color11)\n",
    "    ax11.fill_betweenx(f.index,f.COLLAPSE_MC_SG,0,color=color11, label= 'COLLAPSE_LIM_MC [gr/cc]')\n",
    "    ax11.tick_params(axis='x', colors=color11)\n",
    "    ax11.set_xticks(np.arange(v_min, v_max, v_space))\n",
    "    \n",
    "    color12 = 'lightsalmon'\n",
    "    ax12=ax[1].twiny()\n",
    "    ax12.set_xlim(v_min,v_max)\n",
    "    ax12.set_xscale('linear')\n",
    "    #ax12.grid(True)\n",
    "    ax12.spines['top'].set_position(('outward',30))\n",
    "    ax12.set_xlabel('COLLAPSE_5% [gr/cc]', color=color12)\n",
    "    ax12.plot(f.COLLAPSE_MC_5_SG, f.index, label='COLLAPSE_5% [gr/cc]', color=color12)\n",
    "    ax12.fill_betweenx(f.index,f.COLLAPSE_MC_5_SG,0,color=color12, label= 'COLLAPSE_5% [gr/cc]')\n",
    "    ax12.tick_params(axis='x', colors=color12)\n",
    "    ax12.set_xticks(np.arange(v_min, v_max, v_space))\n",
    "    \n",
    "    color13 = 'tomato'\n",
    "    ax13=ax[1].twiny()\n",
    "    ax13.set_xlim(v_min,v_max)\n",
    "    ax13.set_xscale('linear')\n",
    "    #ax13.grid(True)\n",
    "    ax13.spines['top'].set_position(('outward',60))\n",
    "    ax13.set_xlabel('COLLAPSE_10% [gr/cc]', color=color13)\n",
    "    ax13.plot(f.COLLAPSE_MC_10_SG, f.index, label='COLLAPSE_10% [gr/cc]', color=color13)\n",
    "    ax13.fill_betweenx(f.index,f.COLLAPSE_MC_10_SG,0,color=color13, label= 'COLLAPSE_10% [gr/cc]')\n",
    "    ax13.tick_params(axis='x', colors=color13)\n",
    "    ax13.set_xticks(np.arange(v_min, v_max, v_space))\n",
    "    \n",
    "    color14 = 'firebrick'\n",
    "    ax14=ax[1].twiny()\n",
    "    ax14.set_xlim(v_min,v_max)\n",
    "    ax14.set_xscale('linear')\n",
    "#     ax14.grid(True)\n",
    "    ax14.spines['top'].set_position(('outward',90))\n",
    "    ax14.set_xlabel('COLLAPSE_20% [gr/cc]', color=color14)\n",
    "    ax14.plot(f.COLLAPSE_MC_20_SG, f.index, label='COLLAPSE_20% [gr/cc]', color=color14)\n",
    "    ax14.fill_betweenx(f.index,f.COLLAPSE_MC_20_SG, 0, color=color14, label= 'COLLAPSE_20% [gr/cc]')\n",
    "    ax14.tick_params(axis='x', colors=color14)\n",
    "    ax14.set_xticks(np.arange(v_min, v_max, v_space))\n",
    "    \n",
    "    color15 = 'steelblue'\n",
    "    ax15=ax[1].twiny()\n",
    "    ax15.set_xlim(v_min,v_max)\n",
    "    ax15.set_xscale('linear')\n",
    "    #ax15.grid(True)\n",
    "    ax15.spines['top'].set_position(('outward',120))\n",
    "    ax15.set_xlabel('KICK_LIM [gr/cc]', color=color15)\n",
    "    ax15.plot(f.PP_Eaton_EMW_SG, f.index, label='KICK_LIM [gr/cc]', color=color15,alpha=1)\n",
    "    ax15.fill_betweenx(f.index, f.PP_Eaton_EMW_SG ,0,color=color15, label= 'KICK_LIM [gr/cc]', alpha=1)\n",
    "    ax15.tick_params(axis='x', colors=color15)\n",
    "    ax15.set_xticks(np.arange(v_min, v_max, v_space))\n",
    "    \n",
    "    color16 = 'slategray'\n",
    "    ax16=ax[1].twiny()\n",
    "    ax16.set_xlim(v_min,v_max)\n",
    "    ax16.set_xscale('linear')\n",
    "    #ax16.grid(True)\n",
    "    ax16.spines['top'].set_position(('outward',150))\n",
    "    ax16.set_xlabel('LOSS_LIM [gr/cc]', color=color16)\n",
    "    ax16.plot(f.h_min_PE_EMW_SG, f.index, label='LOSS_LIM [gr/cc]', color=color16)\n",
    "    ax16.fill_betweenx(f.index, f.h_min_PE_EMW_SG ,1000,color=color16, label= 'LOSS_LIM [gr/cc]',lw=0.5)\n",
    "    ax16.tick_params(axis='x', colors=color16)\n",
    "    ax16.set_xticks(np.arange(v_min, v_max, v_space))\n",
    "    \n",
    "    color17 = 'olive'\n",
    "    ax17=ax[1].twiny()\n",
    "    ax17.set_xlim(v_min,v_max)\n",
    "    ax17.set_xscale('linear')\n",
    "    ax17.grid(True)\n",
    "    ax17.spines['top'].set_position(('outward',180))\n",
    "    ax17.set_xlabel('FRAC_LIM [gr/cc]', color=color17)\n",
    "    ax17.plot(f.BreakDown_SG, f.index, label='FRAC_LIM [gr/cc]', color=color17)\n",
    "    ax17.fill_betweenx(f.index, f.BreakDown_SG ,1000,color=color17, label= 'FRAC_LIM [gr/cc]', lw=0.5)\n",
    "    ax17.tick_params(axis='x', colors=color17)\n",
    "    ax17.set_xticks(np.arange(v_min, v_max, v_space))\n",
    "    \n",
    "    MST_min=0\n",
    "    MST_max=1.01\n",
    "    gird_space=0.5\n",
    "    var_color ='black'\n",
    "    v_label='Sand=0 Clay=1'\n",
    "    ax21 = ax[2].twiny()\n",
    "    ax21.set_xlim(MST_min,MST_max)\n",
    "#             ax21.plot(f[var_name], f.index, color=var_color)\n",
    "    ax21.set_xlabel(v_label, color=var_color)\n",
    "    ax21.spines['top'].set_position(('outward',0))\n",
    "    ax21.fill_betweenx(f.index,f['MST'],0,color='g', label= 'MST')\n",
    "    ax21.fill_betweenx(f.index,f['MST'],1,color='gold', label= 'MST')\n",
    "    ax21.set_xticks(np.arange(MST_min, MST_max, gird_space))\n",
    "    ax21.tick_params(axis='x', colors=var_color)\n",
    "    ax21.grid(True)\n",
    "    \n",
    "    #plot tvd as secondary axis\n",
    "    ax22=ax21.twinx()\n",
    "    color = 'tab:red'\n",
    "    ax22.set_ylabel('TVD [m]', color=color)\n",
    "    ax22.set_ylim(f.TVD.min(), f.TVD.max())\n",
    "    ax22.invert_yaxis()\n",
    "    ax22.plot(f['MST'], f['TVD'], lw=0)\n",
    "    ax22.tick_params(axis='y', labelcolor=color)\n",
    "    ax22.spines['right'].set_position(('outward',10))\n",
    "    ax22.set_yticks(np.arange(f.TVD.min(), f.TVD.max(), 50))\n",
    "    #ax31.set_yticks(minor_yticks, minor=True)\n",
    "\n",
    "# Plot calibration points\n",
    "    ax18=ax[1].twiny()\n",
    "    ax18.set_xlim(v_min,v_max)\n",
    "    ax18.set_xscale('linear')\n",
    "    ax18.scatter(w_calib['Tight Hole'], w_calib.MD, color='teal', label='Tight_Hole/Drag', marker='s', s=70)\n",
    "    ax18.scatter(w_calib['High Torque'], w_calib.MD,  color='navy', label='High Torque', s=70)\n",
    "    ax18.scatter(w_calib['FIT'], w_calib.MD, color='lime', label='FIT', s=70)\n",
    "    ax18.scatter(w_calib['Cavings'], w_calib.MD, color='brown', label='Cavings', s=70)\n",
    "    ax18.scatter(w_calib['Stuck Pipe'], w_calib.MD, color='magenta', label='Stuck Pipe', s=70)\n",
    "#     ax18.scatter(w_calib['Kick/Influx'], w_calib.MD, color='cyan', label='Kick/Influx', s=70)\n",
    "    ax18.scatter(w_calib['Partial Mudlosses'], w_calib.MD, color='green', label='Partial Mudlosses', s=70)\n",
    "    ax18.scatter(w_calib['Total Mudlosses'], w_calib.MD, color='red', label='Total Mudlosses', marker='^' ,s=70)\n",
    "    ax18.scatter(w_calib['Pack off attempt'], w_calib.MD, color='purple', label='Packoff Attempt', marker='s', s=70)\n",
    "#     ax18.scatter(w_calib['Flowline plugging'], w_calib.MD, color='black', label='Flowline plugging', s=70)\n",
    "    ax18.scatter(w_calib['Differential sticking'], w_calib.MD, color='yellow', label='Differential sticking', s=70)\n",
    "    ax18.scatter(w_calib['Shmin'], w_calib.MD, color='red', label='Shmin - FracPack', marker='s', s=70)\n",
    "    ax18.scatter(w_calib['Breakdown'], w_calib.MD, color='darkorange', label='Breakdown', s=70)\n",
    "    ax18.scatter(w_calib['Gas presence'], w_calib.MD, color='lightblue', label='Increase Gas %', s=70)\n",
    "    ax18.plot(mw_line['MW'], mw_line.MD, color='black', label= 'Mud Weight', lw=1.3)\n",
    "    ax18.plot(mw_line['ECD'], mw_line.MD, color='red', label= 'ECD', lw=1.3)\n",
    "    \n",
    "    \n",
    "#     ax18.plot(mw_line['ECD'], mw_line.MD, color='red', label= 'Avg. ECD', lw=1.3)\n",
    "    ax18.legend(loc='upper right')\n",
    "    \n",
    "#     ax19=ax[0].twiny()\n",
    "#     ax19.set_xlim(6.75,7.425)\n",
    "# #     ax19.set_xscale('linear')\n",
    "#     ax19.plot(drilling2['ALHSI'], drilling2.index, color='black', label= 'CALI', lw=1.3)\n",
    "#     ax19.legend(loc='upper right')\n",
    "#Tops lines\n",
    "    for i in range(len(ax)):\n",
    "        for k, row in tops[(tops.MD >= top_depth) & (tops.MD <= bottom_depth)].iterrows():\n",
    "            vars()['ax'+str(i)+'1'].hlines(row['MD'], xmin=-500, xmax=800, linestyles='solid', color='k',lw=0.7)\n",
    "            vars()['ax'+str(0)+'2'].text(logs['INC'].min(), row['MD'], row['Zone Name'], color='r')\n",
    "    \n",
    "    \n",
    "    mplcursors.cursor(multiple=True).connect(\"add\", lambda sel: sel.annotation.draggable(False))\n",
    "    plt.savefig (F'./Output pictures/{well_name}_WBS_Calibration_PLOT.png', dpi=300, format='png')    \n",
    "    plt.show()"
   ]
  },
  {
   "cell_type": "code",
   "execution_count": null,
   "metadata": {
    "scrolled": true
   },
   "outputs": [],
   "source": [
    "Calibration_Plot(HOKCHI_11DES_MEM_Dataset, HOKCHI_11DES_calibration, MW_HOKCHI_11DES_Comp, HOKCHI_11DES_tops)"
   ]
  },
  {
   "cell_type": "code",
   "execution_count": null,
   "metadata": {
    "scrolled": false
   },
   "outputs": [],
   "source": [
    "Calibration_Plot(HOKCHI_11DES_MEM_Dataset, HOKCHI_11DES_calibration, MW_HOKCHI_11DES_Comp, HOKCHI_11DES_tops)"
   ]
  },
  {
   "cell_type": "code",
   "execution_count": null,
   "metadata": {
    "scrolled": false
   },
   "outputs": [],
   "source": [
    "Calibration_Plot(HOKCHI_8H_PD_MEM_Dataset, HOKCHI_8H_PD_calibration, MW_HOKCHI_8HDES_PD_Line, HOKCHI_8H_PD_tops)"
   ]
  },
  {
   "cell_type": "code",
   "execution_count": null,
   "metadata": {
    "scrolled": true
   },
   "outputs": [],
   "source": [
    "Calibration_Plot(HOKCHI_8H_PD_MEM_Dataset, HOKCHI_8H_PD_calibration, MW, HOKCHI_8H_tops)"
   ]
  },
  {
   "cell_type": "code",
   "execution_count": null,
   "metadata": {},
   "outputs": [],
   "source": [
    "HOKCHI_9H_MEM_Dataset.PP_Eaton[3479:]"
   ]
  },
  {
   "cell_type": "code",
   "execution_count": null,
   "metadata": {},
   "outputs": [],
   "source": [
    "MA_01_MW_Line"
   ]
  },
  {
   "cell_type": "markdown",
   "metadata": {},
   "source": [
    "# PROPOSED WELL PLOT"
   ]
  },
  {
   "cell_type": "code",
   "execution_count": null,
   "metadata": {},
   "outputs": [],
   "source": [
    "def projected_well_Plot (logs, tops, mw_line):\n",
    "    \n",
    "    well_name = input('Enter Well Name: ')\n",
    "    print(logs.columns)\n",
    "    GR_nmo = str(input('Enter GR mnemonic: '))\n",
    "    top_depth = float(input('Enter top depth: ') or logs.index.min())\n",
    "    bottom_depth = float(input('Enter bottom  depth: ') or logs.index.max())\n",
    "    f = logs[(logs.index >= top_depth) & (logs.index <= bottom_depth)]\n",
    "    fig, ax = plt.subplots(nrows=1, ncols=4, figsize=(14,18), sharey=True, sharex=True,\\\n",
    "                           gridspec_kw={'width_ratios': [0.5,3,1,1]})\n",
    "    fig.suptitle(f\"WBS Target well {well_name}\", fontsize=18)\n",
    "    fig.subplots_adjust(top=0.78,wspace=0.1)\n",
    "\n",
    "    #For all axis\n",
    "    major_yticks = np.arange(top_depth, bottom_depth, 100)\n",
    "    minor_yticks = np.arange(top_depth, bottom_depth, 50)\n",
    "    \n",
    "    for axes in ax:\n",
    "        axes.set_ylim (top_depth,bottom_depth)\n",
    "        axes.invert_yaxis()\n",
    "        axes.yaxis.grid(True)\n",
    "        axes.get_xaxis().set_visible(False)\n",
    "        axes.set_yticks(major_yticks)\n",
    "        axes.set_yticks(minor_yticks, minor=True)\n",
    "        axes.grid(which='minor', linestyle='--')\n",
    "        axes.set_ylabel('MD [m]')\n",
    "\n",
    "#1st track: Inclination & Azimuth \n",
    "    \n",
    "    ax01=ax[3].twiny()\n",
    "    ax01.set_xlim(0,100)\n",
    "    ax01.plot(f.INC, f.index, label='DEVIATION [deg]', color='red', lw=3)\n",
    "    ax01.spines['top'].set_position(('outward',0))    \n",
    "    ax01.set_xlabel('WELL_DEVIATION [deg]',color='red')    \n",
    "    ax01.tick_params(axis='x', colors='red')\n",
    "    ax01.grid(True)\n",
    "    \n",
    "    ax02=ax[3].twiny()\n",
    "    ax02.set_xlim(0,360)\n",
    "    ax02.plot(f.AZI, f.index, label='AZIMUTH [deg]', color='blue', lw=3)\n",
    "    ax02.spines['top'].set_position(('outward',40))\n",
    "    ax02.set_xlabel('WELL_AZIMUTH [deg]',color='blue')    \n",
    "    ax02.tick_params(axis='x', colors='blue')\n",
    "    \n",
    "    \n",
    "      \n",
    "#2nd track: Wellbore stability window\n",
    "\n",
    "    v_min = 8.33/8.33\n",
    "    v_max = 21.658/8.33\n",
    "    v_space= 0.833/8.33\n",
    "#     color11 = 'peachpuff'\n",
    "    ax11=ax[1].twiny()\n",
    "    ax11.set_xlim(v_min,v_max)\n",
    "#     ax11.set_xscale('linear')\n",
    "#     ax11.grid(True)\n",
    "#     ax11.spines['top'].set_position(('outward',0))\n",
    "#     ax11.set_xlabel('COLLAPSE_LIM_MC [sg]', color=color11)\n",
    "# #     ax11.plot(f.COLLAPSE_MC, f.index, label='COLLAPSE_LIM_MC [sg]', color=color11)\n",
    "#     ax11.fill_betweenx(f.index,f.COLLAPSE_MC_SG,0,color=color11, label= 'COLLAPSE_LIM_MC [sg]')\n",
    "#     ax11.tick_params(axis='x', colors=color11)\n",
    "    ax11.set_xticks(np.arange(v_min, v_max, v_space))\n",
    "    \n",
    "    color12 = 'lightsalmon'\n",
    "    ax12=ax[1].twiny()\n",
    "    ax12.set_xlim(v_min,v_max)\n",
    "    ax12.set_xscale('linear')\n",
    "    #ax12.grid(True)\n",
    "    ax12.spines['top'].set_position(('outward',30))\n",
    "    ax12.set_xlabel('COLLAPSE_5% [sg]', color=color12)\n",
    "    ax12.plot(f.COLLAPSE_MC_5_SG, f.index, label='COLLAPSE_5% [sg]', color=color12)\n",
    "    ax12.fill_betweenx(f.index,f.COLLAPSE_MC_5_SG,0,color=color12, label= 'COLLAPSE_5% [sg]')\n",
    "    ax12.tick_params(axis='x', colors=color12)\n",
    "    ax12.set_xticks(np.arange(v_min, v_max, v_space))\n",
    "    \n",
    "    color13 = 'tomato'\n",
    "    ax13=ax[1].twiny()\n",
    "    ax13.set_xlim(v_min,v_max)\n",
    "    ax13.set_xscale('linear')\n",
    "    #ax13.grid(True)\n",
    "    ax13.spines['top'].set_position(('outward',60))\n",
    "    ax13.set_xlabel('COLLAPSE_10% [sg]', color=color13)\n",
    "    ax13.plot(f.COLLAPSE_MC_10_SG, f.index, label='COLLAPSE_10% [sg]', color=color13)\n",
    "    ax13.fill_betweenx(f.index,f.COLLAPSE_MC_10_SG,0,color=color13, label= 'COLLAPSE_10% [sg]')\n",
    "    ax13.tick_params(axis='x', colors=color13)\n",
    "    ax13.set_xticks(np.arange(v_min, v_max, v_space))\n",
    "    \n",
    "    color14 = 'firebrick'\n",
    "    ax14=ax[1].twiny()\n",
    "    ax14.set_xlim(v_min,v_max)\n",
    "    ax14.set_xscale('linear')\n",
    "    #ax14.grid(True)\n",
    "    ax14.spines['top'].set_position(('outward',90))\n",
    "    ax14.set_xlabel('COLLAPSE_20% [sg]', color=color14)\n",
    "    ax14.plot(f.COLLAPSE_MC_20_SG, f.index, label='COLLAPSE_20% [sg]', color=color14)\n",
    "    ax14.fill_betweenx(f.index,f.COLLAPSE_MC_20_SG,0,color=color14, label= 'COLLAPSE_20% [sg]')\n",
    "    ax14.tick_params(axis='x', colors=color14)\n",
    "    ax14.set_xticks(np.arange(v_min, v_max, v_space))\n",
    "    \n",
    "    color15 = 'steelblue'\n",
    "    ax15=ax[1].twiny()\n",
    "    ax15.set_xlim(v_min,v_max)\n",
    "    ax15.set_xscale('linear')\n",
    "    #ax15.grid(True)\n",
    "    ax15.spines['top'].set_position(('outward',120))\n",
    "    ax15.set_xlabel('KICK_LIM [sg]', color=color15)\n",
    "    ax15.plot(f.PP_Eaton_EMW_SG, f.index, label='KICK_LIM [sg]', color=color15,alpha=1)\n",
    "    ax15.fill_betweenx(f.index, f.PP_Eaton_EMW_SG ,0,color=color15, label= 'KICK_LIM [sg]', alpha=1)\n",
    "    ax15.tick_params(axis='x', colors=color15)\n",
    "    ax15.set_xticks(np.arange(v_min, v_max, v_space))\n",
    "    \n",
    "    color16 = 'slategray'\n",
    "    ax16=ax[1].twiny()\n",
    "    ax16.set_xlim(v_min,v_max)\n",
    "    ax16.set_xscale('linear')\n",
    "    #ax16.grid(True)\n",
    "    ax16.spines['top'].set_position(('outward',150))\n",
    "    ax16.set_xlabel('LOSS_LIM [sg]', color=color16)\n",
    "    ax16.plot(f.h_min_PE_EMW_SG, f.index, label='LOSS_LIM [sg]', color=color16)\n",
    "    ax16.fill_betweenx(f.index, f.h_min_PE_EMW_SG ,1000,color=color16, label= 'LOSS_LIM [sg]',lw=0.5)\n",
    "    ax16.tick_params(axis='x', colors=color16)\n",
    "    ax16.set_xticks(np.arange(v_min, v_max, v_space))\n",
    "    \n",
    "    color17 = 'olive'\n",
    "    ax17=ax[1].twiny()\n",
    "    ax17.set_xlim(v_min,v_max)\n",
    "    ax17.set_xscale('linear')\n",
    "    ax17.grid(True)\n",
    "    ax17.spines['top'].set_position(('outward',180))\n",
    "    ax17.set_xlabel('FRAC_LIM [sg]', color=color17)\n",
    "    ax17.plot(f.BreakDown_SG, f.index, label='FRAC_LIM [sg]', color=color17)\n",
    "    ax17.fill_betweenx(f.index, f.BreakDown_SG ,1000,color=color17, label= 'FRAC_LIM [sg]', lw=0.5)\n",
    "    ax17.tick_params(axis='x', colors=color17)\n",
    "    ax17.set_xticks(np.arange(v_min, v_max, v_space))\n",
    "    \n",
    "    #MST primera columna\n",
    "    MST_min=0\n",
    "    MST_max=1.01\n",
    "    gird_space=0.5\n",
    "    var_color ='black'\n",
    "    v_label='MST'\n",
    "    ax21 = ax[0].twiny()\n",
    "    ax21.set_xlim(MST_min,MST_max)\n",
    "#             ax21.plot(f[var_name], f.index, color=var_color)\n",
    "    ax21.set_xlabel(v_label, color=var_color)\n",
    "    ax21.spines['top'].set_position(('outward',0))\n",
    "    ax21.fill_betweenx(f.index,f['MST'],0,color='g', label= 'MST')\n",
    "    ax21.fill_betweenx(f.index,f['MST'],1,color='gold', label= 'MST')\n",
    "    ax21.set_xticks(np.arange(MST_min, MST_max, gird_space))\n",
    "    ax21.tick_params(axis='x', colors=var_color)\n",
    "#     ax21.grid(True)\n",
    "    \n",
    "    #GR sobre MST\n",
    "    gr_min=0\n",
    "    gr_max=150.01\n",
    "    gr_space=50\n",
    "    var_color ='black'\n",
    "    v_label='GR[gAPI]'\n",
    "    ax22 = ax[0].twiny()\n",
    "    ax22.set_xlim(gr_min,gr_max)\n",
    "#             ax21.plot(f[var_name], f.index, color=var_color)\n",
    "    ax22.set_xlabel(v_label, color=var_color)\n",
    "    ax22.spines['top'].set_position(('outward',35))\n",
    "    ax22.plot(f[GR_nmo], f.index, color=var_color)\n",
    "    ax22.set_xticks(np.arange(gr_min, gr_max, gr_space))\n",
    "    ax22.tick_params(axis='x', colors=var_color)\n",
    "    ax22.grid(True)\n",
    "        \n",
    "    \n",
    "    UCS_min=0\n",
    "    UCS_max=12005\n",
    "    gird_space=4000\n",
    "    var_color ='black'\n",
    "    v_label='UCS [psi]'\n",
    "    ax31 = ax[2].twiny()\n",
    "    ax31.set_xlim(UCS_min,UCS_max)\n",
    "    ax31.plot(f['UCS_merge'], f.index, color=var_color)\n",
    "    ax31.set_xlabel(v_label, color=var_color)\n",
    "    ax31.spines['top'].set_position(('outward',0))\n",
    "    ax31.set_xticks(np.arange(UCS_min, UCS_max, gird_space))\n",
    "    ax31.tick_params(axis='x', colors=var_color)\n",
    "    ax31.grid(True)\n",
    "    \n",
    "    #plot tvd as secondary axis\n",
    "    ax32=ax02.twinx()\n",
    "    color = 'tab:red'\n",
    "    ax32.set_ylabel('TVD [m]', color=color)\n",
    "    ax32.set_ylim(f.TVD.min(), f.TVD.max())\n",
    "    ax32.invert_yaxis()\n",
    "    ax32.plot(f['MST'], f['TVD'], lw=0)\n",
    "    ax32.tick_params(axis='y', labelcolor=color)\n",
    "    ax32.spines['right'].set_position(('outward',10))\n",
    "    ax32.set_yticks(np.arange(f.TVD.min(), f.TVD.max(), 50))\n",
    "    #ax31.set_yticks(minor_yticks, minor=True)\n",
    "\n",
    "# Plot calibration points\n",
    "    ax18=ax[1].twiny()\n",
    "    ax18.set_xlim(v_min,v_max)\n",
    "    ax18.set_xscale('linear')\n",
    "#     ax18.scatter(w_calib['Tight Hole'], w_calib.MD, color='teal', label='Tight_Hole/Drag', s=70)\n",
    "#     ax18.scatter(w_calib['High Torque'], w_calib.MD,  color='black', label='High Torque', s=70)\n",
    "#     ax18.scatter(w_calib['FIT'], w_calib.MD, color='lime', label='FIT', s=70)\n",
    "#     ax18.scatter(w_calib['Cavings'], w_calib.MD, color='brown', label='Cavings', s=70)\n",
    "#     ax18.scatter(w_calib['Stuck Pipe'], w_calib.MD, color='magenta', label='Stuck Pipe', s=70)\n",
    "#     ax18.scatter(w_calib['Kick/Influx'], w_calib.MD, color='cyan', label='Kick/Influx', s=70)\n",
    "#     ax18.scatter(w_calib['Partial Mudlosses'], w_calib.MD, color='green', label='Partial Mudlosses', s=70)\n",
    "#     ax18.scatter(w_calib['Pack off'], w_calib.MD, color='purple', label='Packoff Attempt', s=70)\n",
    "#     ax18.scatter(w_calib['Flowline plugging'], w_calib.MD, color='black', label='Flowline plugging', s=70)\n",
    "#     ax18.scatter(w_calib['Differential sticking'], w_calib.MD, color='salmon', label='Differential sticking', s=70)\n",
    "#     ax18.scatter(w_calib['LOT'], w_calib.MD, color='red', label='LOT', s=70)\n",
    "#     ax18.scatter(w_calib['Balloning'], w_calib.MD, color='darkorange', label='Balloning', s=70)\n",
    "    ax18.plot(mw_line.MW, mw_line.MD, color='black', label= 'Proposed MW', lw=1.4)\n",
    "    ax18.plot(mw_line.ECD, mw_line.MD, color='red', label= 'Estimated ECD', lw=1.4)\n",
    "    ax18.legend(loc='upper right')\n",
    "        \n",
    "#Tops lines\n",
    "    for i in range(len(ax)):\n",
    "        for k, row in tops[(tops.MD >= top_depth) & (tops.MD <= bottom_depth)].iterrows():\n",
    "            vars()['ax'+str(i)+'1'].hlines(row['MD'], xmin=-500, xmax=80000, linestyles='solid', color='k',lw=0.7)\n",
    "            vars()['ax'+str(2)+'1'].text(0, row['MD'], row['Zone Name'], color='r')\n",
    "    \n",
    "    #mplcursors.cursor(multiple=True)\n",
    "    \n",
    "    mplcursors.cursor(multiple=True).connect(\"add\", lambda sel: sel.annotation.draggable(False))\n",
    "    plt.savefig (F'./Output pictures/{well_name}_WBS_PROPOSED_WELL.png', dpi=300, format='png')\n",
    "    #mplcursors.cursor()\n",
    "    plt.show()"
   ]
  },
  {
   "cell_type": "code",
   "execution_count": null,
   "metadata": {
    "scrolled": true
   },
   "outputs": [],
   "source": [
    "projected_well_Plot(HOKCHI_7DES_MEM_Dataset, HOKCHI_7DES_tops, MW_HOKCHI_7DES_Line)"
   ]
  },
  {
   "cell_type": "code",
   "execution_count": null,
   "metadata": {
    "scrolled": true
   },
   "outputs": [],
   "source": [
    "projected_well_Plot(HOKCHI_7DES_MEM_Dataset, HOKCHI_7DES_tops, MW_HOKCHI_7DES_Line)"
   ]
  },
  {
   "cell_type": "code",
   "execution_count": null,
   "metadata": {
    "scrolled": true
   },
   "outputs": [],
   "source": [
    "projected_well_Plot(HOKCHI_8H_MEM_Dataset, HOKCHI_8H_tops, MW_HOKCHI_8HDES_Line)"
   ]
  },
  {
   "cell_type": "code",
   "execution_count": null,
   "metadata": {
    "scrolled": true
   },
   "outputs": [],
   "source": [
    "projected_well_Plot(HOKCHI_8H_PD_MEM_Dataset, HOKCHI_8H_PD_tops, MW_HOKCHI_8HDES_PD_Line)"
   ]
  },
  {
   "cell_type": "code",
   "execution_count": null,
   "metadata": {
    "scrolled": false
   },
   "outputs": [],
   "source": [
    "projected_well_Plot(HOKCHI_9H_MEM_Dataset, HOKCHI_9H_tops, MW_HOKCHI_9H_Line)"
   ]
  },
  {
   "cell_type": "code",
   "execution_count": null,
   "metadata": {},
   "outputs": [],
   "source": [
    "HOKCHI_9H_wellpath"
   ]
  },
  {
   "cell_type": "markdown",
   "metadata": {},
   "source": [
    "#  Sensitivity analysis"
   ]
  },
  {
   "cell_type": "code",
   "execution_count": null,
   "metadata": {},
   "outputs": [],
   "source": [
    "def SENSITIVITY_ANALYSIS (logs):\n",
    "    well_name = input('Enter Well name: ')\n",
    "    depth = float(input('Enter DEPTH for analysis: '))\n",
    "    Hmax_dir =  float(input('Enter Direction of SHmax  (AZI: 90 deg) : ') or '90')\n",
    "    AZI = np.radians(np.linspace(0,360,121))\n",
    "    INC = np.radians(np.linspace(0,90,46))\n",
    "    '''\n",
    "    3D linear elastic solution - With the assumption of rock formation is homogeneous and isotropic, the induced stress field\n",
    "    around borehole has been given by Jaeger and Cook (1979). According to Bradley (1979) the stress \n",
    "    can be expressed in borehole cylindrical polar coordinates system r-teta as:\n",
    "    Ask Carlos about the dmud'''\n",
    "    vazm_array = np.array([])\n",
    "    m_array = np.array([])\n",
    "    vbdazm_array = np.array([])\n",
    "    mbd_array = np.array([])\n",
    "    for incl in INC:\n",
    "        for azim in AZI:\n",
    "            Rw = 1 # borehole radius    \n",
    "            dmud = 10 #ppg for Pw that is the wells pressure\n",
    "            alpha = (azim-Hmax_dir*(math.pi/180))\n",
    "            inc_rad = incl\n",
    "            Ixx_p = np.cos(alpha)*np.cos(inc_rad)\n",
    "            Ixy_p = np.sin(alpha)*np.cos(inc_rad)\n",
    "            Ixz_p = -np.sin(inc_rad)\n",
    "            Iyx_p = -np.sin(alpha)\n",
    "            Iyy_p = np.cos(alpha)\n",
    "            Iyz_p = 0\n",
    "            Izx_p = np.cos(alpha)*np.sin(inc_rad)\n",
    "            Izy_p = np.sin(alpha)*np.sin(inc_rad)\n",
    "            Izz_p = np.cos(inc_rad)\n",
    "            Sx_o = (Ixx_p**2)*(np.interp(depth, logs.index, logs.H_max_PE))+(Ixy_p**2)*(np.interp(depth, logs.index, logs.h_min_PE))+(Ixz_p**2)*(np.interp(depth, logs.index, logs.V_Stress))\n",
    "            Sy_o = (Iyx_p**2)*(np.interp(depth, logs.index, logs.H_max_PE))+(Iyy_p**2)*(np.interp(depth, logs.index, logs.h_min_PE))+(Iyz_p**2)*(np.interp(depth, logs.index, logs.V_Stress))\n",
    "            Sz_o = (Izx_p**2)*(np.interp(depth, logs.index, logs.H_max_PE))+(Izy_p**2)*(np.interp(depth, logs.index, logs.h_min_PE))+(Izz_p**2)*(np.interp(depth, logs.index, logs.V_Stress))\n",
    "            Txy_o = (Ixx_p*Iyx_p)*(np.interp(depth, logs.index, logs.H_max_PE))+(Ixy_p*Iyy_p)*(np.interp(depth, logs.index, logs.h_min_PE))+(Ixz_p*Iyz_p)*(np.interp(depth, logs.index, logs.V_Stress))\n",
    "            Tyz_o = (Iyx_p*Izx_p)*(np.interp(depth, logs.index, logs.H_max_PE))+(Iyy_p*Izy_p)*(np.interp(depth, logs.index, logs.h_min_PE))+(Iyz_p*Izz_p)*(np.interp(depth, logs.index, logs.V_Stress))\n",
    "            Tzx_o = (Izx_p*Ixx_p)*(np.interp(depth, logs.index, logs.H_max_PE))+(Izy_p*Ixy_p)*(np.interp(depth, logs.index, logs.h_min_PE))+(Izz_p*Ixz_p)*(np.interp(depth, logs.index, logs.V_Stress))\n",
    "            teta_min_r = np.arctan((2*Txy_o/(Sx_o-Sy_o))/2)\n",
    "            teta_min_d = teta_min_r*(180/math.pi)\n",
    "            teta_max_d = teta_min_d+90\n",
    "            teta_max_r = teta_max_d*(math.pi/180)\n",
    "            \n",
    "#     Sig_r = ((Sx_o+Sy_o)/2)*(1-(Rw**2/r**2))+((Sx_o-Sy_o)/2)*(1+(3*Rw**4/r**4)-(4*Rw**2/r**2))*np.cos(2*teta_min_r) \\\n",
    "#                 +Txy_o*(1+(3*Rw**4/r**4)-(4*Rw**2/r**2))*np.sin(2*teta_min_r)+(dmud*0.052*(np.interp(depth, logs.index, logs.TVD)*Rw**2/r**2)\n",
    "#     Sig_t =  ((Sx_o+Sy_o)/2)*(1+(Rw**2/r**2))-((Sx_o-Sy_o)/2)*(1+(3*Rw**4/r**4))*np.cos(2*teta_min_r) \\\n",
    "#                 - Txy_o*(1+(3*Rw**4/r**4))*np.sin(2*teta_min_r)-(dmud*0.052*(np.interp(depth, logs.index, logs.TVD)*Rw**2/r**2)\n",
    "#     Sig_z = Sz_o-(np.interp(depth, logs.index, logs.PR_St)*(2*(Sx_o-Sy_o)*(Rw**2/r**2)*np.cos(2*teta_min_r)+4*Txy_o*(Rw**2/r**2)*np.sin(2*teta_min_r))\n",
    "#     Tau_rt = ((Sy_o-Sx_o)/2)*(1-(3*Rw**4/r**4)+(2*Rw**2/r**2))*np.sin(2*teta_min_r)+Txy_o*(1-(3*Rw**4/r**4)+(2*Rw**2/r**2))\\\n",
    "#                 *np.cos(2*teta_min_r)\n",
    "#     Tau_tz = (-Tzx_o*np.sin(teta_min_r)+Tyz_o*np.cos(teta_min_r))*(1+(Rw**2/r**2))\n",
    "#     Tau_rz = (Tzx_o*np.cos(teta_min_r)+Tyz_o*np.sin(teta_min_r))*(1-(Rw**2/r**2))\n",
    "    \n",
    "#     Sig_t_max = 0.5*(Sig_z+Sig_t+np.sqrt(((Sig_z-Sig_t)**2)-4*Tau_tz**2))\n",
    "#     Sig_t_min = 0.5*(Sig_z+Sig_t-np.sqrt(((Sig_z-Sig_t)**2)-4*Tau_tz**2))    \n",
    "    \n",
    "            tan_fang = np.tan((45 + (np.interp(depth, logs.index, logs.FANG_PC))/2)*math.pi/180) # radians\n",
    "            r= 1 # Deph of damage of           \n",
    "            A_t = ((Sx_o+Sy_o)/2)*(1+(Rw**2/r**2))-((Sx_o-Sy_o)/2)*(1+(3*Rw**4/r**4))*np.cos(2*teta_max_r) \\\n",
    "                - Txy_o*(1+(3*Rw**4/r**4))*np.sin(2*teta_max_r)\n",
    "            A_r = ((Sx_o+Sy_o)/2)*(1-(Rw**2/r**2))+((Sx_o-Sy_o)/2)*(1+(3*Rw**4/r**4)-(4*Rw**2/r**2))*np.cos(2*teta_max_r) \\\n",
    "                +Txy_o*(1+(3*Rw**4/r**4)-(4*Rw**2/r**2))*np.sin(2*teta_max_r)\n",
    "            Failure = (A_t-(np.interp(depth, logs.index, logs.PP_Eaton))-(np.interp(depth, logs.index, logs.UCS_merge))-A_r*tan_fang**2+(np.interp(depth, logs.index, logs.PP_Eaton))*tan_fang**2) \\\n",
    "                                        /((1+tan_fang**2)*(Rw/r)**2)\n",
    "            Failure_EMW = Failure /(0.052*(np.interp(depth, logs.index, logs.TVD)))            \n",
    "            vazm_array = np.append(vazm_array,Failure_EMW) #for failure mode\n",
    "            \n",
    "            A_t_BD = ((Sx_o+Sy_o)/2)*(1+(Rw**2/r**2))-((Sx_o-Sy_o)/2)*(1+(3*Rw**4/r**4))*np.cos(2*teta_min_r) \\\n",
    "                - Txy_o*(1+(3*Rw**4/r**4))*np.sin(2*teta_min_r)\n",
    "            break_down = ((np.interp(depth, logs.index, logs.TSTR))+A_t_BD-(np.interp(depth, logs.index, logs.PP_Eaton)))/(Rw**2/r**2)\n",
    "            break_down_EMW =break_down/(0.052*(np.interp(depth, logs.index, logs.TVD)))\n",
    "            vbdazm_array = np.append(vbdazm_array, break_down_EMW) # for break down mode\n",
    "                                        \n",
    "        m_array = np.append(m_array, vazm_array, axis=0)\n",
    "        mbd_array = np.append(mbd_array, vbdazm_array, axis=0)\n",
    "        vazm_array = np.array([])\n",
    "        vbdazm_array = np.array([])\n",
    "    #print (m_array.reshape(10,37))\n",
    "    \n",
    "    #Plot\n",
    "    r, theta = np.meshgrid(INC*(180/math.pi), AZI)\n",
    "    fig, (ax, ax2) = plt.subplots(nrows=2, ncols=1, subplot_kw=dict(projection='polar'), figsize=(13,13))\n",
    "    fig.suptitle(f'Sensitivity Analysis at {str(depth)}ft - AZIM/INC {well_name}', fontsize=18)\n",
    "    fig.subplots_adjust(wspace=1.0)\n",
    "    \n",
    "    pp = ax.pcolor(theta, r, m_array.reshape(46,121).transpose(), cmap='jet')\n",
    "    ax.set_theta_zero_location(\"N\")\n",
    "    ax.set_theta_direction(-1)\n",
    "    ax.set_rmax(90)\n",
    "    ax.set_thetagrids(range(0, 360, 10), ((np.arange(0, 360, 10)).astype(int).tolist()))\n",
    "    #expected = np.arange(0, 70, 10)\n",
    "    ax.grid(True)\n",
    "    ax.set_title('Shear Failure', fontsize = 14)\n",
    "    cbar = fig.colorbar(pp, ax=ax, orientation='vertical')\n",
    "    cbar.ax.set_ylabel('Mud weight[ppg]', fontsize=14)\n",
    "    \n",
    "    #Plot second row\n",
    "    pp2 = ax2.pcolor(theta, r, mbd_array.reshape(46,121).transpose(), cmap='jet_r')\n",
    "    ax2.set_theta_zero_location(\"N\")\n",
    "    ax2.set_theta_direction(-1)\n",
    "    ax2.set_rmax(90)\n",
    "    ax2.set_thetagrids(range(0, 360, 10), ((np.arange(0, 360, 10)).astype(int).tolist()))\n",
    "    #expected = np.arange(0, 70, 10)\n",
    "    ax2.grid(True)\n",
    "    ax2.set_title('Break Down Limit', fontsize = 14)\n",
    "    cbar2 = fig.colorbar(pp2, ax=ax2, orientation='vertical')\n",
    "    cbar2.ax.set_ylabel('Mud weight[ppg]', fontsize=14)\n",
    "                       \n",
    "    plt.savefig (f'./Output pictures/WBS_Sensitivity_PLOT_{str(depth)}ft.png', dpi=300, format='png')\n",
    "    plt.show()\n",
    "   \n",
    "\n",
    "            \n",
    "#     logs['COLLAPSE_MC'] = S_collapse_EMW_0\n",
    "#     logs['COLLAPSE_MC_5'] = S_collapse_EMW_1\n",
    "#     logs['COLLAPSE_MC_10'] = S_collapse_EMW_2\n",
    "#     logs['COLLAPSE_MC_20'] = S_collapse_EMW_3\n",
    "    \n",
    "#     logs['BreakDown'] = BD_fract_EMW_0   "
   ]
  },
  {
   "cell_type": "code",
   "execution_count": null,
   "metadata": {},
   "outputs": [],
   "source": [
    "def _POLAR_SENSITIVITY_ANALYSIS (logs):\n",
    "    well_name = str(input('Enter Well name: '))\n",
    "    logs_filter = logs[['AZI', 'INC','H_max_PE', 'h_min_PE', 'V_Stress', 'FANG_PC', 'PR_St',\\\n",
    "                                   'UCS_merge', 'PP_Eaton', 'TSTR', 'TVD', 'TVD_ft','PP_Eaton_EMW',\\\n",
    "                        'h_min_PE_EMW']].dropna()\n",
    "    depth = float(input('Enter DEPTH [m] for analysis: '))\n",
    "    Hmax_dir =  float(input('Enter Direction of SHmax  (AZI: 90 deg) : ') or '90')\n",
    "    AZI = np.radians(np.linspace(0,360,121))\n",
    "    INC = np.radians(np.linspace(0,90,46))\n",
    "    r= float (input('ENter the depth of damage: ') or 1.0)  # Deph of damage of\n",
    "    '''\n",
    "    3D linear elastic solution - With the assumption of rock formation is homogeneous and isotropic, the induced stress field\n",
    "    around borehole has been given by Jaeger and Cook (1979). According to Bradley (1979) the stress \n",
    "    can be expressed in borehole cylindrical polar coordinates system r-teta as:\n",
    "    Ask Carlos about the dmud'''\n",
    "    vazm_array = np.array([])\n",
    "    m_array = np.array([])\n",
    "    vbdazm_array = np.array([])\n",
    "    mbd_array = np.array([])\n",
    "    for incl in INC:\n",
    "        for azim in AZI:\n",
    "            Rw = 1 # borehole radius    \n",
    "            dmud = 10 #ppg for Pw that is the wells pressure\n",
    "            alpha = (azim-Hmax_dir*(math.pi/180))\n",
    "            inc_rad = incl\n",
    "            Ixx_p = np.cos(alpha)*np.cos(inc_rad)\n",
    "            Ixy_p = np.sin(alpha)*np.cos(inc_rad)\n",
    "            Ixz_p = -np.sin(inc_rad)\n",
    "            Iyx_p = -np.sin(alpha)\n",
    "            Iyy_p = np.cos(alpha)\n",
    "            Iyz_p = 0\n",
    "            Izx_p = np.cos(alpha)*np.sin(inc_rad)\n",
    "            Izy_p = np.sin(alpha)*np.sin(inc_rad)\n",
    "            Izz_p = np.cos(inc_rad)\n",
    "            Sx_o = (Ixx_p**2)*(np.interp(depth, logs_filter.index, logs_filter.H_max_PE))+(Ixy_p**2)*(np.interp(depth, logs_filter.index, logs_filter.h_min_PE))+(Ixz_p**2)*(np.interp(depth, logs_filter.index, logs_filter.V_Stress))\n",
    "            Sy_o = (Iyx_p**2)*(np.interp(depth, logs_filter.index, logs_filter.H_max_PE))+(Iyy_p**2)*(np.interp(depth, logs_filter.index, logs_filter.h_min_PE))+(Iyz_p**2)*(np.interp(depth, logs_filter.index, logs_filter.V_Stress))\n",
    "            Sz_o = (Izx_p**2)*(np.interp(depth, logs_filter.index, logs_filter.H_max_PE))+(Izy_p**2)*(np.interp(depth, logs_filter.index, logs_filter.h_min_PE))+(Izz_p**2)*(np.interp(depth, logs_filter.index, logs_filter.V_Stress))\n",
    "            Txy_o = (Ixx_p*Iyx_p)*(np.interp(depth, logs_filter.index, logs_filter.H_max_PE))+(Ixy_p*Iyy_p)*(np.interp(depth, logs_filter.index, logs_filter.h_min_PE))+(Ixz_p*Iyz_p)*(np.interp(depth, logs_filter.index, logs_filter.V_Stress))\n",
    "            Tyz_o = (Iyx_p*Izx_p)*(np.interp(depth, logs_filter.index, logs_filter.H_max_PE))+(Iyy_p*Izy_p)*(np.interp(depth, logs_filter.index, logs_filter.h_min_PE))+(Iyz_p*Izz_p)*(np.interp(depth, logs_filter.index, logs_filter.V_Stress))\n",
    "            Tzx_o = (Izx_p*Ixx_p)*(np.interp(depth, logs_filter.index, logs_filter.H_max_PE))+(Izy_p*Ixy_p)*(np.interp(depth, logs_filter.index, logs_filter.h_min_PE))+(Izz_p*Ixz_p)*(np.interp(depth, logs_filter.index, logs_filter.V_Stress))\n",
    "            tan_fang = np.tan((45 + (np.interp(depth, logs_filter.index, logs_filter.FANG_PC))/2)*math.pi/180) # radians\n",
    "            \n",
    "            teta = np.arctan((2*Txy_o/(Sx_o-Sy_o))/2)\n",
    "            teta_pm = teta+(math.pi/2)\n",
    "            teta_min = np.array([])\n",
    "            Sx_td = Sx_o+Sy_o-2*(Sx_o-Sy_o)*math.cos(2*teta)-4*Txy_o*math.sin(2*teta)\n",
    "            Sx_td_90 = Sx_o+Sy_o-2*(Sx_o-Sy_o)*math.cos(2*teta_pm)-4*Txy_o*math.sin(2*teta_pm)\n",
    "            if (Sx_td_90-Sx_td)>=0:\n",
    "                teta_min = teta\n",
    "            else:\n",
    "                teta_min = teta_pm\n",
    "            #print(teta_min)\n",
    "            teta_min_r = teta_min \n",
    "            teta_min_d = teta_min_r*(180/math.pi)\n",
    "            teta_max_d = teta_min_d+90\n",
    "            teta_max_r = teta_max_d*(math.pi/180)           \n",
    "                      \n",
    "            A_t = ((Sx_o+Sy_o)/2)*(1+(Rw**2/r**2))-((Sx_o-Sy_o)/2)*(1+(3*Rw**4/r**4))*np.cos(2*teta_max_r) \\\n",
    "                - Txy_o*(1+(3*Rw**4/r**4))*np.sin(2*teta_max_r)\n",
    "            A_r = ((Sx_o+Sy_o)/2)*(1-(Rw**2/r**2))+((Sx_o-Sy_o)/2)*(1+(3*Rw**4/r**4)-(4*Rw**2/r**2))*np.cos(2*teta_max_r) \\\n",
    "                +Txy_o*(1+(3*Rw**4/r**4)-(4*Rw**2/r**2))*np.sin(2*teta_max_r)\n",
    "            Sig_z = Sz_o-np.interp(depth, logs_filter.index, logs_filter.PR_St)*(2*(Sx_o-Sy_o)*(Rw**2/r**2)*np.cos(2*teta_max_r)+4*Txy_o*(Rw**2/r**2) \\\n",
    "                                    *np.sin(2*teta_max_r))        \n",
    "            Tau_tz = (-Tzx_o*np.sin(teta_max_r)+Tyz_o*np.cos(teta_max_r))*(1+(Rw**2/r**2))           \n",
    "            \n",
    "            UCS = np.interp(depth, logs_filter.index, logs_filter.UCS_merge)\n",
    "            pp = np.interp(depth, logs_filter.index, logs_filter.PP_Eaton)\n",
    "            tan_fang_s = tan_fang\n",
    "            A_r_s = A_r\n",
    "            Sig_z_s = Sig_z\n",
    "            A_t_s = A_t\n",
    "            Tau_tz_s = Tau_tz   \n",
    "            def equations(vars):                \n",
    "                pw = vars\n",
    "                eq1 = UCS+tan_fang_s**2 \\\n",
    "                    *((A_r_s+pw*(Rw**2/r**2))-pp)\\\n",
    "                    -((0.5*(Sig_z_s+(A_t_s-pw*(Rw**2/r**2))+math.sqrt(((Sig_z_s-(A_t_s-pw*(Rw**2/r**2)))**2)+4*Tau_tz_s**2)))-pp)\n",
    "                return [eq1]\n",
    "            pw =  newton_krylov(equations, (3000), f_tol=0.1)\n",
    "                        \n",
    "            Failure = pw\n",
    "            Failure_EMW = (Failure /(0.052*(np.interp(depth, logs_filter.index, logs_filter.TVD_ft))))/8.33            \n",
    "            vazm_array = np.append(vazm_array,Failure_EMW) #for failure mode\n",
    "            \n",
    "            A_t_BD = ((Sx_o+Sy_o)/2)*(1+(Rw**2/r**2))-((Sx_o-Sy_o)/2)*(1+(3*Rw**4/r**4))*np.cos(2*teta_min_r) \\\n",
    "                - Txy_o*(1+(3*Rw**4/r**4))*np.sin(2*teta_min_r)\n",
    "            Sig_z_BD = Sz_o-np.interp(depth, logs_filter.index, logs_filter.PR_St)*(2*(Sx_o-Sy_o)*(Rw**2/r**2)*np.cos(2*teta_min_r)+4*Txy_o*(Rw**2/r**2) \\\n",
    "                                    *np.sin(2*teta_min_r))\n",
    "            Tau_tz_BD = (-Tzx_o*np.sin(teta_min_r)+Tyz_o*np.cos(teta_min_r))*(1+(Rw**2/r**2))            \n",
    "            \n",
    "            TSTR = np.interp(depth, logs_filter.index, logs_filter.TSTR)\n",
    "            pp = np.interp(depth, logs_filter.index, logs_filter.PP_Eaton)\n",
    "            tan_fang_s = tan_fang\n",
    "            A_r_s = A_r\n",
    "            Sig_z_s = Sig_z_BD\n",
    "            A_t_s = A_t_BD\n",
    "            Tau_tz_s = Tau_tz_BD\n",
    "            def equations(vars):\n",
    "                pw = vars\n",
    "                eq1 = -TSTR-(0.5*(Sig_z_s+(A_t_s-pw*(Rw**2/r**2))-math.sqrt(((Sig_z_s-(A_t_s-pw*(Rw**2/r**2)))**2)+4*Tau_tz_s**2)))+pp\n",
    "                return [eq1]\n",
    "            pw =  newton_krylov(equations, (20000),  f_tol=0.1)\n",
    "            \n",
    "            break_down = pw\n",
    "            break_down_EMW =(break_down/(0.052*(np.interp(depth, logs_filter.index, logs_filter.TVD_ft))))/8.33\n",
    "            vbdazm_array = np.append(vbdazm_array, break_down_EMW) # for break down mode\n",
    "                                        \n",
    "        m_array = np.append(m_array, vazm_array, axis=0)\n",
    "        mbd_array = np.append(mbd_array, vbdazm_array, axis=0)\n",
    "        vazm_array = np.array([])\n",
    "        vbdazm_array = np.array([])\n",
    "    #print (m_array.reshape(10,37))\n",
    "    \n",
    "    #Plot\n",
    "    r, theta = np.meshgrid(INC*(180/math.pi), AZI)\n",
    "    fig, (ax, ax2) = plt.subplots(nrows=2, ncols=1, subplot_kw=dict(projection='polar'), figsize=(13,13))\n",
    "    fig.suptitle(f'{well_name} - @{str(depth)} m \\n AZIM (Circ Angle) - INC (Circ Radius)', fontsize=18)\n",
    "    fig.subplots_adjust(wspace=1.17)\n",
    "    \n",
    "    pp = ax.pcolor(theta, r, m_array.reshape(46,121).transpose(), cmap='jet')#, vmin=0.9, vmax=1.3\n",
    "    ax.set_theta_zero_location(\"N\")\n",
    "    ax.set_theta_direction(-1)\n",
    "    ax.set_rmax(90)\n",
    "    ax.set_thetagrids(range(0, 360, 10), ((np.arange(0, 360, 10)).astype(int).tolist()))\n",
    "    #expected = np.arange(0, 70, 10)\n",
    "    ax.grid(True)\n",
    "    ax.set_title('Shear Failure', fontsize = 14)\n",
    "    cbar = fig.colorbar(pp, ax=ax, orientation='vertical')\n",
    "    cbar.ax.set_ylabel('Mud weight [gr/cc]', fontsize=14)\n",
    "#     ax.scatter(np.interp(depth, logs_filter.index, logs_filter.AZI), np.interp(depth, logs_filter.index, logs_filter.INC), color='black')\n",
    "#     ax18.scatter(w_calib['Balloning'], w_calib.MD, color='darkorange', label='Balloning', s=70)\n",
    "    \n",
    "    #Plot second row\n",
    "    pp2 = ax2.pcolor(theta, r, mbd_array.reshape(46,121).transpose(), cmap='jet_r')#, vmin=2.2, vmax=3.0\n",
    "    ax2.set_theta_zero_location(\"N\")\n",
    "    ax2.set_theta_direction(-1)\n",
    "    ax2.set_rmax(90)\n",
    "    ax2.set_thetagrids(range(0, 360, 10), ((np.arange(0, 360, 10)).astype(int).tolist()))\n",
    "    #expected = np.arange(0, 70, 10)\n",
    "    ax2.grid(True)\n",
    "    ax2.set_title('Break Down Limit', fontsize = 14)\n",
    "    cbar2 = fig.colorbar(pp2, ax=ax2, orientation='vertical')\n",
    "    cbar2.ax.set_ylabel('Mud weight [gr/cc]', fontsize=14)\n",
    "                       \n",
    "    mplcursors.cursor()\n",
    "    plt.savefig (f'./Output pictures/{well_name}_{str(depth)}_ft_WBS_Sensitivity_PLOT_4.png', dpi=300, format='png')\n",
    "    plt.show()"
   ]
  },
  {
   "cell_type": "code",
   "execution_count": null,
   "metadata": {
    "scrolled": true
   },
   "outputs": [],
   "source": [
    "_POLAR_SENSITIVITY_ANALYSIS(HOKCHI_11DES_MEM_Dataset)"
   ]
  },
  {
   "cell_type": "code",
   "execution_count": null,
   "metadata": {
    "scrolled": true
   },
   "outputs": [],
   "source": [
    "_POLAR_SENSITIVITY_ANALYSIS(HOKCHI_7DES_MEM_Dataset)"
   ]
  },
  {
   "cell_type": "code",
   "execution_count": null,
   "metadata": {
    "scrolled": false
   },
   "outputs": [],
   "source": [
    "_POLAR_SENSITIVITY_ANALYSIS(HOKCHI_7DES_MEM_Dataset)"
   ]
  },
  {
   "cell_type": "code",
   "execution_count": null,
   "metadata": {
    "scrolled": true
   },
   "outputs": [],
   "source": [
    "_POLAR_SENSITIVITY_ANALYSIS(HOKCHI_7DES_MEM_Dataset)"
   ]
  },
  {
   "cell_type": "code",
   "execution_count": null,
   "metadata": {
    "scrolled": true
   },
   "outputs": [],
   "source": [
    "_POLAR_SENSITIVITY_ANALYSIS(HOKCHI_7DES_MEM_Dataset)"
   ]
  },
  {
   "cell_type": "code",
   "execution_count": null,
   "metadata": {
    "scrolled": false
   },
   "outputs": [],
   "source": [
    "_POLAR_SENSITIVITY_ANALYSIS(HOKCHI_8H_MEM_Dataset)"
   ]
  },
  {
   "cell_type": "code",
   "execution_count": null,
   "metadata": {},
   "outputs": [],
   "source": [
    "HOKCHI_7DES_MEM_Dataset[:3468][['INC', 'AZI']]"
   ]
  },
  {
   "cell_type": "code",
   "execution_count": null,
   "metadata": {
    "scrolled": true
   },
   "outputs": [],
   "source": [
    "plot_visual_test(LC1_wellpath, LC1_tops)"
   ]
  },
  {
   "cell_type": "code",
   "execution_count": null,
   "metadata": {},
   "outputs": [],
   "source": [
    "plot_visual_test(LCI_1X_wellpath, LCI_1X_tops)"
   ]
  },
  {
   "cell_type": "code",
   "execution_count": null,
   "metadata": {
    "scrolled": true
   },
   "outputs": [],
   "source": [
    "plot_visual_test(LC5_wellpath, LC5_tops)"
   ]
  },
  {
   "cell_type": "code",
   "execution_count": null,
   "metadata": {},
   "outputs": [],
   "source": [
    "plot_visual_test(LC3ST_wellpath, LC3ST_tops)"
   ]
  },
  {
   "cell_type": "code",
   "execution_count": null,
   "metadata": {
    "scrolled": true
   },
   "outputs": [],
   "source": [
    "plot_visual_test(LC4ST_wellpath, LC4ST_tops)"
   ]
  },
  {
   "cell_type": "markdown",
   "metadata": {},
   "source": [
    "## Time Logs Plot"
   ]
  },
  {
   "cell_type": "code",
   "execution_count": null,
   "metadata": {},
   "outputs": [],
   "source": [
    "HOKCHI_11DES_TIME_LWD"
   ]
  },
  {
   "cell_type": "code",
   "execution_count": null,
   "metadata": {},
   "outputs": [],
   "source": [
    "def Time_plt(logs, well_name, from_date, to_date):\n",
    "    f = logs[(logs.Parsed_Time >= from_date) & (logs.Parsed_Time <= to_date)]\n",
    "    fig, ax = plt.subplots(nrows=5, ncols=1, figsize=(10,8), sharey=False, sharex=True,\\\n",
    "                           gridspec_kw={'height_ratios': [1, 1, 1, 1, 1]})\n",
    "    fig.suptitle(f\" Time plot {well_name}\", fontsize=18)\n",
    "    #fig.subplots_adjust(top=0.85,wspace=0)  \n",
    "    \n",
    "    ax01 = ax[0]\n",
    "    ax01.plot_date(f.Parsed_Time,f.PWEA, linestyle = 'solid', color='blue', lw = 0.5, ms = 0.1)\n",
    "    ax01.set_ylabel('ECD(gr/cc)')\n",
    "    \n",
    "    \n",
    "    ax02 = ax[1]\n",
    "    ax02.plot_date(f.Parsed_Time,f.FSPA, linestyle = 'solid', color='red', lw = 0.5, ms = 0.1)\n",
    "    ax02.set_ylabel('SPP(PSI)')\n",
    "    \n",
    "    ax03 = ax[2]\n",
    "    ax03.plot_date(f.Parsed_Time,f.FFIA, linestyle = 'solid', color='black', lw = 0.5, ms = 0.1)\n",
    "    ax03.set_ylabel('Flow (gpm)')\n",
    "    \n",
    "    ax04 = ax[3]\n",
    "    ax04.plot_date(f.Parsed_Time,f.PWPI, linestyle = 'solid', color='green', lw = 0.5, ms = 0.1)\n",
    "    ax04.set_ylabel('Internal P(psi)')\n",
    "    \n",
    "    ax05 = ax[4]\n",
    "    ax05.plot_date(f.Parsed_Time,f.PWPA, linestyle = 'solid', color='black', lw = 0.5, ms = 0.1)\n",
    "    ax05.set_ylabel('Anular P(psi)')\n",
    "    \n",
    "    for axes in ax:\n",
    "        axes.xaxis.grid(True)\n",
    "        axes.yaxis.grid(True)\n",
    "        axes.set_xlabel('TIME')\n",
    "        axes.label_outer()\n",
    "    \n",
    "    plt.show()"
   ]
  },
  {
   "cell_type": "code",
   "execution_count": null,
   "metadata": {
    "scrolled": false
   },
   "outputs": [],
   "source": [
    "Time_plt(HOKCHI_11DES_TIME_LWD, 'HOKCHI_11DES', '2021-05-10 14:00', '2021-05-10 23:00')"
   ]
  },
  {
   "cell_type": "code",
   "execution_count": null,
   "metadata": {},
   "outputs": [],
   "source": [
    "min_frack_test = pd.read_csv('./Logs/HOKCHI_9DES_PD/07-Data listing Hokchi-9DES, SRT and Minifrac.csv', sep=',')\n",
    "min_frack_test = min_frack_test.drop([0], axis=0).reset_index(drop=True)\n",
    "#min_frack_test['Time'] = min_frack_test['Time'].dt.strftime('%d/%m/%y %H:%M:%S')  \n",
    "#min_frack_test['Time'] = min_frack_test['Time'].dt.strftime('%d/%m/%y %H:%M:%S')\n",
    "min_frack_test[\"Time\"] = min_frack_test[\"Time\"].astype(\"str\")\n",
    "min_frack_test['Time'] = min_frack_test['Time'].astype('datetime64')\n",
    "min_frack_test = min_frack_test.set_index(\"Time\")\n",
    "min_frack_test = min_frack_test.astype(\"float64\")\n",
    "print (min_frack_test.describe())\n",
    "min_frack_test"
   ]
  },
  {
   "cell_type": "code",
   "execution_count": null,
   "metadata": {},
   "outputs": [],
   "source": [
    "def Time_plt_min_frack(logs, well_name, from_date,to_date):\n",
    "    f = logs[(logs.index >= from_date) & (logs.index <= to_date)]\n",
    "    fig, ax = plt.subplots(nrows=1, ncols=1, figsize=(9,9), sharey=False, sharex=True,\\\n",
    "                           gridspec_kw={'height_ratios': [1]})\n",
    "    fig.suptitle(f\" Time plot {well_name}\", fontsize=18)\n",
    "    #fig.subplots_adjust(top=0.85,wspace=0)  \n",
    "    \n",
    "    color = 'blue'\n",
    "    ax.plot_date(f.index, f[\"Backside Pressure\"], \"-\", c=color, lw = 0.8, ms = 0.01)\n",
    "    ax.set_ylim(0, 1750)\n",
    "    #ax.spines[\"left\"].set_position(('outward',0))\n",
    "    ax.tick_params(axis='y', colors=color)\n",
    "    ax.set_yticks(np.arange(0, 1750, 50))\n",
    "    ax.set_ylabel('Surface pressure (PSI)', color = color)\n",
    "    #ax.fmt_xdata = matplotlib.dates.DateFormatter('%M-%S')\n",
    "    ax.set_xticks(np.arange(np.datetime64(from_date), np.datetime64(to_date), 50))\n",
    "    ax.xaxis.set_major_formatter(matplotlib.dates.DateFormatter('%H-%M-%S'))\n",
    "    \n",
    "    color2 = 'red'\n",
    "    ax1 = ax.twinx()\n",
    "    ax1.plot_date(f.index, f[\"Slurry Rate\"], \"-\", c=color2, lw = 0.8, ms = 0.01)\n",
    "    ax1.set_ylim(0, 20)\n",
    "    ax1.set_ylabel('Pump rate [bpm]', c= color2)\n",
    "    ax1.spines[\"left\"].set_position(('outward',0))\n",
    "    ax1.tick_params(axis='y', colors=color2)\n",
    "    ax1.set_yticks(np.arange(0, 20, 1))\n",
    "    ax1.set_xticks(np.arange(np.datetime64(from_date), np.datetime64(to_date), 100))\n",
    "    ax1.xaxis.set_major_formatter(matplotlib.dates.DateFormatter('%H-%M-%S'))\n",
    "    \n",
    "    \n",
    "    ax.xaxis.grid(True)\n",
    "    ax.yaxis.grid(True)\n",
    "    ax.set_xlabel('TIME [hh:mm:ss] \\n 08/07/2022')\n",
    "#     ax.label_outer()\n",
    "    \n",
    "#     ax01 = ax[0]\n",
    "#     ax01.plot(f.index,f[\"Backside Pressure\"])\n",
    "#     ax01.set_ylim(0, 1600)\n",
    "#     #ax01.set_ylabel('ECD(gr/cc)')\n",
    "    \n",
    "    \n",
    "#     ax02 = ax[1]\n",
    "#     ax02.plot_date(f.Parsed_Time,f.FSPA, linestyle = 'solid', color='red', lw = 0.5, ms = 0.1)\n",
    "#     ax02.set_ylabel('SPP(PSI)')\n",
    "    \n",
    "#     ax03 = ax[2]\n",
    "#     ax03.plot_date(f.Parsed_Time,f.FFIA, linestyle = 'solid', color='black', lw = 0.5, ms = 0.1)\n",
    "#     ax03.set_ylabel('Flow (gpm)')\n",
    "    \n",
    "#     ax04 = ax[3]\n",
    "#     ax04.plot_date(f.Parsed_Time,f.PWPI, linestyle = 'solid', color='green', lw = 0.5, ms = 0.1)\n",
    "#     ax04.set_ylabel('Internal P(psi)')\n",
    "    \n",
    "#     ax05 = ax[4]\n",
    "#     ax05.plot_date(f.Parsed_Time,f.PWPA, linestyle = 'solid', color='black', lw = 0.5, ms = 0.1)\n",
    "#     ax05.set_ylabel('Anular P(psi)')\n",
    "    \n",
    "#     for axes in ax:\n",
    "#         axes.xaxis.grid(True)\n",
    "#         axes.yaxis.grid(True)\n",
    "#         axes.set_xlabel('TIME')\n",
    "#         axes.label_outer()\n",
    "    #mplcursors.cursor()\n",
    "    fig.autofmt_xdate()\n",
    "    mplcursors.cursor(multiple=True).connect(\"add\", lambda sel: sel.annotation.draggable(False))\n",
    "    plt.show()"
   ]
  },
  {
   "cell_type": "code",
   "execution_count": null,
   "metadata": {
    "scrolled": false
   },
   "outputs": [],
   "source": [
    "Time_plt_min_frack(min_frack_test, \"HOKCHI_9DES MIN_FRAC\", \"2022-07-08 14:01:40\", \"2022-07-08 14:15:00\" )"
   ]
  },
  {
   "cell_type": "code",
   "execution_count": null,
   "metadata": {
    "scrolled": false
   },
   "outputs": [],
   "source": [
    "Time_plt_min_frack(min_frack_test, \"HOKCHI_9DES STEP_RATE\", \"2022-07-08 12:16:00\", \"2022-07-08 12:45:00\" )"
   ]
  },
  {
   "cell_type": "code",
   "execution_count": null,
   "metadata": {},
   "outputs": [],
   "source": [
    "def Time_plt_min_frack_int(logs, well_name, from_date,to_date):\n",
    "    f = logs[(logs.index >= from_date) & (logs.index <= to_date)]\n",
    "    fig, ax = plt.subplots(nrows=2, ncols=1, figsize=(9,9), sharey=False, sharex=False,\\\n",
    "                                gridspec_kw={'height_ratios': [1,1]})\n",
    "    fig.suptitle(f\" Time plot {well_name}\", fontsize=18)\n",
    "    #fig.subplots_adjust(top=0.85,wspace=0.8)  \n",
    "    \n",
    "    color = 'blue'\n",
    "    ax0 = ax[0]\n",
    "    ax0.scatter(f.index, f[\"Backside Pressure\"], c=color)\n",
    "    y_min = 1300\n",
    "    y_max = 1360\n",
    "    ax0.set_ylim(y_min, y_max)\n",
    "    #ax.spines[\"left\"].set_position(('outward',0))\n",
    "    ax0.tick_params(axis='y', colors=color)\n",
    "    ax0.set_yticks(np.arange(y_min, y_max, 5))\n",
    "    ax0.set_ylabel('Surface pressure (PSI)', color = color)\n",
    "    #ax.fmt_xdata = matplotlib.dates.DateFormatter('%M-%S')\n",
    "    ax0.set_xticks(np.arange(np.datetime64(from_date), np.datetime64(to_date), 20))\n",
    "    ax0.xaxis.set_major_formatter(matplotlib.dates.DateFormatter('%M-%S'))\n",
    "    ax0.xaxis.grid(True)\n",
    "    ax0.yaxis.grid(True)\n",
    "    ax[0].set_xlabel('TIME [mm:ss] \\n 08/07/2022')\n",
    "    \n",
    "#     print(f.index.round(freq=\"S\"))\n",
    "#     print(f.index.to_period(freq=\"S\"))\n",
    "    seconds = (f.index.values.astype(np.int64) // 10 ** 9) -1657289400\n",
    "    #timestamp = datetime.timestamp(f.index)\n",
    "    #print (timestamp)\n",
    "    \n",
    "    color2 = 'red'\n",
    "    ax1 = ax[1]\n",
    "    ax1.scatter((seconds)**(1/2), f[\"Backside Pressure\"], c=color2)\n",
    "    ax1.set_ylim(y_min, y_max)\n",
    "    ax1.set_ylabel('Surface pressure (PSI)', c= color2)\n",
    "    #ax1.spines[\"left\"].set_position(('outward',0))\n",
    "    ax1.tick_params(axis='y', colors=color2)\n",
    "    ax1.set_yticks(np.arange(y_min, y_max, 5))\n",
    "    #ax1.set_xticks(seconds.min(), seconds.max(), 10)\n",
    "    #ax1.xaxis.set_major_formatter(matplotlib.dates.DateFormatter('%H-%M-%S'))\n",
    "    ax1.xaxis.grid(True)\n",
    "    ax1.yaxis.grid(True)\n",
    "    ax1.set_xlabel('sqr(TIME) [s]')\n",
    "    \n",
    "    \n",
    "#     ax.label_outer()\n",
    "    \n",
    "#     ax01 = ax[0]\n",
    "#     ax01.plot(f.index,f[\"Backside Pressure\"])\n",
    "#     ax01.set_ylim(0, 1600)\n",
    "#     #ax01.set_ylabel('ECD(gr/cc)')\n",
    "    \n",
    "    \n",
    "#     ax02 = ax[1]\n",
    "#     ax02.plot_date(f.Parsed_Time,f.FSPA, linestyle = 'solid', color='red', lw = 0.5, ms = 0.1)\n",
    "#     ax02.set_ylabel('SPP(PSI)')\n",
    "    \n",
    "#     ax03 = ax[2]\n",
    "#     ax03.plot_date(f.Parsed_Time,f.FFIA, linestyle = 'solid', color='black', lw = 0.5, ms = 0.1)\n",
    "#     ax03.set_ylabel('Flow (gpm)')\n",
    "    \n",
    "#     ax04 = ax[3]\n",
    "#     ax04.plot_date(f.Parsed_Time,f.PWPI, linestyle = 'solid', color='green', lw = 0.5, ms = 0.1)\n",
    "#     ax04.set_ylabel('Internal P(psi)')\n",
    "    \n",
    "#     ax05 = ax[4]\n",
    "#     ax05.plot_date(f.Parsed_Time,f.PWPA, linestyle = 'solid', color='black', lw = 0.5, ms = 0.1)\n",
    "#     ax05.set_ylabel('Anular P(psi)')\n",
    "    \n",
    "#     for axes in ax:\n",
    "#         axes.xaxis.grid(True)\n",
    "#         axes.yaxis.grid(True)\n",
    "#         axes.set_xlabel('TIME')\n",
    "#         axes.label_outer()\n",
    "    mplcursors.cursor()\n",
    "    #fig.autofmt_xdate()\n",
    "    fig.tight_layout()\n",
    "    mplcursors.cursor(multiple=True).connect(\"add\", lambda sel: sel.annotation.draggable(False))\n",
    "    plt.show()"
   ]
  },
  {
   "cell_type": "code",
   "execution_count": null,
   "metadata": {},
   "outputs": [],
   "source": [
    "def Time_plt_min_frack_int_2(logs, well_name, from_date,to_date):\n",
    "    f = logs[(logs.index >= from_date) & (logs.index <= to_date)]\n",
    "    fig, ax = plt.subplots(nrows=2, ncols=1, figsize=(9,9), sharey=False, sharex=False,\\\n",
    "                                gridspec_kw={'height_ratios': [1,1]})\n",
    "    fig.suptitle(f\" Time plot {well_name}\", fontsize=18)\n",
    "    #fig.subplots_adjust(top=0.85,wspace=0.8)  \n",
    "    \n",
    "    color = 'blue'\n",
    "    ax0 = ax[0]\n",
    "    ax0.scatter(f.index, f[\"Backside Pressure\"], c=color)\n",
    "    y_min = 800\n",
    "    y_max = 1700\n",
    "    ax0.set_ylim(y_min, y_max)\n",
    "    #ax.spines[\"left\"].set_position(('outward',0))\n",
    "    ax0.tick_params(axis='y', colors=color)\n",
    "    ax0.set_yticks(np.arange(y_min, y_max, 50))\n",
    "    ax0.set_ylabel('Surface pressure (PSI)', color = color)\n",
    "    #ax.fmt_xdata = matplotlib.dates.DateFormatter('%M-%S')\n",
    "    ax0.set_xticks(np.arange(np.datetime64(from_date), np.datetime64(to_date), 20))\n",
    "    ax0.xaxis.set_major_formatter(matplotlib.dates.DateFormatter('%M-%S'))\n",
    "    ax0.xaxis.grid(True)\n",
    "    ax0.yaxis.grid(True)\n",
    "    ax[0].set_xlabel('TIME [mm:ss] \\n 08/07/2022')\n",
    "    \n",
    "#     print(f.index.round(freq=\"S\"))\n",
    "#     print(f.index.to_period(freq=\"S\"))\n",
    "    seconds = (f.index.values.astype(np.int64) // 10 ** 9)\n",
    "    seconds =  seconds - seconds.min()\n",
    "    #timestamp = datetime.timestamp(f.index)\n",
    "    #print (timestamp)\n",
    "    \n",
    "    color2 = 'red'\n",
    "    ax1 = ax[1]\n",
    "    ax1.scatter((seconds)**(1/2), f[\"Backside Pressure\"], c=color2)\n",
    "    ax1.set_ylim(y_min, y_max)\n",
    "    ax1.set_ylabel('Surface pressure (PSI)', c= color2)\n",
    "    #ax1.spines[\"left\"].set_position(('outward',0))\n",
    "    ax1.tick_params(axis='y', colors=color2)\n",
    "    ax1.set_yticks(np.arange(y_min, y_max, 50))\n",
    "    #ax1.set_xticks(seconds.min(), seconds.max(), 10)\n",
    "    #ax1.xaxis.set_major_formatter(matplotlib.dates.DateFormatter('%H-%M-%S'))\n",
    "    ax1.xaxis.grid(True)\n",
    "    ax1.yaxis.grid(True)\n",
    "    ax1.set_xlabel('sqr(TIME) [s]')\n",
    "    \n",
    "    \n",
    "#     ax.label_outer()\n",
    "    \n",
    "#     ax01 = ax[0]\n",
    "#     ax01.plot(f.index,f[\"Backside Pressure\"])\n",
    "#     ax01.set_ylim(0, 1600)\n",
    "#     #ax01.set_ylabel('ECD(gr/cc)')\n",
    "    \n",
    "    \n",
    "#     ax02 = ax[1]\n",
    "#     ax02.plot_date(f.Parsed_Time,f.FSPA, linestyle = 'solid', color='red', lw = 0.5, ms = 0.1)\n",
    "#     ax02.set_ylabel('SPP(PSI)')\n",
    "    \n",
    "#     ax03 = ax[2]\n",
    "#     ax03.plot_date(f.Parsed_Time,f.FFIA, linestyle = 'solid', color='black', lw = 0.5, ms = 0.1)\n",
    "#     ax03.set_ylabel('Flow (gpm)')\n",
    "    \n",
    "#     ax04 = ax[3]\n",
    "#     ax04.plot_date(f.Parsed_Time,f.PWPI, linestyle = 'solid', color='green', lw = 0.5, ms = 0.1)\n",
    "#     ax04.set_ylabel('Internal P(psi)')\n",
    "    \n",
    "#     ax05 = ax[4]\n",
    "#     ax05.plot_date(f.Parsed_Time,f.PWPA, linestyle = 'solid', color='black', lw = 0.5, ms = 0.1)\n",
    "#     ax05.set_ylabel('Anular P(psi)')\n",
    "    \n",
    "#     for axes in ax:\n",
    "#         axes.xaxis.grid(True)\n",
    "#         axes.yaxis.grid(True)\n",
    "#         axes.set_xlabel('TIME')\n",
    "#         axes.label_outer()\n",
    "    #mplcursors.cursor()\n",
    "    #fig.autofmt_xdate()\n",
    "    fig.tight_layout()\n",
    "    mplcursors.cursor(multiple=True).connect(\"add\", lambda sel: sel.annotation.draggable(False))\n",
    "    plt.show()"
   ]
  },
  {
   "cell_type": "code",
   "execution_count": null,
   "metadata": {
    "scrolled": false
   },
   "outputs": [],
   "source": [
    "Time_plt_min_frack_int(min_frack_test, \"HOKCHI_9DES Shut in_Analysis\", \"2022-07-08 14:10:01\", \"2022-07-08 14:11:40\" )"
   ]
  },
  {
   "cell_type": "code",
   "execution_count": null,
   "metadata": {
    "scrolled": false
   },
   "outputs": [],
   "source": [
    "Time_plt_min_frack_int_2(min_frack_test, \"HOKCHI_9DES Shut in_Analysis\", \"2022-07-08 12:32:33\", \"2022-07-08 12:33:33\" )"
   ]
  },
  {
   "cell_type": "code",
   "execution_count": null,
   "metadata": {},
   "outputs": [],
   "source": [
    "from datetime import datetime"
   ]
  },
  {
   "cell_type": "markdown",
   "metadata": {},
   "source": [
    "## SAVE files in CSV format"
   ]
  },
  {
   "cell_type": "code",
   "execution_count": null,
   "metadata": {},
   "outputs": [],
   "source": [
    "def save_MEM_CSV (logs):\n",
    "    well_name = input('Enter well name: ')\n",
    "    logs_wbs_filter = logs[[ 'INC','AZI','TVD','V_Stress_EMW_SG', 'PP_Eaton_EMW_SG', 'h_min_PE_EMW_SG', 'H_max_PE_EMW_SG',\\\n",
    "       'COLLAPSE_MC_5_SG', 'COLLAPSE_MC_10_SG', 'BreakDown_SG', 'UCS_merge']].dropna()\n",
    "    logs_wbs_filter.to_csv(f'./Output files/{well_name}_WBS_DATA.csv')\n",
    "#     logs_rp_filter = logs[['TVD','YM_MMC', 'PR_St','UCS_merge', 'FANG_PC', 'TSTR']].dropna()\n",
    "#     logs_rp_filter.to_csv(f'./Output files/{well_name}_RockProp_DATA.csv')"
   ]
  },
  {
   "cell_type": "code",
   "execution_count": null,
   "metadata": {},
   "outputs": [],
   "source": [
    "MA_02B_MEM_Dataset.columns"
   ]
  },
  {
   "cell_type": "code",
   "execution_count": null,
   "metadata": {},
   "outputs": [],
   "source": [
    "def save_inputlogs_CSV (logs):\n",
    "    well_name = input('Enter well name: ')\n",
    "    logs_wbs_filter = logs[['TVD','DTCO_MERGED']].dropna()\n",
    "    logs_wbs_filter.to_csv(f'./Output files/{well_name}_DTCO_DATA_ppg.csv')"
   ]
  },
  {
   "cell_type": "code",
   "execution_count": null,
   "metadata": {},
   "outputs": [],
   "source": [
    "save_inputlogs_CSV(HOKCHI_11DES_MEM_Dataset)"
   ]
  },
  {
   "cell_type": "code",
   "execution_count": null,
   "metadata": {},
   "outputs": [],
   "source": [
    "save_MEM_CSV(HOKCHI_11DES_MEM_Dataset)"
   ]
  },
  {
   "cell_type": "code",
   "execution_count": null,
   "metadata": {},
   "outputs": [],
   "source": [
    "save_MEM_CSV(HOKCHI_7DES_MEM_Dataset)"
   ]
  },
  {
   "cell_type": "code",
   "execution_count": null,
   "metadata": {},
   "outputs": [],
   "source": [
    "save_MEM_CSV(HOKCHI_8H_MEM_Dataset)"
   ]
  },
  {
   "cell_type": "code",
   "execution_count": null,
   "metadata": {},
   "outputs": [],
   "source": [
    "save_MEM_CSV(HOKCHI_8H_PD_MEM_Dataset)"
   ]
  },
  {
   "cell_type": "code",
   "execution_count": null,
   "metadata": {},
   "outputs": [],
   "source": [
    "save_MEM_CSV(HOKCHI_9H_MEM_Dataset)"
   ]
  },
  {
   "cell_type": "code",
   "execution_count": null,
   "metadata": {},
   "outputs": [],
   "source": [
    "import dill\n",
    "dill.dump_session('./Recovery/notebook_env.db')"
   ]
  },
  {
   "cell_type": "code",
   "execution_count": null,
   "metadata": {},
   "outputs": [],
   "source": []
  }
 ],
 "metadata": {
  "kernelspec": {
   "display_name": "Python 3 (ipykernel)",
   "language": "python",
   "name": "python3"
  },
  "language_info": {
   "codemirror_mode": {
    "name": "ipython",
    "version": 3
   },
   "file_extension": ".py",
   "mimetype": "text/x-python",
   "name": "python",
   "nbconvert_exporter": "python",
   "pygments_lexer": "ipython3",
   "version": "3.9.13"
  },
  "vscode": {
   "interpreter": {
    "hash": "f08154012ddadd8e950e6e9e035c7a7b32c136e7647e9b7c77e02eb723a8bedb"
   }
  }
 },
 "nbformat": 4,
 "nbformat_minor": 4
}
